{
  "nbformat": 4,
  "nbformat_minor": 0,
  "metadata": {
    "colab": {
      "name": "Untitled0.ipynb",
      "provenance": [],
      "authorship_tag": "ABX9TyN9kJC/Xtyd59YwrMzL3tf9",
      "include_colab_link": true
    },
    "kernelspec": {
      "name": "python3",
      "display_name": "Python 3"
    }
  },
  "cells": [
    {
      "cell_type": "markdown",
      "metadata": {
        "id": "view-in-github",
        "colab_type": "text"
      },
      "source": [
        "<a href=\"https://colab.research.google.com/github/kathuman/Python-Experiments/blob/main/201228_Indicators.ipynb\" target=\"_parent\"><img src=\"https://colab.research.google.com/assets/colab-badge.svg\" alt=\"Open In Colab\"/></a>"
      ]
    },
    {
      "cell_type": "code",
      "metadata": {
        "id": "kJalO_6HfzuA"
      },
      "source": [
        "# https://www.youtube.com/watch?v=fJ3CfEwr39k\r\n",
        "# Description: Create and plot multiple technical indicators"
      ],
      "execution_count": null,
      "outputs": []
    },
    {
      "cell_type": "code",
      "metadata": {
        "id": "VzuiFCwQgTsB"
      },
      "source": [
        "# Import the required libraries\r\n",
        "import numpy as np\r\n",
        "import pandas as pd\r\n",
        "import matplotlib.pyplot as plt\r\n",
        "plt.style.use('fivethirtyeight')\r\n",
        "import pandas_datareader as pdr"
      ],
      "execution_count": 3,
      "outputs": []
    },
    {
      "cell_type": "code",
      "metadata": {
        "id": "_C3QXr58hCKZ"
      },
      "source": [
        "start_date = '2019-11-25'\r\n",
        "end_date = '2020-11-23'\r\n",
        "df = pdr.DataReader('TSLA', 'yahoo', start_date, end_date)"
      ],
      "execution_count": 6,
      "outputs": []
    },
    {
      "cell_type": "code",
      "metadata": {
        "id": "Y_PDXwLbh9P7",
        "outputId": "e3a38825-b4e7-46ec-c056-9d3d5d1d4830",
        "colab": {
          "base_uri": "https://localhost:8080/",
          "height": 235
        }
      },
      "source": [
        "df.head()"
      ],
      "execution_count": 7,
      "outputs": [
        {
          "output_type": "execute_result",
          "data": {
            "text/html": [
              "<div>\n",
              "<style scoped>\n",
              "    .dataframe tbody tr th:only-of-type {\n",
              "        vertical-align: middle;\n",
              "    }\n",
              "\n",
              "    .dataframe tbody tr th {\n",
              "        vertical-align: top;\n",
              "    }\n",
              "\n",
              "    .dataframe thead th {\n",
              "        text-align: right;\n",
              "    }\n",
              "</style>\n",
              "<table border=\"1\" class=\"dataframe\">\n",
              "  <thead>\n",
              "    <tr style=\"text-align: right;\">\n",
              "      <th></th>\n",
              "      <th>High</th>\n",
              "      <th>Low</th>\n",
              "      <th>Open</th>\n",
              "      <th>Close</th>\n",
              "      <th>Volume</th>\n",
              "      <th>Adj Close</th>\n",
              "    </tr>\n",
              "    <tr>\n",
              "      <th>Date</th>\n",
              "      <th></th>\n",
              "      <th></th>\n",
              "      <th></th>\n",
              "      <th></th>\n",
              "      <th></th>\n",
              "      <th></th>\n",
              "    </tr>\n",
              "  </thead>\n",
              "  <tbody>\n",
              "    <tr>\n",
              "      <th>2019-11-25</th>\n",
              "      <td>68.914001</td>\n",
              "      <td>66.891998</td>\n",
              "      <td>68.863998</td>\n",
              "      <td>67.267998</td>\n",
              "      <td>61697500.0</td>\n",
              "      <td>67.267998</td>\n",
              "    </tr>\n",
              "    <tr>\n",
              "      <th>2019-11-26</th>\n",
              "      <td>67.099998</td>\n",
              "      <td>65.419998</td>\n",
              "      <td>67.054001</td>\n",
              "      <td>65.783997</td>\n",
              "      <td>39737000.0</td>\n",
              "      <td>65.783997</td>\n",
              "    </tr>\n",
              "    <tr>\n",
              "      <th>2019-11-27</th>\n",
              "      <td>66.786003</td>\n",
              "      <td>65.713997</td>\n",
              "      <td>66.223999</td>\n",
              "      <td>66.258003</td>\n",
              "      <td>27778000.0</td>\n",
              "      <td>66.258003</td>\n",
              "    </tr>\n",
              "    <tr>\n",
              "      <th>2019-11-29</th>\n",
              "      <td>66.251999</td>\n",
              "      <td>65.500000</td>\n",
              "      <td>66.222000</td>\n",
              "      <td>65.987999</td>\n",
              "      <td>12328000.0</td>\n",
              "      <td>65.987999</td>\n",
              "    </tr>\n",
              "    <tr>\n",
              "      <th>2019-12-02</th>\n",
              "      <td>67.276001</td>\n",
              "      <td>65.737999</td>\n",
              "      <td>65.879997</td>\n",
              "      <td>66.973999</td>\n",
              "      <td>30372500.0</td>\n",
              "      <td>66.973999</td>\n",
              "    </tr>\n",
              "  </tbody>\n",
              "</table>\n",
              "</div>"
            ],
            "text/plain": [
              "                 High        Low       Open      Close      Volume  Adj Close\n",
              "Date                                                                         \n",
              "2019-11-25  68.914001  66.891998  68.863998  67.267998  61697500.0  67.267998\n",
              "2019-11-26  67.099998  65.419998  67.054001  65.783997  39737000.0  65.783997\n",
              "2019-11-27  66.786003  65.713997  66.223999  66.258003  27778000.0  66.258003\n",
              "2019-11-29  66.251999  65.500000  66.222000  65.987999  12328000.0  65.987999\n",
              "2019-12-02  67.276001  65.737999  65.879997  66.973999  30372500.0  66.973999"
            ]
          },
          "metadata": {
            "tags": []
          },
          "execution_count": 7
        }
      ]
    },
    {
      "cell_type": "code",
      "metadata": {
        "id": "hINoCoZ9iBu3",
        "outputId": "551bbeea-d7b6-4c5e-a92c-bd1e44c68c4a",
        "colab": {
          "base_uri": "https://localhost:8080/"
        }
      },
      "source": [
        "# check the dataframe index\r\n",
        "df.index"
      ],
      "execution_count": 13,
      "outputs": [
        {
          "output_type": "execute_result",
          "data": {
            "text/plain": [
              "DatetimeIndex(['2019-11-25', '2019-11-26', '2019-11-27', '2019-11-29',\n",
              "               '2019-12-02', '2019-12-03', '2019-12-04', '2019-12-05',\n",
              "               '2019-12-06', '2019-12-09',\n",
              "               ...\n",
              "               '2020-11-10', '2020-11-11', '2020-11-12', '2020-11-13',\n",
              "               '2020-11-16', '2020-11-17', '2020-11-18', '2020-11-19',\n",
              "               '2020-11-20', '2020-11-23'],\n",
              "              dtype='datetime64[ns]', name='Date', length=252, freq=None)"
            ]
          },
          "metadata": {
            "tags": []
          },
          "execution_count": 13
        }
      ]
    },
    {
      "cell_type": "code",
      "metadata": {
        "id": "yjDmMNW6pcbF"
      },
      "source": [
        "# Create functions to calculate SMA and EMA\r\n",
        "\r\n",
        "# Create the SImple Moving Average (SMA)\r\n",
        "def SMA(data, period=20, column='Close'):\r\n",
        "  return dat[column].rolling(window=period).mean()"
      ],
      "execution_count": null,
      "outputs": []
    }
  ]
}