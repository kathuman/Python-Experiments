{
  "nbformat": 4,
  "nbformat_minor": 0,
  "metadata": {
    "colab": {
      "name": "220215_financial_scrapping.ipynb",
      "provenance": [],
      "authorship_tag": "ABX9TyMP71P2vPgngdkQWtmq1E2I",
      "include_colab_link": true
    },
    "kernelspec": {
      "name": "python3",
      "display_name": "Python 3"
    },
    "language_info": {
      "name": "python"
    }
  },
  "cells": [
    {
      "cell_type": "markdown",
      "metadata": {
        "id": "view-in-github",
        "colab_type": "text"
      },
      "source": [
        "<a href=\"https://colab.research.google.com/github/kathuman/Python-Experiments/blob/main/220215_financial_scrapping.ipynb\" target=\"_parent\"><img src=\"https://colab.research.google.com/assets/colab-badge.svg\" alt=\"Open In Colab\"/></a>"
      ]
    },
    {
      "cell_type": "markdown",
      "source": [
        "https://towardsdatascience.com/a-comprehensive-guide-to-downloading-stock-prices-in-python-2cd93ff821d4"
      ],
      "metadata": {
        "id": "t3615SNaGtsD"
      }
    },
    {
      "cell_type": "code",
      "execution_count": 7,
      "metadata": {
        "id": "Re7E4zq1FiwP",
        "colab": {
          "base_uri": "https://localhost:8080/"
        },
        "outputId": "9365bd6b-a0af-43c0-afc2-aa79b0befe5b"
      },
      "outputs": [
        {
          "output_type": "stream",
          "name": "stdout",
          "text": [
            "Requirement already satisfied: yfinance in /usr/local/lib/python3.7/dist-packages (0.1.70)\n",
            "Requirement already satisfied: pandas>=0.24.0 in /usr/local/lib/python3.7/dist-packages (from yfinance) (1.3.5)\n",
            "Requirement already satisfied: multitasking>=0.0.7 in /usr/local/lib/python3.7/dist-packages (from yfinance) (0.0.10)\n",
            "Requirement already satisfied: numpy>=1.15 in /usr/local/lib/python3.7/dist-packages (from yfinance) (1.21.5)\n",
            "Requirement already satisfied: lxml>=4.5.1 in /usr/local/lib/python3.7/dist-packages (from yfinance) (4.7.1)\n",
            "Requirement already satisfied: requests>=2.26 in /usr/local/lib/python3.7/dist-packages (from yfinance) (2.27.1)\n",
            "Requirement already satisfied: pytz>=2017.3 in /usr/local/lib/python3.7/dist-packages (from pandas>=0.24.0->yfinance) (2018.9)\n",
            "Requirement already satisfied: python-dateutil>=2.7.3 in /usr/local/lib/python3.7/dist-packages (from pandas>=0.24.0->yfinance) (2.8.2)\n",
            "Requirement already satisfied: six>=1.5 in /usr/local/lib/python3.7/dist-packages (from python-dateutil>=2.7.3->pandas>=0.24.0->yfinance) (1.15.0)\n",
            "Requirement already satisfied: certifi>=2017.4.17 in /usr/local/lib/python3.7/dist-packages (from requests>=2.26->yfinance) (2021.10.8)\n",
            "Requirement already satisfied: idna<4,>=2.5 in /usr/local/lib/python3.7/dist-packages (from requests>=2.26->yfinance) (2.10)\n",
            "Requirement already satisfied: charset-normalizer~=2.0.0 in /usr/local/lib/python3.7/dist-packages (from requests>=2.26->yfinance) (2.0.11)\n",
            "Requirement already satisfied: urllib3<1.27,>=1.21.1 in /usr/local/lib/python3.7/dist-packages (from requests>=2.26->yfinance) (1.24.3)\n",
            "Requirement already satisfied: yahoofinancials in /usr/local/lib/python3.7/dist-packages (1.6)\n",
            "Requirement already satisfied: pytz in /usr/local/lib/python3.7/dist-packages (from yahoofinancials) (2018.9)\n",
            "Requirement already satisfied: beautifulsoup4 in /usr/local/lib/python3.7/dist-packages (from yahoofinancials) (4.6.3)\n"
          ]
        }
      ],
      "source": [
        "!pip install yfinance\n",
        "!pip install yahoofinancials\n",
        "import pandas as pd\n",
        "import yfinance as yf\n",
        "from yahoofinancials import YahooFinancials\n",
        "from sklearn.preprocessing import StandardScaler\n",
        "from math import sqrt\n",
        "import numpy as np"
      ]
    },
    {
      "cell_type": "code",
      "source": [
        "# tickers = ['GLD', 'IS0E.DE']\n",
        "tickers= ['TSLA']\n",
        "i=0\n",
        "df = np.array\n",
        "for ticker in tickers:\n",
        "  df[i] = yf.download(ticker, \n",
        "                      start='2019-01-01', \n",
        "                      end='2021-01-31', \n",
        "                      progress=False)\n",
        "  i= i+1\n",
        "\n",
        "for ticker in df:\n",
        "  print(ticker.head())"
      ],
      "metadata": {
        "colab": {
          "base_uri": "https://localhost:8080/",
          "height": 235
        },
        "id": "aHCDMkQuF9Wu",
        "outputId": "d04fac11-f285-4074-cf4d-73dde4deb271"
      },
      "execution_count": 9,
      "outputs": [
        {
          "output_type": "error",
          "ename": "TypeError",
          "evalue": "ignored",
          "traceback": [
            "\u001b[0;31m---------------------------------------------------------------------------\u001b[0m",
            "\u001b[0;31mTypeError\u001b[0m                                 Traceback (most recent call last)",
            "\u001b[0;32m<ipython-input-9-a97db7dae460>\u001b[0m in \u001b[0;36m<module>\u001b[0;34m()\u001b[0m\n\u001b[1;32m      7\u001b[0m                       \u001b[0mstart\u001b[0m\u001b[0;34m=\u001b[0m\u001b[0;34m'2019-01-01'\u001b[0m\u001b[0;34m,\u001b[0m\u001b[0;34m\u001b[0m\u001b[0;34m\u001b[0m\u001b[0m\n\u001b[1;32m      8\u001b[0m                       \u001b[0mend\u001b[0m\u001b[0;34m=\u001b[0m\u001b[0;34m'2021-01-31'\u001b[0m\u001b[0;34m,\u001b[0m\u001b[0;34m\u001b[0m\u001b[0;34m\u001b[0m\u001b[0m\n\u001b[0;32m----> 9\u001b[0;31m                       progress=False)\n\u001b[0m\u001b[1;32m     10\u001b[0m   \u001b[0mi\u001b[0m\u001b[0;34m=\u001b[0m \u001b[0mi\u001b[0m\u001b[0;34m+\u001b[0m\u001b[0;36m1\u001b[0m\u001b[0;34m\u001b[0m\u001b[0;34m\u001b[0m\u001b[0m\n\u001b[1;32m     11\u001b[0m \u001b[0;34m\u001b[0m\u001b[0m\n",
            "\u001b[0;31mTypeError\u001b[0m: 'builtin_function_or_method' object does not support item assignment"
          ]
        }
      ]
    },
    {
      "cell_type": "code",
      "source": [
        "gldTicker = yf.Ticker('GLD')\n",
        "ishareTicker = yf.Ticker('IS0E.DE')\n",
        "tesla = yf.Ticker('TSLA')\n",
        "\n",
        "gld_df = gldTicker.history(period=\"max\")\n",
        "ish_df = ishareTicker.history(period=\"max\")\n",
        "\n",
        "gld_df['Close'].plot(title=\"SPDR Gold Shares\")\n",
        "ish_df['Close'].plot(title=\"iShares Gold Producers\")"
      ],
      "metadata": {
        "colab": {
          "base_uri": "https://localhost:8080/",
          "height": 302
        },
        "id": "I_inKeGZGTAN",
        "outputId": "c4062aa9-9098-4b2b-af52-cce3dc24e527"
      },
      "execution_count": null,
      "outputs": [
        {
          "output_type": "execute_result",
          "data": {
            "text/plain": [
              "<matplotlib.axes._subplots.AxesSubplot at 0x7facb3685350>"
            ]
          },
          "metadata": {},
          "execution_count": 22
        },
        {
          "output_type": "display_data",
          "data": {
            "image/png": "[encoded data removed]",
            "text/plain": [
              "<Figure size 432x288 with 1 Axes>"
            ]
          },
          "metadata": {
            "needs_background": "light"
          }
        }
      ]
    },
    {
      "cell_type": "markdown",
      "source": [
        "check: https://github.com/ranaroussi/yfinance"
      ],
      "metadata": {
        "id": "tGkRmAGzMxgq"
      }
    },
    {
      "cell_type": "code",
      "source": [
        "tesla.balance_sheet"
      ],
      "metadata": {
        "colab": {
          "base_uri": "https://localhost:8080/",
          "height": 655
        },
        "id": "EklPihSgMzbH",
        "outputId": "68bd45c6-043b-40cd-a521-ba8133d1b500"
      },
      "execution_count": null,
      "outputs": [
        {
          "output_type": "execute_result",
          "data": {
            "text/html": [
              "\n",
              "  <div id=\"df-3e841aec-1471-4d28-8e1f-df8224a2a557\">\n",
              "    <div class=\"colab-df-container\">\n",
              "      <div>\n",
              "<style scoped>\n",
              "    .dataframe tbody tr th:only-of-type {\n",
              "        vertical-align: middle;\n",
              "    }\n",
              "\n",
              "    .dataframe tbody tr th {\n",
              "        vertical-align: top;\n",
              "    }\n",
              "\n",
              "    .dataframe thead th {\n",
              "        text-align: right;\n",
              "    }\n",
              "</style>\n",
              "<table border=\"1\" class=\"dataframe\">\n",
              "  <thead>\n",
              "    <tr style=\"text-align: right;\">\n",
              "      <th></th>\n",
              "      <th>2021-12-31</th>\n",
              "      <th>2020-12-31</th>\n",
              "      <th>2019-12-31</th>\n",
              "      <th>2018-12-31</th>\n",
              "    </tr>\n",
              "  </thead>\n",
              "  <tbody>\n",
              "    <tr>\n",
              "      <th>Intangible Assets</th>\n",
              "      <td>2.570000e+08</td>\n",
              "      <td>3.130000e+08</td>\n",
              "      <td>3.390000e+08</td>\n",
              "      <td>2.820000e+08</td>\n",
              "    </tr>\n",
              "    <tr>\n",
              "      <th>Capital Surplus</th>\n",
              "      <td>2.980300e+10</td>\n",
              "      <td>2.726000e+10</td>\n",
              "      <td>1.273600e+10</td>\n",
              "      <td>1.024900e+10</td>\n",
              "    </tr>\n",
              "    <tr>\n",
              "      <th>Total Liab</th>\n",
              "      <td>3.054800e+10</td>\n",
              "      <td>2.846900e+10</td>\n",
              "      <td>2.619900e+10</td>\n",
              "      <td>2.342700e+10</td>\n",
              "    </tr>\n",
              "    <tr>\n",
              "      <th>Total Stockholder Equity</th>\n",
              "      <td>3.018900e+10</td>\n",
              "      <td>2.222500e+10</td>\n",
              "      <td>6.618000e+09</td>\n",
              "      <td>4.923000e+09</td>\n",
              "    </tr>\n",
              "    <tr>\n",
              "      <th>Minority Interest</th>\n",
              "      <td>1.394000e+09</td>\n",
              "      <td>1.454000e+09</td>\n",
              "      <td>1.492000e+09</td>\n",
              "      <td>1.390000e+09</td>\n",
              "    </tr>\n",
              "    <tr>\n",
              "      <th>Other Current Liab</th>\n",
              "      <td>4.756000e+09</td>\n",
              "      <td>4.147000e+09</td>\n",
              "      <td>3.693000e+09</td>\n",
              "      <td>2.955000e+09</td>\n",
              "    </tr>\n",
              "    <tr>\n",
              "      <th>Total Assets</th>\n",
              "      <td>6.213100e+10</td>\n",
              "      <td>5.214800e+10</td>\n",
              "      <td>3.430900e+10</td>\n",
              "      <td>2.974000e+10</td>\n",
              "    </tr>\n",
              "    <tr>\n",
              "      <th>Common Stock</th>\n",
              "      <td>1.000000e+06</td>\n",
              "      <td>1.000000e+06</td>\n",
              "      <td>1.000000e+06</td>\n",
              "      <td>NaN</td>\n",
              "    </tr>\n",
              "    <tr>\n",
              "      <th>Other Current Assets</th>\n",
              "      <td>3.450000e+08</td>\n",
              "      <td>2.380000e+08</td>\n",
              "      <td>2.460000e+08</td>\n",
              "      <td>1.930000e+08</td>\n",
              "    </tr>\n",
              "    <tr>\n",
              "      <th>Retained Earnings</th>\n",
              "      <td>3.310000e+08</td>\n",
              "      <td>-5.399000e+09</td>\n",
              "      <td>-6.083000e+09</td>\n",
              "      <td>-5.318000e+09</td>\n",
              "    </tr>\n",
              "    <tr>\n",
              "      <th>Other Liab</th>\n",
              "      <td>3.896000e+09</td>\n",
              "      <td>3.302000e+09</td>\n",
              "      <td>2.969000e+09</td>\n",
              "      <td>2.318000e+09</td>\n",
              "    </tr>\n",
              "    <tr>\n",
              "      <th>Good Will</th>\n",
              "      <td>2.000000e+08</td>\n",
              "      <td>2.070000e+08</td>\n",
              "      <td>1.980000e+08</td>\n",
              "      <td>6.800000e+07</td>\n",
              "    </tr>\n",
              "    <tr>\n",
              "      <th>Treasury Stock</th>\n",
              "      <td>5.400000e+07</td>\n",
              "      <td>3.630000e+08</td>\n",
              "      <td>-3.600000e+07</td>\n",
              "      <td>-8.000000e+06</td>\n",
              "    </tr>\n",
              "    <tr>\n",
              "      <th>Other Assets</th>\n",
              "      <td>3.398000e+09</td>\n",
              "      <td>1.536000e+09</td>\n",
              "      <td>1.469000e+09</td>\n",
              "      <td>1.380000e+09</td>\n",
              "    </tr>\n",
              "    <tr>\n",
              "      <th>Cash</th>\n",
              "      <td>1.757600e+10</td>\n",
              "      <td>1.938400e+10</td>\n",
              "      <td>6.268000e+09</td>\n",
              "      <td>3.686000e+09</td>\n",
              "    </tr>\n",
              "    <tr>\n",
              "      <th>Total Current Liabilities</th>\n",
              "      <td>1.970500e+10</td>\n",
              "      <td>1.424800e+10</td>\n",
              "      <td>1.066700e+10</td>\n",
              "      <td>9.993000e+09</td>\n",
              "    </tr>\n",
              "    <tr>\n",
              "      <th>Short Long Term Debt</th>\n",
              "      <td>1.088000e+09</td>\n",
              "      <td>1.758000e+09</td>\n",
              "      <td>1.399000e+09</td>\n",
              "      <td>2.284000e+09</td>\n",
              "    </tr>\n",
              "    <tr>\n",
              "      <th>Other Stockholder Equity</th>\n",
              "      <td>5.400000e+07</td>\n",
              "      <td>3.630000e+08</td>\n",
              "      <td>-3.600000e+07</td>\n",
              "      <td>-8.000000e+06</td>\n",
              "    </tr>\n",
              "    <tr>\n",
              "      <th>Property Plant Equipment</th>\n",
              "      <td>3.117600e+10</td>\n",
              "      <td>2.337500e+10</td>\n",
              "      <td>2.019900e+10</td>\n",
              "      <td>1.969100e+10</td>\n",
              "    </tr>\n",
              "    <tr>\n",
              "      <th>Total Current Assets</th>\n",
              "      <td>2.710000e+10</td>\n",
              "      <td>2.671700e+10</td>\n",
              "      <td>1.210300e+10</td>\n",
              "      <td>8.307000e+09</td>\n",
              "    </tr>\n",
              "    <tr>\n",
              "      <th>Net Tangible Assets</th>\n",
              "      <td>2.973200e+10</td>\n",
              "      <td>2.170500e+10</td>\n",
              "      <td>6.081000e+09</td>\n",
              "      <td>4.573000e+09</td>\n",
              "    </tr>\n",
              "    <tr>\n",
              "      <th>Short Term Investments</th>\n",
              "      <td>1.310000e+08</td>\n",
              "      <td>NaN</td>\n",
              "      <td>NaN</td>\n",
              "      <td>NaN</td>\n",
              "    </tr>\n",
              "    <tr>\n",
              "      <th>Net Receivables</th>\n",
              "      <td>1.986000e+09</td>\n",
              "      <td>1.903000e+09</td>\n",
              "      <td>1.324000e+09</td>\n",
              "      <td>9.490000e+08</td>\n",
              "    </tr>\n",
              "    <tr>\n",
              "      <th>Long Term Debt</th>\n",
              "      <td>4.285000e+09</td>\n",
              "      <td>8.571000e+09</td>\n",
              "      <td>1.037500e+10</td>\n",
              "      <td>8.461000e+09</td>\n",
              "    </tr>\n",
              "    <tr>\n",
              "      <th>Inventory</th>\n",
              "      <td>5.757000e+09</td>\n",
              "      <td>4.101000e+09</td>\n",
              "      <td>3.552000e+09</td>\n",
              "      <td>3.113000e+09</td>\n",
              "    </tr>\n",
              "    <tr>\n",
              "      <th>Accounts Payable</th>\n",
              "      <td>1.002500e+10</td>\n",
              "      <td>6.051000e+09</td>\n",
              "      <td>3.771000e+09</td>\n",
              "      <td>3.405000e+09</td>\n",
              "    </tr>\n",
              "    <tr>\n",
              "      <th>Long Term Investments</th>\n",
              "      <td>NaN</td>\n",
              "      <td>NaN</td>\n",
              "      <td>1.000000e+06</td>\n",
              "      <td>1.200000e+07</td>\n",
              "    </tr>\n",
              "  </tbody>\n",
              "</table>\n",
              "</div>\n",
              "      <button class=\"colab-df-convert\" onclick=\"convertToInteractive('df-3e841aec-1471-4d28-8e1f-df8224a2a557')\"\n",
              "              title=\"Convert this dataframe to an interactive table.\"\n",
              "              style=\"display:none;\">\n",
              "        \n",
              "  <svg xmlns=\"http://www.w3.org/2000/svg\" height=\"24px\"viewBox=\"0 0 24 24\"\n",
              "       width=\"24px\">\n",
              "    <path d=\"M0 0h24v24H0V0z\" fill=\"none\"/>\n",
              "    <path d=\"M18.56 5.44l.94 2.06.94-2.06 2.06-.94-2.06-.94-.94-2.06-.94 2.06-2.06.94zm-11 1L8.5 8.5l.94-2.06 2.06-.94-2.06-.94L8.5 2.5l-.94 2.06-2.06.94zm10 10l.94 2.06.94-2.06 2.06-.94-2.06-.94-.94-2.06-.94 2.06-2.06.94z\"/><path d=\"M17.41 7.96l-1.37-1.37c-.4-.4-.92-.59-1.43-.59-.52 0-1.04.2-1.43.59L10.3 9.45l-7.72 7.72c-.78.78-.78 2.05 0 2.83L4 21.41c.39.39.9.59 1.41.59.51 0 1.02-.2 1.41-.59l7.78-7.78 2.81-2.81c.8-.78.8-2.07 0-2.86zM5.41 20L4 18.59l7.72-7.72 1.47 1.35L5.41 20z\"/>\n",
              "  </svg>\n",
              "      </button>\n",
              "      \n",
              "  <style>\n",
              "    .colab-df-container {\n",
              "      display:flex;\n",
              "      flex-wrap:wrap;\n",
              "      gap: 12px;\n",
              "    }\n",
              "\n",
              "    .colab-df-convert {\n",
              "      background-color: #E8F0FE;\n",
              "      border: none;\n",
              "      border-radius: 50%;\n",
              "      cursor: pointer;\n",
              "      display: none;\n",
              "      fill: #1967D2;\n",
              "      height: 32px;\n",
              "      padding: 0 0 0 0;\n",
              "      width: 32px;\n",
              "    }\n",
              "\n",
              "    .colab-df-convert:hover {\n",
              "      background-color: #E2EBFA;\n",
              "      box-shadow: 0px 1px 2px rgba(60, 64, 67, 0.3), 0px 1px 3px 1px rgba(60, 64, 67, 0.15);\n",
              "      fill: #174EA6;\n",
              "    }\n",
              "\n",
              "    [theme=dark] .colab-df-convert {\n",
              "      background-color: #3B4455;\n",
              "      fill: #D2E3FC;\n",
              "    }\n",
              "\n",
              "    [theme=dark] .colab-df-convert:hover {\n",
              "      background-color: #434B5C;\n",
              "      box-shadow: 0px 1px 3px 1px rgba(0, 0, 0, 0.15);\n",
              "      filter: drop-shadow(0px 1px 2px rgba(0, 0, 0, 0.3));\n",
              "      fill: #FFFFFF;\n",
              "    }\n",
              "  </style>\n",
              "\n",
              "      <script>\n",
              "        const buttonEl =\n",
              "          document.querySelector('#df-3e841aec-1471-4d28-8e1f-df8224a2a557 button.colab-df-convert');\n",
              "        buttonEl.style.display =\n",
              "          google.colab.kernel.accessAllowed ? 'block' : 'none';\n",
              "\n",
              "        async function convertToInteractive(key) {\n",
              "          const element = document.querySelector('#df-3e841aec-1471-4d28-8e1f-df8224a2a557');\n",
              "          const dataTable =\n",
              "            await google.colab.kernel.invokeFunction('convertToInteractive',\n",
              "                                                     [key], {});\n",
              "          if (!dataTable) return;\n",
              "\n",
              "          const docLinkHtml = 'Like what you see? Visit the ' +\n",
              "            '<a target=\"_blank\" href=https://colab.research.google.com/notebooks/data_table.ipynb>data table notebook</a>'\n",
              "            + ' to learn more about interactive tables.';\n",
              "          element.innerHTML = '';\n",
              "          dataTable['output_type'] = 'display_data';\n",
              "          await google.colab.output.renderOutput(dataTable, element);\n",
              "          const docLink = document.createElement('div');\n",
              "          docLink.innerHTML = docLinkHtml;\n",
              "          element.appendChild(docLink);\n",
              "        }\n",
              "      </script>\n",
              "    </div>\n",
              "  </div>\n",
              "  "
            ],
            "text/plain": [
              "                             2021-12-31  ...    2018-12-31\n",
              "Intangible Assets          2.570000e+08  ...  2.820000e+08\n",
              "Capital Surplus            2.980300e+10  ...  1.024900e+10\n",
              "Total Liab                 3.054800e+10  ...  2.342700e+10\n",
              "Total Stockholder Equity   3.018900e+10  ...  4.923000e+09\n",
              "Minority Interest          1.394000e+09  ...  1.390000e+09\n",
              "Other Current Liab         4.756000e+09  ...  2.955000e+09\n",
              "Total Assets               6.213100e+10  ...  2.974000e+10\n",
              "Common Stock               1.000000e+06  ...           NaN\n",
              "Other Current Assets       3.450000e+08  ...  1.930000e+08\n",
              "Retained Earnings          3.310000e+08  ... -5.318000e+09\n",
              "Other Liab                 3.896000e+09  ...  2.318000e+09\n",
              "Good Will                  2.000000e+08  ...  6.800000e+07\n",
              "Treasury Stock             5.400000e+07  ... -8.000000e+06\n",
              "Other Assets               3.398000e+09  ...  1.380000e+09\n",
              "Cash                       1.757600e+10  ...  3.686000e+09\n",
              "Total Current Liabilities  1.970500e+10  ...  9.993000e+09\n",
              "Short Long Term Debt       1.088000e+09  ...  2.284000e+09\n",
              "Other Stockholder Equity   5.400000e+07  ... -8.000000e+06\n",
              "Property Plant Equipment   3.117600e+10  ...  1.969100e+10\n",
              "Total Current Assets       2.710000e+10  ...  8.307000e+09\n",
              "Net Tangible Assets        2.973200e+10  ...  4.573000e+09\n",
              "Short Term Investments     1.310000e+08  ...           NaN\n",
              "Net Receivables            1.986000e+09  ...  9.490000e+08\n",
              "Long Term Debt             4.285000e+09  ...  8.461000e+09\n",
              "Inventory                  5.757000e+09  ...  3.113000e+09\n",
              "Accounts Payable           1.002500e+10  ...  3.405000e+09\n",
              "Long Term Investments               NaN  ...  1.200000e+07\n",
              "\n",
              "[27 rows x 4 columns]"
            ]
          },
          "metadata": {},
          "execution_count": 19
        }
      ]
    },
    {
      "cell_type": "markdown",
      "source": [
        "we will now attempt a standardizaton of these values"
      ],
      "metadata": {
        "id": "X48AHVpYSK2v"
      }
    },
    {
      "cell_type": "code",
      "source": [
        "# prepare data for standardization\n",
        "values1 = gld_df['Close'].values\n",
        "values1 = values1.reshape((len(values1), 1))\n",
        "\n",
        "values2 = ish_df['Close'].values\n",
        "values2 = values2.reshape((len(values2), 1))\n",
        "\n",
        "# train the standardization\n",
        "scaler1 = StandardScaler()\n",
        "scaler1 = scaler1.fit(values1)\n",
        "print('Mean: %f, StandardDeviation: %f' % (scaler1.mean_, sqrt(scaler1.var_)))\n",
        "\n",
        "scaler2 = StandardScaler()\n",
        "scaler2 = scaler2.fit(values2)\n",
        "print('Mean: %f, StandardDeviation: %f' % (scaler2.mean_, sqrt(scaler2.var_)))\n",
        "\n",
        "\n",
        "# standardization the dataset and print the first 5 rows\n",
        "normalized1 = scaler1.transform(values1)\n",
        "print('normalized values1')\n",
        "for i in range(5):\n",
        "\tprint(normalized1[i])\n",
        " \n",
        "normalized2 = scaler2.transform(values2)\n",
        "print('normalized values2')\n",
        "for i in range(5):\n",
        "\tprint(normalized2[i])\n",
        "\n",
        "# inverse transform and print the first 5 rows\n",
        "inversed1 = scaler1.inverse_transform(normalized1)\n",
        "print('inversed1')\n",
        "for i in range(5):\n",
        "\tprint(inversed1[i])\n",
        " \n",
        "inversed2 = scaler2.inverse_transform(normalized2)\n",
        "print('inversed2')\n",
        "for i in range(5):\n",
        "\tprint(inversed2[i])"
      ],
      "metadata": {
        "colab": {
          "base_uri": "https://localhost:8080/"
        },
        "id": "JjcGR9YiSoGv",
        "outputId": "9557a821-eca8-420e-83d9-027174e1ad02"
      },
      "execution_count": null,
      "outputs": [
        {
          "output_type": "stream",
          "name": "stdout",
          "text": [
            "Mean: 116.672002, StandardDeviation: 36.834584\n",
            "Mean: 10.368136, StandardDeviation: 4.197551\n",
            "normalized values1\n",
            "[-1.96261213]\n",
            "[-1.95175284]\n",
            "[-1.94713756]\n",
            "[-1.95256726]\n",
            "[-1.94442276]\n",
            "normalized values2\n",
            "[3.53937652]\n",
            "[3.48318415]\n",
            "[3.67880553]\n",
            "[3.58479608]\n",
            "[3.11542955]\n",
            "inversed1\n",
            "[44.38000107]\n",
            "[44.77999878]\n",
            "[44.95000076]\n",
            "[44.75]\n",
            "[45.04999924]\n",
            "inversed2\n",
            "[25.2248497]\n",
            "[24.98897934]\n",
            "[25.81011009]\n",
            "[25.41550064]\n",
            "[23.44531059]\n"
          ]
        }
      ]
    },
    {
      "cell_type": "code",
      "source": [
        "pd.Series(normalized1.flatten()).plot(title=\"SPDR Gold Shares\")\n",
        "pd.Series(normalized2.flatten()).plot(title=\"iShares Gold Producers\")"
      ],
      "metadata": {
        "colab": {
          "base_uri": "https://localhost:8080/",
          "height": 298
        },
        "id": "cshTjshwUN9o",
        "outputId": "0224104d-6193-43de-8a7a-40d8ccb26001"
      },
      "execution_count": null,
      "outputs": [
        {
          "output_type": "execute_result",
          "data": {
            "text/plain": [
              "<matplotlib.axes._subplots.AxesSubplot at 0x7faca33ce750>"
            ]
          },
          "metadata": {},
          "execution_count": 55
        },
        {
          "output_type": "display_data",
          "data": {
            "image/png": "[encoded data removed]",
            "text/plain": [
              "<Figure size 432x288 with 1 Axes>"
            ]
          },
          "metadata": {
            "needs_background": "light"
          }
        }
      ]
    }
  ]
}