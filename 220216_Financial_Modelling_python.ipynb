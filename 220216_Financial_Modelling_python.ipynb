{
  "nbformat": 4,
  "nbformat_minor": 0,
  "metadata": {
    "colab": {
      "name": "220216_Financial Modelling-python.ipynb",
      "provenance": [],
      "authorship_tag": "ABX9TyOVGydh3Rf/pNtnUZ9UPT1p",
      "include_colab_link": true
    },
    "kernelspec": {
      "name": "python3",
      "display_name": "Python 3"
    },
    "language_info": {
      "name": "python"
    }
  },
  "cells": [
    {
      "cell_type": "markdown",
      "metadata": {
        "id": "view-in-github",
        "colab_type": "text"
      },
      "source": [
        "<a href=\"https://colab.research.google.com/github/kathuman/Python-Experiments/blob/main/220216_Financial_Modelling_python.ipynb\" target=\"_parent\"><img src=\"https://colab.research.google.com/assets/colab-badge.svg\" alt=\"Open In Colab\"/></a>"
      ]
    },
    {
      "cell_type": "code",
      "execution_count": 2,
      "metadata": {
        "id": "GYbW8UWlFC8u"
      },
      "outputs": [],
      "source": [
        "# Pricing a European Call Option\n",
        "# s: Current stock price\n",
        "# x: Exercise price (fixed)\n",
        "# T: Maturity ion years\n",
        "# r: continuously compounded risk-free rate\n",
        "# sigma: volatility of the underlying security\n",
        "\n",
        "from math import * \n",
        "\n",
        "def bs_call(S,X,T,r,sigma): \n",
        "  d1 = (log(S/X)+(r+sigma*sigma/2.)*T)/(sigma*sqrt(T)) \n",
        "  d2 = d1-sigma*sqrt(T) \n",
        "  return S*CND(d1)-X*exp(-r*T)*CND(d2)"
      ]
    },
    {
      "cell_type": "code",
      "source": [
        "# We also define a cumulative standard normal dsitribution (CND)\n",
        "\n",
        "def CND(X):\n",
        "    (a1,a2,a3,a4,a5)= (0.31938153,-0.356563782,1.781477937,-1.821255978,1.330274429) \n",
        "    L = abs(X) \n",
        "    K = 1.0/(1.0 + 0.2316419*L) \n",
        "    w = 1.0-1.0/sqrt(2*pi)*exp(-L*L/2.)* (a1*K+a2*K*K+a3*pow(K,3)+a4*pow(K,4)+a5*pow(K,5)) \n",
        "    if X<0: \n",
        "      w = 1.0-w\n",
        "    return w"
      ],
      "metadata": {
        "id": "5TffA69kGE1c"
      },
      "execution_count": 3,
      "outputs": []
    },
    {
      "cell_type": "code",
      "source": [
        "bs_call(40,42,0.5,0.1,0.2)"
      ],
      "metadata": {
        "colab": {
          "base_uri": "https://localhost:8080/"
        },
        "id": "w_Pe7depG1sz",
        "outputId": "20bac54a-4886-4fbb-f740-e5614e2f5bcb"
      },
      "execution_count": 4,
      "outputs": [
        {
          "output_type": "execute_result",
          "data": {
            "text/plain": [
              "2.2777859030683096"
            ]
          },
          "metadata": {},
          "execution_count": 4
        }
      ]
    },
    {
      "cell_type": "code",
      "source": [
        "CND(1.88)"
      ],
      "metadata": {
        "id": "qMUPr-jSHaks",
        "outputId": "7ac718e6-56b6-4927-f0e9-ba5adea4a8d1",
        "colab": {
          "base_uri": "https://localhost:8080/"
        }
      },
      "execution_count": 7,
      "outputs": [
        {
          "output_type": "execute_result",
          "data": {
            "text/plain": [
              "0.9699460261733781"
            ]
          },
          "metadata": {},
          "execution_count": 7
        }
      ]
    },
    {
      "cell_type": "code",
      "source": [
        "!pip install mplfinance"
      ],
      "metadata": {
        "id": "l6W4WsBxJVEE",
        "outputId": "0ab33c65-7da8-4dcd-cd82-a3520fc7e31f",
        "colab": {
          "base_uri": "https://localhost:8080/"
        }
      },
      "execution_count": 14,
      "outputs": [
        {
          "output_type": "stream",
          "name": "stdout",
          "text": [
            "Collecting mplfinance\n",
            "  Downloading mplfinance-0.12.8b9-py3-none-any.whl (70 kB)\n",
            "\u001b[?25l\r\u001b[K     |████▋                           | 10 kB 20.5 MB/s eta 0:00:01\r\u001b[K     |█████████▎                      | 20 kB 26.6 MB/s eta 0:00:01\r\u001b[K     |██████████████                  | 30 kB 25.2 MB/s eta 0:00:01\r\u001b[K     |██████████████████▋             | 40 kB 18.5 MB/s eta 0:00:01\r\u001b[K     |███████████████████████▎        | 51 kB 9.3 MB/s eta 0:00:01\r\u001b[K     |████████████████████████████    | 61 kB 9.9 MB/s eta 0:00:01\r\u001b[K     |████████████████████████████████| 70 kB 4.6 MB/s \n",
            "\u001b[?25hRequirement already satisfied: pandas in /usr/local/lib/python3.7/dist-packages (from mplfinance) (1.3.5)\n",
            "Requirement already satisfied: matplotlib in /usr/local/lib/python3.7/dist-packages (from mplfinance) (3.2.2)\n",
            "Requirement already satisfied: cycler>=0.10 in /usr/local/lib/python3.7/dist-packages (from matplotlib->mplfinance) (0.11.0)\n",
            "Requirement already satisfied: numpy>=1.11 in /usr/local/lib/python3.7/dist-packages (from matplotlib->mplfinance) (1.21.5)\n",
            "Requirement already satisfied: python-dateutil>=2.1 in /usr/local/lib/python3.7/dist-packages (from matplotlib->mplfinance) (2.8.2)\n",
            "Requirement already satisfied: pyparsing!=2.0.4,!=2.1.2,!=2.1.6,>=2.0.1 in /usr/local/lib/python3.7/dist-packages (from matplotlib->mplfinance) (3.0.7)\n",
            "Requirement already satisfied: kiwisolver>=1.0.1 in /usr/local/lib/python3.7/dist-packages (from matplotlib->mplfinance) (1.3.2)\n",
            "Requirement already satisfied: six>=1.5 in /usr/local/lib/python3.7/dist-packages (from python-dateutil>=2.1->matplotlib->mplfinance) (1.15.0)\n",
            "Requirement already satisfied: pytz>=2017.3 in /usr/local/lib/python3.7/dist-packages (from pandas->mplfinance) (2018.9)\n",
            "Installing collected packages: mplfinance\n",
            "Successfully installed mplfinance-0.12.8b9\n"
          ]
        }
      ]
    },
    {
      "cell_type": "code",
      "source": [
        "import matplotlib.pyplot as plt\n",
        "import numpy as np\n",
        "from matplotlib.dates import DateFormatter, WeekdayLocator, HourLocator, DayLocator, MONDAY\n",
        "from mplfinance import quotes_historical_yahoo, candlestick, plot_day_summary, candlestick2\n",
        "\n",
        "date1 = ( 2013, 10, 20)\n",
        "date2 = ( 2013, 11, 10 )\n",
        "ticker='IBM'\n",
        "mondays = WeekdayLocator(MONDAY) # major ticks on the\n",
        "mondays\n",
        "alldays = DayLocator() # minor ticks on the\n",
        "days\n",
        "weekFormatter = DateFormatter('%b %d') # e.g., Jan 12\n",
        "dayFormatter = DateFormatter('%d') # e.g., 12\n",
        "quotes = quotes_historical_yahoo(ticker, date1, date2)\n",
        "if len(quotes) == 0:\n",
        "  raise SystemExit\n",
        "fig, ax = plt.subplots()\n",
        "fig.subplots_adjust(bottom=0.2)\n",
        "ax.xaxis.set_major_locator(mondays)\n",
        "ax.xaxis.set_minor_locator(alldays)\n",
        "ax.xaxis.set_major_formatter(weekFormatter)\n",
        "ax.xaxis.set_minor_formatter(dayFormatter)\n",
        "plot_day_summary(ax, quotes, ticksize=3)\n",
        "candlestick(ax, quotes, width=0.6)\n",
        "ax.xaxis_date()\n",
        "ax.autoscale_view()\n",
        "plt.setp( plt.gca().get_xticklabels(), rotation=80,\n",
        "horizontalalignment='right')\n",
        "plt.figtext(0.35,0.45, '10/29: Open, High, Low, Close')\n",
        "plt.figtext(0.35,0.42, ' 177.62, 182.32, 177.50, 182.12')\n",
        "plt.figtext(0.35,0.32, 'Black ==> Close > Open ')\n",
        "plt.figtext(0.35,0.28, 'Red ==> Close < Open ')\n",
        "plt.title('Candlesticks for IBM from 10/20/2013 to 11/10/2013')\n",
        "plt.ylabel('Price')\n"
      ],
      "metadata": {
        "id": "Rn4ygyfoIqiG",
        "outputId": "47294485-d9ce-4e54-f6d3-deb2f32b4468",
        "colab": {
          "base_uri": "https://localhost:8080/",
          "height": 373
        }
      },
      "execution_count": 15,
      "outputs": [
        {
          "output_type": "error",
          "ename": "ImportError",
          "evalue": "ignored",
          "traceback": [
            "\u001b[0;31m---------------------------------------------------------------------------\u001b[0m",
            "\u001b[0;31mImportError\u001b[0m                               Traceback (most recent call last)",
            "\u001b[0;32m<ipython-input-15-c792a22254f5>\u001b[0m in \u001b[0;36m<module>\u001b[0;34m()\u001b[0m\n\u001b[1;32m      2\u001b[0m \u001b[0;32mimport\u001b[0m \u001b[0mnumpy\u001b[0m \u001b[0;32mas\u001b[0m \u001b[0mnp\u001b[0m\u001b[0;34m\u001b[0m\u001b[0;34m\u001b[0m\u001b[0m\n\u001b[1;32m      3\u001b[0m \u001b[0;32mfrom\u001b[0m \u001b[0mmatplotlib\u001b[0m\u001b[0;34m.\u001b[0m\u001b[0mdates\u001b[0m \u001b[0;32mimport\u001b[0m \u001b[0mDateFormatter\u001b[0m\u001b[0;34m,\u001b[0m \u001b[0mWeekdayLocator\u001b[0m\u001b[0;34m,\u001b[0m \u001b[0mHourLocator\u001b[0m\u001b[0;34m,\u001b[0m \u001b[0mDayLocator\u001b[0m\u001b[0;34m,\u001b[0m \u001b[0mMONDAY\u001b[0m\u001b[0;34m\u001b[0m\u001b[0;34m\u001b[0m\u001b[0m\n\u001b[0;32m----> 4\u001b[0;31m \u001b[0;32mfrom\u001b[0m \u001b[0mmplfinance\u001b[0m \u001b[0;32mimport\u001b[0m \u001b[0mquotes_historical_yahoo\u001b[0m\u001b[0;34m,\u001b[0m \u001b[0mcandlestick\u001b[0m\u001b[0;34m,\u001b[0m \u001b[0mplot_day_summary\u001b[0m\u001b[0;34m,\u001b[0m \u001b[0mcandlestick2\u001b[0m\u001b[0;34m\u001b[0m\u001b[0;34m\u001b[0m\u001b[0m\n\u001b[0m\u001b[1;32m      5\u001b[0m \u001b[0;34m\u001b[0m\u001b[0m\n\u001b[1;32m      6\u001b[0m \u001b[0mdate1\u001b[0m \u001b[0;34m=\u001b[0m \u001b[0;34m(\u001b[0m \u001b[0;36m2013\u001b[0m\u001b[0;34m,\u001b[0m \u001b[0;36m10\u001b[0m\u001b[0;34m,\u001b[0m \u001b[0;36m20\u001b[0m\u001b[0;34m)\u001b[0m\u001b[0;34m\u001b[0m\u001b[0;34m\u001b[0m\u001b[0m\n",
            "\u001b[0;31mImportError\u001b[0m: cannot import name 'quotes_historical_yahoo' from 'mplfinance' (/usr/local/lib/python3.7/dist-packages/mplfinance/__init__.py)",
            "",
            "\u001b[0;31m---------------------------------------------------------------------------\u001b[0;32m\nNOTE: If your import is failing due to a missing package, you can\nmanually install dependencies using either !pip or !apt.\n\nTo view examples of installing some common dependencies, click the\n\"Open Examples\" button below.\n\u001b[0;31m---------------------------------------------------------------------------\u001b[0m\n"
          ],
          "errorDetails": {
            "actions": [
              {
                "action": "open_url",
                "actionText": "Open Examples",
                "url": "/notebooks/snippets/importing_libraries.ipynb"
              }
            ]
          }
        }
      ]
    }
  ]
}