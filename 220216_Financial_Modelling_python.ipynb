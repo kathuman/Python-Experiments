{
  "nbformat": 4,
  "nbformat_minor": 0,
  "metadata": {
    "colab": {
      "name": "220216_Financial Modelling-python.ipynb",
      "provenance": [],
      "authorship_tag": "ABX9TyPLzfJxpvMnGJpEb8EXb3wj",
      "include_colab_link": true
    },
    "kernelspec": {
      "name": "python3",
      "display_name": "Python 3"
    },
    "language_info": {
      "name": "python"
    }
  },
  "cells": [
    {
      "cell_type": "markdown",
      "metadata": {
        "id": "view-in-github",
        "colab_type": "text"
      },
      "source": [
        "<a href=\"https://colab.research.google.com/github/kathuman/Python-Experiments/blob/main/220216_Financial_Modelling_python.ipynb\" target=\"_parent\"><img src=\"https://colab.research.google.com/assets/colab-badge.svg\" alt=\"Open In Colab\"/></a>"
      ]
    },
    {
      "cell_type": "code",
      "execution_count": 2,
      "metadata": {
        "id": "GYbW8UWlFC8u"
      },
      "outputs": [],
      "source": [
        "# Pricing a European Call Option\n",
        "# s: Current stock price\n",
        "# x: Exercise price (fixed)\n",
        "# T: Maturity ion years\n",
        "# r: continuously compounded risk-free rate\n",
        "# sigma: volatility of the underlying security\n",
        "\n",
        "from math import * \n",
        "\n",
        "def bs_call(S,X,T,r,sigma): \n",
        "  d1 = (log(S/X)+(r+sigma*sigma/2.)*T)/(sigma*sqrt(T)) \n",
        "  d2 = d1-sigma*sqrt(T) \n",
        "  return S*CND(d1)-X*exp(-r*T)*CND(d2)"
      ]
    },
    {
      "cell_type": "code",
      "source": [
        "# We also define a cumulative standard normal dsitribution (CND)\n",
        "\n",
        "def CND(X):\n",
        "    (a1,a2,a3,a4,a5)= (0.31938153,-0.356563782,1.781477937,-1.821255978,1.330274429) \n",
        "    L = abs(X) \n",
        "    K = 1.0/(1.0 + 0.2316419*L) \n",
        "    w = 1.0-1.0/sqrt(2*pi)*exp(-L*L/2.)* (a1*K+a2*K*K+a3*pow(K,3)+a4*pow(K,4)+a5*pow(K,5)) \n",
        "    if X<0: \n",
        "      w = 1.0-w\n",
        "    return w"
      ],
      "metadata": {
        "id": "5TffA69kGE1c"
      },
      "execution_count": 3,
      "outputs": []
    },
    {
      "cell_type": "code",
      "source": [
        "bs_call(40,42,0.5,0.1,0.2)"
      ],
      "metadata": {
        "colab": {
          "base_uri": "https://localhost:8080/"
        },
        "id": "w_Pe7depG1sz",
        "outputId": "dd478d88-9698-4df2-fe73-034bcbb4d1b9"
      },
      "execution_count": 4,
      "outputs": [
        {
          "output_type": "execute_result",
          "data": {
            "text/plain": [
              "2.2777859030683096"
            ]
          },
          "metadata": {},
          "execution_count": 4
        }
      ]
    }
  ]
}