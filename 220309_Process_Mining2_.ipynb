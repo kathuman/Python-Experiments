{
  "nbformat": 4,
  "nbformat_minor": 0,
  "metadata": {
    "colab": {
      "name": "220309_Process_Mining2 .ipynb",
      "provenance": [],
      "collapsed_sections": [],
      "authorship_tag": "ABX9TyOdjCHsU1DSLB9ggaPr+MG7",
      "include_colab_link": true
    },
    "kernelspec": {
      "name": "python3",
      "display_name": "Python 3"
    },
    "language_info": {
      "name": "python"
    },
    "widgets": {
      "application/vnd.jupyter.widget-state+json": {
        "c0cd9474bb4046b39b3332b63563ef9b": {
          "model_module": "@jupyter-widgets/controls",
          "model_name": "HBoxModel",
          "model_module_version": "1.5.0",
          "state": {
            "_view_name": "HBoxView",
            "_dom_classes": [],
            "_model_name": "HBoxModel",
            "_view_module": "@jupyter-widgets/controls",
            "_model_module_version": "1.5.0",
            "_view_count": null,
            "_view_module_version": "1.5.0",
            "box_style": "",
            "layout": "IPY_MODEL_ae52c1e23bb8444a8951caccefea72d2",
            "_model_module": "@jupyter-widgets/controls",
            "children": [
              "IPY_MODEL_7cfc9f91c77349daba39d7d25849fb3f",
              "IPY_MODEL_199d834c7a684a9fa18268647df42a23",
              "IPY_MODEL_931d6676dedd4c66bda1a812f16d47a3"
            ]
          }
        },
        "ae52c1e23bb8444a8951caccefea72d2": {
          "model_module": "@jupyter-widgets/base",
          "model_name": "LayoutModel",
          "model_module_version": "1.2.0",
          "state": {
            "_view_name": "LayoutView",
            "grid_template_rows": null,
            "right": null,
            "justify_content": null,
            "_view_module": "@jupyter-widgets/base",
            "overflow": null,
            "_model_module_version": "1.2.0",
            "_view_count": null,
            "flex_flow": null,
            "width": null,
            "min_width": null,
            "border": null,
            "align_items": null,
            "bottom": null,
            "_model_module": "@jupyter-widgets/base",
            "top": null,
            "grid_column": null,
            "overflow_y": null,
            "overflow_x": null,
            "grid_auto_flow": null,
            "grid_area": null,
            "grid_template_columns": null,
            "flex": null,
            "_model_name": "LayoutModel",
            "justify_items": null,
            "grid_row": null,
            "max_height": null,
            "align_content": null,
            "visibility": null,
            "align_self": null,
            "height": null,
            "min_height": null,
            "padding": null,
            "grid_auto_rows": null,
            "grid_gap": null,
            "max_width": null,
            "order": null,
            "_view_module_version": "1.2.0",
            "grid_template_areas": null,
            "object_position": null,
            "object_fit": null,
            "grid_auto_columns": null,
            "margin": null,
            "display": null,
            "left": null
          }
        },
        "7cfc9f91c77349daba39d7d25849fb3f": {
          "model_module": "@jupyter-widgets/controls",
          "model_name": "HTMLModel",
          "model_module_version": "1.5.0",
          "state": {
            "_view_name": "HTMLView",
            "style": "IPY_MODEL_22264134c8f3486e91a0e5fb153cb590",
            "_dom_classes": [],
            "description": "",
            "_model_name": "HTMLModel",
            "placeholder": "​",
            "_view_module": "@jupyter-widgets/controls",
            "_model_module_version": "1.5.0",
            "value": "replaying log with TBR, completed variants :: 100%",
            "_view_count": null,
            "_view_module_version": "1.5.0",
            "description_tooltip": null,
            "_model_module": "@jupyter-widgets/controls",
            "layout": "IPY_MODEL_7751a4df7d9c44f19b0577bd3450b2a8"
          }
        },
        "199d834c7a684a9fa18268647df42a23": {
          "model_module": "@jupyter-widgets/controls",
          "model_name": "FloatProgressModel",
          "model_module_version": "1.5.0",
          "state": {
            "_view_name": "ProgressView",
            "style": "IPY_MODEL_42338cb0f3054b0cb1c4bbcd65808c15",
            "_dom_classes": [],
            "description": "",
            "_model_name": "FloatProgressModel",
            "bar_style": "success",
            "max": 15,
            "_view_module": "@jupyter-widgets/controls",
            "_model_module_version": "1.5.0",
            "value": 15,
            "_view_count": null,
            "_view_module_version": "1.5.0",
            "orientation": "horizontal",
            "min": 0,
            "description_tooltip": null,
            "_model_module": "@jupyter-widgets/controls",
            "layout": "IPY_MODEL_2ad0d8405aa842cdb9d4cb938091e2f1"
          }
        },
        "931d6676dedd4c66bda1a812f16d47a3": {
          "model_module": "@jupyter-widgets/controls",
          "model_name": "HTMLModel",
          "model_module_version": "1.5.0",
          "state": {
            "_view_name": "HTMLView",
            "style": "IPY_MODEL_ad8523378947464986fae78611ebdc8d",
            "_dom_classes": [],
            "description": "",
            "_model_name": "HTMLModel",
            "placeholder": "​",
            "_view_module": "@jupyter-widgets/controls",
            "_model_module_version": "1.5.0",
            "value": " 15/15 [00:00&lt;00:00, 180.23it/s]",
            "_view_count": null,
            "_view_module_version": "1.5.0",
            "description_tooltip": null,
            "_model_module": "@jupyter-widgets/controls",
            "layout": "IPY_MODEL_9c975613e204448eb7b16085a85293d2"
          }
        },
        "22264134c8f3486e91a0e5fb153cb590": {
          "model_module": "@jupyter-widgets/controls",
          "model_name": "DescriptionStyleModel",
          "model_module_version": "1.5.0",
          "state": {
            "_view_name": "StyleView",
            "_model_name": "DescriptionStyleModel",
            "description_width": "",
            "_view_module": "@jupyter-widgets/base",
            "_model_module_version": "1.5.0",
            "_view_count": null,
            "_view_module_version": "1.2.0",
            "_model_module": "@jupyter-widgets/controls"
          }
        },
        "7751a4df7d9c44f19b0577bd3450b2a8": {
          "model_module": "@jupyter-widgets/base",
          "model_name": "LayoutModel",
          "model_module_version": "1.2.0",
          "state": {
            "_view_name": "LayoutView",
            "grid_template_rows": null,
            "right": null,
            "justify_content": null,
            "_view_module": "@jupyter-widgets/base",
            "overflow": null,
            "_model_module_version": "1.2.0",
            "_view_count": null,
            "flex_flow": null,
            "width": null,
            "min_width": null,
            "border": null,
            "align_items": null,
            "bottom": null,
            "_model_module": "@jupyter-widgets/base",
            "top": null,
            "grid_column": null,
            "overflow_y": null,
            "overflow_x": null,
            "grid_auto_flow": null,
            "grid_area": null,
            "grid_template_columns": null,
            "flex": null,
            "_model_name": "LayoutModel",
            "justify_items": null,
            "grid_row": null,
            "max_height": null,
            "align_content": null,
            "visibility": null,
            "align_self": null,
            "height": null,
            "min_height": null,
            "padding": null,
            "grid_auto_rows": null,
            "grid_gap": null,
            "max_width": null,
            "order": null,
            "_view_module_version": "1.2.0",
            "grid_template_areas": null,
            "object_position": null,
            "object_fit": null,
            "grid_auto_columns": null,
            "margin": null,
            "display": null,
            "left": null
          }
        },
        "42338cb0f3054b0cb1c4bbcd65808c15": {
          "model_module": "@jupyter-widgets/controls",
          "model_name": "ProgressStyleModel",
          "model_module_version": "1.5.0",
          "state": {
            "_view_name": "StyleView",
            "_model_name": "ProgressStyleModel",
            "description_width": "",
            "_view_module": "@jupyter-widgets/base",
            "_model_module_version": "1.5.0",
            "_view_count": null,
            "_view_module_version": "1.2.0",
            "bar_color": null,
            "_model_module": "@jupyter-widgets/controls"
          }
        },
        "2ad0d8405aa842cdb9d4cb938091e2f1": {
          "model_module": "@jupyter-widgets/base",
          "model_name": "LayoutModel",
          "model_module_version": "1.2.0",
          "state": {
            "_view_name": "LayoutView",
            "grid_template_rows": null,
            "right": null,
            "justify_content": null,
            "_view_module": "@jupyter-widgets/base",
            "overflow": null,
            "_model_module_version": "1.2.0",
            "_view_count": null,
            "flex_flow": null,
            "width": null,
            "min_width": null,
            "border": null,
            "align_items": null,
            "bottom": null,
            "_model_module": "@jupyter-widgets/base",
            "top": null,
            "grid_column": null,
            "overflow_y": null,
            "overflow_x": null,
            "grid_auto_flow": null,
            "grid_area": null,
            "grid_template_columns": null,
            "flex": null,
            "_model_name": "LayoutModel",
            "justify_items": null,
            "grid_row": null,
            "max_height": null,
            "align_content": null,
            "visibility": null,
            "align_self": null,
            "height": null,
            "min_height": null,
            "padding": null,
            "grid_auto_rows": null,
            "grid_gap": null,
            "max_width": null,
            "order": null,
            "_view_module_version": "1.2.0",
            "grid_template_areas": null,
            "object_position": null,
            "object_fit": null,
            "grid_auto_columns": null,
            "margin": null,
            "display": null,
            "left": null
          }
        },
        "ad8523378947464986fae78611ebdc8d": {
          "model_module": "@jupyter-widgets/controls",
          "model_name": "DescriptionStyleModel",
          "model_module_version": "1.5.0",
          "state": {
            "_view_name": "StyleView",
            "_model_name": "DescriptionStyleModel",
            "description_width": "",
            "_view_module": "@jupyter-widgets/base",
            "_model_module_version": "1.5.0",
            "_view_count": null,
            "_view_module_version": "1.2.0",
            "_model_module": "@jupyter-widgets/controls"
          }
        },
        "9c975613e204448eb7b16085a85293d2": {
          "model_module": "@jupyter-widgets/base",
          "model_name": "LayoutModel",
          "model_module_version": "1.2.0",
          "state": {
            "_view_name": "LayoutView",
            "grid_template_rows": null,
            "right": null,
            "justify_content": null,
            "_view_module": "@jupyter-widgets/base",
            "overflow": null,
            "_model_module_version": "1.2.0",
            "_view_count": null,
            "flex_flow": null,
            "width": null,
            "min_width": null,
            "border": null,
            "align_items": null,
            "bottom": null,
            "_model_module": "@jupyter-widgets/base",
            "top": null,
            "grid_column": null,
            "overflow_y": null,
            "overflow_x": null,
            "grid_auto_flow": null,
            "grid_area": null,
            "grid_template_columns": null,
            "flex": null,
            "_model_name": "LayoutModel",
            "justify_items": null,
            "grid_row": null,
            "max_height": null,
            "align_content": null,
            "visibility": null,
            "align_self": null,
            "height": null,
            "min_height": null,
            "padding": null,
            "grid_auto_rows": null,
            "grid_gap": null,
            "max_width": null,
            "order": null,
            "_view_module_version": "1.2.0",
            "grid_template_areas": null,
            "object_position": null,
            "object_fit": null,
            "grid_auto_columns": null,
            "margin": null,
            "display": null,
            "left": null
          }
        },
        "d9d5dcc727fa4332a3ac3f49c4e5b537": {
          "model_module": "@jupyter-widgets/controls",
          "model_name": "HBoxModel",
          "model_module_version": "1.5.0",
          "state": {
            "_view_name": "HBoxView",
            "_dom_classes": [],
            "_model_name": "HBoxModel",
            "_view_module": "@jupyter-widgets/controls",
            "_model_module_version": "1.5.0",
            "_view_count": null,
            "_view_module_version": "1.5.0",
            "box_style": "",
            "layout": "IPY_MODEL_c2cee71d50014354bab67c6af45e0769",
            "_model_module": "@jupyter-widgets/controls",
            "children": [
              "IPY_MODEL_147d0eba71ee4538a8d5fc98db33a863",
              "IPY_MODEL_1faffd1c5f624afa89bae50f670d9946",
              "IPY_MODEL_8f7a30318c4b44c4842a24eaa3da9654"
            ]
          }
        },
        "c2cee71d50014354bab67c6af45e0769": {
          "model_module": "@jupyter-widgets/base",
          "model_name": "LayoutModel",
          "model_module_version": "1.2.0",
          "state": {
            "_view_name": "LayoutView",
            "grid_template_rows": null,
            "right": null,
            "justify_content": null,
            "_view_module": "@jupyter-widgets/base",
            "overflow": null,
            "_model_module_version": "1.2.0",
            "_view_count": null,
            "flex_flow": null,
            "width": null,
            "min_width": null,
            "border": null,
            "align_items": null,
            "bottom": null,
            "_model_module": "@jupyter-widgets/base",
            "top": null,
            "grid_column": null,
            "overflow_y": null,
            "overflow_x": null,
            "grid_auto_flow": null,
            "grid_area": null,
            "grid_template_columns": null,
            "flex": null,
            "_model_name": "LayoutModel",
            "justify_items": null,
            "grid_row": null,
            "max_height": null,
            "align_content": null,
            "visibility": null,
            "align_self": null,
            "height": null,
            "min_height": null,
            "padding": null,
            "grid_auto_rows": null,
            "grid_gap": null,
            "max_width": null,
            "order": null,
            "_view_module_version": "1.2.0",
            "grid_template_areas": null,
            "object_position": null,
            "object_fit": null,
            "grid_auto_columns": null,
            "margin": null,
            "display": null,
            "left": null
          }
        },
        "147d0eba71ee4538a8d5fc98db33a863": {
          "model_module": "@jupyter-widgets/controls",
          "model_name": "HTMLModel",
          "model_module_version": "1.5.0",
          "state": {
            "_view_name": "HTMLView",
            "style": "IPY_MODEL_899b5b02df5c47c28b8f6af518c71ae2",
            "_dom_classes": [],
            "description": "",
            "_model_name": "HTMLModel",
            "placeholder": "​",
            "_view_module": "@jupyter-widgets/controls",
            "_model_module_version": "1.5.0",
            "value": "replaying log with TBR, completed variants :: 100%",
            "_view_count": null,
            "_view_module_version": "1.5.0",
            "description_tooltip": null,
            "_model_module": "@jupyter-widgets/controls",
            "layout": "IPY_MODEL_6373ecc67a134a4cbd5f11103ac83203"
          }
        },
        "1faffd1c5f624afa89bae50f670d9946": {
          "model_module": "@jupyter-widgets/controls",
          "model_name": "FloatProgressModel",
          "model_module_version": "1.5.0",
          "state": {
            "_view_name": "ProgressView",
            "style": "IPY_MODEL_25fa73bc2af241f88163582c27a02c0e",
            "_dom_classes": [],
            "description": "",
            "_model_name": "FloatProgressModel",
            "bar_style": "success",
            "max": 15,
            "_view_module": "@jupyter-widgets/controls",
            "_model_module_version": "1.5.0",
            "value": 15,
            "_view_count": null,
            "_view_module_version": "1.5.0",
            "orientation": "horizontal",
            "min": 0,
            "description_tooltip": null,
            "_model_module": "@jupyter-widgets/controls",
            "layout": "IPY_MODEL_225e806acef24aae8e531e43f79ba8b4"
          }
        },
        "8f7a30318c4b44c4842a24eaa3da9654": {
          "model_module": "@jupyter-widgets/controls",
          "model_name": "HTMLModel",
          "model_module_version": "1.5.0",
          "state": {
            "_view_name": "HTMLView",
            "style": "IPY_MODEL_925a3b406a03442c95ead07966ebfbd6",
            "_dom_classes": [],
            "description": "",
            "_model_name": "HTMLModel",
            "placeholder": "​",
            "_view_module": "@jupyter-widgets/controls",
            "_model_module_version": "1.5.0",
            "value": " 15/15 [00:00&lt;00:00,  9.60it/s]",
            "_view_count": null,
            "_view_module_version": "1.5.0",
            "description_tooltip": null,
            "_model_module": "@jupyter-widgets/controls",
            "layout": "IPY_MODEL_1ad8a481d37e400c83ea2b17a7b06de5"
          }
        },
        "899b5b02df5c47c28b8f6af518c71ae2": {
          "model_module": "@jupyter-widgets/controls",
          "model_name": "DescriptionStyleModel",
          "model_module_version": "1.5.0",
          "state": {
            "_view_name": "StyleView",
            "_model_name": "DescriptionStyleModel",
            "description_width": "",
            "_view_module": "@jupyter-widgets/base",
            "_model_module_version": "1.5.0",
            "_view_count": null,
            "_view_module_version": "1.2.0",
            "_model_module": "@jupyter-widgets/controls"
          }
        },
        "6373ecc67a134a4cbd5f11103ac83203": {
          "model_module": "@jupyter-widgets/base",
          "model_name": "LayoutModel",
          "model_module_version": "1.2.0",
          "state": {
            "_view_name": "LayoutView",
            "grid_template_rows": null,
            "right": null,
            "justify_content": null,
            "_view_module": "@jupyter-widgets/base",
            "overflow": null,
            "_model_module_version": "1.2.0",
            "_view_count": null,
            "flex_flow": null,
            "width": null,
            "min_width": null,
            "border": null,
            "align_items": null,
            "bottom": null,
            "_model_module": "@jupyter-widgets/base",
            "top": null,
            "grid_column": null,
            "overflow_y": null,
            "overflow_x": null,
            "grid_auto_flow": null,
            "grid_area": null,
            "grid_template_columns": null,
            "flex": null,
            "_model_name": "LayoutModel",
            "justify_items": null,
            "grid_row": null,
            "max_height": null,
            "align_content": null,
            "visibility": null,
            "align_self": null,
            "height": null,
            "min_height": null,
            "padding": null,
            "grid_auto_rows": null,
            "grid_gap": null,
            "max_width": null,
            "order": null,
            "_view_module_version": "1.2.0",
            "grid_template_areas": null,
            "object_position": null,
            "object_fit": null,
            "grid_auto_columns": null,
            "margin": null,
            "display": null,
            "left": null
          }
        },
        "25fa73bc2af241f88163582c27a02c0e": {
          "model_module": "@jupyter-widgets/controls",
          "model_name": "ProgressStyleModel",
          "model_module_version": "1.5.0",
          "state": {
            "_view_name": "StyleView",
            "_model_name": "ProgressStyleModel",
            "description_width": "",
            "_view_module": "@jupyter-widgets/base",
            "_model_module_version": "1.5.0",
            "_view_count": null,
            "_view_module_version": "1.2.0",
            "bar_color": null,
            "_model_module": "@jupyter-widgets/controls"
          }
        },
        "225e806acef24aae8e531e43f79ba8b4": {
          "model_module": "@jupyter-widgets/base",
          "model_name": "LayoutModel",
          "model_module_version": "1.2.0",
          "state": {
            "_view_name": "LayoutView",
            "grid_template_rows": null,
            "right": null,
            "justify_content": null,
            "_view_module": "@jupyter-widgets/base",
            "overflow": null,
            "_model_module_version": "1.2.0",
            "_view_count": null,
            "flex_flow": null,
            "width": null,
            "min_width": null,
            "border": null,
            "align_items": null,
            "bottom": null,
            "_model_module": "@jupyter-widgets/base",
            "top": null,
            "grid_column": null,
            "overflow_y": null,
            "overflow_x": null,
            "grid_auto_flow": null,
            "grid_area": null,
            "grid_template_columns": null,
            "flex": null,
            "_model_name": "LayoutModel",
            "justify_items": null,
            "grid_row": null,
            "max_height": null,
            "align_content": null,
            "visibility": null,
            "align_self": null,
            "height": null,
            "min_height": null,
            "padding": null,
            "grid_auto_rows": null,
            "grid_gap": null,
            "max_width": null,
            "order": null,
            "_view_module_version": "1.2.0",
            "grid_template_areas": null,
            "object_position": null,
            "object_fit": null,
            "grid_auto_columns": null,
            "margin": null,
            "display": null,
            "left": null
          }
        },
        "925a3b406a03442c95ead07966ebfbd6": {
          "model_module": "@jupyter-widgets/controls",
          "model_name": "DescriptionStyleModel",
          "model_module_version": "1.5.0",
          "state": {
            "_view_name": "StyleView",
            "_model_name": "DescriptionStyleModel",
            "description_width": "",
            "_view_module": "@jupyter-widgets/base",
            "_model_module_version": "1.5.0",
            "_view_count": null,
            "_view_module_version": "1.2.0",
            "_model_module": "@jupyter-widgets/controls"
          }
        },
        "1ad8a481d37e400c83ea2b17a7b06de5": {
          "model_module": "@jupyter-widgets/base",
          "model_name": "LayoutModel",
          "model_module_version": "1.2.0",
          "state": {
            "_view_name": "LayoutView",
            "grid_template_rows": null,
            "right": null,
            "justify_content": null,
            "_view_module": "@jupyter-widgets/base",
            "overflow": null,
            "_model_module_version": "1.2.0",
            "_view_count": null,
            "flex_flow": null,
            "width": null,
            "min_width": null,
            "border": null,
            "align_items": null,
            "bottom": null,
            "_model_module": "@jupyter-widgets/base",
            "top": null,
            "grid_column": null,
            "overflow_y": null,
            "overflow_x": null,
            "grid_auto_flow": null,
            "grid_area": null,
            "grid_template_columns": null,
            "flex": null,
            "_model_name": "LayoutModel",
            "justify_items": null,
            "grid_row": null,
            "max_height": null,
            "align_content": null,
            "visibility": null,
            "align_self": null,
            "height": null,
            "min_height": null,
            "padding": null,
            "grid_auto_rows": null,
            "grid_gap": null,
            "max_width": null,
            "order": null,
            "_view_module_version": "1.2.0",
            "grid_template_areas": null,
            "object_position": null,
            "object_fit": null,
            "grid_auto_columns": null,
            "margin": null,
            "display": null,
            "left": null
          }
        },
        "6c247f5bdb7c479cb389a54259b5b5fc": {
          "model_module": "@jupyter-widgets/controls",
          "model_name": "HBoxModel",
          "model_module_version": "1.5.0",
          "state": {
            "_view_name": "HBoxView",
            "_dom_classes": [],
            "_model_name": "HBoxModel",
            "_view_module": "@jupyter-widgets/controls",
            "_model_module_version": "1.5.0",
            "_view_count": null,
            "_view_module_version": "1.5.0",
            "box_style": "",
            "layout": "IPY_MODEL_973037e5946b4da8bec6bcd96f6b47de",
            "_model_module": "@jupyter-widgets/controls",
            "children": [
              "IPY_MODEL_0f5659e7fe1f4ef9b53829446d25538a",
              "IPY_MODEL_18345e8a81f04f638236e7ac773cac03",
              "IPY_MODEL_8dede9b30b8949cfa65e56703b90eedf"
            ]
          }
        },
        "973037e5946b4da8bec6bcd96f6b47de": {
          "model_module": "@jupyter-widgets/base",
          "model_name": "LayoutModel",
          "model_module_version": "1.2.0",
          "state": {
            "_view_name": "LayoutView",
            "grid_template_rows": null,
            "right": null,
            "justify_content": null,
            "_view_module": "@jupyter-widgets/base",
            "overflow": null,
            "_model_module_version": "1.2.0",
            "_view_count": null,
            "flex_flow": null,
            "width": null,
            "min_width": null,
            "border": null,
            "align_items": null,
            "bottom": null,
            "_model_module": "@jupyter-widgets/base",
            "top": null,
            "grid_column": null,
            "overflow_y": null,
            "overflow_x": null,
            "grid_auto_flow": null,
            "grid_area": null,
            "grid_template_columns": null,
            "flex": null,
            "_model_name": "LayoutModel",
            "justify_items": null,
            "grid_row": null,
            "max_height": null,
            "align_content": null,
            "visibility": null,
            "align_self": null,
            "height": null,
            "min_height": null,
            "padding": null,
            "grid_auto_rows": null,
            "grid_gap": null,
            "max_width": null,
            "order": null,
            "_view_module_version": "1.2.0",
            "grid_template_areas": null,
            "object_position": null,
            "object_fit": null,
            "grid_auto_columns": null,
            "margin": null,
            "display": null,
            "left": null
          }
        },
        "0f5659e7fe1f4ef9b53829446d25538a": {
          "model_module": "@jupyter-widgets/controls",
          "model_name": "HTMLModel",
          "model_module_version": "1.5.0",
          "state": {
            "_view_name": "HTMLView",
            "style": "IPY_MODEL_d7d35e2799fa426a8149102d9bfae87a",
            "_dom_classes": [],
            "description": "",
            "_model_name": "HTMLModel",
            "placeholder": "​",
            "_view_module": "@jupyter-widgets/controls",
            "_model_module_version": "1.5.0",
            "value": "replaying log with TBR, completed variants :: 100%",
            "_view_count": null,
            "_view_module_version": "1.5.0",
            "description_tooltip": null,
            "_model_module": "@jupyter-widgets/controls",
            "layout": "IPY_MODEL_ec82a10e8edd4f86b457ec8f398c646c"
          }
        },
        "18345e8a81f04f638236e7ac773cac03": {
          "model_module": "@jupyter-widgets/controls",
          "model_name": "FloatProgressModel",
          "model_module_version": "1.5.0",
          "state": {
            "_view_name": "ProgressView",
            "style": "IPY_MODEL_fab799f788334142af1a86feb0b61e6f",
            "_dom_classes": [],
            "description": "",
            "_model_name": "FloatProgressModel",
            "bar_style": "success",
            "max": 15,
            "_view_module": "@jupyter-widgets/controls",
            "_model_module_version": "1.5.0",
            "value": 15,
            "_view_count": null,
            "_view_module_version": "1.5.0",
            "orientation": "horizontal",
            "min": 0,
            "description_tooltip": null,
            "_model_module": "@jupyter-widgets/controls",
            "layout": "IPY_MODEL_9e7242aa854f42f28eb6c34085678a6e"
          }
        },
        "8dede9b30b8949cfa65e56703b90eedf": {
          "model_module": "@jupyter-widgets/controls",
          "model_name": "HTMLModel",
          "model_module_version": "1.5.0",
          "state": {
            "_view_name": "HTMLView",
            "style": "IPY_MODEL_4d9175e8b94d40528d66a4374993cec1",
            "_dom_classes": [],
            "description": "",
            "_model_name": "HTMLModel",
            "placeholder": "​",
            "_view_module": "@jupyter-widgets/controls",
            "_model_module_version": "1.5.0",
            "value": " 15/15 [00:00&lt;00:00,  9.48it/s]",
            "_view_count": null,
            "_view_module_version": "1.5.0",
            "description_tooltip": null,
            "_model_module": "@jupyter-widgets/controls",
            "layout": "IPY_MODEL_a5bba6106a2549aa9e02b295d4c7392d"
          }
        },
        "d7d35e2799fa426a8149102d9bfae87a": {
          "model_module": "@jupyter-widgets/controls",
          "model_name": "DescriptionStyleModel",
          "model_module_version": "1.5.0",
          "state": {
            "_view_name": "StyleView",
            "_model_name": "DescriptionStyleModel",
            "description_width": "",
            "_view_module": "@jupyter-widgets/base",
            "_model_module_version": "1.5.0",
            "_view_count": null,
            "_view_module_version": "1.2.0",
            "_model_module": "@jupyter-widgets/controls"
          }
        },
        "ec82a10e8edd4f86b457ec8f398c646c": {
          "model_module": "@jupyter-widgets/base",
          "model_name": "LayoutModel",
          "model_module_version": "1.2.0",
          "state": {
            "_view_name": "LayoutView",
            "grid_template_rows": null,
            "right": null,
            "justify_content": null,
            "_view_module": "@jupyter-widgets/base",
            "overflow": null,
            "_model_module_version": "1.2.0",
            "_view_count": null,
            "flex_flow": null,
            "width": null,
            "min_width": null,
            "border": null,
            "align_items": null,
            "bottom": null,
            "_model_module": "@jupyter-widgets/base",
            "top": null,
            "grid_column": null,
            "overflow_y": null,
            "overflow_x": null,
            "grid_auto_flow": null,
            "grid_area": null,
            "grid_template_columns": null,
            "flex": null,
            "_model_name": "LayoutModel",
            "justify_items": null,
            "grid_row": null,
            "max_height": null,
            "align_content": null,
            "visibility": null,
            "align_self": null,
            "height": null,
            "min_height": null,
            "padding": null,
            "grid_auto_rows": null,
            "grid_gap": null,
            "max_width": null,
            "order": null,
            "_view_module_version": "1.2.0",
            "grid_template_areas": null,
            "object_position": null,
            "object_fit": null,
            "grid_auto_columns": null,
            "margin": null,
            "display": null,
            "left": null
          }
        },
        "fab799f788334142af1a86feb0b61e6f": {
          "model_module": "@jupyter-widgets/controls",
          "model_name": "ProgressStyleModel",
          "model_module_version": "1.5.0",
          "state": {
            "_view_name": "StyleView",
            "_model_name": "ProgressStyleModel",
            "description_width": "",
            "_view_module": "@jupyter-widgets/base",
            "_model_module_version": "1.5.0",
            "_view_count": null,
            "_view_module_version": "1.2.0",
            "bar_color": null,
            "_model_module": "@jupyter-widgets/controls"
          }
        },
        "9e7242aa854f42f28eb6c34085678a6e": {
          "model_module": "@jupyter-widgets/base",
          "model_name": "LayoutModel",
          "model_module_version": "1.2.0",
          "state": {
            "_view_name": "LayoutView",
            "grid_template_rows": null,
            "right": null,
            "justify_content": null,
            "_view_module": "@jupyter-widgets/base",
            "overflow": null,
            "_model_module_version": "1.2.0",
            "_view_count": null,
            "flex_flow": null,
            "width": null,
            "min_width": null,
            "border": null,
            "align_items": null,
            "bottom": null,
            "_model_module": "@jupyter-widgets/base",
            "top": null,
            "grid_column": null,
            "overflow_y": null,
            "overflow_x": null,
            "grid_auto_flow": null,
            "grid_area": null,
            "grid_template_columns": null,
            "flex": null,
            "_model_name": "LayoutModel",
            "justify_items": null,
            "grid_row": null,
            "max_height": null,
            "align_content": null,
            "visibility": null,
            "align_self": null,
            "height": null,
            "min_height": null,
            "padding": null,
            "grid_auto_rows": null,
            "grid_gap": null,
            "max_width": null,
            "order": null,
            "_view_module_version": "1.2.0",
            "grid_template_areas": null,
            "object_position": null,
            "object_fit": null,
            "grid_auto_columns": null,
            "margin": null,
            "display": null,
            "left": null
          }
        },
        "4d9175e8b94d40528d66a4374993cec1": {
          "model_module": "@jupyter-widgets/controls",
          "model_name": "DescriptionStyleModel",
          "model_module_version": "1.5.0",
          "state": {
            "_view_name": "StyleView",
            "_model_name": "DescriptionStyleModel",
            "description_width": "",
            "_view_module": "@jupyter-widgets/base",
            "_model_module_version": "1.5.0",
            "_view_count": null,
            "_view_module_version": "1.2.0",
            "_model_module": "@jupyter-widgets/controls"
          }
        },
        "a5bba6106a2549aa9e02b295d4c7392d": {
          "model_module": "@jupyter-widgets/base",
          "model_name": "LayoutModel",
          "model_module_version": "1.2.0",
          "state": {
            "_view_name": "LayoutView",
            "grid_template_rows": null,
            "right": null,
            "justify_content": null,
            "_view_module": "@jupyter-widgets/base",
            "overflow": null,
            "_model_module_version": "1.2.0",
            "_view_count": null,
            "flex_flow": null,
            "width": null,
            "min_width": null,
            "border": null,
            "align_items": null,
            "bottom": null,
            "_model_module": "@jupyter-widgets/base",
            "top": null,
            "grid_column": null,
            "overflow_y": null,
            "overflow_x": null,
            "grid_auto_flow": null,
            "grid_area": null,
            "grid_template_columns": null,
            "flex": null,
            "_model_name": "LayoutModel",
            "justify_items": null,
            "grid_row": null,
            "max_height": null,
            "align_content": null,
            "visibility": null,
            "align_self": null,
            "height": null,
            "min_height": null,
            "padding": null,
            "grid_auto_rows": null,
            "grid_gap": null,
            "max_width": null,
            "order": null,
            "_view_module_version": "1.2.0",
            "grid_template_areas": null,
            "object_position": null,
            "object_fit": null,
            "grid_auto_columns": null,
            "margin": null,
            "display": null,
            "left": null
          }
        },
        "04c27bff902e4227a5bb3a7c30465895": {
          "model_module": "@jupyter-widgets/controls",
          "model_name": "HBoxModel",
          "model_module_version": "1.5.0",
          "state": {
            "_view_name": "HBoxView",
            "_dom_classes": [],
            "_model_name": "HBoxModel",
            "_view_module": "@jupyter-widgets/controls",
            "_model_module_version": "1.5.0",
            "_view_count": null,
            "_view_module_version": "1.5.0",
            "box_style": "",
            "layout": "IPY_MODEL_958abd5e57ee4cebb78a6d6a2b0293fd",
            "_model_module": "@jupyter-widgets/controls",
            "children": [
              "IPY_MODEL_f1dd1d7d82b7444c83129ef094221249",
              "IPY_MODEL_6738e29f16db429faa1417c53cd6c79d",
              "IPY_MODEL_6e99438b9c2144ee96fcd15ca6b7cce6"
            ]
          }
        },
        "958abd5e57ee4cebb78a6d6a2b0293fd": {
          "model_module": "@jupyter-widgets/base",
          "model_name": "LayoutModel",
          "model_module_version": "1.2.0",
          "state": {
            "_view_name": "LayoutView",
            "grid_template_rows": null,
            "right": null,
            "justify_content": null,
            "_view_module": "@jupyter-widgets/base",
            "overflow": null,
            "_model_module_version": "1.2.0",
            "_view_count": null,
            "flex_flow": null,
            "width": null,
            "min_width": null,
            "border": null,
            "align_items": null,
            "bottom": null,
            "_model_module": "@jupyter-widgets/base",
            "top": null,
            "grid_column": null,
            "overflow_y": null,
            "overflow_x": null,
            "grid_auto_flow": null,
            "grid_area": null,
            "grid_template_columns": null,
            "flex": null,
            "_model_name": "LayoutModel",
            "justify_items": null,
            "grid_row": null,
            "max_height": null,
            "align_content": null,
            "visibility": null,
            "align_self": null,
            "height": null,
            "min_height": null,
            "padding": null,
            "grid_auto_rows": null,
            "grid_gap": null,
            "max_width": null,
            "order": null,
            "_view_module_version": "1.2.0",
            "grid_template_areas": null,
            "object_position": null,
            "object_fit": null,
            "grid_auto_columns": null,
            "margin": null,
            "display": null,
            "left": null
          }
        },
        "f1dd1d7d82b7444c83129ef094221249": {
          "model_module": "@jupyter-widgets/controls",
          "model_name": "HTMLModel",
          "model_module_version": "1.5.0",
          "state": {
            "_view_name": "HTMLView",
            "style": "IPY_MODEL_d828e53617f4472b943c8989f4bb64b0",
            "_dom_classes": [],
            "description": "",
            "_model_name": "HTMLModel",
            "placeholder": "​",
            "_view_module": "@jupyter-widgets/controls",
            "_model_module_version": "1.5.0",
            "value": "replaying log with TBR, completed variants :: 100%",
            "_view_count": null,
            "_view_module_version": "1.5.0",
            "description_tooltip": null,
            "_model_module": "@jupyter-widgets/controls",
            "layout": "IPY_MODEL_ae5ef34bb2ac45238a69c0fa8ee40d58"
          }
        },
        "6738e29f16db429faa1417c53cd6c79d": {
          "model_module": "@jupyter-widgets/controls",
          "model_name": "FloatProgressModel",
          "model_module_version": "1.5.0",
          "state": {
            "_view_name": "ProgressView",
            "style": "IPY_MODEL_43b8f36b887d480a816c9bef9ee7320e",
            "_dom_classes": [],
            "description": "",
            "_model_name": "FloatProgressModel",
            "bar_style": "success",
            "max": 15,
            "_view_module": "@jupyter-widgets/controls",
            "_model_module_version": "1.5.0",
            "value": 15,
            "_view_count": null,
            "_view_module_version": "1.5.0",
            "orientation": "horizontal",
            "min": 0,
            "description_tooltip": null,
            "_model_module": "@jupyter-widgets/controls",
            "layout": "IPY_MODEL_bcd0accca2f94916845f2dc8bdb48953"
          }
        },
        "6e99438b9c2144ee96fcd15ca6b7cce6": {
          "model_module": "@jupyter-widgets/controls",
          "model_name": "HTMLModel",
          "model_module_version": "1.5.0",
          "state": {
            "_view_name": "HTMLView",
            "style": "IPY_MODEL_3530b07c95e845d6b2dffdd9434213d3",
            "_dom_classes": [],
            "description": "",
            "_model_name": "HTMLModel",
            "placeholder": "​",
            "_view_module": "@jupyter-widgets/controls",
            "_model_module_version": "1.5.0",
            "value": " 15/15 [00:00&lt;00:00, 249.44it/s]",
            "_view_count": null,
            "_view_module_version": "1.5.0",
            "description_tooltip": null,
            "_model_module": "@jupyter-widgets/controls",
            "layout": "IPY_MODEL_9bc7b3b4519e477eaad48c9865da15ed"
          }
        },
        "d828e53617f4472b943c8989f4bb64b0": {
          "model_module": "@jupyter-widgets/controls",
          "model_name": "DescriptionStyleModel",
          "model_module_version": "1.5.0",
          "state": {
            "_view_name": "StyleView",
            "_model_name": "DescriptionStyleModel",
            "description_width": "",
            "_view_module": "@jupyter-widgets/base",
            "_model_module_version": "1.5.0",
            "_view_count": null,
            "_view_module_version": "1.2.0",
            "_model_module": "@jupyter-widgets/controls"
          }
        },
        "ae5ef34bb2ac45238a69c0fa8ee40d58": {
          "model_module": "@jupyter-widgets/base",
          "model_name": "LayoutModel",
          "model_module_version": "1.2.0",
          "state": {
            "_view_name": "LayoutView",
            "grid_template_rows": null,
            "right": null,
            "justify_content": null,
            "_view_module": "@jupyter-widgets/base",
            "overflow": null,
            "_model_module_version": "1.2.0",
            "_view_count": null,
            "flex_flow": null,
            "width": null,
            "min_width": null,
            "border": null,
            "align_items": null,
            "bottom": null,
            "_model_module": "@jupyter-widgets/base",
            "top": null,
            "grid_column": null,
            "overflow_y": null,
            "overflow_x": null,
            "grid_auto_flow": null,
            "grid_area": null,
            "grid_template_columns": null,
            "flex": null,
            "_model_name": "LayoutModel",
            "justify_items": null,
            "grid_row": null,
            "max_height": null,
            "align_content": null,
            "visibility": null,
            "align_self": null,
            "height": null,
            "min_height": null,
            "padding": null,
            "grid_auto_rows": null,
            "grid_gap": null,
            "max_width": null,
            "order": null,
            "_view_module_version": "1.2.0",
            "grid_template_areas": null,
            "object_position": null,
            "object_fit": null,
            "grid_auto_columns": null,
            "margin": null,
            "display": null,
            "left": null
          }
        },
        "43b8f36b887d480a816c9bef9ee7320e": {
          "model_module": "@jupyter-widgets/controls",
          "model_name": "ProgressStyleModel",
          "model_module_version": "1.5.0",
          "state": {
            "_view_name": "StyleView",
            "_model_name": "ProgressStyleModel",
            "description_width": "",
            "_view_module": "@jupyter-widgets/base",
            "_model_module_version": "1.5.0",
            "_view_count": null,
            "_view_module_version": "1.2.0",
            "bar_color": null,
            "_model_module": "@jupyter-widgets/controls"
          }
        },
        "bcd0accca2f94916845f2dc8bdb48953": {
          "model_module": "@jupyter-widgets/base",
          "model_name": "LayoutModel",
          "model_module_version": "1.2.0",
          "state": {
            "_view_name": "LayoutView",
            "grid_template_rows": null,
            "right": null,
            "justify_content": null,
            "_view_module": "@jupyter-widgets/base",
            "overflow": null,
            "_model_module_version": "1.2.0",
            "_view_count": null,
            "flex_flow": null,
            "width": null,
            "min_width": null,
            "border": null,
            "align_items": null,
            "bottom": null,
            "_model_module": "@jupyter-widgets/base",
            "top": null,
            "grid_column": null,
            "overflow_y": null,
            "overflow_x": null,
            "grid_auto_flow": null,
            "grid_area": null,
            "grid_template_columns": null,
            "flex": null,
            "_model_name": "LayoutModel",
            "justify_items": null,
            "grid_row": null,
            "max_height": null,
            "align_content": null,
            "visibility": null,
            "align_self": null,
            "height": null,
            "min_height": null,
            "padding": null,
            "grid_auto_rows": null,
            "grid_gap": null,
            "max_width": null,
            "order": null,
            "_view_module_version": "1.2.0",
            "grid_template_areas": null,
            "object_position": null,
            "object_fit": null,
            "grid_auto_columns": null,
            "margin": null,
            "display": null,
            "left": null
          }
        },
        "3530b07c95e845d6b2dffdd9434213d3": {
          "model_module": "@jupyter-widgets/controls",
          "model_name": "DescriptionStyleModel",
          "model_module_version": "1.5.0",
          "state": {
            "_view_name": "StyleView",
            "_model_name": "DescriptionStyleModel",
            "description_width": "",
            "_view_module": "@jupyter-widgets/base",
            "_model_module_version": "1.5.0",
            "_view_count": null,
            "_view_module_version": "1.2.0",
            "_model_module": "@jupyter-widgets/controls"
          }
        },
        "9bc7b3b4519e477eaad48c9865da15ed": {
          "model_module": "@jupyter-widgets/base",
          "model_name": "LayoutModel",
          "model_module_version": "1.2.0",
          "state": {
            "_view_name": "LayoutView",
            "grid_template_rows": null,
            "right": null,
            "justify_content": null,
            "_view_module": "@jupyter-widgets/base",
            "overflow": null,
            "_model_module_version": "1.2.0",
            "_view_count": null,
            "flex_flow": null,
            "width": null,
            "min_width": null,
            "border": null,
            "align_items": null,
            "bottom": null,
            "_model_module": "@jupyter-widgets/base",
            "top": null,
            "grid_column": null,
            "overflow_y": null,
            "overflow_x": null,
            "grid_auto_flow": null,
            "grid_area": null,
            "grid_template_columns": null,
            "flex": null,
            "_model_name": "LayoutModel",
            "justify_items": null,
            "grid_row": null,
            "max_height": null,
            "align_content": null,
            "visibility": null,
            "align_self": null,
            "height": null,
            "min_height": null,
            "padding": null,
            "grid_auto_rows": null,
            "grid_gap": null,
            "max_width": null,
            "order": null,
            "_view_module_version": "1.2.0",
            "grid_template_areas": null,
            "object_position": null,
            "object_fit": null,
            "grid_auto_columns": null,
            "margin": null,
            "display": null,
            "left": null
          }
        }
      }
    }
  },
  "cells": [
    {
      "cell_type": "markdown",
      "metadata": {
        "id": "view-in-github",
        "colab_type": "text"
      },
      "source": [
        "<a href=\"https://colab.research.google.com/github/kathuman/Python-Experiments/blob/main/220309_Process_Mining2_.ipynb\" target=\"_parent\"><img src=\"https://colab.research.google.com/assets/colab-badge.svg\" alt=\"Open In Colab\"/></a>"
      ]
    },
    {
      "cell_type": "code",
      "execution_count": 59,
      "metadata": {
        "id": "r-NmMVg27dn3"
      },
      "outputs": [],
      "source": [
        "# https://medium.com/@c3_62722/process-mining-with-python-tutorial-a-healthcare-application-part-2-4cf57053421f"
      ]
    },
    {
      "cell_type": "code",
      "source": [
        "# !pip install pm4py\n",
        "from pm4py.objects.conversion.log import converter as log_converter \n",
        "from pm4py.objects.log.importer.xes import importer as xes_importer"
      ],
      "metadata": {
        "id": "Lmq1Kv_qGLck"
      },
      "execution_count": 67,
      "outputs": []
    },
    {
      "cell_type": "markdown",
      "source": [
        "Preparing the Data"
      ],
      "metadata": {
        "id": "XKlZpfJrCW6p"
      }
    },
    {
      "cell_type": "code",
      "source": [
        "import requests\n",
        "from io import StringIO\n",
        "import pandas as pd\n",
        "\n",
        "url = \"https://gitlab.com/healthcare2/process-mining-tutorial/-/raw/master/ArtificialPatientTreatment.csv\"\n",
        "# Reading URL, decoding and converting it to pandas dataframe using read_csv\n",
        "eventlog = pd.read_csv(StringIO(requests.get(url).text), on_bad_lines='skip')\n",
        "# Printing the first 5 rows of the dataframe\n",
        "eventlog.head()"
      ],
      "metadata": {
        "colab": {
          "base_uri": "https://localhost:8080/",
          "height": 206
        },
        "id": "t7WjaQkg8O3m",
        "outputId": "5d373157-0415-4102-cd1b-543ffc62d395"
      },
      "execution_count": 69,
      "outputs": [
        {
          "output_type": "execute_result",
          "data": {
            "text/html": [
              "\n",
              "  <div id=\"df-3c5338de-22f7-46dc-afa5-8f4c31fa80d0\">\n",
              "    <div class=\"colab-df-container\">\n",
              "      <div>\n",
              "<style scoped>\n",
              "    .dataframe tbody tr th:only-of-type {\n",
              "        vertical-align: middle;\n",
              "    }\n",
              "\n",
              "    .dataframe tbody tr th {\n",
              "        vertical-align: top;\n",
              "    }\n",
              "\n",
              "    .dataframe thead th {\n",
              "        text-align: right;\n",
              "    }\n",
              "</style>\n",
              "<table border=\"1\" class=\"dataframe\">\n",
              "  <thead>\n",
              "    <tr style=\"text-align: right;\">\n",
              "      <th></th>\n",
              "      <th>patient</th>\n",
              "      <th>action</th>\n",
              "      <th>org:resource</th>\n",
              "      <th>DateTime</th>\n",
              "    </tr>\n",
              "  </thead>\n",
              "  <tbody>\n",
              "    <tr>\n",
              "      <th>0</th>\n",
              "      <td>patient 0</td>\n",
              "      <td>First consult</td>\n",
              "      <td>Dr. Anna</td>\n",
              "      <td>2017-01-02 11:40:11</td>\n",
              "    </tr>\n",
              "    <tr>\n",
              "      <th>1</th>\n",
              "      <td>patient 0</td>\n",
              "      <td>Blood test</td>\n",
              "      <td>Lab</td>\n",
              "      <td>2017-01-02 12:47:33</td>\n",
              "    </tr>\n",
              "    <tr>\n",
              "      <th>2</th>\n",
              "      <td>patient 0</td>\n",
              "      <td>Physical test</td>\n",
              "      <td>Nurse Jesse</td>\n",
              "      <td>2017-01-02 12:53:50</td>\n",
              "    </tr>\n",
              "    <tr>\n",
              "      <th>3</th>\n",
              "      <td>patient 0</td>\n",
              "      <td>Second consult</td>\n",
              "      <td>Dr. Anna</td>\n",
              "      <td>2017-01-02 16:21:06</td>\n",
              "    </tr>\n",
              "    <tr>\n",
              "      <th>4</th>\n",
              "      <td>patient 0</td>\n",
              "      <td>Surgery</td>\n",
              "      <td>Dr. Charlie</td>\n",
              "      <td>2017-01-05 13:23:09</td>\n",
              "    </tr>\n",
              "  </tbody>\n",
              "</table>\n",
              "</div>\n",
              "      <button class=\"colab-df-convert\" onclick=\"convertToInteractive('df-3c5338de-22f7-46dc-afa5-8f4c31fa80d0')\"\n",
              "              title=\"Convert this dataframe to an interactive table.\"\n",
              "              style=\"display:none;\">\n",
              "        \n",
              "  <svg xmlns=\"http://www.w3.org/2000/svg\" height=\"24px\"viewBox=\"0 0 24 24\"\n",
              "       width=\"24px\">\n",
              "    <path d=\"M0 0h24v24H0V0z\" fill=\"none\"/>\n",
              "    <path d=\"M18.56 5.44l.94 2.06.94-2.06 2.06-.94-2.06-.94-.94-2.06-.94 2.06-2.06.94zm-11 1L8.5 8.5l.94-2.06 2.06-.94-2.06-.94L8.5 2.5l-.94 2.06-2.06.94zm10 10l.94 2.06.94-2.06 2.06-.94-2.06-.94-.94-2.06-.94 2.06-2.06.94z\"/><path d=\"M17.41 7.96l-1.37-1.37c-.4-.4-.92-.59-1.43-.59-.52 0-1.04.2-1.43.59L10.3 9.45l-7.72 7.72c-.78.78-.78 2.05 0 2.83L4 21.41c.39.39.9.59 1.41.59.51 0 1.02-.2 1.41-.59l7.78-7.78 2.81-2.81c.8-.78.8-2.07 0-2.86zM5.41 20L4 18.59l7.72-7.72 1.47 1.35L5.41 20z\"/>\n",
              "  </svg>\n",
              "      </button>\n",
              "      \n",
              "  <style>\n",
              "    .colab-df-container {\n",
              "      display:flex;\n",
              "      flex-wrap:wrap;\n",
              "      gap: 12px;\n",
              "    }\n",
              "\n",
              "    .colab-df-convert {\n",
              "      background-color: #E8F0FE;\n",
              "      border: none;\n",
              "      border-radius: 50%;\n",
              "      cursor: pointer;\n",
              "      display: none;\n",
              "      fill: #1967D2;\n",
              "      height: 32px;\n",
              "      padding: 0 0 0 0;\n",
              "      width: 32px;\n",
              "    }\n",
              "\n",
              "    .colab-df-convert:hover {\n",
              "      background-color: #E2EBFA;\n",
              "      box-shadow: 0px 1px 2px rgba(60, 64, 67, 0.3), 0px 1px 3px 1px rgba(60, 64, 67, 0.15);\n",
              "      fill: #174EA6;\n",
              "    }\n",
              "\n",
              "    [theme=dark] .colab-df-convert {\n",
              "      background-color: #3B4455;\n",
              "      fill: #D2E3FC;\n",
              "    }\n",
              "\n",
              "    [theme=dark] .colab-df-convert:hover {\n",
              "      background-color: #434B5C;\n",
              "      box-shadow: 0px 1px 3px 1px rgba(0, 0, 0, 0.15);\n",
              "      filter: drop-shadow(0px 1px 2px rgba(0, 0, 0, 0.3));\n",
              "      fill: #FFFFFF;\n",
              "    }\n",
              "  </style>\n",
              "\n",
              "      <script>\n",
              "        const buttonEl =\n",
              "          document.querySelector('#df-3c5338de-22f7-46dc-afa5-8f4c31fa80d0 button.colab-df-convert');\n",
              "        buttonEl.style.display =\n",
              "          google.colab.kernel.accessAllowed ? 'block' : 'none';\n",
              "\n",
              "        async function convertToInteractive(key) {\n",
              "          const element = document.querySelector('#df-3c5338de-22f7-46dc-afa5-8f4c31fa80d0');\n",
              "          const dataTable =\n",
              "            await google.colab.kernel.invokeFunction('convertToInteractive',\n",
              "                                                     [key], {});\n",
              "          if (!dataTable) return;\n",
              "\n",
              "          const docLinkHtml = 'Like what you see? Visit the ' +\n",
              "            '<a target=\"_blank\" href=https://colab.research.google.com/notebooks/data_table.ipynb>data table notebook</a>'\n",
              "            + ' to learn more about interactive tables.';\n",
              "          element.innerHTML = '';\n",
              "          dataTable['output_type'] = 'display_data';\n",
              "          await google.colab.output.renderOutput(dataTable, element);\n",
              "          const docLink = document.createElement('div');\n",
              "          docLink.innerHTML = docLinkHtml;\n",
              "          element.appendChild(docLink);\n",
              "        }\n",
              "      </script>\n",
              "    </div>\n",
              "  </div>\n",
              "  "
            ],
            "text/plain": [
              "     patient           action  org:resource              DateTime\n",
              "0  patient 0    First consult      Dr. Anna   2017-01-02 11:40:11\n",
              "1  patient 0       Blood test           Lab   2017-01-02 12:47:33\n",
              "2  patient 0    Physical test   Nurse Jesse   2017-01-02 12:53:50\n",
              "3  patient 0   Second consult      Dr. Anna   2017-01-02 16:21:06\n",
              "4  patient 0          Surgery   Dr. Charlie   2017-01-05 13:23:09"
            ]
          },
          "metadata": {},
          "execution_count": 69
        }
      ]
    },
    {
      "cell_type": "code",
      "source": [
        "eventlog.rename(columns={' DateTime': 'time:timestamp', \n",
        "'patient': 'case:concept:name', ' action': 'concept:name', ' org:resource': 'org:resource'}, inplace=True)\n",
        "eventlog['time:timestamp']= pd.to_datetime(eventlog['time:timestamp'])\n",
        "eventlog.head()"
      ],
      "metadata": {
        "colab": {
          "base_uri": "https://localhost:8080/",
          "height": 206
        },
        "id": "qXGjLv6VGj3M",
        "outputId": "47ed9530-bf2d-4ce3-975a-3069809d7186"
      },
      "execution_count": 78,
      "outputs": [
        {
          "output_type": "execute_result",
          "data": {
            "text/html": [
              "\n",
              "  <div id=\"df-dd5e395f-70ca-4a6e-8b13-dc1d03e3d846\">\n",
              "    <div class=\"colab-df-container\">\n",
              "      <div>\n",
              "<style scoped>\n",
              "    .dataframe tbody tr th:only-of-type {\n",
              "        vertical-align: middle;\n",
              "    }\n",
              "\n",
              "    .dataframe tbody tr th {\n",
              "        vertical-align: top;\n",
              "    }\n",
              "\n",
              "    .dataframe thead th {\n",
              "        text-align: right;\n",
              "    }\n",
              "</style>\n",
              "<table border=\"1\" class=\"dataframe\">\n",
              "  <thead>\n",
              "    <tr style=\"text-align: right;\">\n",
              "      <th></th>\n",
              "      <th>case:concept:name</th>\n",
              "      <th>concept:name</th>\n",
              "      <th>org:resource</th>\n",
              "      <th>time:timestamp</th>\n",
              "    </tr>\n",
              "  </thead>\n",
              "  <tbody>\n",
              "    <tr>\n",
              "      <th>0</th>\n",
              "      <td>patient 0</td>\n",
              "      <td>First consult</td>\n",
              "      <td>Dr. Anna</td>\n",
              "      <td>2017-01-02 11:40:11</td>\n",
              "    </tr>\n",
              "    <tr>\n",
              "      <th>1</th>\n",
              "      <td>patient 0</td>\n",
              "      <td>Blood test</td>\n",
              "      <td>Lab</td>\n",
              "      <td>2017-01-02 12:47:33</td>\n",
              "    </tr>\n",
              "    <tr>\n",
              "      <th>2</th>\n",
              "      <td>patient 0</td>\n",
              "      <td>Physical test</td>\n",
              "      <td>Nurse Jesse</td>\n",
              "      <td>2017-01-02 12:53:50</td>\n",
              "    </tr>\n",
              "    <tr>\n",
              "      <th>3</th>\n",
              "      <td>patient 0</td>\n",
              "      <td>Second consult</td>\n",
              "      <td>Dr. Anna</td>\n",
              "      <td>2017-01-02 16:21:06</td>\n",
              "    </tr>\n",
              "    <tr>\n",
              "      <th>4</th>\n",
              "      <td>patient 0</td>\n",
              "      <td>Surgery</td>\n",
              "      <td>Dr. Charlie</td>\n",
              "      <td>2017-01-05 13:23:09</td>\n",
              "    </tr>\n",
              "  </tbody>\n",
              "</table>\n",
              "</div>\n",
              "      <button class=\"colab-df-convert\" onclick=\"convertToInteractive('df-dd5e395f-70ca-4a6e-8b13-dc1d03e3d846')\"\n",
              "              title=\"Convert this dataframe to an interactive table.\"\n",
              "              style=\"display:none;\">\n",
              "        \n",
              "  <svg xmlns=\"http://www.w3.org/2000/svg\" height=\"24px\"viewBox=\"0 0 24 24\"\n",
              "       width=\"24px\">\n",
              "    <path d=\"M0 0h24v24H0V0z\" fill=\"none\"/>\n",
              "    <path d=\"M18.56 5.44l.94 2.06.94-2.06 2.06-.94-2.06-.94-.94-2.06-.94 2.06-2.06.94zm-11 1L8.5 8.5l.94-2.06 2.06-.94-2.06-.94L8.5 2.5l-.94 2.06-2.06.94zm10 10l.94 2.06.94-2.06 2.06-.94-2.06-.94-.94-2.06-.94 2.06-2.06.94z\"/><path d=\"M17.41 7.96l-1.37-1.37c-.4-.4-.92-.59-1.43-.59-.52 0-1.04.2-1.43.59L10.3 9.45l-7.72 7.72c-.78.78-.78 2.05 0 2.83L4 21.41c.39.39.9.59 1.41.59.51 0 1.02-.2 1.41-.59l7.78-7.78 2.81-2.81c.8-.78.8-2.07 0-2.86zM5.41 20L4 18.59l7.72-7.72 1.47 1.35L5.41 20z\"/>\n",
              "  </svg>\n",
              "      </button>\n",
              "      \n",
              "  <style>\n",
              "    .colab-df-container {\n",
              "      display:flex;\n",
              "      flex-wrap:wrap;\n",
              "      gap: 12px;\n",
              "    }\n",
              "\n",
              "    .colab-df-convert {\n",
              "      background-color: #E8F0FE;\n",
              "      border: none;\n",
              "      border-radius: 50%;\n",
              "      cursor: pointer;\n",
              "      display: none;\n",
              "      fill: #1967D2;\n",
              "      height: 32px;\n",
              "      padding: 0 0 0 0;\n",
              "      width: 32px;\n",
              "    }\n",
              "\n",
              "    .colab-df-convert:hover {\n",
              "      background-color: #E2EBFA;\n",
              "      box-shadow: 0px 1px 2px rgba(60, 64, 67, 0.3), 0px 1px 3px 1px rgba(60, 64, 67, 0.15);\n",
              "      fill: #174EA6;\n",
              "    }\n",
              "\n",
              "    [theme=dark] .colab-df-convert {\n",
              "      background-color: #3B4455;\n",
              "      fill: #D2E3FC;\n",
              "    }\n",
              "\n",
              "    [theme=dark] .colab-df-convert:hover {\n",
              "      background-color: #434B5C;\n",
              "      box-shadow: 0px 1px 3px 1px rgba(0, 0, 0, 0.15);\n",
              "      filter: drop-shadow(0px 1px 2px rgba(0, 0, 0, 0.3));\n",
              "      fill: #FFFFFF;\n",
              "    }\n",
              "  </style>\n",
              "\n",
              "      <script>\n",
              "        const buttonEl =\n",
              "          document.querySelector('#df-dd5e395f-70ca-4a6e-8b13-dc1d03e3d846 button.colab-df-convert');\n",
              "        buttonEl.style.display =\n",
              "          google.colab.kernel.accessAllowed ? 'block' : 'none';\n",
              "\n",
              "        async function convertToInteractive(key) {\n",
              "          const element = document.querySelector('#df-dd5e395f-70ca-4a6e-8b13-dc1d03e3d846');\n",
              "          const dataTable =\n",
              "            await google.colab.kernel.invokeFunction('convertToInteractive',\n",
              "                                                     [key], {});\n",
              "          if (!dataTable) return;\n",
              "\n",
              "          const docLinkHtml = 'Like what you see? Visit the ' +\n",
              "            '<a target=\"_blank\" href=https://colab.research.google.com/notebooks/data_table.ipynb>data table notebook</a>'\n",
              "            + ' to learn more about interactive tables.';\n",
              "          element.innerHTML = '';\n",
              "          dataTable['output_type'] = 'display_data';\n",
              "          await google.colab.output.renderOutput(dataTable, element);\n",
              "          const docLink = document.createElement('div');\n",
              "          docLink.innerHTML = docLinkHtml;\n",
              "          element.appendChild(docLink);\n",
              "        }\n",
              "      </script>\n",
              "    </div>\n",
              "  </div>\n",
              "  "
            ],
            "text/plain": [
              "  case:concept:name     concept:name  org:resource      time:timestamp\n",
              "0         patient 0    First consult      Dr. Anna 2017-01-02 11:40:11\n",
              "1         patient 0       Blood test           Lab 2017-01-02 12:47:33\n",
              "2         patient 0    Physical test   Nurse Jesse 2017-01-02 12:53:50\n",
              "3         patient 0   Second consult      Dr. Anna 2017-01-02 16:21:06\n",
              "4         patient 0          Surgery   Dr. Charlie 2017-01-05 13:23:09"
            ]
          },
          "metadata": {},
          "execution_count": 78
        }
      ]
    },
    {
      "cell_type": "code",
      "source": [
        "events.columns"
      ],
      "metadata": {
        "colab": {
          "base_uri": "https://localhost:8080/"
        },
        "id": "gu7ChZm3-z6b",
        "outputId": "94460de1-fc00-4e7f-b75a-6502e51c76c7"
      },
      "execution_count": 79,
      "outputs": [
        {
          "output_type": "execute_result",
          "data": {
            "text/plain": [
              "Index(['patient', ' action', ' org:resource', ' DateTime', 'caseend',\n",
              "       'casestart'],\n",
              "      dtype='object')"
            ]
          },
          "metadata": {},
          "execution_count": 79
        }
      ]
    },
    {
      "cell_type": "code",
      "source": [
        "## Convert to log format \n",
        "log = log_converter.apply(eventlog)"
      ],
      "metadata": {
        "id": "B_H0NUA4G2N9"
      },
      "execution_count": 80,
      "outputs": []
    },
    {
      "cell_type": "markdown",
      "source": [
        "Process Discovery with Alpha Miner"
      ],
      "metadata": {
        "id": "kTBZc69vG7XM"
      }
    },
    {
      "cell_type": "code",
      "source": [
        "## Import the alpha_miner algorithm\n",
        "from pm4py.algo.discovery.alpha import algorithm as alpha_miner\n",
        "net, initial_marking, final_marking = alpha_miner.apply(log)"
      ],
      "metadata": {
        "id": "L6MOAQunG5dy"
      },
      "execution_count": 81,
      "outputs": []
    },
    {
      "cell_type": "code",
      "source": [
        "## Import the petrinet visualizer object\n",
        "from pm4py.visualization.petrinet import visualizer as pn_visualizer\n",
        "# Visualise \n",
        "gviz = pn_visualizer.apply(net, initial_marking, final_marking) \n",
        "pn_visualizer.view(gviz)"
      ],
      "metadata": {
        "colab": {
          "base_uri": "https://localhost:8080/",
          "height": 327
        },
        "id": "x9BJ8iiYHEN3",
        "outputId": "4971cec5-3056-4fdd-c331-656cc363e61c"
      },
      "execution_count": 82,
      "outputs": [
        {
          "output_type": "stream",
          "name": "stderr",
          "text": [
            "/usr/local/lib/python3.7/dist-packages/ipykernel_launcher.py:4: DeprecatedWarning: apply is deprecated as of 2.2.5 and will be removed in 3.0.0. please use pm4py.visualization.petri_net.algorithm instead\n",
            "  after removing the cwd from sys.path.\n"
          ]
        },
        {
          "output_type": "display_data",
          "data": {
            "image/png": "[encoded data removed]",
            "text/plain": [
              "<IPython.core.display.Image object>"
            ]
          },
          "metadata": {}
        }
      ]
    },
    {
      "cell_type": "code",
      "source": [
        "parameters = {pn_visualizer.Variants.FREQUENCY.value.Parameters.FORMAT: \"png\"}\n",
        "gviz = pn_visualizer.apply(net, initial_marking, final_marking, parameters=parameters, variant=pn_visualizer.Variants.FREQUENCY, log=log)\n",
        "pn_visualizer.view(gviz)"
      ],
      "metadata": {
        "colab": {
          "base_uri": "https://localhost:8080/",
          "height": 379,
          "referenced_widgets": [
            "c0cd9474bb4046b39b3332b63563ef9b",
            "ae52c1e23bb8444a8951caccefea72d2",
            "7cfc9f91c77349daba39d7d25849fb3f",
            "199d834c7a684a9fa18268647df42a23",
            "931d6676dedd4c66bda1a812f16d47a3",
            "22264134c8f3486e91a0e5fb153cb590",
            "7751a4df7d9c44f19b0577bd3450b2a8",
            "42338cb0f3054b0cb1c4bbcd65808c15",
            "2ad0d8405aa842cdb9d4cb938091e2f1",
            "ad8523378947464986fae78611ebdc8d",
            "9c975613e204448eb7b16085a85293d2"
          ]
        },
        "id": "hyJ8oF2THTJT",
        "outputId": "a5423229-4749-49d0-dac8-856719cb1022"
      },
      "execution_count": 83,
      "outputs": [
        {
          "output_type": "stream",
          "name": "stderr",
          "text": [
            "/usr/local/lib/python3.7/dist-packages/ipykernel_launcher.py:2: DeprecatedWarning: apply is deprecated as of 2.2.5 and will be removed in 3.0.0. please use pm4py.visualization.petri_net.algorithm instead\n",
            "  \n"
          ]
        },
        {
          "output_type": "display_data",
          "data": {
            "application/vnd.jupyter.widget-view+json": {
              "model_id": "c0cd9474bb4046b39b3332b63563ef9b",
              "version_minor": 0,
              "version_major": 2
            },
            "text/plain": [
              "replaying log with TBR, completed variants ::   0%|          | 0/15 [00:00<?, ?it/s]"
            ]
          },
          "metadata": {}
        },
        {
          "output_type": "display_data",
          "data": {
            "image/png": "[encoded data removed]",
            "text/plain": [
              "<IPython.core.display.Image object>"
            ]
          },
          "metadata": {}
        }
      ]
    },
    {
      "cell_type": "markdown",
      "source": [
        "Use the Heuristic Miner"
      ],
      "metadata": {
        "id": "0LnsX6U6If9b"
      }
    },
    {
      "cell_type": "code",
      "source": [
        "## Import heuristics miner algorithm\n",
        "from pm4py.algo.discovery.heuristics import algorithm as heuristics_miner"
      ],
      "metadata": {
        "id": "CbD5HUgtIeYH"
      },
      "execution_count": 84,
      "outputs": []
    },
    {
      "cell_type": "code",
      "source": [
        "# Import the heuristics net visualisation object\n",
        "from pm4py.visualization.heuristics_net import visualizer as hn_visualizer\n",
        "\n",
        "# heuristics miner\n",
        "heu_net = heuristics_miner.apply_heu(log)\n",
        "\n",
        "# Visualise model\n",
        "gviz = hn_visualizer.apply(heu_net)\n",
        "hn_visualizer.view(gviz)"
      ],
      "metadata": {
        "colab": {
          "base_uri": "https://localhost:8080/",
          "height": 772
        },
        "id": "q-0LxhpWImGp",
        "outputId": "8c86dd33-1988-42dc-f4b3-bab89fbe8452"
      },
      "execution_count": 86,
      "outputs": [
        {
          "output_type": "display_data",
          "data": {
            "image/png": "[encoded data removed]",
            "text/plain": [
              "<IPython.core.display.Image object>"
            ]
          },
          "metadata": {}
        }
      ]
    },
    {
      "cell_type": "code",
      "source": [
        "# heuristics miner algorithm returning model, initial marking and\n",
        "# final marking\n",
        "net, im, fm = heuristics_miner.apply(log)\n",
        "# Petri net visualisation\n",
        "gviz = pn_visualizer.apply(net, im,fm, variant=pn_visualizer.Variants.FREQUENCY, log=log)\n",
        "pn_visualizer.view(gviz)"
      ],
      "metadata": {
        "colab": {
          "base_uri": "https://localhost:8080/",
          "height": 349,
          "referenced_widgets": [
            "d9d5dcc727fa4332a3ac3f49c4e5b537",
            "c2cee71d50014354bab67c6af45e0769",
            "147d0eba71ee4538a8d5fc98db33a863",
            "1faffd1c5f624afa89bae50f670d9946",
            "8f7a30318c4b44c4842a24eaa3da9654",
            "899b5b02df5c47c28b8f6af518c71ae2",
            "6373ecc67a134a4cbd5f11103ac83203",
            "25fa73bc2af241f88163582c27a02c0e",
            "225e806acef24aae8e531e43f79ba8b4",
            "925a3b406a03442c95ead07966ebfbd6",
            "1ad8a481d37e400c83ea2b17a7b06de5"
          ]
        },
        "id": "9B_KU5i-I8M_",
        "outputId": "55a47e81-f546-4931-8929-3842dfd63cb8"
      },
      "execution_count": 94,
      "outputs": [
        {
          "output_type": "stream",
          "name": "stderr",
          "text": [
            "/usr/local/lib/python3.7/dist-packages/ipykernel_launcher.py:5: DeprecatedWarning: apply is deprecated as of 2.2.5 and will be removed in 3.0.0. please use pm4py.visualization.petri_net.algorithm instead\n",
            "  \"\"\"\n"
          ]
        },
        {
          "output_type": "display_data",
          "data": {
            "application/vnd.jupyter.widget-view+json": {
              "model_id": "d9d5dcc727fa4332a3ac3f49c4e5b537",
              "version_minor": 0,
              "version_major": 2
            },
            "text/plain": [
              "replaying log with TBR, completed variants ::   0%|          | 0/15 [00:00<?, ?it/s]"
            ]
          },
          "metadata": {}
        },
        {
          "output_type": "display_data",
          "data": {
            "image/png": "[encoded data removed]",
            "text/plain": [
              "<IPython.core.display.Image object>"
            ]
          },
          "metadata": {}
        }
      ]
    },
    {
      "cell_type": "markdown",
      "source": [
        "Unisng the Inductive Miner (Discovery in a Tree Form)"
      ],
      "metadata": {
        "id": "S_GsVxjNJJ9s"
      }
    },
    {
      "cell_type": "code",
      "source": [
        "from pm4py.algo.discovery.inductive import algorithm as inductive_miner\n",
        "# Discover process tree using inductive miner\n",
        "tree = inductive_miner.apply_tree(log)"
      ],
      "metadata": {
        "id": "nx4jcTH0JJX5"
      },
      "execution_count": 88,
      "outputs": []
    },
    {
      "cell_type": "code",
      "source": [
        "from pm4py.visualization.process_tree import visualizer as pt_visualizer\n",
        "# Visualise the tree\n",
        "gviz = pt_visualizer.apply(tree)\n",
        "pt_visualizer.view(gviz)"
      ],
      "metadata": {
        "colab": {
          "base_uri": "https://localhost:8080/",
          "height": 364
        },
        "id": "vUYjdnqlJWjK",
        "outputId": "2aa6f5ca-6c76-4ffa-f783-1c3641d76aba"
      },
      "execution_count": 89,
      "outputs": [
        {
          "output_type": "display_data",
          "data": {
            "image/png": "[encoded data removed]",
            "text/plain": [
              "<IPython.core.display.Image object>"
            ]
          },
          "metadata": {}
        }
      ]
    },
    {
      "cell_type": "code",
      "source": [
        "## Either discover the petri net using inductive miner\n",
        "net, initial_marking, final_marking = inductive_miner.apply(log)\n",
        "## Then visualise\n",
        "gviz = pn_visualizer.apply(net, initial_marking, final_marking, variant=pn_visualizer.Variants.FREQUENCY, log=log)\n",
        "pn_visualizer.view(gviz)"
      ],
      "metadata": {
        "colab": {
          "base_uri": "https://localhost:8080/",
          "height": 389,
          "referenced_widgets": [
            "6c247f5bdb7c479cb389a54259b5b5fc",
            "973037e5946b4da8bec6bcd96f6b47de",
            "0f5659e7fe1f4ef9b53829446d25538a",
            "18345e8a81f04f638236e7ac773cac03",
            "8dede9b30b8949cfa65e56703b90eedf",
            "d7d35e2799fa426a8149102d9bfae87a",
            "ec82a10e8edd4f86b457ec8f398c646c",
            "fab799f788334142af1a86feb0b61e6f",
            "9e7242aa854f42f28eb6c34085678a6e",
            "4d9175e8b94d40528d66a4374993cec1",
            "a5bba6106a2549aa9e02b295d4c7392d"
          ]
        },
        "id": "hV2LJ0Y1JdWL",
        "outputId": "fc189643-ee2b-4115-f487-93853be8c7db"
      },
      "execution_count": 91,
      "outputs": [
        {
          "output_type": "stream",
          "name": "stderr",
          "text": [
            "/usr/local/lib/python3.7/dist-packages/ipykernel_launcher.py:4: DeprecatedWarning: apply is deprecated as of 2.2.5 and will be removed in 3.0.0. please use pm4py.visualization.petri_net.algorithm instead\n",
            "  after removing the cwd from sys.path.\n"
          ]
        },
        {
          "output_type": "display_data",
          "data": {
            "application/vnd.jupyter.widget-view+json": {
              "model_id": "6c247f5bdb7c479cb389a54259b5b5fc",
              "version_minor": 0,
              "version_major": 2
            },
            "text/plain": [
              "replaying log with TBR, completed variants ::   0%|          | 0/15 [00:00<?, ?it/s]"
            ]
          },
          "metadata": {}
        },
        {
          "output_type": "display_data",
          "data": {
            "image/png": "[encoded data removed]",
            "text/plain": [
              "<IPython.core.display.Image object>"
            ]
          },
          "metadata": {}
        }
      ]
    },
    {
      "cell_type": "markdown",
      "source": [
        "Comparing Models with the directly-follows grapoh (DFG)"
      ],
      "metadata": {
        "id": "OCAjXujKKNLk"
      }
    },
    {
      "cell_type": "code",
      "source": [
        "## Import the dfg_discovery algorithm\n",
        "from pm4py.algo.discovery.dfg import algorithm as dfg_discovery\n",
        "## Import the dfg visualization object\n",
        "from pm4py.visualization.dfg import visualizer as dfg_visualization\n",
        "#Create graph from log\n",
        "dfg = dfg_discovery.apply(log)\n",
        "# Visualise\n",
        "gviz = dfg_visualization.apply(dfg, log=log, variant=dfg_visualization.Variants.FREQUENCY)\n",
        "dfg_visualization.view(gviz)"
      ],
      "metadata": {
        "colab": {
          "base_uri": "https://localhost:8080/",
          "height": 756
        },
        "id": "24WFZCnrKMV7",
        "outputId": "22fc430c-08cb-42a9-8edc-dd4c1e3b7f30"
      },
      "execution_count": 95,
      "outputs": [
        {
          "output_type": "display_data",
          "data": {
            "image/png": "[encoded data removed]",
            "text/plain": [
              "<IPython.core.display.Image object>"
            ]
          },
          "metadata": {}
        }
      ]
    },
    {
      "cell_type": "markdown",
      "source": [
        "Analysis applied to Healthcare"
      ],
      "metadata": {
        "id": "qn7L1ga1K6T4"
      }
    },
    {
      "cell_type": "code",
      "source": [
        "from pm4py.objects.petri import performance_map\n",
        "traces = performance_map.get_transition_performance_with_token_replay(log, net, initial_marking, final_marking)"
      ],
      "metadata": {
        "colab": {
          "base_uri": "https://localhost:8080/",
          "height": 188,
          "referenced_widgets": [
            "04c27bff902e4227a5bb3a7c30465895",
            "958abd5e57ee4cebb78a6d6a2b0293fd",
            "f1dd1d7d82b7444c83129ef094221249",
            "6738e29f16db429faa1417c53cd6c79d",
            "6e99438b9c2144ee96fcd15ca6b7cce6",
            "d828e53617f4472b943c8989f4bb64b0",
            "ae5ef34bb2ac45238a69c0fa8ee40d58",
            "43b8f36b887d480a816c9bef9ee7320e",
            "bcd0accca2f94916845f2dc8bdb48953",
            "3530b07c95e845d6b2dffdd9434213d3",
            "9bc7b3b4519e477eaad48c9865da15ed"
          ]
        },
        "id": "LYyZ377mK5vT",
        "outputId": "d0e29f6d-c060-4799-8ac1-def2302c097e"
      },
      "execution_count": 96,
      "outputs": [
        {
          "output_type": "stream",
          "name": "stderr",
          "text": [
            "/usr/local/lib/python3.7/dist-packages/pm4py/objects/petri/__init__.py:19: UserWarning: please use the pm4py.objects.petri_net package instead.\n",
            "  warnings.warn('please use the pm4py.objects.petri_net package instead.')\n",
            "/usr/local/lib/python3.7/dist-packages/pm4py/objects/petri/obj.py:19: UserWarning: pm4py.objects.petri.obj is deprecated. Please use the class pm4py.objects.petri_net.obj instead.\n",
            "  warnings.warn(\"pm4py.objects.petri.obj is deprecated. Please use the class pm4py.objects.petri_net.obj instead.\")\n",
            "/usr/local/lib/python3.7/dist-packages/pm4py/objects/petri/exporter/__init__.py:21: UserWarning: please use the pm4py.objects.petri_net.exporter package instead.\n",
            "  warnings.warn('please use the pm4py.objects.petri_net.exporter package instead.')\n",
            "/usr/local/lib/python3.7/dist-packages/pm4py/objects/petri/importer/__init__.py:21: UserWarning: please use the pm4py.objects.petri_net.importer package instead.\n",
            "  warnings.warn('please use the pm4py.objects.petri_net.importer package instead.')\n"
          ]
        },
        {
          "output_type": "display_data",
          "data": {
            "application/vnd.jupyter.widget-view+json": {
              "model_id": "04c27bff902e4227a5bb3a7c30465895",
              "version_minor": 0,
              "version_major": 2
            },
            "text/plain": [
              "replaying log with TBR, completed variants ::   0%|          | 0/15 [00:00<?, ?it/s]"
            ]
          },
          "metadata": {}
        }
      ]
    },
    {
      "cell_type": "code",
      "source": [
        "print(traces)"
      ],
      "metadata": {
        "colab": {
          "base_uri": "https://localhost:8080/"
        },
        "id": "OS-PPkzKLNbm",
        "outputId": "446ea514-77d0-4786-a1c5-f00ec22eca67"
      },
      "execution_count": 97,
      "outputs": [
        {
          "output_type": "stream",
          "name": "stdout",
          "text": [
            "{\"( Physical test, ' Physical test')\": {'all_values': [1324.0, 3728.0, 3786.0, 4119.0, 4419.0, 4549.0, 5284.0, 8224.0, 8966.0, 11978.0, 13665.0, 15135.0, 19270.0, 22756.0, 55185.0, 62407.0, 62940.0, 70371.0, 72111.0, 72732.0, 76227.0, 76535.0, 76990.0, 79574.0, 79787.0, 79824.0, 83889.0, 84127.0, 86790.0, 86915.0, 87789.0, 87882.0, 87934.0, 87965.0, 89945.0, 90478.0, 90843.0, 91653.0, 92013.0, 94050.0, 95249.0, 96921.0, 98018.0, 98172.0, 101388.0, 101836.0, 105553.0, 106128.0, 109250.0, 112528.0, 148057.0, 154925.0, 155327.0, 159333.0, 162912.0, 167121.0, 169332.0, 170112.0, 172510.0, 234955.0, 236486.0, 239344.0, 249188.0, 256764.0, 258750.0, 274061.0, 274969.0, 277517.0, 280843.0, 282508.0, 324082.0, 325222.0, 327893.0, 328926.0, 336947.0, 338382.0, 339286.0, 339364.0, 342359.0, 345644.0, 349303.0, 354594.0, 356208.0, 368416.0, 419331.0, 438032.0, 505680.0, 507184.0, 507266.0, 512865.0, 518387.0, 525454.0, 528833.0, 531654.0, 583384.0, 584659.0, 591554.0, 596840.0, 598090.0, 604693.0], 'case_association': {0: [4419.0], 95: [19270.0], 1: [4119.0], 10: [84127.0], 16: [76990.0], 45: [72732.0], 46: [83889.0], 67: [339364.0], 73: [324082.0], 74: [162912.0], 85: [239344.0], 90: [155327.0], 2: [169332.0], 7: [62407.0], 17: [274969.0], 49: [106128.0], 56: [4549.0], 65: [55185.0], 68: [87965.0], 86: [3786.0], 88: [327893.0], 92: [154925.0], 93: [72111.0], 3: [505680.0], 12: [277517.0], 14: [172510.0], 19: [258750.0], 38: [280843.0], 39: [98172.0], 43: [325222.0], 50: [512865.0], 54: [92013.0], 57: [282508.0], 60: [109250.0], 72: [598090.0], 76: [13665.0], 77: [438032.0], 79: [525454.0], 81: [87934.0], 84: [507266.0], 99: [604693.0], 4: [90843.0], 20: [76227.0], 22: [98018.0], 24: [159333.0], 28: [236486.0], 30: [79787.0], 34: [105553.0], 44: [8966.0], 51: [86915.0], 55: [90478.0], 66: [112528.0], 75: [91653.0], 91: [5284.0], 96: [101836.0], 5: [22756.0], 36: [15135.0], 78: [328926.0], 6: [1324.0], 11: [8224.0], 33: [234955.0], 40: [87789.0], 8: [356208.0], 18: [96921.0], 32: [70371.0], 37: [596840.0], 48: [249188.0], 59: [256764.0], 70: [349303.0], 71: [338382.0], 89: [368416.0], 9: [342359.0], 27: [274061.0], 13: [167121.0], 26: [354594.0], 31: [89945.0], 41: [170112.0], 53: [345644.0], 58: [591554.0], 61: [339286.0], 63: [419331.0], 69: [507184.0], 80: [518387.0], 82: [87882.0], 97: [101388.0], 15: [11978.0], 25: [79824.0], 52: [94050.0], 21: [336947.0], 23: [86790.0], 47: [528833.0], 83: [584659.0], 29: [148057.0], 35: [62940.0], 42: [79574.0], 62: [583384.0], 98: [531654.0], 64: [76535.0], 87: [95249.0], 94: [3728.0]}, 'mean': 209147.48, 'median': 130292.5}, \"( X-ray scan, ' X-ray scan')\": {'all_values': [11561.0, 12475.0, 23208.0, 26923.0, 65049.0, 75859.0, 79542.0, 79641.0, 80265.0, 86704.0, 87398.0, 87963.0, 88179.0, 91250.0, 92362.0, 93252.0, 94263.0, 102558.0, 108471.0, 108490.0, 116702.0, 140497.0, 145510.0, 159933.0, 160054.0, 163103.0, 163195.0, 165058.0, 169601.0, 177056.0, 180347.0, 184382.0, 188386.0, 242091.0, 246263.0, 252813.0, 253064.0, 257395.0, 274510.0, 275078.0, 278446.0, 278921.0, 329747.0, 331986.0, 332585.0, 334888.0, 335929.0, 343031.0, 343793.0, 345826.0, 349407.0, 352931.0, 353000.0, 361275.0, 364012.0, 365361.0, 406926.0, 408396.0, 418023.0, 418362.0, 428533.0, 428904.0, 433214.0, 435739.0, 489675.0, 493209.0, 500543.0, 501941.0, 504086.0, 504435.0, 509366.0, 511378.0, 511737.0, 516514.0, 519643.0, 522342.0, 523072.0, 523332.0, 523392.0, 523434.0, 523786.0, 526183.0, 529342.0, 537564.0, 581212.0, 587118.0, 595685.0, 597882.0, 598349.0, 601576.0], 'case_association': {1: [332585.0], 10: [523786.0], 16: [500543.0], 45: [523392.0], 46: [435739.0], 67: [361275.0], 73: [418362.0], 74: [345826.0], 85: [428904.0], 90: [159933.0], 2: [511378.0], 7: [408396.0], 17: [519643.0], 49: [252813.0], 56: [102558.0], 65: [140497.0], 68: [428533.0], 86: [523072.0], 88: [329747.0], 92: [489675.0], 93: [145510.0], 3: [501941.0], 12: [275078.0], 14: [169601.0], 19: [257395.0], 38: [278446.0], 39: [12475.0], 43: [91250.0], 50: [511737.0], 54: [87963.0], 57: [278921.0], 60: [108490.0], 72: [597882.0], 76: [11561.0], 77: [433214.0], 79: [523434.0], 81: [87398.0], 84: [504435.0], 99: [601576.0], 4: [349407.0], 20: [180347.0], 22: [364012.0], 24: [165058.0], 28: [595685.0], 30: [80265.0], 34: [108471.0], 44: [188386.0], 51: [177056.0], 55: [92362.0], 66: [116702.0], 75: [163103.0], 91: [523332.0], 96: [274510.0], 5: [23208.0], 36: [184382.0], 78: [331986.0], 6: [493209.0], 11: [75859.0], 33: [406926.0], 40: [93252.0], 8: [353000.0], 18: [94263.0], 32: [65049.0], 37: [537564.0], 48: [242091.0], 59: [253064.0], 70: [343031.0], 71: [335929.0], 89: [365361.0], 13: [163195.0], 26: [352931.0], 31: [88179.0], 41: [160054.0], 53: [343793.0], 58: [587118.0], 61: [86704.0], 63: [418023.0], 69: [504086.0], 80: [516514.0], 82: [79542.0], 97: [26923.0], 21: [334888.0], 23: [79641.0], 47: [526183.0], 83: [522342.0], 62: [581212.0], 98: [529342.0], 64: [246263.0], 87: [598349.0], 94: [509366.0]}, 'mean': 311627.5777777778, 'median': 333736.5}, \"( Blood test, ' Blood test')\": {'all_values': [3609.0, 3609.0, 3628.0, 3638.0, 3692.0, 3699.0, 3730.0, 3798.0, 3824.0, 3824.0, 4025.0, 4037.0, 4042.0, 4070.0, 4099.0, 4113.0, 4128.0, 4297.0, 4363.0, 4440.0, 4460.0, 4498.0, 4546.0, 4593.0, 4640.0, 4713.0, 4775.0, 4791.0, 5147.0, 5168.0, 5185.0, 5206.0, 5226.0, 5330.0, 5337.0, 5358.0, 5384.0, 5384.0, 10265.0, 12252.0, 27051.0, 57842.0, 57923.0, 58039.0, 65862.0, 73376.0, 79866.0, 80317.0, 82851.0, 84937.0, 85014.0, 90723.0, 91426.0, 91545.0, 94292.0, 95237.0, 103914.0, 105069.0, 145287.0, 149415.0, 155458.0, 167264.0, 170154.0, 173366.0, 185916.0, 231382.0, 240118.0, 240235.0, 245278.0, 253102.0, 255853.0, 277154.0, 328968.0, 331369.0, 333120.0, 336086.0, 337834.0, 339557.0, 341681.0, 345761.0, 345987.0, 347220.0, 355600.0, 359446.0, 368101.0, 411938.0, 420520.0, 432148.0, 497080.0, 509388.0, 515360.0, 521096.0, 522818.0, 524563.0, 527123.0, 527339.0, 535753.0, 538961.0, 584807.0, 594000.0], 'case_association': {0: [4042.0], 95: [4037.0], 1: [5384.0], 10: [85014.0], 16: [79866.0], 45: [73376.0], 46: [84937.0], 67: [341681.0], 73: [328968.0], 74: [167264.0], 85: [240235.0], 90: [155458.0], 2: [515360.0], 7: [411938.0], 17: [522818.0], 49: [255853.0], 56: [103914.0], 65: [145287.0], 68: [432148.0], 86: [524563.0], 88: [331369.0], 92: [497080.0], 93: [149415.0], 3: [57842.0], 12: [3692.0], 14: [3824.0], 19: [4546.0], 38: [5330.0], 39: [4775.0], 43: [3699.0], 50: [5168.0], 54: [5206.0], 57: [3824.0], 60: [4713.0], 72: [5358.0], 76: [5337.0], 77: [3609.0], 79: [3609.0], 81: [5384.0], 84: [3730.0], 99: [4593.0], 4: [4128.0], 20: [4460.0], 22: [4363.0], 24: [4791.0], 28: [231382.0], 30: [5226.0], 34: [5185.0], 44: [4440.0], 51: [4640.0], 55: [4099.0], 66: [4070.0], 75: [4297.0], 91: [4498.0], 96: [4113.0], 5: [27051.0], 36: [185916.0], 78: [333120.0], 6: [57923.0], 11: [10265.0], 33: [240118.0], 40: [90723.0], 8: [355600.0], 18: [95237.0], 32: [65862.0], 37: [538961.0], 48: [245278.0], 59: [253102.0], 70: [347220.0], 71: [337834.0], 89: [368101.0], 9: [345761.0], 27: [277154.0], 13: [170154.0], 26: [359446.0], 31: [91545.0], 41: [173366.0], 53: [345987.0], 58: [594000.0], 61: [339557.0], 63: [420520.0], 69: [509388.0], 80: [521096.0], 82: [91426.0], 97: [105069.0], 15: [12252.0], 25: [82851.0], 52: [94292.0], 21: [336086.0], 23: [80317.0], 47: [527339.0], 83: [527123.0], 29: [58039.0], 35: [3798.0], 42: [5147.0], 62: [584807.0], 98: [535753.0], 64: [4025.0], 87: [3628.0], 94: [3638.0]}, 'mean': 166398.13, 'median': 84975.5}, \"( Second consult, ' Second consult')\": {'all_values': [3636.0, 4205.0, 4699.0, 4722.0, 5064.0, 7488.0, 7826.0, 12436.0, 14604.0, 25600.0, 66219.0, 73642.0, 75805.0, 76759.0, 79812.0, 80182.0, 80451.0, 80467.0, 80546.0, 86427.0, 86465.0, 86741.0, 87363.0, 94082.0, 94844.0, 101169.0, 108877.0, 108913.0, 109385.0, 113375.0, 162291.0, 166165.0, 166177.0, 166193.0, 166345.0, 166524.0, 169311.0, 169715.0, 170282.0, 174018.0, 174171.0, 187977.0, 188706.0, 199191.0, 241207.0, 245231.0, 246592.0, 249308.0, 253632.0, 256410.0, 256538.0, 256881.0, 256949.0, 259974.0, 260822.0, 267524.0, 271021.0, 278173.0, 281742.0, 329104.0, 332556.0, 335309.0, 339368.0, 339532.0, 342401.0, 343328.0, 343482.0, 343752.0, 346302.0, 346886.0, 346945.0, 349587.0, 357435.0, 358025.0, 408215.0, 415747.0, 417691.0, 421893.0, 422548.0, 424925.0, 429571.0, 429826.0, 430113.0, 432218.0, 432952.0, 433244.0, 433723.0, 439734.0, 440266.0, 446584.0, 446973.0, 447385.0, 447573.0, 450326.0, 454787.0, 497963.0, 498435.0, 504165.0, 508536.0, 511717.0], 'case_association': {0: [12436.0], 95: [253632.0], 1: [5064.0], 10: [169715.0], 16: [422548.0], 45: [339532.0], 46: [187977.0], 67: [329104.0], 73: [108877.0], 74: [342401.0], 85: [170282.0], 90: [94082.0], 2: [199191.0], 7: [80451.0], 17: [504165.0], 49: [346302.0], 56: [429571.0], 65: [343752.0], 68: [7826.0], 86: [162291.0], 88: [80467.0], 92: [281742.0], 93: [446973.0], 3: [166177.0], 12: [241207.0], 14: [256410.0], 19: [433723.0], 38: [256881.0], 39: [66219.0], 43: [113375.0], 50: [188706.0], 54: [25600.0], 57: [73642.0], 60: [246592.0], 72: [508536.0], 76: [4722.0], 77: [174171.0], 79: [332556.0], 81: [169311.0], 84: [430113.0], 99: [357435.0], 4: [439734.0], 20: [408215.0], 22: [433244.0], 24: [346945.0], 28: [267524.0], 30: [166165.0], 34: [511717.0], 44: [166524.0], 51: [497963.0], 55: [349587.0], 66: [498435.0], 75: [79812.0], 91: [249308.0], 96: [421893.0], 5: [417691.0], 36: [101169.0], 78: [256538.0], 6: [447573.0], 11: [358025.0], 33: [87363.0], 40: [86427.0], 8: [80182.0], 18: [256949.0], 32: [335309.0], 37: [450326.0], 48: [4205.0], 59: [343328.0], 70: [14604.0], 71: [415747.0], 89: [75805.0], 9: [166193.0], 27: [174018.0], 13: [166345.0], 26: [80546.0], 31: [343482.0], 41: [86465.0], 53: [271021.0], 58: [278173.0], 61: [4699.0], 63: [432952.0], 69: [94844.0], 80: [76759.0], 82: [424925.0], 97: [86741.0], 15: [429826.0], 25: [3636.0], 52: [432218.0], 21: [260822.0], 23: [447385.0], 47: [446584.0], 83: [259974.0], 29: [454787.0], 35: [108913.0], 42: [346886.0], 62: [7488.0], 98: [245231.0], 64: [440266.0], 87: [109385.0], 94: [339368.0]}, 'mean': 249519.96, 'median': 256474.0}, \"( Medicine, ' Medicine')\": {'all_values': [3690.0, 3864.0, 3874.0, 3987.0, 4014.0, 4101.0, 4172.0, 4291.0, 4321.0, 4480.0, 4504.0, 4670.0, 4717.0, 4719.0, 4740.0, 4768.0, 4789.0, 4848.0, 4952.0, 4954.0, 5077.0, 5122.0, 5125.0, 5205.0, 5213.0, 7374.0, 7467.0, 7490.0, 7690.0, 7703.0, 7773.0, 7782.0, 7934.0, 8018.0, 8089.0, 8131.0, 8477.0, 8616.0, 8640.0, 8644.0, 8700.0, 8789.0, 8859.0, 10955.0, 10966.0, 11017.0, 11278.0, 11390.0, 11390.0, 11476.0, 11684.0, 11957.0, 11992.0, 12077.0, 12169.0, 12383.0, 57654.0, 58022.0, 58158.0, 58432.0, 58617.0, 59244.0, 61529.0, 62201.0, 62707.0, 62904.0, 62945.0, 64851.0, 65195.0, 65227.0, 65383.0, 65700.0, 65942.0, 66070.0, 66352.0, 66574.0, 235014.0, 238942.0, 239042.0, 239055.0], 'case_association': {1: [4172.0], 10: [65942.0], 16: [4789.0], 45: [11684.0], 46: [5213.0], 67: [12077.0], 73: [58022.0], 74: [8644.0], 85: [4717.0], 90: [4321.0], 2: [64851.0], 7: [7374.0], 17: [11957.0], 49: [3987.0], 56: [4480.0], 65: [4768.0], 68: [3690.0], 86: [11476.0], 88: [7690.0], 92: [58158.0], 93: [4740.0], 3: [10966.0], 12: [3864.0], 14: [8089.0], 19: [4291.0], 38: [62201.0], 39: [8616.0], 43: [58617.0], 50: [66574.0], 54: [58432.0], 57: [4952.0], 60: [4014.0], 72: [11390.0], 76: [4504.0], 77: [62945.0], 79: [12169.0], 81: [7934.0], 84: [11390.0], 99: [3874.0], 4: [61529.0], 20: [5077.0], 22: [62707.0], 24: [8131.0], 28: [66352.0], 30: [4719.0], 34: [65227.0], 44: [239055.0], 51: [7467.0], 55: [12383.0], 66: [7782.0], 75: [4848.0], 91: [11992.0], 96: [5205.0], 8: [65383.0], 18: [235014.0], 32: [11017.0], 37: [66070.0], 48: [5125.0], 59: [8789.0], 70: [238942.0], 71: [5122.0], 89: [65195.0], 13: [7773.0], 26: [4101.0], 31: [8018.0], 41: [8640.0], 53: [7703.0], 58: [59244.0], 61: [8477.0], 63: [8859.0], 69: [239042.0], 80: [10955.0], 82: [4670.0], 97: [8700.0], 15: [7490.0], 25: [65700.0], 52: [4954.0], 29: [57654.0], 35: [62904.0], 42: [11278.0]}, 'mean': 32710.8375, 'median': 8672.0}, \"( Surgery, ' Surgery')\": {'all_values': [30489.0, 87328.0, 158744.0, 165932.0, 166816.0, 248523.0, 256157.0, 259201.0, 347348.0, 353717.0, 354005.0, 360854.0, 429166.0, 430152.0, 436230.0, 453600.0, 522205.0, 540441.0, 583220.0, 601673.0], 'case_association': {0: [248523.0], 95: [436230.0], 5: [256157.0], 36: [259201.0], 78: [540441.0], 6: [158744.0], 11: [583220.0], 33: [30489.0], 40: [87328.0], 9: [347348.0], 27: [165932.0], 21: [353717.0], 23: [601673.0], 47: [166816.0], 83: [453600.0], 62: [429166.0], 98: [354005.0], 64: [522205.0], 87: [430152.0], 94: [360854.0]}, 'mean': 339290.05, 'median': 353861.0}, \"( Final consult, ' Final consult')\": {'all_values': [4353.0, 4469.0, 4724.0, 5350.0, 7601.0, 8051.0, 11215.0, 14867.0, 15263.0, 18105.0, 66507.0, 69054.0, 69153.0, 69256.0, 69669.0, 75878.0, 79715.0, 80411.0, 80638.0, 80731.0, 83471.0, 86576.0, 86902.0, 87117.0, 87194.0, 87338.0, 87911.0, 90475.0, 90534.0, 90838.0, 97231.0, 97988.0, 98375.0, 98452.0, 101837.0, 102252.0, 104445.0, 105262.0, 108786.0, 109319.0, 148992.0, 151681.0, 156292.0, 158508.0, 158720.0, 159720.0, 160170.0, 160187.0, 162665.0, 166307.0, 169849.0, 174439.0, 176983.0, 177001.0, 177527.0, 177768.0, 177893.0, 180369.0, 181108.0, 184131.0, 184483.0, 185173.0, 188039.0, 190867.0, 234129.0, 234133.0, 239116.0, 245134.0, 245432.0, 245706.0, 246057.0, 246594.0, 248514.0, 252725.0, 255779.0, 264568.0, 266879.0, 284469.0, 313677.0, 327979.0, 336351.0, 342215.0, 342610.0, 342656.0, 343545.0, 345904.0, 346828.0, 349362.0, 349613.0, 350517.0, 353319.0, 353349.0, 354188.0, 357535.0, 360958.0, 365345.0, 410914.0, 411638.0, 411845.0, 418345.0], 'case_association': {0: [327979.0], 95: [245134.0], 1: [18105.0], 10: [353319.0], 16: [80638.0], 45: [246594.0], 46: [411638.0], 67: [255779.0], 73: [360958.0], 74: [66507.0], 85: [418345.0], 90: [4724.0], 2: [350517.0], 7: [177768.0], 17: [86902.0], 49: [190867.0], 56: [411845.0], 65: [80411.0], 68: [151681.0], 86: [158720.0], 88: [87338.0], 92: [284469.0], 93: [410914.0], 3: [343545.0], 12: [80731.0], 14: [245706.0], 19: [159720.0], 38: [353349.0], 39: [83471.0], 43: [109319.0], 50: [342610.0], 54: [108786.0], 57: [8051.0], 60: [176983.0], 72: [69256.0], 76: [69153.0], 77: [105262.0], 79: [156292.0], 81: [264568.0], 84: [98452.0], 99: [160170.0], 4: [345904.0], 20: [104445.0], 22: [14867.0], 24: [11215.0], 28: [97231.0], 30: [357535.0], 34: [188039.0], 44: [181108.0], 51: [342215.0], 55: [4469.0], 66: [177893.0], 75: [354188.0], 91: [87117.0], 96: [97988.0], 5: [87194.0], 36: [234129.0], 78: [148992.0], 6: [177527.0], 11: [180369.0], 33: [313677.0], 40: [5350.0], 8: [346828.0], 18: [90838.0], 32: [158508.0], 37: [185173.0], 48: [166307.0], 59: [79715.0], 70: [87911.0], 71: [102252.0], 89: [365345.0], 9: [69669.0], 27: [4353.0], 13: [349362.0], 26: [184131.0], 31: [160187.0], 41: [342656.0], 53: [169849.0], 58: [349613.0], 61: [174439.0], 63: [90475.0], 69: [7601.0], 80: [248514.0], 82: [90534.0], 97: [252725.0], 15: [234133.0], 25: [266879.0], 52: [75878.0], 21: [69054.0], 23: [245432.0], 47: [336351.0], 83: [162665.0], 29: [98375.0], 35: [15263.0], 42: [184483.0], 62: [101837.0], 98: [86576.0], 64: [239116.0], 87: [177001.0], 94: [246057.0]}, 'mean': 182441.13, 'median': 168078.0}}\n"
          ]
        }
      ]
    },
    {
      "cell_type": "code",
      "source": [
        "traces.keys()"
      ],
      "metadata": {
        "colab": {
          "base_uri": "https://localhost:8080/"
        },
        "id": "_f164-GSLt_X",
        "outputId": "045babb0-dc0b-43d5-8345-22cf97546865"
      },
      "execution_count": 104,
      "outputs": [
        {
          "output_type": "execute_result",
          "data": {
            "text/plain": [
              "dict_keys([\"( Physical test, ' Physical test')\", \"( X-ray scan, ' X-ray scan')\", \"( Blood test, ' Blood test')\", \"( Second consult, ' Second consult')\", \"( Medicine, ' Medicine')\", \"( Surgery, ' Surgery')\", \"( Final consult, ' Final consult')\"])"
            ]
          },
          "metadata": {},
          "execution_count": 104
        }
      ]
    },
    {
      "cell_type": "code",
      "source": [
        "## Get all the times to surgery\n",
        "surgery_time = traces[\"( Surgery, ' Surgery')\"]['all_values']\n",
        "seconds_to_days = 60*60*24\n",
        "seconds_to_hours = 60*60\n",
        "## Calculate the summary statistics (given in seconds)\n",
        "mean_time_to_surgery_seconds = np.mean(surgery_time)\n",
        "max_time_to_surgery_seconds = np.max(surgery_time)\n",
        "min_time_to_surgery_seconds = np.min(surgery_time)\n",
        "## Converted to days\n",
        "mean_time_to_surgery_days = np.mean(surgery_time)/seconds_to_days\n",
        "max_time_to_surgery_days = np.max(surgery_time)/seconds_to_days\n",
        "min_time_to_surgery_days = np.min(surgery_time)/seconds_to_days\n",
        "## Or to hours:\n",
        "mean_time_to_surgery_hours = np.mean(surgery_time)/seconds_to_hours\n",
        "max_time_to_surgery_hours = np.max(surgery_time)/seconds_to_hours\n",
        "min_time_to_surgery_hours = np.min(surgery_time)/seconds_to_hours"
      ],
      "metadata": {
        "id": "Nmv91GeALULQ"
      },
      "execution_count": 106,
      "outputs": []
    },
    {
      "cell_type": "code",
      "source": [
        "sns.distplot(surgery_time)"
      ],
      "metadata": {
        "colab": {
          "base_uri": "https://localhost:8080/",
          "height": 348
        },
        "id": "wadaQ1AANvaH",
        "outputId": "ed3abb23-daf3-40f4-92d1-f167c5bbb4c7"
      },
      "execution_count": 107,
      "outputs": [
        {
          "output_type": "stream",
          "name": "stderr",
          "text": [
            "/usr/local/lib/python3.7/dist-packages/seaborn/distributions.py:2619: FutureWarning: `distplot` is a deprecated function and will be removed in a future version. Please adapt your code to use either `displot` (a figure-level function with similar flexibility) or `histplot` (an axes-level function for histograms).\n",
            "  warnings.warn(msg, FutureWarning)\n"
          ]
        },
        {
          "output_type": "execute_result",
          "data": {
            "text/plain": [
              "<matplotlib.axes._subplots.AxesSubplot at 0x7f2214f44550>"
            ]
          },
          "metadata": {},
          "execution_count": 107
        },
        {
          "output_type": "display_data",
          "data": {
            "image/png": "[encoded data removed]",
            "text/plain": [
              "<Figure size 432x288 with 1 Axes>"
            ]
          },
          "metadata": {
            "needs_background": "light"
          }
        }
      ]
    },
    {
      "cell_type": "code",
      "source": [
        "eventlog.columns"
      ],
      "metadata": {
        "colab": {
          "base_uri": "https://localhost:8080/"
        },
        "id": "fJpmYLQ9N5jt",
        "outputId": "6c6f4120-2d73-4c33-d8b4-1bd7c29e5e94"
      },
      "execution_count": 108,
      "outputs": [
        {
          "output_type": "execute_result",
          "data": {
            "text/plain": [
              "Index(['case:concept:name', 'concept:name', 'org:resource', 'time:timestamp'], dtype='object')"
            ]
          },
          "metadata": {},
          "execution_count": 108
        }
      ]
    },
    {
      "cell_type": "code",
      "source": [
        "pd.crosstab(eventlog['concept:name'], eventlog['org:resource'])"
      ],
      "metadata": {
        "colab": {
          "base_uri": "https://localhost:8080/",
          "height": 332
        },
        "id": "8nQGRPaoN4BT",
        "outputId": "32c34689-1e86-49e2-9882-024db8a9430d"
      },
      "execution_count": 111,
      "outputs": [
        {
          "output_type": "execute_result",
          "data": {
            "text/html": [
              "\n",
              "  <div id=\"df-58659e95-4dbc-4dfe-bf28-bd0ea2c83923\">\n",
              "    <div class=\"colab-df-container\">\n",
              "      <div>\n",
              "<style scoped>\n",
              "    .dataframe tbody tr th:only-of-type {\n",
              "        vertical-align: middle;\n",
              "    }\n",
              "\n",
              "    .dataframe tbody tr th {\n",
              "        vertical-align: top;\n",
              "    }\n",
              "\n",
              "    .dataframe thead th {\n",
              "        text-align: right;\n",
              "    }\n",
              "</style>\n",
              "<table border=\"1\" class=\"dataframe\">\n",
              "  <thead>\n",
              "    <tr style=\"text-align: right;\">\n",
              "      <th>org:resource</th>\n",
              "      <th>Dr. Alex</th>\n",
              "      <th>Dr. Anna</th>\n",
              "      <th>Dr. Ben</th>\n",
              "      <th>Dr. Bob</th>\n",
              "      <th>Dr. Charlie</th>\n",
              "      <th>Dr. Quinn</th>\n",
              "      <th>Dr. Rudy</th>\n",
              "      <th>Lab</th>\n",
              "      <th>Nurse Corey</th>\n",
              "      <th>Nurse Jesse</th>\n",
              "      <th>Pharmacy</th>\n",
              "      <th>Team 1</th>\n",
              "      <th>Team 2</th>\n",
              "    </tr>\n",
              "    <tr>\n",
              "      <th>concept:name</th>\n",
              "      <th></th>\n",
              "      <th></th>\n",
              "      <th></th>\n",
              "      <th></th>\n",
              "      <th></th>\n",
              "      <th></th>\n",
              "      <th></th>\n",
              "      <th></th>\n",
              "      <th></th>\n",
              "      <th></th>\n",
              "      <th></th>\n",
              "      <th></th>\n",
              "      <th></th>\n",
              "    </tr>\n",
              "  </thead>\n",
              "  <tbody>\n",
              "    <tr>\n",
              "      <th>Blood test</th>\n",
              "      <td>0</td>\n",
              "      <td>0</td>\n",
              "      <td>0</td>\n",
              "      <td>0</td>\n",
              "      <td>0</td>\n",
              "      <td>0</td>\n",
              "      <td>0</td>\n",
              "      <td>100</td>\n",
              "      <td>0</td>\n",
              "      <td>0</td>\n",
              "      <td>0</td>\n",
              "      <td>0</td>\n",
              "      <td>0</td>\n",
              "    </tr>\n",
              "    <tr>\n",
              "      <th>Final consult</th>\n",
              "      <td>0</td>\n",
              "      <td>50</td>\n",
              "      <td>50</td>\n",
              "      <td>0</td>\n",
              "      <td>0</td>\n",
              "      <td>0</td>\n",
              "      <td>0</td>\n",
              "      <td>0</td>\n",
              "      <td>0</td>\n",
              "      <td>0</td>\n",
              "      <td>0</td>\n",
              "      <td>0</td>\n",
              "      <td>0</td>\n",
              "    </tr>\n",
              "    <tr>\n",
              "      <th>First consult</th>\n",
              "      <td>0</td>\n",
              "      <td>53</td>\n",
              "      <td>0</td>\n",
              "      <td>47</td>\n",
              "      <td>0</td>\n",
              "      <td>0</td>\n",
              "      <td>0</td>\n",
              "      <td>0</td>\n",
              "      <td>0</td>\n",
              "      <td>0</td>\n",
              "      <td>0</td>\n",
              "      <td>0</td>\n",
              "      <td>0</td>\n",
              "    </tr>\n",
              "    <tr>\n",
              "      <th>Medicine</th>\n",
              "      <td>0</td>\n",
              "      <td>0</td>\n",
              "      <td>0</td>\n",
              "      <td>0</td>\n",
              "      <td>0</td>\n",
              "      <td>0</td>\n",
              "      <td>0</td>\n",
              "      <td>0</td>\n",
              "      <td>0</td>\n",
              "      <td>0</td>\n",
              "      <td>80</td>\n",
              "      <td>0</td>\n",
              "      <td>0</td>\n",
              "    </tr>\n",
              "    <tr>\n",
              "      <th>Physical test</th>\n",
              "      <td>0</td>\n",
              "      <td>0</td>\n",
              "      <td>0</td>\n",
              "      <td>0</td>\n",
              "      <td>0</td>\n",
              "      <td>0</td>\n",
              "      <td>0</td>\n",
              "      <td>0</td>\n",
              "      <td>43</td>\n",
              "      <td>57</td>\n",
              "      <td>0</td>\n",
              "      <td>0</td>\n",
              "      <td>0</td>\n",
              "    </tr>\n",
              "    <tr>\n",
              "      <th>Second consult</th>\n",
              "      <td>0</td>\n",
              "      <td>55</td>\n",
              "      <td>0</td>\n",
              "      <td>45</td>\n",
              "      <td>0</td>\n",
              "      <td>0</td>\n",
              "      <td>0</td>\n",
              "      <td>0</td>\n",
              "      <td>0</td>\n",
              "      <td>0</td>\n",
              "      <td>0</td>\n",
              "      <td>0</td>\n",
              "      <td>0</td>\n",
              "    </tr>\n",
              "    <tr>\n",
              "      <th>Surgery</th>\n",
              "      <td>5</td>\n",
              "      <td>0</td>\n",
              "      <td>0</td>\n",
              "      <td>0</td>\n",
              "      <td>5</td>\n",
              "      <td>3</td>\n",
              "      <td>7</td>\n",
              "      <td>0</td>\n",
              "      <td>0</td>\n",
              "      <td>0</td>\n",
              "      <td>0</td>\n",
              "      <td>0</td>\n",
              "      <td>0</td>\n",
              "    </tr>\n",
              "    <tr>\n",
              "      <th>X-ray scan</th>\n",
              "      <td>0</td>\n",
              "      <td>0</td>\n",
              "      <td>0</td>\n",
              "      <td>0</td>\n",
              "      <td>0</td>\n",
              "      <td>0</td>\n",
              "      <td>0</td>\n",
              "      <td>0</td>\n",
              "      <td>0</td>\n",
              "      <td>0</td>\n",
              "      <td>0</td>\n",
              "      <td>40</td>\n",
              "      <td>50</td>\n",
              "    </tr>\n",
              "  </tbody>\n",
              "</table>\n",
              "</div>\n",
              "      <button class=\"colab-df-convert\" onclick=\"convertToInteractive('df-58659e95-4dbc-4dfe-bf28-bd0ea2c83923')\"\n",
              "              title=\"Convert this dataframe to an interactive table.\"\n",
              "              style=\"display:none;\">\n",
              "        \n",
              "  <svg xmlns=\"http://www.w3.org/2000/svg\" height=\"24px\"viewBox=\"0 0 24 24\"\n",
              "       width=\"24px\">\n",
              "    <path d=\"M0 0h24v24H0V0z\" fill=\"none\"/>\n",
              "    <path d=\"M18.56 5.44l.94 2.06.94-2.06 2.06-.94-2.06-.94-.94-2.06-.94 2.06-2.06.94zm-11 1L8.5 8.5l.94-2.06 2.06-.94-2.06-.94L8.5 2.5l-.94 2.06-2.06.94zm10 10l.94 2.06.94-2.06 2.06-.94-2.06-.94-.94-2.06-.94 2.06-2.06.94z\"/><path d=\"M17.41 7.96l-1.37-1.37c-.4-.4-.92-.59-1.43-.59-.52 0-1.04.2-1.43.59L10.3 9.45l-7.72 7.72c-.78.78-.78 2.05 0 2.83L4 21.41c.39.39.9.59 1.41.59.51 0 1.02-.2 1.41-.59l7.78-7.78 2.81-2.81c.8-.78.8-2.07 0-2.86zM5.41 20L4 18.59l7.72-7.72 1.47 1.35L5.41 20z\"/>\n",
              "  </svg>\n",
              "      </button>\n",
              "      \n",
              "  <style>\n",
              "    .colab-df-container {\n",
              "      display:flex;\n",
              "      flex-wrap:wrap;\n",
              "      gap: 12px;\n",
              "    }\n",
              "\n",
              "    .colab-df-convert {\n",
              "      background-color: #E8F0FE;\n",
              "      border: none;\n",
              "      border-radius: 50%;\n",
              "      cursor: pointer;\n",
              "      display: none;\n",
              "      fill: #1967D2;\n",
              "      height: 32px;\n",
              "      padding: 0 0 0 0;\n",
              "      width: 32px;\n",
              "    }\n",
              "\n",
              "    .colab-df-convert:hover {\n",
              "      background-color: #E2EBFA;\n",
              "      box-shadow: 0px 1px 2px rgba(60, 64, 67, 0.3), 0px 1px 3px 1px rgba(60, 64, 67, 0.15);\n",
              "      fill: #174EA6;\n",
              "    }\n",
              "\n",
              "    [theme=dark] .colab-df-convert {\n",
              "      background-color: #3B4455;\n",
              "      fill: #D2E3FC;\n",
              "    }\n",
              "\n",
              "    [theme=dark] .colab-df-convert:hover {\n",
              "      background-color: #434B5C;\n",
              "      box-shadow: 0px 1px 3px 1px rgba(0, 0, 0, 0.15);\n",
              "      filter: drop-shadow(0px 1px 2px rgba(0, 0, 0, 0.3));\n",
              "      fill: #FFFFFF;\n",
              "    }\n",
              "  </style>\n",
              "\n",
              "      <script>\n",
              "        const buttonEl =\n",
              "          document.querySelector('#df-58659e95-4dbc-4dfe-bf28-bd0ea2c83923 button.colab-df-convert');\n",
              "        buttonEl.style.display =\n",
              "          google.colab.kernel.accessAllowed ? 'block' : 'none';\n",
              "\n",
              "        async function convertToInteractive(key) {\n",
              "          const element = document.querySelector('#df-58659e95-4dbc-4dfe-bf28-bd0ea2c83923');\n",
              "          const dataTable =\n",
              "            await google.colab.kernel.invokeFunction('convertToInteractive',\n",
              "                                                     [key], {});\n",
              "          if (!dataTable) return;\n",
              "\n",
              "          const docLinkHtml = 'Like what you see? Visit the ' +\n",
              "            '<a target=\"_blank\" href=https://colab.research.google.com/notebooks/data_table.ipynb>data table notebook</a>'\n",
              "            + ' to learn more about interactive tables.';\n",
              "          element.innerHTML = '';\n",
              "          dataTable['output_type'] = 'display_data';\n",
              "          await google.colab.output.renderOutput(dataTable, element);\n",
              "          const docLink = document.createElement('div');\n",
              "          docLink.innerHTML = docLinkHtml;\n",
              "          element.appendChild(docLink);\n",
              "        }\n",
              "      </script>\n",
              "    </div>\n",
              "  </div>\n",
              "  "
            ],
            "text/plain": [
              "org:resource      Dr. Alex   Dr. Anna   Dr. Ben   Dr. Bob   Dr. Charlie  \\\n",
              "concept:name                                                              \n",
              " Blood test              0          0         0         0             0   \n",
              " Final consult           0         50        50         0             0   \n",
              " First consult           0         53         0        47             0   \n",
              " Medicine                0          0         0         0             0   \n",
              " Physical test           0          0         0         0             0   \n",
              " Second consult          0         55         0        45             0   \n",
              " Surgery                 5          0         0         0             5   \n",
              " X-ray scan              0          0         0         0             0   \n",
              "\n",
              "org:resource      Dr. Quinn   Dr. Rudy   Lab   Nurse Corey   Nurse Jesse  \\\n",
              "concept:name                                                               \n",
              " Blood test               0          0   100             0             0   \n",
              " Final consult            0          0     0             0             0   \n",
              " First consult            0          0     0             0             0   \n",
              " Medicine                 0          0     0             0             0   \n",
              " Physical test            0          0     0            43            57   \n",
              " Second consult           0          0     0             0             0   \n",
              " Surgery                  3          7     0             0             0   \n",
              " X-ray scan               0          0     0             0             0   \n",
              "\n",
              "org:resource      Pharmacy   Team 1   Team 2  \n",
              "concept:name                                  \n",
              " Blood test              0        0        0  \n",
              " Final consult           0        0        0  \n",
              " First consult           0        0        0  \n",
              " Medicine               80        0        0  \n",
              " Physical test           0        0        0  \n",
              " Second consult          0        0        0  \n",
              " Surgery                 0        0        0  \n",
              " X-ray scan              0       40       50  "
            ]
          },
          "metadata": {},
          "execution_count": 111
        }
      ]
    },
    {
      "cell_type": "code",
      "source": [
        "pd.crosstab(eventlog['concept:name'], eventlog['org:resource'], normalize='columns')"
      ],
      "metadata": {
        "colab": {
          "base_uri": "https://localhost:8080/",
          "height": 332
        },
        "id": "lcGug3BhOQ-f",
        "outputId": "b5ece267-463b-47ba-b4a1-1a3927a60ce6"
      },
      "execution_count": 112,
      "outputs": [
        {
          "output_type": "execute_result",
          "data": {
            "text/html": [
              "\n",
              "  <div id=\"df-fc30ca99-64d4-4545-98df-770c07838cf3\">\n",
              "    <div class=\"colab-df-container\">\n",
              "      <div>\n",
              "<style scoped>\n",
              "    .dataframe tbody tr th:only-of-type {\n",
              "        vertical-align: middle;\n",
              "    }\n",
              "\n",
              "    .dataframe tbody tr th {\n",
              "        vertical-align: top;\n",
              "    }\n",
              "\n",
              "    .dataframe thead th {\n",
              "        text-align: right;\n",
              "    }\n",
              "</style>\n",
              "<table border=\"1\" class=\"dataframe\">\n",
              "  <thead>\n",
              "    <tr style=\"text-align: right;\">\n",
              "      <th>org:resource</th>\n",
              "      <th>Dr. Alex</th>\n",
              "      <th>Dr. Anna</th>\n",
              "      <th>Dr. Ben</th>\n",
              "      <th>Dr. Bob</th>\n",
              "      <th>Dr. Charlie</th>\n",
              "      <th>Dr. Quinn</th>\n",
              "      <th>Dr. Rudy</th>\n",
              "      <th>Lab</th>\n",
              "      <th>Nurse Corey</th>\n",
              "      <th>Nurse Jesse</th>\n",
              "      <th>Pharmacy</th>\n",
              "      <th>Team 1</th>\n",
              "      <th>Team 2</th>\n",
              "    </tr>\n",
              "    <tr>\n",
              "      <th>concept:name</th>\n",
              "      <th></th>\n",
              "      <th></th>\n",
              "      <th></th>\n",
              "      <th></th>\n",
              "      <th></th>\n",
              "      <th></th>\n",
              "      <th></th>\n",
              "      <th></th>\n",
              "      <th></th>\n",
              "      <th></th>\n",
              "      <th></th>\n",
              "      <th></th>\n",
              "      <th></th>\n",
              "    </tr>\n",
              "  </thead>\n",
              "  <tbody>\n",
              "    <tr>\n",
              "      <th>Blood test</th>\n",
              "      <td>0.0</td>\n",
              "      <td>0.000000</td>\n",
              "      <td>0.0</td>\n",
              "      <td>0.00000</td>\n",
              "      <td>0.0</td>\n",
              "      <td>0.0</td>\n",
              "      <td>0.0</td>\n",
              "      <td>1.0</td>\n",
              "      <td>0.0</td>\n",
              "      <td>0.0</td>\n",
              "      <td>0.0</td>\n",
              "      <td>0.0</td>\n",
              "      <td>0.0</td>\n",
              "    </tr>\n",
              "    <tr>\n",
              "      <th>Final consult</th>\n",
              "      <td>0.0</td>\n",
              "      <td>0.316456</td>\n",
              "      <td>1.0</td>\n",
              "      <td>0.00000</td>\n",
              "      <td>0.0</td>\n",
              "      <td>0.0</td>\n",
              "      <td>0.0</td>\n",
              "      <td>0.0</td>\n",
              "      <td>0.0</td>\n",
              "      <td>0.0</td>\n",
              "      <td>0.0</td>\n",
              "      <td>0.0</td>\n",
              "      <td>0.0</td>\n",
              "    </tr>\n",
              "    <tr>\n",
              "      <th>First consult</th>\n",
              "      <td>0.0</td>\n",
              "      <td>0.335443</td>\n",
              "      <td>0.0</td>\n",
              "      <td>0.51087</td>\n",
              "      <td>0.0</td>\n",
              "      <td>0.0</td>\n",
              "      <td>0.0</td>\n",
              "      <td>0.0</td>\n",
              "      <td>0.0</td>\n",
              "      <td>0.0</td>\n",
              "      <td>0.0</td>\n",
              "      <td>0.0</td>\n",
              "      <td>0.0</td>\n",
              "    </tr>\n",
              "    <tr>\n",
              "      <th>Medicine</th>\n",
              "      <td>0.0</td>\n",
              "      <td>0.000000</td>\n",
              "      <td>0.0</td>\n",
              "      <td>0.00000</td>\n",
              "      <td>0.0</td>\n",
              "      <td>0.0</td>\n",
              "      <td>0.0</td>\n",
              "      <td>0.0</td>\n",
              "      <td>0.0</td>\n",
              "      <td>0.0</td>\n",
              "      <td>1.0</td>\n",
              "      <td>0.0</td>\n",
              "      <td>0.0</td>\n",
              "    </tr>\n",
              "    <tr>\n",
              "      <th>Physical test</th>\n",
              "      <td>0.0</td>\n",
              "      <td>0.000000</td>\n",
              "      <td>0.0</td>\n",
              "      <td>0.00000</td>\n",
              "      <td>0.0</td>\n",
              "      <td>0.0</td>\n",
              "      <td>0.0</td>\n",
              "      <td>0.0</td>\n",
              "      <td>1.0</td>\n",
              "      <td>1.0</td>\n",
              "      <td>0.0</td>\n",
              "      <td>0.0</td>\n",
              "      <td>0.0</td>\n",
              "    </tr>\n",
              "    <tr>\n",
              "      <th>Second consult</th>\n",
              "      <td>0.0</td>\n",
              "      <td>0.348101</td>\n",
              "      <td>0.0</td>\n",
              "      <td>0.48913</td>\n",
              "      <td>0.0</td>\n",
              "      <td>0.0</td>\n",
              "      <td>0.0</td>\n",
              "      <td>0.0</td>\n",
              "      <td>0.0</td>\n",
              "      <td>0.0</td>\n",
              "      <td>0.0</td>\n",
              "      <td>0.0</td>\n",
              "      <td>0.0</td>\n",
              "    </tr>\n",
              "    <tr>\n",
              "      <th>Surgery</th>\n",
              "      <td>1.0</td>\n",
              "      <td>0.000000</td>\n",
              "      <td>0.0</td>\n",
              "      <td>0.00000</td>\n",
              "      <td>1.0</td>\n",
              "      <td>1.0</td>\n",
              "      <td>1.0</td>\n",
              "      <td>0.0</td>\n",
              "      <td>0.0</td>\n",
              "      <td>0.0</td>\n",
              "      <td>0.0</td>\n",
              "      <td>0.0</td>\n",
              "      <td>0.0</td>\n",
              "    </tr>\n",
              "    <tr>\n",
              "      <th>X-ray scan</th>\n",
              "      <td>0.0</td>\n",
              "      <td>0.000000</td>\n",
              "      <td>0.0</td>\n",
              "      <td>0.00000</td>\n",
              "      <td>0.0</td>\n",
              "      <td>0.0</td>\n",
              "      <td>0.0</td>\n",
              "      <td>0.0</td>\n",
              "      <td>0.0</td>\n",
              "      <td>0.0</td>\n",
              "      <td>0.0</td>\n",
              "      <td>1.0</td>\n",
              "      <td>1.0</td>\n",
              "    </tr>\n",
              "  </tbody>\n",
              "</table>\n",
              "</div>\n",
              "      <button class=\"colab-df-convert\" onclick=\"convertToInteractive('df-fc30ca99-64d4-4545-98df-770c07838cf3')\"\n",
              "              title=\"Convert this dataframe to an interactive table.\"\n",
              "              style=\"display:none;\">\n",
              "        \n",
              "  <svg xmlns=\"http://www.w3.org/2000/svg\" height=\"24px\"viewBox=\"0 0 24 24\"\n",
              "       width=\"24px\">\n",
              "    <path d=\"M0 0h24v24H0V0z\" fill=\"none\"/>\n",
              "    <path d=\"M18.56 5.44l.94 2.06.94-2.06 2.06-.94-2.06-.94-.94-2.06-.94 2.06-2.06.94zm-11 1L8.5 8.5l.94-2.06 2.06-.94-2.06-.94L8.5 2.5l-.94 2.06-2.06.94zm10 10l.94 2.06.94-2.06 2.06-.94-2.06-.94-.94-2.06-.94 2.06-2.06.94z\"/><path d=\"M17.41 7.96l-1.37-1.37c-.4-.4-.92-.59-1.43-.59-.52 0-1.04.2-1.43.59L10.3 9.45l-7.72 7.72c-.78.78-.78 2.05 0 2.83L4 21.41c.39.39.9.59 1.41.59.51 0 1.02-.2 1.41-.59l7.78-7.78 2.81-2.81c.8-.78.8-2.07 0-2.86zM5.41 20L4 18.59l7.72-7.72 1.47 1.35L5.41 20z\"/>\n",
              "  </svg>\n",
              "      </button>\n",
              "      \n",
              "  <style>\n",
              "    .colab-df-container {\n",
              "      display:flex;\n",
              "      flex-wrap:wrap;\n",
              "      gap: 12px;\n",
              "    }\n",
              "\n",
              "    .colab-df-convert {\n",
              "      background-color: #E8F0FE;\n",
              "      border: none;\n",
              "      border-radius: 50%;\n",
              "      cursor: pointer;\n",
              "      display: none;\n",
              "      fill: #1967D2;\n",
              "      height: 32px;\n",
              "      padding: 0 0 0 0;\n",
              "      width: 32px;\n",
              "    }\n",
              "\n",
              "    .colab-df-convert:hover {\n",
              "      background-color: #E2EBFA;\n",
              "      box-shadow: 0px 1px 2px rgba(60, 64, 67, 0.3), 0px 1px 3px 1px rgba(60, 64, 67, 0.15);\n",
              "      fill: #174EA6;\n",
              "    }\n",
              "\n",
              "    [theme=dark] .colab-df-convert {\n",
              "      background-color: #3B4455;\n",
              "      fill: #D2E3FC;\n",
              "    }\n",
              "\n",
              "    [theme=dark] .colab-df-convert:hover {\n",
              "      background-color: #434B5C;\n",
              "      box-shadow: 0px 1px 3px 1px rgba(0, 0, 0, 0.15);\n",
              "      filter: drop-shadow(0px 1px 2px rgba(0, 0, 0, 0.3));\n",
              "      fill: #FFFFFF;\n",
              "    }\n",
              "  </style>\n",
              "\n",
              "      <script>\n",
              "        const buttonEl =\n",
              "          document.querySelector('#df-fc30ca99-64d4-4545-98df-770c07838cf3 button.colab-df-convert');\n",
              "        buttonEl.style.display =\n",
              "          google.colab.kernel.accessAllowed ? 'block' : 'none';\n",
              "\n",
              "        async function convertToInteractive(key) {\n",
              "          const element = document.querySelector('#df-fc30ca99-64d4-4545-98df-770c07838cf3');\n",
              "          const dataTable =\n",
              "            await google.colab.kernel.invokeFunction('convertToInteractive',\n",
              "                                                     [key], {});\n",
              "          if (!dataTable) return;\n",
              "\n",
              "          const docLinkHtml = 'Like what you see? Visit the ' +\n",
              "            '<a target=\"_blank\" href=https://colab.research.google.com/notebooks/data_table.ipynb>data table notebook</a>'\n",
              "            + ' to learn more about interactive tables.';\n",
              "          element.innerHTML = '';\n",
              "          dataTable['output_type'] = 'display_data';\n",
              "          await google.colab.output.renderOutput(dataTable, element);\n",
              "          const docLink = document.createElement('div');\n",
              "          docLink.innerHTML = docLinkHtml;\n",
              "          element.appendChild(docLink);\n",
              "        }\n",
              "      </script>\n",
              "    </div>\n",
              "  </div>\n",
              "  "
            ],
            "text/plain": [
              "org:resource      Dr. Alex   Dr. Anna   Dr. Ben   Dr. Bob   Dr. Charlie  \\\n",
              "concept:name                                                              \n",
              " Blood test            0.0   0.000000       0.0   0.00000           0.0   \n",
              " Final consult         0.0   0.316456       1.0   0.00000           0.0   \n",
              " First consult         0.0   0.335443       0.0   0.51087           0.0   \n",
              " Medicine              0.0   0.000000       0.0   0.00000           0.0   \n",
              " Physical test         0.0   0.000000       0.0   0.00000           0.0   \n",
              " Second consult        0.0   0.348101       0.0   0.48913           0.0   \n",
              " Surgery               1.0   0.000000       0.0   0.00000           1.0   \n",
              " X-ray scan            0.0   0.000000       0.0   0.00000           0.0   \n",
              "\n",
              "org:resource      Dr. Quinn   Dr. Rudy   Lab   Nurse Corey   Nurse Jesse  \\\n",
              "concept:name                                                               \n",
              " Blood test             0.0        0.0   1.0           0.0           0.0   \n",
              " Final consult          0.0        0.0   0.0           0.0           0.0   \n",
              " First consult          0.0        0.0   0.0           0.0           0.0   \n",
              " Medicine               0.0        0.0   0.0           0.0           0.0   \n",
              " Physical test          0.0        0.0   0.0           1.0           1.0   \n",
              " Second consult         0.0        0.0   0.0           0.0           0.0   \n",
              " Surgery                1.0        1.0   0.0           0.0           0.0   \n",
              " X-ray scan             0.0        0.0   0.0           0.0           0.0   \n",
              "\n",
              "org:resource      Pharmacy   Team 1   Team 2  \n",
              "concept:name                                  \n",
              " Blood test            0.0      0.0      0.0  \n",
              " Final consult         0.0      0.0      0.0  \n",
              " First consult         0.0      0.0      0.0  \n",
              " Medicine              1.0      0.0      0.0  \n",
              " Physical test         0.0      0.0      0.0  \n",
              " Second consult        0.0      0.0      0.0  \n",
              " Surgery               0.0      0.0      0.0  \n",
              " X-ray scan            0.0      1.0      1.0  "
            ]
          },
          "metadata": {},
          "execution_count": 112
        }
      ]
    },
    {
      "cell_type": "code",
      "source": [
        "pd.crosstab(eventlog['concept:name'], eventlog['org:resource'], normalize='index')"
      ],
      "metadata": {
        "colab": {
          "base_uri": "https://localhost:8080/",
          "height": 332
        },
        "id": "WLcMyQ_YOaS-",
        "outputId": "96ac9e78-aa66-4eea-eaa3-ef07d71245ab"
      },
      "execution_count": 113,
      "outputs": [
        {
          "output_type": "execute_result",
          "data": {
            "text/html": [
              "\n",
              "  <div id=\"df-09d92e13-e42c-492a-86f8-df5836ec7e3f\">\n",
              "    <div class=\"colab-df-container\">\n",
              "      <div>\n",
              "<style scoped>\n",
              "    .dataframe tbody tr th:only-of-type {\n",
              "        vertical-align: middle;\n",
              "    }\n",
              "\n",
              "    .dataframe tbody tr th {\n",
              "        vertical-align: top;\n",
              "    }\n",
              "\n",
              "    .dataframe thead th {\n",
              "        text-align: right;\n",
              "    }\n",
              "</style>\n",
              "<table border=\"1\" class=\"dataframe\">\n",
              "  <thead>\n",
              "    <tr style=\"text-align: right;\">\n",
              "      <th>org:resource</th>\n",
              "      <th>Dr. Alex</th>\n",
              "      <th>Dr. Anna</th>\n",
              "      <th>Dr. Ben</th>\n",
              "      <th>Dr. Bob</th>\n",
              "      <th>Dr. Charlie</th>\n",
              "      <th>Dr. Quinn</th>\n",
              "      <th>Dr. Rudy</th>\n",
              "      <th>Lab</th>\n",
              "      <th>Nurse Corey</th>\n",
              "      <th>Nurse Jesse</th>\n",
              "      <th>Pharmacy</th>\n",
              "      <th>Team 1</th>\n",
              "      <th>Team 2</th>\n",
              "    </tr>\n",
              "    <tr>\n",
              "      <th>concept:name</th>\n",
              "      <th></th>\n",
              "      <th></th>\n",
              "      <th></th>\n",
              "      <th></th>\n",
              "      <th></th>\n",
              "      <th></th>\n",
              "      <th></th>\n",
              "      <th></th>\n",
              "      <th></th>\n",
              "      <th></th>\n",
              "      <th></th>\n",
              "      <th></th>\n",
              "      <th></th>\n",
              "    </tr>\n",
              "  </thead>\n",
              "  <tbody>\n",
              "    <tr>\n",
              "      <th>Blood test</th>\n",
              "      <td>0.00</td>\n",
              "      <td>0.00</td>\n",
              "      <td>0.0</td>\n",
              "      <td>0.00</td>\n",
              "      <td>0.00</td>\n",
              "      <td>0.00</td>\n",
              "      <td>0.00</td>\n",
              "      <td>1.0</td>\n",
              "      <td>0.00</td>\n",
              "      <td>0.00</td>\n",
              "      <td>0.0</td>\n",
              "      <td>0.000000</td>\n",
              "      <td>0.000000</td>\n",
              "    </tr>\n",
              "    <tr>\n",
              "      <th>Final consult</th>\n",
              "      <td>0.00</td>\n",
              "      <td>0.50</td>\n",
              "      <td>0.5</td>\n",
              "      <td>0.00</td>\n",
              "      <td>0.00</td>\n",
              "      <td>0.00</td>\n",
              "      <td>0.00</td>\n",
              "      <td>0.0</td>\n",
              "      <td>0.00</td>\n",
              "      <td>0.00</td>\n",
              "      <td>0.0</td>\n",
              "      <td>0.000000</td>\n",
              "      <td>0.000000</td>\n",
              "    </tr>\n",
              "    <tr>\n",
              "      <th>First consult</th>\n",
              "      <td>0.00</td>\n",
              "      <td>0.53</td>\n",
              "      <td>0.0</td>\n",
              "      <td>0.47</td>\n",
              "      <td>0.00</td>\n",
              "      <td>0.00</td>\n",
              "      <td>0.00</td>\n",
              "      <td>0.0</td>\n",
              "      <td>0.00</td>\n",
              "      <td>0.00</td>\n",
              "      <td>0.0</td>\n",
              "      <td>0.000000</td>\n",
              "      <td>0.000000</td>\n",
              "    </tr>\n",
              "    <tr>\n",
              "      <th>Medicine</th>\n",
              "      <td>0.00</td>\n",
              "      <td>0.00</td>\n",
              "      <td>0.0</td>\n",
              "      <td>0.00</td>\n",
              "      <td>0.00</td>\n",
              "      <td>0.00</td>\n",
              "      <td>0.00</td>\n",
              "      <td>0.0</td>\n",
              "      <td>0.00</td>\n",
              "      <td>0.00</td>\n",
              "      <td>1.0</td>\n",
              "      <td>0.000000</td>\n",
              "      <td>0.000000</td>\n",
              "    </tr>\n",
              "    <tr>\n",
              "      <th>Physical test</th>\n",
              "      <td>0.00</td>\n",
              "      <td>0.00</td>\n",
              "      <td>0.0</td>\n",
              "      <td>0.00</td>\n",
              "      <td>0.00</td>\n",
              "      <td>0.00</td>\n",
              "      <td>0.00</td>\n",
              "      <td>0.0</td>\n",
              "      <td>0.43</td>\n",
              "      <td>0.57</td>\n",
              "      <td>0.0</td>\n",
              "      <td>0.000000</td>\n",
              "      <td>0.000000</td>\n",
              "    </tr>\n",
              "    <tr>\n",
              "      <th>Second consult</th>\n",
              "      <td>0.00</td>\n",
              "      <td>0.55</td>\n",
              "      <td>0.0</td>\n",
              "      <td>0.45</td>\n",
              "      <td>0.00</td>\n",
              "      <td>0.00</td>\n",
              "      <td>0.00</td>\n",
              "      <td>0.0</td>\n",
              "      <td>0.00</td>\n",
              "      <td>0.00</td>\n",
              "      <td>0.0</td>\n",
              "      <td>0.000000</td>\n",
              "      <td>0.000000</td>\n",
              "    </tr>\n",
              "    <tr>\n",
              "      <th>Surgery</th>\n",
              "      <td>0.25</td>\n",
              "      <td>0.00</td>\n",
              "      <td>0.0</td>\n",
              "      <td>0.00</td>\n",
              "      <td>0.25</td>\n",
              "      <td>0.15</td>\n",
              "      <td>0.35</td>\n",
              "      <td>0.0</td>\n",
              "      <td>0.00</td>\n",
              "      <td>0.00</td>\n",
              "      <td>0.0</td>\n",
              "      <td>0.000000</td>\n",
              "      <td>0.000000</td>\n",
              "    </tr>\n",
              "    <tr>\n",
              "      <th>X-ray scan</th>\n",
              "      <td>0.00</td>\n",
              "      <td>0.00</td>\n",
              "      <td>0.0</td>\n",
              "      <td>0.00</td>\n",
              "      <td>0.00</td>\n",
              "      <td>0.00</td>\n",
              "      <td>0.00</td>\n",
              "      <td>0.0</td>\n",
              "      <td>0.00</td>\n",
              "      <td>0.00</td>\n",
              "      <td>0.0</td>\n",
              "      <td>0.444444</td>\n",
              "      <td>0.555556</td>\n",
              "    </tr>\n",
              "  </tbody>\n",
              "</table>\n",
              "</div>\n",
              "      <button class=\"colab-df-convert\" onclick=\"convertToInteractive('df-09d92e13-e42c-492a-86f8-df5836ec7e3f')\"\n",
              "              title=\"Convert this dataframe to an interactive table.\"\n",
              "              style=\"display:none;\">\n",
              "        \n",
              "  <svg xmlns=\"http://www.w3.org/2000/svg\" height=\"24px\"viewBox=\"0 0 24 24\"\n",
              "       width=\"24px\">\n",
              "    <path d=\"M0 0h24v24H0V0z\" fill=\"none\"/>\n",
              "    <path d=\"M18.56 5.44l.94 2.06.94-2.06 2.06-.94-2.06-.94-.94-2.06-.94 2.06-2.06.94zm-11 1L8.5 8.5l.94-2.06 2.06-.94-2.06-.94L8.5 2.5l-.94 2.06-2.06.94zm10 10l.94 2.06.94-2.06 2.06-.94-2.06-.94-.94-2.06-.94 2.06-2.06.94z\"/><path d=\"M17.41 7.96l-1.37-1.37c-.4-.4-.92-.59-1.43-.59-.52 0-1.04.2-1.43.59L10.3 9.45l-7.72 7.72c-.78.78-.78 2.05 0 2.83L4 21.41c.39.39.9.59 1.41.59.51 0 1.02-.2 1.41-.59l7.78-7.78 2.81-2.81c.8-.78.8-2.07 0-2.86zM5.41 20L4 18.59l7.72-7.72 1.47 1.35L5.41 20z\"/>\n",
              "  </svg>\n",
              "      </button>\n",
              "      \n",
              "  <style>\n",
              "    .colab-df-container {\n",
              "      display:flex;\n",
              "      flex-wrap:wrap;\n",
              "      gap: 12px;\n",
              "    }\n",
              "\n",
              "    .colab-df-convert {\n",
              "      background-color: #E8F0FE;\n",
              "      border: none;\n",
              "      border-radius: 50%;\n",
              "      cursor: pointer;\n",
              "      display: none;\n",
              "      fill: #1967D2;\n",
              "      height: 32px;\n",
              "      padding: 0 0 0 0;\n",
              "      width: 32px;\n",
              "    }\n",
              "\n",
              "    .colab-df-convert:hover {\n",
              "      background-color: #E2EBFA;\n",
              "      box-shadow: 0px 1px 2px rgba(60, 64, 67, 0.3), 0px 1px 3px 1px rgba(60, 64, 67, 0.15);\n",
              "      fill: #174EA6;\n",
              "    }\n",
              "\n",
              "    [theme=dark] .colab-df-convert {\n",
              "      background-color: #3B4455;\n",
              "      fill: #D2E3FC;\n",
              "    }\n",
              "\n",
              "    [theme=dark] .colab-df-convert:hover {\n",
              "      background-color: #434B5C;\n",
              "      box-shadow: 0px 1px 3px 1px rgba(0, 0, 0, 0.15);\n",
              "      filter: drop-shadow(0px 1px 2px rgba(0, 0, 0, 0.3));\n",
              "      fill: #FFFFFF;\n",
              "    }\n",
              "  </style>\n",
              "\n",
              "      <script>\n",
              "        const buttonEl =\n",
              "          document.querySelector('#df-09d92e13-e42c-492a-86f8-df5836ec7e3f button.colab-df-convert');\n",
              "        buttonEl.style.display =\n",
              "          google.colab.kernel.accessAllowed ? 'block' : 'none';\n",
              "\n",
              "        async function convertToInteractive(key) {\n",
              "          const element = document.querySelector('#df-09d92e13-e42c-492a-86f8-df5836ec7e3f');\n",
              "          const dataTable =\n",
              "            await google.colab.kernel.invokeFunction('convertToInteractive',\n",
              "                                                     [key], {});\n",
              "          if (!dataTable) return;\n",
              "\n",
              "          const docLinkHtml = 'Like what you see? Visit the ' +\n",
              "            '<a target=\"_blank\" href=https://colab.research.google.com/notebooks/data_table.ipynb>data table notebook</a>'\n",
              "            + ' to learn more about interactive tables.';\n",
              "          element.innerHTML = '';\n",
              "          dataTable['output_type'] = 'display_data';\n",
              "          await google.colab.output.renderOutput(dataTable, element);\n",
              "          const docLink = document.createElement('div');\n",
              "          docLink.innerHTML = docLinkHtml;\n",
              "          element.appendChild(docLink);\n",
              "        }\n",
              "      </script>\n",
              "    </div>\n",
              "  </div>\n",
              "  "
            ],
            "text/plain": [
              "org:resource      Dr. Alex   Dr. Anna   Dr. Ben   Dr. Bob   Dr. Charlie  \\\n",
              "concept:name                                                              \n",
              " Blood test           0.00       0.00       0.0      0.00          0.00   \n",
              " Final consult        0.00       0.50       0.5      0.00          0.00   \n",
              " First consult        0.00       0.53       0.0      0.47          0.00   \n",
              " Medicine             0.00       0.00       0.0      0.00          0.00   \n",
              " Physical test        0.00       0.00       0.0      0.00          0.00   \n",
              " Second consult       0.00       0.55       0.0      0.45          0.00   \n",
              " Surgery              0.25       0.00       0.0      0.00          0.25   \n",
              " X-ray scan           0.00       0.00       0.0      0.00          0.00   \n",
              "\n",
              "org:resource      Dr. Quinn   Dr. Rudy   Lab   Nurse Corey   Nurse Jesse  \\\n",
              "concept:name                                                               \n",
              " Blood test            0.00       0.00   1.0          0.00          0.00   \n",
              " Final consult         0.00       0.00   0.0          0.00          0.00   \n",
              " First consult         0.00       0.00   0.0          0.00          0.00   \n",
              " Medicine              0.00       0.00   0.0          0.00          0.00   \n",
              " Physical test         0.00       0.00   0.0          0.43          0.57   \n",
              " Second consult        0.00       0.00   0.0          0.00          0.00   \n",
              " Surgery               0.15       0.35   0.0          0.00          0.00   \n",
              " X-ray scan            0.00       0.00   0.0          0.00          0.00   \n",
              "\n",
              "org:resource      Pharmacy    Team 1    Team 2  \n",
              "concept:name                                    \n",
              " Blood test            0.0  0.000000  0.000000  \n",
              " Final consult         0.0  0.000000  0.000000  \n",
              " First consult         0.0  0.000000  0.000000  \n",
              " Medicine              1.0  0.000000  0.000000  \n",
              " Physical test         0.0  0.000000  0.000000  \n",
              " Second consult        0.0  0.000000  0.000000  \n",
              " Surgery               0.0  0.000000  0.000000  \n",
              " X-ray scan            0.0  0.444444  0.555556  "
            ]
          },
          "metadata": {},
          "execution_count": 113
        }
      ]
    },
    {
      "cell_type": "markdown",
      "source": [
        "Other Analyses"
      ],
      "metadata": {
        "id": "AkFmvcaBRitp"
      }
    },
    {
      "cell_type": "code",
      "source": [
        "# Rework\n",
        "from pm4py.statistics.rework.cases.log import get as rework_cases\n",
        "\n",
        "dictio = rework_cases.apply(log)\n",
        "dictio"
      ],
      "metadata": {
        "colab": {
          "base_uri": "https://localhost:8080/"
        },
        "id": "iUEIjWtgRiEm",
        "outputId": "e1e43232-adcc-4a7b-c1ff-ae28d37b8d52"
      },
      "execution_count": 124,
      "outputs": [
        {
          "output_type": "execute_result",
          "data": {
            "text/plain": [
              "{'patient 0': {'number_activities': 6, 'rework': 0},\n",
              " 'patient 1': {'number_activities': 7, 'rework': 0},\n",
              " 'patient 10': {'number_activities': 7, 'rework': 0},\n",
              " 'patient 11': {'number_activities': 7, 'rework': 0},\n",
              " 'patient 12': {'number_activities': 7, 'rework': 0},\n",
              " 'patient 13': {'number_activities': 7, 'rework': 0},\n",
              " 'patient 14': {'number_activities': 7, 'rework': 0},\n",
              " 'patient 15': {'number_activities': 6, 'rework': 0},\n",
              " 'patient 16': {'number_activities': 7, 'rework': 0},\n",
              " 'patient 17': {'number_activities': 7, 'rework': 0},\n",
              " 'patient 18': {'number_activities': 7, 'rework': 0},\n",
              " 'patient 19': {'number_activities': 7, 'rework': 0},\n",
              " 'patient 2': {'number_activities': 7, 'rework': 0},\n",
              " 'patient 20': {'number_activities': 7, 'rework': 0},\n",
              " 'patient 21': {'number_activities': 7, 'rework': 0},\n",
              " 'patient 22': {'number_activities': 7, 'rework': 0},\n",
              " 'patient 23': {'number_activities': 7, 'rework': 0},\n",
              " 'patient 24': {'number_activities': 7, 'rework': 0},\n",
              " 'patient 25': {'number_activities': 6, 'rework': 0},\n",
              " 'patient 26': {'number_activities': 7, 'rework': 0},\n",
              " 'patient 27': {'number_activities': 6, 'rework': 0},\n",
              " 'patient 28': {'number_activities': 7, 'rework': 0},\n",
              " 'patient 29': {'number_activities': 6, 'rework': 0},\n",
              " 'patient 3': {'number_activities': 7, 'rework': 0},\n",
              " 'patient 30': {'number_activities': 7, 'rework': 0},\n",
              " 'patient 31': {'number_activities': 7, 'rework': 0},\n",
              " 'patient 32': {'number_activities': 7, 'rework': 0},\n",
              " 'patient 33': {'number_activities': 7, 'rework': 0},\n",
              " 'patient 34': {'number_activities': 7, 'rework': 0},\n",
              " 'patient 35': {'number_activities': 6, 'rework': 0},\n",
              " 'patient 36': {'number_activities': 7, 'rework': 0},\n",
              " 'patient 37': {'number_activities': 7, 'rework': 0},\n",
              " 'patient 38': {'number_activities': 7, 'rework': 0},\n",
              " 'patient 39': {'number_activities': 7, 'rework': 0},\n",
              " 'patient 4': {'number_activities': 7, 'rework': 0},\n",
              " 'patient 40': {'number_activities': 7, 'rework': 0},\n",
              " 'patient 41': {'number_activities': 7, 'rework': 0},\n",
              " 'patient 42': {'number_activities': 6, 'rework': 0},\n",
              " 'patient 43': {'number_activities': 7, 'rework': 0},\n",
              " 'patient 44': {'number_activities': 7, 'rework': 0},\n",
              " 'patient 45': {'number_activities': 7, 'rework': 0},\n",
              " 'patient 46': {'number_activities': 7, 'rework': 0},\n",
              " 'patient 47': {'number_activities': 7, 'rework': 0},\n",
              " 'patient 48': {'number_activities': 7, 'rework': 0},\n",
              " 'patient 49': {'number_activities': 7, 'rework': 0},\n",
              " 'patient 5': {'number_activities': 7, 'rework': 0},\n",
              " 'patient 50': {'number_activities': 7, 'rework': 0},\n",
              " 'patient 51': {'number_activities': 7, 'rework': 0},\n",
              " 'patient 52': {'number_activities': 6, 'rework': 0},\n",
              " 'patient 53': {'number_activities': 7, 'rework': 0},\n",
              " 'patient 54': {'number_activities': 7, 'rework': 0},\n",
              " 'patient 55': {'number_activities': 7, 'rework': 0},\n",
              " 'patient 56': {'number_activities': 7, 'rework': 0},\n",
              " 'patient 57': {'number_activities': 7, 'rework': 0},\n",
              " 'patient 58': {'number_activities': 7, 'rework': 0},\n",
              " 'patient 59': {'number_activities': 7, 'rework': 0},\n",
              " 'patient 6': {'number_activities': 7, 'rework': 0},\n",
              " 'patient 60': {'number_activities': 7, 'rework': 0},\n",
              " 'patient 61': {'number_activities': 7, 'rework': 0},\n",
              " 'patient 62': {'number_activities': 7, 'rework': 0},\n",
              " 'patient 63': {'number_activities': 7, 'rework': 0},\n",
              " 'patient 64': {'number_activities': 7, 'rework': 0},\n",
              " 'patient 65': {'number_activities': 7, 'rework': 0},\n",
              " 'patient 66': {'number_activities': 7, 'rework': 0},\n",
              " 'patient 67': {'number_activities': 7, 'rework': 0},\n",
              " 'patient 68': {'number_activities': 7, 'rework': 0},\n",
              " 'patient 69': {'number_activities': 7, 'rework': 0},\n",
              " 'patient 7': {'number_activities': 7, 'rework': 0},\n",
              " 'patient 70': {'number_activities': 7, 'rework': 0},\n",
              " 'patient 71': {'number_activities': 7, 'rework': 0},\n",
              " 'patient 72': {'number_activities': 7, 'rework': 0},\n",
              " 'patient 73': {'number_activities': 7, 'rework': 0},\n",
              " 'patient 74': {'number_activities': 7, 'rework': 0},\n",
              " 'patient 75': {'number_activities': 7, 'rework': 0},\n",
              " 'patient 76': {'number_activities': 7, 'rework': 0},\n",
              " 'patient 77': {'number_activities': 7, 'rework': 0},\n",
              " 'patient 78': {'number_activities': 7, 'rework': 0},\n",
              " 'patient 79': {'number_activities': 7, 'rework': 0},\n",
              " 'patient 8': {'number_activities': 7, 'rework': 0},\n",
              " 'patient 80': {'number_activities': 7, 'rework': 0},\n",
              " 'patient 81': {'number_activities': 7, 'rework': 0},\n",
              " 'patient 82': {'number_activities': 7, 'rework': 0},\n",
              " 'patient 83': {'number_activities': 7, 'rework': 0},\n",
              " 'patient 84': {'number_activities': 7, 'rework': 0},\n",
              " 'patient 85': {'number_activities': 7, 'rework': 0},\n",
              " 'patient 86': {'number_activities': 7, 'rework': 0},\n",
              " 'patient 87': {'number_activities': 7, 'rework': 0},\n",
              " 'patient 88': {'number_activities': 7, 'rework': 0},\n",
              " 'patient 89': {'number_activities': 7, 'rework': 0},\n",
              " 'patient 9': {'number_activities': 6, 'rework': 0},\n",
              " 'patient 90': {'number_activities': 7, 'rework': 0},\n",
              " 'patient 91': {'number_activities': 7, 'rework': 0},\n",
              " 'patient 92': {'number_activities': 7, 'rework': 0},\n",
              " 'patient 93': {'number_activities': 7, 'rework': 0},\n",
              " 'patient 94': {'number_activities': 7, 'rework': 0},\n",
              " 'patient 95': {'number_activities': 6, 'rework': 0},\n",
              " 'patient 96': {'number_activities': 7, 'rework': 0},\n",
              " 'patient 97': {'number_activities': 7, 'rework': 0},\n",
              " 'patient 98': {'number_activities': 7, 'rework': 0},\n",
              " 'patient 99': {'number_activities': 7, 'rework': 0}}"
            ]
          },
          "metadata": {},
          "execution_count": 124
        }
      ]
    },
    {
      "cell_type": "code",
      "source": [
        "import pm4py\n",
        "pm4py.view_dotted_chart(log, format=\"jpeg\")"
      ],
      "metadata": {
        "colab": {
          "base_uri": "https://localhost:8080/",
          "height": 1000
        },
        "id": "uvLcXweiSNsT",
        "outputId": "66f73181-48d6-4352-9738-52e55f0cea74"
      },
      "execution_count": 129,
      "outputs": [
        {
          "output_type": "display_data",
          "data": {
            "image/jpeg": "[encoded data removed]",
            "text/plain": [
              "<IPython.core.display.Image object>"
            ]
          },
          "metadata": {}
        }
      ]
    },
    {
      "cell_type": "code",
      "source": [
        "pm4py.view_events_distribution_graph(log, distr_type=\"days_week\", format=\"jpeg\")"
      ],
      "metadata": {
        "colab": {
          "base_uri": "https://localhost:8080/",
          "height": 366
        },
        "id": "HhiwPCdaSiAD",
        "outputId": "86a2af61-02d0-4023-f4fb-5dbcd4bf6ecc"
      },
      "execution_count": 130,
      "outputs": [
        {
          "output_type": "display_data",
          "data": {
            "image/jpeg": "[encoded data removed]",
            "text/plain": [
              "<IPython.core.display.Image object>"
            ]
          },
          "metadata": {}
        }
      ]
    },
    {
      "cell_type": "code",
      "source": [
        "# Throughput time\n",
        "from pm4py.statistics.traces.generic.log import case_statistics\n",
        "all_case_durations = case_statistics.get_all_casedurations(log, parameters={\n",
        "    case_statistics.Parameters.TIMESTAMP_KEY: \"time:timestamp\"})\n",
        "all_case_durations"
      ],
      "metadata": {
        "colab": {
          "base_uri": "https://localhost:8080/"
        },
        "id": "Rf-EBY2tS9GC",
        "outputId": "f658aba8-6ceb-45f3-ce8e-9810a2708ad9"
      },
      "execution_count": 132,
      "outputs": [
        {
          "output_type": "stream",
          "name": "stderr",
          "text": [
            "/usr/local/lib/python3.7/dist-packages/ipykernel_launcher.py:4: DeprecatedWarning: get_all_casedurations is deprecated as of 2.2.11 and will be removed in 3.0.0. please use get_all_case_durations instead\n",
            "  after removing the cwd from sys.path.\n"
          ]
        },
        {
          "output_type": "execute_result",
          "data": {
            "text/plain": [
              "[92044.0,\n",
              " 250020.0,\n",
              " 256478.0,\n",
              " 263060.0,\n",
              " 272357.0,\n",
              " 284831.0,\n",
              " 359926.0,\n",
              " 369153.0,\n",
              " 419066.0,\n",
              " 424825.0,\n",
              " 453235.0,\n",
              " 458801.0,\n",
              " 506864.0,\n",
              " 527172.0,\n",
              " 529747.0,\n",
              " 531349.0,\n",
              " 536839.0,\n",
              " 574218.0,\n",
              " 575205.0,\n",
              " 593357.0,\n",
              " 595345.0,\n",
              " 601951.0,\n",
              " 603232.0,\n",
              " 603319.0,\n",
              " 606533.0,\n",
              " 607342.0,\n",
              " 608684.0,\n",
              " 611127.0,\n",
              " 611555.0,\n",
              " 621457.0,\n",
              " 622221.0,\n",
              " 628224.0,\n",
              " 677531.0,\n",
              " 679722.0,\n",
              " 682715.0,\n",
              " 683701.0,\n",
              " 688596.0,\n",
              " 690760.0,\n",
              " 693634.0,\n",
              " 698084.0,\n",
              " 758873.0,\n",
              " 763378.0,\n",
              " 775073.0,\n",
              " 780410.0,\n",
              " 780415.0,\n",
              " 788093.0,\n",
              " 794560.0,\n",
              " 797009.0,\n",
              " 799596.0,\n",
              " 800812.0,\n",
              " 838455.0,\n",
              " 848601.0,\n",
              " 850875.0,\n",
              " 856484.0,\n",
              " 857050.0,\n",
              " 857324.0,\n",
              " 861503.0,\n",
              " 871749.0,\n",
              " 873454.0,\n",
              " 874761.0,\n",
              " 874830.0,\n",
              " 928971.0,\n",
              " 946219.0,\n",
              " 949810.0,\n",
              " 952806.0,\n",
              " 953274.0,\n",
              " 954266.0,\n",
              " 958235.0,\n",
              " 1008518.0,\n",
              " 1012042.0,\n",
              " 1020540.0,\n",
              " 1022248.0,\n",
              " 1024701.0,\n",
              " 1026368.0,\n",
              " 1026471.0,\n",
              " 1026792.0,\n",
              " 1040567.0,\n",
              " 1047221.0,\n",
              " 1110755.0,\n",
              " 1112762.0,\n",
              " 1121202.0,\n",
              " 1121449.0,\n",
              " 1123298.0,\n",
              " 1125842.0,\n",
              " 1126172.0,\n",
              " 1129919.0,\n",
              " 1187272.0,\n",
              " 1196574.0,\n",
              " 1197473.0,\n",
              " 1221565.0,\n",
              " 1277053.0,\n",
              " 1279091.0,\n",
              " 1281030.0,\n",
              " 1298409.0,\n",
              " 1314887.0,\n",
              " 1381280.0,\n",
              " 1447850.0,\n",
              " 1455645.0,\n",
              " 1460898.0,\n",
              " 1478584.0]"
            ]
          },
          "metadata": {},
          "execution_count": 132
        }
      ]
    },
    {
      "cell_type": "code",
      "source": [
        "median_case_duration = case_statistics.get_median_caseduration(log, parameters={\n",
        "    case_statistics.Parameters.TIMESTAMP_KEY: \"time:timestamp\"\n",
        "})\n",
        "median_case_duration"
      ],
      "metadata": {
        "colab": {
          "base_uri": "https://localhost:8080/"
        },
        "id": "eE9q4GU5TQbb",
        "outputId": "661543ca-22ec-49e0-c275-29f3b2b900a2"
      },
      "execution_count": 133,
      "outputs": [
        {
          "output_type": "stream",
          "name": "stderr",
          "text": [
            "/usr/local/lib/python3.7/dist-packages/ipykernel_launcher.py:2: DeprecatedWarning: get_median_caseduration is deprecated as of 2.2.11 and will be removed in 3.0.0. please use get_median_case_duration instead\n",
            "  \n"
          ]
        },
        {
          "output_type": "execute_result",
          "data": {
            "text/plain": [
              "838455.0"
            ]
          },
          "metadata": {},
          "execution_count": 133
        }
      ]
    },
    {
      "cell_type": "code",
      "source": [
        "# Case arrival and dispersion ratio\n",
        "from pm4py.statistics.traces.generic.log import case_arrival\n",
        "case_arrival_ratio = case_arrival.get_case_arrival_avg(log, parameters={\n",
        "    case_arrival.Parameters.TIMESTAMP_KEY: \"time:timestamp\"})\n",
        "case_dispersion_ratio = case_arrival.get_case_dispersion_avg(log, parameters={\n",
        "    case_arrival.Parameters.TIMESTAMP_KEY: \"time:timestamp\"})\n",
        "case_dispersion_ratio"
      ],
      "metadata": {
        "colab": {
          "base_uri": "https://localhost:8080/"
        },
        "id": "hQOUJX2ZTX74",
        "outputId": "0bb61f6b-06fd-49c0-aa1b-74de797f38ec"
      },
      "execution_count": 136,
      "outputs": [
        {
          "output_type": "execute_result",
          "data": {
            "text/plain": [
              "126452.64646464646"
            ]
          },
          "metadata": {},
          "execution_count": 136
        }
      ]
    },
    {
      "cell_type": "code",
      "source": [
        "from pm4py.statistics.eventually_follows.log import get as efg_get\n",
        "\n",
        "efg_graph = efg_get.apply(log)\n",
        "print(efg_graph)"
      ],
      "metadata": {
        "colab": {
          "base_uri": "https://localhost:8080/"
        },
        "id": "F8bnW3fdTvTk",
        "outputId": "0991be55-ae50-4207-9d79-ba78586f1f32"
      },
      "execution_count": 137,
      "outputs": [
        {
          "output_type": "stream",
          "name": "stdout",
          "text": [
            "{(' First consult', ' Blood test'): 100, (' First consult', ' Physical test'): 100, (' First consult', ' Second consult'): 100, (' First consult', ' Surgery'): 20, (' First consult', ' Final consult'): 100, (' Blood test', ' Physical test'): 53, (' Blood test', ' Second consult'): 100, (' Blood test', ' Surgery'): 20, (' Blood test', ' Final consult'): 100, (' Physical test', ' Second consult'): 100, (' Physical test', ' Surgery'): 20, (' Physical test', ' Final consult'): 100, (' Second consult', ' Surgery'): 20, (' Second consult', ' Final consult'): 100, (' Surgery', ' Final consult'): 20, (' First consult', ' X-ray scan'): 90, (' First consult', ' Medicine'): 80, (' Physical test', ' Blood test'): 47, (' Physical test', ' X-ray scan'): 45, (' Physical test', ' Medicine'): 80, (' Blood test', ' X-ray scan'): 49, (' Blood test', ' Medicine'): 80, (' X-ray scan', ' Second consult'): 90, (' X-ray scan', ' Medicine'): 74, (' X-ray scan', ' Final consult'): 90, (' Second consult', ' Medicine'): 80, (' Medicine', ' Final consult'): 80, (' X-ray scan', ' Blood test'): 41, (' X-ray scan', ' Physical test'): 45, (' X-ray scan', ' Surgery'): 16}\n"
          ]
        }
      ]
    },
    {
      "cell_type": "code",
      "source": [
        "from pm4py.util import constants\n",
        "from pm4py.statistics.traces.generic.log import case_statistics\n",
        "x, y = case_statistics.get_kde_caseduration(log, parameters={constants.PARAMETER_CONSTANT_TIMESTAMP_KEY: \"time:timestamp\"})\n",
        "\n",
        "from pm4py.visualization.graphs import visualizer as graphs_visualizer\n",
        "\n",
        "gviz = graphs_visualizer.apply_plot(x, y, variant=graphs_visualizer.Variants.CASES)\n",
        "graphs_visualizer.view(gviz)\n",
        "\n",
        "gviz = graphs_visualizer.apply_semilogx(x, y, variant=graphs_visualizer.Variants.CASES)\n",
        "graphs_visualizer.view(gviz)"
      ],
      "metadata": {
        "colab": {
          "base_uri": "https://localhost:8080/",
          "height": 577
        },
        "id": "IySTCQAuT5pf",
        "outputId": "c01c8a3c-ffa2-4b3a-a827-0a298503da8b"
      },
      "execution_count": 138,
      "outputs": [
        {
          "output_type": "display_data",
          "data": {
            "image/png": "[encoded data removed]",
            "text/plain": [
              "<IPython.core.display.Image object>"
            ]
          },
          "metadata": {}
        },
        {
          "output_type": "display_data",
          "data": {
            "image/png": "[encoded data removed]",
            "text/plain": [
              "<IPython.core.display.Image object>"
            ]
          },
          "metadata": {}
        }
      ]
    },
    {
      "cell_type": "code",
      "source": [
        "from pm4py.algo.filtering.log.attributes import attributes_filter\n",
        "x, y = attributes_filter.get_kde_date_attribute(log, attribute=\"time:timestamp\")\n",
        "\n",
        "from pm4py.visualization.graphs import visualizer as graphs_visualizer\n",
        "\n",
        "gviz = graphs_visualizer.apply_plot(x, y, variant=graphs_visualizer.Variants.DATES)\n",
        "graphs_visualizer.view(gviz)"
      ],
      "metadata": {
        "colab": {
          "base_uri": "https://localhost:8080/",
          "height": 327
        },
        "id": "Yi-Hz5mNUDKH",
        "outputId": "68bf60c8-e067-4c2d-f69b-059e0a2bd59d"
      },
      "execution_count": 140,
      "outputs": [
        {
          "output_type": "display_data",
          "data": {
            "image/png": "[encoded data removed]",
            "text/plain": [
              "<IPython.core.display.Image object>"
            ]
          },
          "metadata": {}
        }
      ]
    }
  ]
}