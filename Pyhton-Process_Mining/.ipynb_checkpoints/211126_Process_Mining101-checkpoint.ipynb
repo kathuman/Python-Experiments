{
 "cells": [
  {
   "cell_type": "markdown",
   "metadata": {},
   "source": [
    "https://pm4py.fit.fraunhofer.de/ \\\n",
    "https://pm4py.fit.fraunhofer.de/getting-started-page#loading-data"
   ]
  },
  {
   "cell_type": "code",
   "execution_count": 7,
   "metadata": {},
   "outputs": [],
   "source": [
    "import pm4py\n",
    "import pandas as pd"
   ]
  },
  {
   "cell_type": "code",
   "execution_count": 10,
   "metadata": {},
   "outputs": [],
   "source": [
    "log = pm4py.format_dataframe(pd.read_csv(\"running-example.csv\", sep=';'), case_id='case_id', activity_key='activity',timestamp_key='timestamp')"
   ]
  },
  {
   "cell_type": "code",
   "execution_count": 11,
   "metadata": {},
   "outputs": [],
   "source": [
    "filtered = pm4py.filter_start_activities(log, {'register request'})"
   ]
  },
  {
   "cell_type": "code",
   "execution_count": 12,
   "metadata": {},
   "outputs": [
    {
     "name": "stdout",
     "output_type": "stream",
     "text": [
      "   case:concept:name        concept:name            time:timestamp  costs  \\\n",
      "14                 1    register request 2010-12-30 10:02:00+00:00     50   \n",
      "15                 1  examine thoroughly 2010-12-31 09:06:00+00:00    400   \n",
      "16                 1        check ticket 2011-01-05 14:12:00+00:00    100   \n",
      "17                 1              decide 2011-01-06 10:18:00+00:00    200   \n",
      "18                 1      reject request 2011-01-07 13:24:00+00:00    200   \n",
      "9                  2    register request 2010-12-30 10:32:00+00:00     50   \n",
      "10                 2        check ticket 2010-12-30 11:12:00+00:00    100   \n",
      "11                 2    examine casually 2010-12-30 13:16:00+00:00    400   \n",
      "12                 2              decide 2011-01-05 10:22:00+00:00    200   \n",
      "13                 2    pay compensation 2011-01-08 11:05:00+00:00    200   \n",
      "0                  3    register request 2010-12-30 13:32:00+00:00     50   \n",
      "1                  3    examine casually 2010-12-30 14:06:00+00:00    400   \n",
      "2                  3        check ticket 2010-12-30 15:34:00+00:00    100   \n",
      "3                  3              decide 2011-01-06 08:18:00+00:00    200   \n",
      "4                  3  reinitiate request 2011-01-06 11:18:00+00:00    200   \n",
      "5                  3  examine thoroughly 2011-01-06 12:06:00+00:00    400   \n",
      "6                  3        check ticket 2011-01-08 10:43:00+00:00    100   \n",
      "7                  3              decide 2011-01-09 08:55:00+00:00    200   \n",
      "8                  3    pay compensation 2011-01-15 09:45:00+00:00    200   \n",
      "37                 4    register request 2011-01-06 14:02:00+00:00     50   \n",
      "38                 4        check ticket 2011-01-07 11:06:00+00:00    100   \n",
      "39                 4  examine thoroughly 2011-01-08 13:43:00+00:00    400   \n",
      "40                 4              decide 2011-01-09 11:02:00+00:00    200   \n",
      "41                 4      reject request 2011-01-12 14:44:00+00:00    200   \n",
      "24                 5    register request 2011-01-06 08:02:00+00:00     50   \n",
      "25                 5    examine casually 2011-01-07 09:16:00+00:00    400   \n",
      "26                 5        check ticket 2011-01-08 10:22:00+00:00    100   \n",
      "27                 5              decide 2011-01-10 12:28:00+00:00    200   \n",
      "28                 5  reinitiate request 2011-01-11 15:18:00+00:00    200   \n",
      "29                 5        check ticket 2011-01-14 13:33:00+00:00    100   \n",
      "30                 5    examine casually 2011-01-16 14:50:00+00:00    400   \n",
      "31                 5              decide 2011-01-19 10:18:00+00:00    200   \n",
      "32                 5  reinitiate request 2011-01-20 11:48:00+00:00    200   \n",
      "33                 5    examine casually 2011-01-21 08:06:00+00:00    400   \n",
      "34                 5        check ticket 2011-01-21 10:34:00+00:00    100   \n",
      "35                 5              decide 2011-01-23 12:12:00+00:00    200   \n",
      "36                 5      reject request 2011-01-24 13:56:00+00:00    200   \n",
      "19                 6    register request 2011-01-06 14:02:00+00:00     50   \n",
      "20                 6    examine casually 2011-01-06 15:06:00+00:00    400   \n",
      "21                 6        check ticket 2011-01-07 15:22:00+00:00    100   \n",
      "22                 6              decide 2011-01-07 15:52:00+00:00    200   \n",
      "23                 6    pay compensation 2011-01-16 10:47:00+00:00    200   \n",
      "\n",
      "   resource  @@index  \n",
      "14     Pete       14  \n",
      "15      Sue       15  \n",
      "16     Mike       16  \n",
      "17     Sara       17  \n",
      "18     Pete       18  \n",
      "9      Mike        9  \n",
      "10     Mike       10  \n",
      "11     Sean       11  \n",
      "12     Sara       12  \n",
      "13    Ellen       13  \n",
      "0      Pete        0  \n",
      "1      Mike        1  \n",
      "2     Ellen        2  \n",
      "3      Sara        3  \n",
      "4      Sara        4  \n",
      "5      Sean        5  \n",
      "6      Pete        6  \n",
      "7      Sara        7  \n",
      "8     Ellen        8  \n",
      "37     Pete       37  \n",
      "38     Mike       38  \n",
      "39     Sean       39  \n",
      "40     Sara       40  \n",
      "41    Ellen       41  \n",
      "24    Ellen       24  \n",
      "25     Mike       25  \n",
      "26     Pete       26  \n",
      "27     Sara       27  \n",
      "28     Sara       28  \n",
      "29    Ellen       29  \n",
      "30     Mike       30  \n",
      "31     Sara       31  \n",
      "32     Sara       32  \n",
      "33      Sue       33  \n",
      "34     Pete       34  \n",
      "35     Sara       35  \n",
      "36     Mike       36  \n",
      "19     Mike       19  \n",
      "20    Ellen       20  \n",
      "21     Mike       21  \n",
      "22     Sara       22  \n",
      "23     Mike       23  \n"
     ]
    }
   ],
   "source": [
    "print(filtered)"
   ]
  },
  {
   "cell_type": "code",
   "execution_count": null,
   "metadata": {},
   "outputs": [],
   "source": []
  }
 ],
 "metadata": {
  "kernelspec": {
   "display_name": "Python 3",
   "language": "python",
   "name": "python3"
  },
  "language_info": {
   "codemirror_mode": {
    "name": "ipython",
    "version": 3
   },
   "file_extension": ".py",
   "mimetype": "text/x-python",
   "name": "python",
   "nbconvert_exporter": "python",
   "pygments_lexer": "ipython3",
   "version": "3.7.6"
  }
 },
 "nbformat": 4,
 "nbformat_minor": 4
}
