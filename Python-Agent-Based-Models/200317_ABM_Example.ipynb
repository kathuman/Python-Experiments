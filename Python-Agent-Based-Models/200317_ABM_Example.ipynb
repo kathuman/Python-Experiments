{
  "nbformat": 4,
  "nbformat_minor": 0,
  "metadata": {
    "kernelspec": {
      "display_name": "Python 3",
      "language": "python",
      "name": "python3"
    },
    "language_info": {
      "codemirror_mode": {
        "name": "ipython",
        "version": 3
      },
      "file_extension": ".py",
      "mimetype": "text/x-python",
      "name": "python",
      "nbconvert_exporter": "python",
      "pygments_lexer": "ipython3",
      "version": "3.6.9"
    },
    "colab": {
      "name": "200317_ABM_Example.ipynb",
      "provenance": [],
      "include_colab_link": true
    }
  },
  "cells": [
    {
      "cell_type": "markdown",
      "metadata": {
        "id": "view-in-github",
        "colab_type": "text"
      },
      "source": [
        "<a href=\"https://colab.research.google.com/github/kathuman/Python-Experiments/blob/main/Python-Agent-Based-Models/200317_ABM_Example.ipynb\" target=\"_parent\"><img src=\"https://colab.research.google.com/assets/colab-badge.svg\" alt=\"Open In Colab\"/></a>"
      ]
    },
    {
      "cell_type": "code",
      "metadata": {
        "colab": {
          "base_uri": "https://localhost:8080/"
        },
        "id": "aBopjQUGck62",
        "outputId": "072900f1-1192-4db9-ca08-be43cc09be49"
      },
      "source": [
        "!pip install jpype1"
      ],
      "execution_count": 5,
      "outputs": [
        {
          "output_type": "stream",
          "text": [
            "Collecting jpype1\n",
            "\u001b[?25l  Downloading https://files.pythonhosted.org/packages/b7/21/9e2c0dbf9df856e6392a1aec1d18006c60b175aa4e31d351e8278a8a63c0/JPype1-1.2.0-cp36-cp36m-manylinux2010_x86_64.whl (453kB)\n",
            "\r\u001b[K     |▊                               | 10kB 14.7MB/s eta 0:00:01\r\u001b[K     |█▍                              | 20kB 8.4MB/s eta 0:00:01\r\u001b[K     |██▏                             | 30kB 7.8MB/s eta 0:00:01\r\u001b[K     |██▉                             | 40kB 6.6MB/s eta 0:00:01\r\u001b[K     |███▋                            | 51kB 4.3MB/s eta 0:00:01\r\u001b[K     |████▎                           | 61kB 4.8MB/s eta 0:00:01\r\u001b[K     |█████                           | 71kB 4.9MB/s eta 0:00:01\r\u001b[K     |█████▊                          | 81kB 5.0MB/s eta 0:00:01\r\u001b[K     |██████▌                         | 92kB 5.4MB/s eta 0:00:01\r\u001b[K     |███████▏                        | 102kB 5.5MB/s eta 0:00:01\r\u001b[K     |████████                        | 112kB 5.5MB/s eta 0:00:01\r\u001b[K     |████████▋                       | 122kB 5.5MB/s eta 0:00:01\r\u001b[K     |█████████▍                      | 133kB 5.5MB/s eta 0:00:01\r\u001b[K     |██████████                      | 143kB 5.5MB/s eta 0:00:01\r\u001b[K     |██████████▉                     | 153kB 5.5MB/s eta 0:00:01\r\u001b[K     |███████████▌                    | 163kB 5.5MB/s eta 0:00:01\r\u001b[K     |████████████▎                   | 174kB 5.5MB/s eta 0:00:01\r\u001b[K     |█████████████                   | 184kB 5.5MB/s eta 0:00:01\r\u001b[K     |█████████████▊                  | 194kB 5.5MB/s eta 0:00:01\r\u001b[K     |██████████████▍                 | 204kB 5.5MB/s eta 0:00:01\r\u001b[K     |███████████████▏                | 215kB 5.5MB/s eta 0:00:01\r\u001b[K     |███████████████▉                | 225kB 5.5MB/s eta 0:00:01\r\u001b[K     |████████████████▋               | 235kB 5.5MB/s eta 0:00:01\r\u001b[K     |█████████████████▎              | 245kB 5.5MB/s eta 0:00:01\r\u001b[K     |██████████████████              | 256kB 5.5MB/s eta 0:00:01\r\u001b[K     |██████████████████▊             | 266kB 5.5MB/s eta 0:00:01\r\u001b[K     |███████████████████▌            | 276kB 5.5MB/s eta 0:00:01\r\u001b[K     |████████████████████▏           | 286kB 5.5MB/s eta 0:00:01\r\u001b[K     |█████████████████████           | 296kB 5.5MB/s eta 0:00:01\r\u001b[K     |█████████████████████▋          | 307kB 5.5MB/s eta 0:00:01\r\u001b[K     |██████████████████████▍         | 317kB 5.5MB/s eta 0:00:01\r\u001b[K     |███████████████████████         | 327kB 5.5MB/s eta 0:00:01\r\u001b[K     |███████████████████████▉        | 337kB 5.5MB/s eta 0:00:01\r\u001b[K     |████████████████████████▌       | 348kB 5.5MB/s eta 0:00:01\r\u001b[K     |█████████████████████████▎      | 358kB 5.5MB/s eta 0:00:01\r\u001b[K     |██████████████████████████      | 368kB 5.5MB/s eta 0:00:01\r\u001b[K     |██████████████████████████▊     | 378kB 5.5MB/s eta 0:00:01\r\u001b[K     |███████████████████████████▍    | 389kB 5.5MB/s eta 0:00:01\r\u001b[K     |████████████████████████████▏   | 399kB 5.5MB/s eta 0:00:01\r\u001b[K     |████████████████████████████▉   | 409kB 5.5MB/s eta 0:00:01\r\u001b[K     |█████████████████████████████▋  | 419kB 5.5MB/s eta 0:00:01\r\u001b[K     |██████████████████████████████▎ | 430kB 5.5MB/s eta 0:00:01\r\u001b[K     |███████████████████████████████ | 440kB 5.5MB/s eta 0:00:01\r\u001b[K     |███████████████████████████████▊| 450kB 5.5MB/s eta 0:00:01\r\u001b[K     |████████████████████████████████| 460kB 5.5MB/s \n",
            "\u001b[?25hRequirement already satisfied: typing-extensions; python_version < \"3.8\" in /usr/local/lib/python3.6/dist-packages (from jpype1) (3.7.4.3)\n",
            "Installing collected packages: jpype1\n",
            "Successfully installed jpype1-1.2.0\n"
          ],
          "name": "stdout"
        }
      ]
    },
    {
      "cell_type": "code",
      "metadata": {
        "colab": {
          "base_uri": "https://localhost:8080/",
          "height": 374
        },
        "id": "8Rz2MMOgcQnR",
        "outputId": "f17ea06c-6c26-42f8-d576-c6117fd4c943"
      },
      "source": [
        "%matplotlib inline\n",
        "\n",
        "import pandas as pd\n",
        "import matplotlib.pyplot as plt\n",
        "import seaborn as sns\n",
        "sns.set_style('white')\n",
        "sns.set_context('talk')\n",
        "\n",
        "import pyNetLogo\n",
        "\n",
        "netlogo = pyNetLogo.NetLogoLink(gui=True)\n",
        "\n",
        "netlogo.load_model('Wolf Sheep Predation_v6.nlogo')\n",
        "netlogo.command('setup')"
      ],
      "execution_count": 6,
      "outputs": [
        {
          "output_type": "error",
          "ename": "NotImplementedError",
          "evalue": "ignored",
          "traceback": [
            "\u001b[0;31m---------------------------------------------------------------------------\u001b[0m",
            "\u001b[0;31mNotImplementedError\u001b[0m                       Traceback (most recent call last)",
            "\u001b[0;32m<ipython-input-6-bc811b588147>\u001b[0m in \u001b[0;36m<module>\u001b[0;34m()\u001b[0m\n\u001b[1;32m      9\u001b[0m \u001b[0;32mimport\u001b[0m \u001b[0mpyNetLogo\u001b[0m\u001b[0;34m\u001b[0m\u001b[0;34m\u001b[0m\u001b[0m\n\u001b[1;32m     10\u001b[0m \u001b[0;34m\u001b[0m\u001b[0m\n\u001b[0;32m---> 11\u001b[0;31m \u001b[0mnetlogo\u001b[0m \u001b[0;34m=\u001b[0m \u001b[0mpyNetLogo\u001b[0m\u001b[0;34m.\u001b[0m\u001b[0mNetLogoLink\u001b[0m\u001b[0;34m(\u001b[0m\u001b[0mgui\u001b[0m\u001b[0;34m=\u001b[0m\u001b[0;32mTrue\u001b[0m\u001b[0;34m)\u001b[0m\u001b[0;34m\u001b[0m\u001b[0;34m\u001b[0m\u001b[0m\n\u001b[0m\u001b[1;32m     12\u001b[0m \u001b[0;34m\u001b[0m\u001b[0m\n\u001b[1;32m     13\u001b[0m \u001b[0mnetlogo\u001b[0m\u001b[0;34m.\u001b[0m\u001b[0mload_model\u001b[0m\u001b[0;34m(\u001b[0m\u001b[0;34m'Wolf Sheep Predation_v6.nlogo'\u001b[0m\u001b[0;34m)\u001b[0m\u001b[0;34m\u001b[0m\u001b[0;34m\u001b[0m\u001b[0m\n",
            "\u001b[0;32m/usr/local/lib/python3.6/dist-packages/pyNetLogo/core.py\u001b[0m in \u001b[0;36m__init__\u001b[0;34m(self, gui, thd, netlogo_home, netlogo_version, jvm_home, jvmargs)\u001b[0m\n\u001b[1;32m    217\u001b[0m \u001b[0;34m\u001b[0m\u001b[0m\n\u001b[1;32m    218\u001b[0m         \u001b[0;32mif\u001b[0m \u001b[0;32mnot\u001b[0m \u001b[0mnetlogo_home\u001b[0m\u001b[0;34m:\u001b[0m\u001b[0;34m\u001b[0m\u001b[0;34m\u001b[0m\u001b[0m\n\u001b[0;32m--> 219\u001b[0;31m             \u001b[0mnetlogo_home\u001b[0m \u001b[0;34m=\u001b[0m \u001b[0mget_netlogo_home\u001b[0m\u001b[0;34m(\u001b[0m\u001b[0;34m)\u001b[0m\u001b[0;34m\u001b[0m\u001b[0;34m\u001b[0m\u001b[0m\n\u001b[0m\u001b[1;32m    220\u001b[0m         \u001b[0;32mif\u001b[0m \u001b[0;32mnot\u001b[0m \u001b[0mnetlogo_version\u001b[0m\u001b[0;34m:\u001b[0m\u001b[0;34m\u001b[0m\u001b[0;34m\u001b[0m\u001b[0m\n\u001b[1;32m    221\u001b[0m             \u001b[0mnetlogo_version\u001b[0m \u001b[0;34m=\u001b[0m \u001b[0mestablish_netlogoversion\u001b[0m\u001b[0;34m(\u001b[0m\u001b[0mnetlogo_home\u001b[0m\u001b[0;34m)\u001b[0m\u001b[0;34m\u001b[0m\u001b[0;34m\u001b[0m\u001b[0m\n",
            "\u001b[0;32m/usr/local/lib/python3.6/dist-packages/pyNetLogo/core.py\u001b[0m in \u001b[0;36mget_netlogo_home\u001b[0;34m()\u001b[0m\n\u001b[1;32m    169\u001b[0m         \u001b[0mnetlogo_home\u001b[0m \u001b[0;34m=\u001b[0m \u001b[0mfind_netlogo_mac\u001b[0m\u001b[0;34m(\u001b[0m\u001b[0;34m)\u001b[0m\u001b[0;34m\u001b[0m\u001b[0;34m\u001b[0m\u001b[0m\n\u001b[1;32m    170\u001b[0m     \u001b[0;32melse\u001b[0m\u001b[0;34m:\u001b[0m\u001b[0;34m\u001b[0m\u001b[0;34m\u001b[0m\u001b[0m\n\u001b[0;32m--> 171\u001b[0;31m         \u001b[0mnetlogo_home\u001b[0m \u001b[0;34m=\u001b[0m \u001b[0mfind_netlogo_linux\u001b[0m\u001b[0;34m(\u001b[0m\u001b[0;34m)\u001b[0m\u001b[0;34m\u001b[0m\u001b[0;34m\u001b[0m\u001b[0m\n\u001b[0m\u001b[1;32m    172\u001b[0m \u001b[0;34m\u001b[0m\u001b[0m\n\u001b[1;32m    173\u001b[0m     \u001b[0;32mreturn\u001b[0m \u001b[0mnetlogo_home\u001b[0m\u001b[0;34m\u001b[0m\u001b[0;34m\u001b[0m\u001b[0m\n",
            "\u001b[0;32m/usr/local/lib/python3.6/dist-packages/pyNetLogo/core.py\u001b[0m in \u001b[0;36mfind_netlogo_linux\u001b[0;34m()\u001b[0m\n\u001b[1;32m    159\u001b[0m \u001b[0;34m\u001b[0m\u001b[0m\n\u001b[1;32m    160\u001b[0m \u001b[0;32mdef\u001b[0m \u001b[0mfind_netlogo_linux\u001b[0m\u001b[0;34m(\u001b[0m\u001b[0;34m)\u001b[0m\u001b[0;34m:\u001b[0m\u001b[0;34m\u001b[0m\u001b[0;34m\u001b[0m\u001b[0m\n\u001b[0;32m--> 161\u001b[0;31m     raise NotImplementedError(('NetLogoLink requires the netlogo_home '\n\u001b[0m\u001b[1;32m    162\u001b[0m                                'and netlogo_version parameters on Linux'))\n\u001b[1;32m    163\u001b[0m \u001b[0;34m\u001b[0m\u001b[0m\n",
            "\u001b[0;31mNotImplementedError\u001b[0m: NetLogoLink requires the netlogo_home and netlogo_version parameters on Linux"
          ]
        }
      ]
    },
    {
      "cell_type": "code",
      "metadata": {
        "id": "60bLMbwEcQnS"
      },
      "source": [
        ""
      ],
      "execution_count": null,
      "outputs": []
    }
  ]
}