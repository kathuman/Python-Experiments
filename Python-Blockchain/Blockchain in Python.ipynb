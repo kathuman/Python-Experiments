{
 "cells": [
  {
   "cell_type": "markdown",
   "metadata": {},
   "source": [
    "This in example of a simple blockchain implementation in Python, to understand the basics of the technology. This example is found in https://medium.com/crypto-currently/lets-build-the-tiniest-blockchain-e70965a248b"
   ]
  },
  {
   "cell_type": "markdown",
   "metadata": {},
   "source": [
    "Daniel Sepulveda, 2018."
   ]
  },
  {
   "cell_type": "markdown",
   "metadata": {},
   "source": [
    "### Definition of the Blocks"
   ]
  },
  {
   "cell_type": "markdown",
   "metadata": {},
   "source": [
    "The first things is to define how the blocks look like. The next code defines that the blockchain will contain an index, a timestamp the datsa itself, the previous block's hash, and the hash of the block itself."
   ]
  },
  {
   "cell_type": "code",
   "execution_count": 1,
   "metadata": {
    "collapsed": true
   },
   "outputs": [],
   "source": [
    "import hashlib as hasher\n",
    "\n",
    "class Block:\n",
    "  def __init__(self, index, timestamp, data, previous_hash): \n",
    "    self.index = index\n",
    "    self.timestamp = timestamp\n",
    "    self.data = data\n",
    "    self.previous_hash = previous_hash\n",
    "    self.hash = self.hash_block()\n",
    "  \n",
    "  def hash_block(self):\n",
    "    sha = hasher.sha256()\n",
    "    sha.update(str(self.index) + \n",
    "               str(self.timestamp) + \n",
    "               str(self.data) + \n",
    "               str(self.previous_hash))\n",
    "    return sha.hexdigest()"
   ]
  },
  {
   "cell_type": "markdown",
   "metadata": {},
   "source": [
    "The First block is called the \"genesis\" block, with an index 0 with an arbitrary data value and arbitrary previous hash parameter."
   ]
  },
  {
   "cell_type": "code",
   "execution_count": 2,
   "metadata": {
    "collapsed": true
   },
   "outputs": [],
   "source": [
    "import datetime as date\n",
    "\n",
    "def create_genesis_block():\n",
    "  # Manually construct a block with\n",
    "  # index zero and arbitrary previous hash\n",
    "  return Block(0, date.datetime.now(), \"Genesis Block\", \"0\")"
   ]
  },
  {
   "cell_type": "markdown",
   "metadata": {},
   "source": [
    "The next required definition is how the next blockchain will be created\n"
   ]
  },
  {
   "cell_type": "code",
   "execution_count": 4,
   "metadata": {
    "collapsed": true
   },
   "outputs": [],
   "source": [
    "def next_block(last_block):\n",
    "  this_index = last_block.index + 1\n",
    "  this_timestamp = date.datetime.now()\n",
    "  this_data = \"Hey! I'm block \" + str(this_index)\n",
    "  this_hash = last_block.hash\n",
    "  return Block(this_index, this_timestamp, this_data, this_hash)"
   ]
  },
  {
   "cell_type": "markdown",
   "metadata": {},
   "source": [
    "These are the basic definitions. Now 20 blocks are created."
   ]
  },
  {
   "cell_type": "code",
   "execution_count": 5,
   "metadata": {},
   "outputs": [
    {
     "name": "stdout",
     "output_type": "stream",
     "text": [
      "Block #1 has been added to the blockchain!\n",
      "Hash: 7bb6855c09d315060571b4975376371465e3e6b09438e82c078957fc154433fa\n",
      "\n",
      "Block #2 has been added to the blockchain!\n",
      "Hash: e474faf4caa7d8afa35e0f4fe610266cbedfe0a36a83121a90a850738fe6162a\n",
      "\n",
      "Block #3 has been added to the blockchain!\n",
      "Hash: ea8dc4f02583d965e2dff3b4b231e487feb8122fb789b55391897f350a6890c5\n",
      "\n",
      "Block #4 has been added to the blockchain!\n",
      "Hash: 3ebb3205fb10917d6bc88deda80b776e1a1022c6f65c13e4af1159a473a74b71\n",
      "\n",
      "Block #5 has been added to the blockchain!\n",
      "Hash: fa11c0bb1e5cb0a1f06677916d8a747f71f2d2eea4fce1ce524902dd3db02d3b\n",
      "\n",
      "Block #6 has been added to the blockchain!\n",
      "Hash: d83f39a0ac13351a5ac38f82f98f529cdad5d71e2efde24c5821f5a903d614ec\n",
      "\n",
      "Block #7 has been added to the blockchain!\n",
      "Hash: a1d9c8583ee9b61bd9d9124d1786bffc2abc1e7e307fdfa08dd8426c3977a737\n",
      "\n",
      "Block #8 has been added to the blockchain!\n",
      "Hash: 31ee9bcb33afd7a94c111b740e7b066df8b46d797de0648e741a32a168dea6b2\n",
      "\n",
      "Block #9 has been added to the blockchain!\n",
      "Hash: 1e0afa5d35d3d5a24b3abe18194d6fa1f1fb491f94ec78b631c8cb692b5765de\n",
      "\n",
      "Block #10 has been added to the blockchain!\n",
      "Hash: 8da67c6dd6639f30c5bf2719fb9f201e26410ac4f183132bb78c90d8a66b7271\n",
      "\n",
      "Block #11 has been added to the blockchain!\n",
      "Hash: 81f2f39e5a1f9525cf8f8993143b3e406b5a39e8c4d9835a507c411ae3f21fb6\n",
      "\n",
      "Block #12 has been added to the blockchain!\n",
      "Hash: 282c115c654a6e2fe837a974625398e53e4c0c33efac8d62b8626b4b8cea8d17\n",
      "\n",
      "Block #13 has been added to the blockchain!\n",
      "Hash: afde9f2def56de174cc28bc796c5c98987e391d7e154152c94d49cfb78845a45\n",
      "\n",
      "Block #14 has been added to the blockchain!\n",
      "Hash: 957291131c93d2c97794d2454cc828ada4582b97713c06debeee980a08792c39\n",
      "\n",
      "Block #15 has been added to the blockchain!\n",
      "Hash: 2fb34c4aa71d00e1f117ed9f8cf34389f252fae8dac3874c6b73f46767833d4a\n",
      "\n",
      "Block #16 has been added to the blockchain!\n",
      "Hash: 7c43eb71ce1081fed7ef990fae414012f423e112b1f61f82dc6e065816ad175b\n",
      "\n",
      "Block #17 has been added to the blockchain!\n",
      "Hash: 395e9e915b56848f5b2384cbdf07f2e0452c0be9fd6832f40d8ce1b7637c090a\n",
      "\n",
      "Block #18 has been added to the blockchain!\n",
      "Hash: 46b2158ba0de7f217116c79e8bc0cc432f35c0b11b79aebd8103799f93ec89d2\n",
      "\n",
      "Block #19 has been added to the blockchain!\n",
      "Hash: b8fd8398a0ab843995f7b57aa60f0238e5c3b656de46403b6f892561bf4023a4\n",
      "\n",
      "Block #20 has been added to the blockchain!\n",
      "Hash: eef6153f59efb383cc64ed418d59891e270e816128418d569414fd6f9540a4e5\n",
      "\n"
     ]
    }
   ],
   "source": [
    "# Create the blockchain and add the genesis block\n",
    "blockchain = [create_genesis_block()]\n",
    "previous_block = blockchain[0]\n",
    "\n",
    "# How many blocks should we add to the chain\n",
    "# after the genesis block\n",
    "num_of_blocks_to_add = 20\n",
    "\n",
    "# Add blocks to the chain\n",
    "for i in range(0, num_of_blocks_to_add):\n",
    "  block_to_add = next_block(previous_block)\n",
    "  blockchain.append(block_to_add)\n",
    "  previous_block = block_to_add\n",
    "  # Tell everyone about it!\n",
    "  print \"Block #{} has been added to the blockchain!\".format(block_to_add.index)\n",
    "  print \"Hash: {}\\n\".format(block_to_add.hash) "
   ]
  },
  {
   "cell_type": "code",
   "execution_count": null,
   "metadata": {
    "collapsed": true
   },
   "outputs": [],
   "source": []
  }
 ],
 "metadata": {
  "kernelspec": {
   "display_name": "Python 2",
   "language": "python",
   "name": "python2"
  },
  "language_info": {
   "codemirror_mode": {
    "name": "ipython",
    "version": 2
   },
   "file_extension": ".py",
   "mimetype": "text/x-python",
   "name": "python",
   "nbconvert_exporter": "python",
   "pygments_lexer": "ipython2",
   "version": "2.7.15rc1"
  }
 },
 "nbformat": 4,
 "nbformat_minor": 2
}
