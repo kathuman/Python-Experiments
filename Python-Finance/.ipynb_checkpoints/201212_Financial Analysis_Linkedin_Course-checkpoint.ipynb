{
  "nbformat": 4,
  "nbformat_minor": 0,
  "metadata": {
    "kernelspec": {
      "display_name": "Python 3",
      "language": "python",
      "name": "python3"
    },
    "language_info": {
      "codemirror_mode": {
        "name": "ipython",
        "version": 3
      },
      "file_extension": ".py",
      "mimetype": "text/x-python",
      "name": "python",
      "nbconvert_exporter": "python",
      "pygments_lexer": "ipython3",
      "version": "3.7.4"
    },
    "colab": {
      "name": "201212_Financial Analysis_Linkedin_Course-checkpoint.ipynb",
      "provenance": [],
      "include_colab_link": true
    }
  },
  "cells": [
    {
      "cell_type": "markdown",
      "metadata": {
        "id": "view-in-github",
        "colab_type": "text"
      },
      "source": [
        "<a href=\"https://colab.research.google.com/github/kathuman/Python-Experiments/blob/main/Python-Finance/.ipynb_checkpoints/201212_Financial%20Analysis_Linkedin_Course-checkpoint.ipynb\" target=\"_parent\"><img src=\"https://colab.research.google.com/assets/colab-badge.svg\" alt=\"Open In Colab\"/></a>"
      ]
    },
    {
      "cell_type": "markdown",
      "metadata": {
        "id": "bWNvbx8YOQCB"
      },
      "source": [
        "https://www.linkedin.com/learning/algorithmic-trading-and-finance-models-with-python-r-and-stata-essential-training/importing-data-in-python"
      ]
    },
    {
      "cell_type": "code",
      "metadata": {
        "id": "VCaBiMxFOQCK"
      },
      "source": [
        "import pandas as pd\n",
        "from pandas_datareader import data"
      ],
      "execution_count": 1,
      "outputs": []
    },
    {
      "cell_type": "code",
      "metadata": {
        "id": "gU580r9jOQCL"
      },
      "source": [
        "df = data.get_data_yahoo('AAPL','2018-01-01','2019-01-01')"
      ],
      "execution_count": 5,
      "outputs": []
    },
    {
      "cell_type": "code",
      "metadata": {
        "id": "XvwvQA1wOQCM",
        "outputId": "43d667ed-9ea6-41d9-8865-49db5003f68c",
        "colab": {
          "base_uri": "https://localhost:8080/",
          "height": 235
        }
      },
      "source": [
        "df.head()"
      ],
      "execution_count": 11,
      "outputs": [
        {
          "output_type": "execute_result",
          "data": {
            "text/html": [
              "<div>\n",
              "<style scoped>\n",
              "    .dataframe tbody tr th:only-of-type {\n",
              "        vertical-align: middle;\n",
              "    }\n",
              "\n",
              "    .dataframe tbody tr th {\n",
              "        vertical-align: top;\n",
              "    }\n",
              "\n",
              "    .dataframe thead th {\n",
              "        text-align: right;\n",
              "    }\n",
              "</style>\n",
              "<table border=\"1\" class=\"dataframe\">\n",
              "  <thead>\n",
              "    <tr style=\"text-align: right;\">\n",
              "      <th></th>\n",
              "      <th>High</th>\n",
              "      <th>Low</th>\n",
              "      <th>Open</th>\n",
              "      <th>Close</th>\n",
              "      <th>Volume</th>\n",
              "      <th>Adj Close</th>\n",
              "      <th>Change</th>\n",
              "    </tr>\n",
              "    <tr>\n",
              "      <th>Date</th>\n",
              "      <th></th>\n",
              "      <th></th>\n",
              "      <th></th>\n",
              "      <th></th>\n",
              "      <th></th>\n",
              "      <th></th>\n",
              "      <th></th>\n",
              "    </tr>\n",
              "  </thead>\n",
              "  <tbody>\n",
              "    <tr>\n",
              "      <th>2018-01-02</th>\n",
              "      <td>43.075001</td>\n",
              "      <td>42.314999</td>\n",
              "      <td>42.540001</td>\n",
              "      <td>43.064999</td>\n",
              "      <td>102223600.0</td>\n",
              "      <td>41.105534</td>\n",
              "      <td>-0.524998</td>\n",
              "    </tr>\n",
              "    <tr>\n",
              "      <th>2018-01-03</th>\n",
              "      <td>43.637501</td>\n",
              "      <td>42.990002</td>\n",
              "      <td>43.132500</td>\n",
              "      <td>43.057499</td>\n",
              "      <td>118071600.0</td>\n",
              "      <td>41.098373</td>\n",
              "      <td>0.075001</td>\n",
              "    </tr>\n",
              "    <tr>\n",
              "      <th>2018-01-04</th>\n",
              "      <td>43.367500</td>\n",
              "      <td>43.020000</td>\n",
              "      <td>43.134998</td>\n",
              "      <td>43.257500</td>\n",
              "      <td>89738400.0</td>\n",
              "      <td>41.289268</td>\n",
              "      <td>-0.122501</td>\n",
              "    </tr>\n",
              "    <tr>\n",
              "      <th>2018-01-05</th>\n",
              "      <td>43.842499</td>\n",
              "      <td>43.262501</td>\n",
              "      <td>43.360001</td>\n",
              "      <td>43.750000</td>\n",
              "      <td>94640000.0</td>\n",
              "      <td>41.759361</td>\n",
              "      <td>-0.389999</td>\n",
              "    </tr>\n",
              "    <tr>\n",
              "      <th>2018-01-08</th>\n",
              "      <td>43.902500</td>\n",
              "      <td>43.482498</td>\n",
              "      <td>43.587502</td>\n",
              "      <td>43.587502</td>\n",
              "      <td>82271200.0</td>\n",
              "      <td>41.604263</td>\n",
              "      <td>0.000000</td>\n",
              "    </tr>\n",
              "  </tbody>\n",
              "</table>\n",
              "</div>"
            ],
            "text/plain": [
              "                 High        Low       Open  ...       Volume  Adj Close    Change\n",
              "Date                                         ...                                  \n",
              "2018-01-02  43.075001  42.314999  42.540001  ...  102223600.0  41.105534 -0.524998\n",
              "2018-01-03  43.637501  42.990002  43.132500  ...  118071600.0  41.098373  0.075001\n",
              "2018-01-04  43.367500  43.020000  43.134998  ...   89738400.0  41.289268 -0.122501\n",
              "2018-01-05  43.842499  43.262501  43.360001  ...   94640000.0  41.759361 -0.389999\n",
              "2018-01-08  43.902500  43.482498  43.587502  ...   82271200.0  41.604263  0.000000\n",
              "\n",
              "[5 rows x 7 columns]"
            ]
          },
          "metadata": {
            "tags": []
          },
          "execution_count": 11
        }
      ]
    },
    {
      "cell_type": "code",
      "metadata": {
        "id": "wW45z5MhPKmy",
        "outputId": "2acf128f-40b7-4373-f67e-b3108f12316e",
        "colab": {
          "base_uri": "https://localhost:8080/",
          "height": 297
        }
      },
      "source": [
        "df.describe()"
      ],
      "execution_count": 7,
      "outputs": [
        {
          "output_type": "execute_result",
          "data": {
            "text/html": [
              "<div>\n",
              "<style scoped>\n",
              "    .dataframe tbody tr th:only-of-type {\n",
              "        vertical-align: middle;\n",
              "    }\n",
              "\n",
              "    .dataframe tbody tr th {\n",
              "        vertical-align: top;\n",
              "    }\n",
              "\n",
              "    .dataframe thead th {\n",
              "        text-align: right;\n",
              "    }\n",
              "</style>\n",
              "<table border=\"1\" class=\"dataframe\">\n",
              "  <thead>\n",
              "    <tr style=\"text-align: right;\">\n",
              "      <th></th>\n",
              "      <th>High</th>\n",
              "      <th>Low</th>\n",
              "      <th>Open</th>\n",
              "      <th>Close</th>\n",
              "      <th>Volume</th>\n",
              "      <th>Adj Close</th>\n",
              "    </tr>\n",
              "  </thead>\n",
              "  <tbody>\n",
              "    <tr>\n",
              "      <th>count</th>\n",
              "      <td>251.000000</td>\n",
              "      <td>251.000000</td>\n",
              "      <td>251.000000</td>\n",
              "      <td>251.000000</td>\n",
              "      <td>2.510000e+02</td>\n",
              "      <td>251.000000</td>\n",
              "    </tr>\n",
              "    <tr>\n",
              "      <th>mean</th>\n",
              "      <td>47.748526</td>\n",
              "      <td>46.795877</td>\n",
              "      <td>47.277859</td>\n",
              "      <td>47.263357</td>\n",
              "      <td>1.360803e+08</td>\n",
              "      <td>45.483717</td>\n",
              "    </tr>\n",
              "    <tr>\n",
              "      <th>std</th>\n",
              "      <td>5.146255</td>\n",
              "      <td>5.109996</td>\n",
              "      <td>5.126908</td>\n",
              "      <td>5.148465</td>\n",
              "      <td>5.850376e+07</td>\n",
              "      <td>5.057749</td>\n",
              "    </tr>\n",
              "    <tr>\n",
              "      <th>min</th>\n",
              "      <td>37.887501</td>\n",
              "      <td>36.647499</td>\n",
              "      <td>37.037498</td>\n",
              "      <td>36.707500</td>\n",
              "      <td>5.005560e+07</td>\n",
              "      <td>35.563320</td>\n",
              "    </tr>\n",
              "    <tr>\n",
              "      <th>25%</th>\n",
              "      <td>43.737499</td>\n",
              "      <td>43.005001</td>\n",
              "      <td>43.356251</td>\n",
              "      <td>43.285000</td>\n",
              "      <td>9.418680e+07</td>\n",
              "      <td>41.541780</td>\n",
              "    </tr>\n",
              "    <tr>\n",
              "      <th>50%</th>\n",
              "      <td>46.849998</td>\n",
              "      <td>46.235001</td>\n",
              "      <td>46.572498</td>\n",
              "      <td>46.512501</td>\n",
              "      <td>1.266524e+08</td>\n",
              "      <td>44.811604</td>\n",
              "    </tr>\n",
              "    <tr>\n",
              "      <th>75%</th>\n",
              "      <td>52.343750</td>\n",
              "      <td>51.446249</td>\n",
              "      <td>51.920000</td>\n",
              "      <td>51.940001</td>\n",
              "      <td>1.630124e+08</td>\n",
              "      <td>50.084505</td>\n",
              "    </tr>\n",
              "    <tr>\n",
              "      <th>max</th>\n",
              "      <td>58.367500</td>\n",
              "      <td>57.445000</td>\n",
              "      <td>57.695000</td>\n",
              "      <td>58.017502</td>\n",
              "      <td>3.849868e+08</td>\n",
              "      <td>56.013641</td>\n",
              "    </tr>\n",
              "  </tbody>\n",
              "</table>\n",
              "</div>"
            ],
            "text/plain": [
              "             High         Low        Open       Close        Volume   Adj Close\n",
              "count  251.000000  251.000000  251.000000  251.000000  2.510000e+02  251.000000\n",
              "mean    47.748526   46.795877   47.277859   47.263357  1.360803e+08   45.483717\n",
              "std      5.146255    5.109996    5.126908    5.148465  5.850376e+07    5.057749\n",
              "min     37.887501   36.647499   37.037498   36.707500  5.005560e+07   35.563320\n",
              "25%     43.737499   43.005001   43.356251   43.285000  9.418680e+07   41.541780\n",
              "50%     46.849998   46.235001   46.572498   46.512501  1.266524e+08   44.811604\n",
              "75%     52.343750   51.446249   51.920000   51.940001  1.630124e+08   50.084505\n",
              "max     58.367500   57.445000   57.695000   58.017502  3.849868e+08   56.013641"
            ]
          },
          "metadata": {
            "tags": []
          },
          "execution_count": 7
        }
      ]
    },
    {
      "cell_type": "code",
      "metadata": {
        "id": "U9ua3zwNPbxg"
      },
      "source": [
        "df.to_csv('aaptl_02_04.csv')"
      ],
      "execution_count": 8,
      "outputs": []
    },
    {
      "cell_type": "code",
      "metadata": {
        "id": "P3rnp8s3PlHM"
      },
      "source": [
        "df['Change'] = df.Open-df.Close"
      ],
      "execution_count": 10,
      "outputs": []
    }
  ]
}