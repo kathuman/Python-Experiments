{
 "cells": [
  {
   "cell_type": "code",
   "execution_count": 2,
   "metadata": {},
   "outputs": [],
   "source": [
    "# -*- coding: utf-8 -*-\n",
    "from datetime import datetime\n",
    "import json\n",
    "import numpy as np\n",
    "import pandas as pd\n",
    "from pandas_datareader import data as wb\n",
    "from scipy.stats import norm, gmean"
   ]
  },
  {
   "cell_type": "code",
   "execution_count": 14,
   "metadata": {},
   "outputs": [],
   "source": [
    "START_DATE = '2007-01-01'\n",
    "YEARS = 20 # years into the future that the forecast is looking into\n",
    "DAYS_IN_YEAR = 253 # average number of trading days in a year\n",
    "YEARLY_SAVINGS = 1200\n",
    "DAILY_SAVINGS = YEARLY_SAVINGS/DAYS_IN_YEAR\n",
    "PORTFOLIO_VALUE = 1000"
   ]
  },
  {
   "cell_type": "code",
   "execution_count": 24,
   "metadata": {},
   "outputs": [],
   "source": [
    "def get_simulation(data):\n",
    "    log_returns = np.log(1+data.pct_change())\n",
    "    u = log_returns.mean()\n",
    "    var = log_returns.var()\n",
    "    drift = u-(0.5*var)\n",
    "    stdev = log_returns.std()\n",
    "    t_intervals = DAYS_IN_YEAR*YEARS\n",
    "    iterations = 10  #number of Montecarlo simulations to do with each stock passing\n",
    "    daily_returns = np.exp(drift+stdev*norm.ppf(np.random.rand(t_intervals, iterations)))\n",
    "    S0 = data.iloc[-1]\n",
    "    price_list = np.zeros_like(daily_returns)\n",
    "    price_list[0] = S0\n",
    "    for t in range(1,t_intervals):\n",
    "        price_list[t] = price_list[t-1]*daily_returns[t]\n",
    "        # There is an option to do this with daily savings also:\n",
    "        # price_list[t] = (price_list[t-1]+DAILY_SAVINGS)*daily_returns[t]\n",
    "    asset_returns = price_list[-1]/price_list[0]\n",
    "    return gmean(asset_returns)\n",
    "\n",
    "def get_data(stock):\n",
    "    data = pd.DataFrame()\n",
    "    if stock['type'] == 'index':\n",
    "            data = wb.DataReader(stock['ticker'], 'stooq', start=START_DATE)['Close']\n",
    "            return get_simulation(data)\n",
    "    data = wb.DataReader(stock['ticker'], 'yahoo', start=START_DATE)['Close']\n",
    "    return get_simulation(data)\n",
    "\n",
    "def get_expected_portfolio_return(portfolio):\n",
    "    return np.sum(portfolio['weight']*portfolio['returns'])\n",
    "\n",
    "def get_portfolio():\n",
    "    with open('portfolio.json','r') as portfolio_file:\n",
    "        portfolio_json = portfolio_file.read()\n",
    "        return json.loads(portfolio_json)['portfolio']"
   ]
  },
  {
   "cell_type": "code",
   "execution_count": 25,
   "metadata": {},
   "outputs": [],
   "source": [
    "portfolio_data = get_portfolio()\n",
    "portfolio = pd.DataFrame(portfolio_data).assign(returns = [get_data(stock) for stock in portfolio_data])\n",
    "\n",
    "expected_portfolio_return = get_expected_portfolio_return(portfolio)\n",
    "final_value = expected_portfolio_return * PORTFOLIO_VALUE"
   ]
  },
  {
   "cell_type": "code",
   "execution_count": 34,
   "metadata": {},
   "outputs": [
    {
     "name": "stdout",
     "output_type": "stream",
     "text": [
      "Estimated value of Portfolio in 2040 : £982.54 \n",
      "Expected Portfolio Return: 98.25%\n",
      "Estimated Income £39.30\n"
     ]
    }
   ],
   "source": [
    "print('Estimated value of Portfolio in {} : £{:,.2f} \\nExpected Portfolio Return: {:,.2f}%'.format(datetime.now().year + YEARS, final_value, expected_portfolio_return * 100))\n",
    "print('Estimated Income £{:,.2f}'.format(final_value * 0.04))"
   ]
  }
 ],
 "metadata": {
  "kernelspec": {
   "display_name": "Python 3",
   "language": "python",
   "name": "python3"
  },
  "language_info": {
   "codemirror_mode": {
    "name": "ipython",
    "version": 3
   },
   "file_extension": ".py",
   "mimetype": "text/x-python",
   "name": "python",
   "nbconvert_exporter": "python",
   "pygments_lexer": "ipython3",
   "version": "3.6.8"
  }
 },
 "nbformat": 4,
 "nbformat_minor": 4
}
