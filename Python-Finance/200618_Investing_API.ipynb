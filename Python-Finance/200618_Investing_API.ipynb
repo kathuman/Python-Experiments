{
 "cells": [
  {
   "cell_type": "code",
   "execution_count": 1,
   "metadata": {},
   "outputs": [],
   "source": [
    "import investpy"
   ]
  },
  {
   "cell_type": "code",
   "execution_count": 2,
   "metadata": {},
   "outputs": [
    {
     "name": "stdout",
     "output_type": "stream",
     "text": [
      "             Open   High    Low  Close    Volume Currency\n",
      "Date                                                     \n",
      "2020-05-18  2.619  2.744  2.601  2.722  23862000      EUR\n",
      "2020-05-19  2.800  2.820  2.532  2.599  42366000      EUR\n",
      "2020-05-20  2.547  2.599  2.457  2.583  35358000      EUR\n",
      "2020-05-21  2.544  2.618  2.505  2.566  21854000      EUR\n",
      "2020-05-22  2.522  2.657  2.495  2.589  32615000      EUR\n"
     ]
    }
   ],
   "source": [
    "df = investpy.get_stock_recent_data(stock='BBVA', country='spain')\n",
    "print(df.head())"
   ]
  },
  {
   "cell_type": "code",
   "execution_count": 3,
   "metadata": {},
   "outputs": [
    {
     "name": "stdout",
     "output_type": "stream",
     "text": [
      "             Open   High    Low  Close  Volume Currency\n",
      "Date                                                   \n",
      "2010-01-04  12.73  12.96  12.73  12.96       0      EUR\n",
      "2010-01-05  13.00  13.11  12.97  13.09       0      EUR\n",
      "2010-01-06  13.03  13.17  13.02  13.12       0      EUR\n",
      "2010-01-07  13.02  13.11  12.93  13.05       0      EUR\n",
      "2010-01-08  13.12  13.22  13.04  13.18       0      EUR\n"
     ]
    }
   ],
   "source": [
    "df = investpy.get_stock_historical_data(stock='BBVA',\n",
    "                                        country='spain',\n",
    "                                        from_date='01/01/2010',\n",
    "                                        to_date='01/01/2019')\n",
    "print(df.head())"
   ]
  },
  {
   "cell_type": "code",
   "execution_count": 4,
   "metadata": {},
   "outputs": [
    {
     "name": "stdout",
     "output_type": "stream",
     "text": [
      "          country  name                             full_name          isin  \\\n",
      "0          mexico  BBVA    Banco Bilbao Vizcaya Argentaria SA  ES0113211835   \n",
      "1          mexico  BBVA  Banco Bilbao Vizcaya Argentaria S.A.  ES0113211835   \n",
      "2         belgium  BBVA    Banco Bilbao Vizcaya Argentaria SA  ES0113211835   \n",
      "3           spain  BBVA                                  BBVA  ES0113211835   \n",
      "4  united kingdom  BBVA    Banco Bilbao Vizcaya Argentaria Sa  ES0113211835   \n",
      "\n",
      "  currency symbol  \n",
      "0      MXN   BBVA  \n",
      "1      MXN   BBVA  \n",
      "2      EUR   BBVA  \n",
      "3      EUR   BBVA  \n",
      "4      EUR   BVAB  \n"
     ]
    }
   ],
   "source": [
    "search_results = investpy.search_stocks(by='isin', value='ES0113211835')\n",
    "\n",
    "print(search_results.head())"
   ]
  },
  {
   "cell_type": "code",
   "execution_count": 7,
   "metadata": {},
   "outputs": [
    {
     "name": "stdout",
     "output_type": "stream",
     "text": [
      "[<investpy.utils.search_obj.SearchObj object at 0x0D5092D0>, <investpy.utils.search_obj.SearchObj object at 0x0D509910>, <investpy.utils.search_obj.SearchObj object at 0x0D5096D0>, <investpy.utils.search_obj.SearchObj object at 0x0D5097D0>, <investpy.utils.search_obj.SearchObj object at 0x0D5099F0>, <investpy.utils.search_obj.SearchObj object at 0x0D509F70>, <investpy.utils.search_obj.SearchObj object at 0x0D509AD0>, <investpy.utils.search_obj.SearchObj object at 0x0D509690>, <investpy.utils.search_obj.SearchObj object at 0x0D509D90>, <investpy.utils.search_obj.SearchObj object at 0x0D5096F0>, <investpy.utils.search_obj.SearchObj object at 0x0D509FB0>, <investpy.utils.search_obj.SearchObj object at 0x0D509F90>, <investpy.utils.search_obj.SearchObj object at 0x0D509F50>, <investpy.utils.search_obj.SearchObj object at 0x0D509F30>, <investpy.utils.search_obj.SearchObj object at 0x0D509F10>, <investpy.utils.search_obj.SearchObj object at 0x0D509EB0>, <investpy.utils.search_obj.SearchObj object at 0x0D509E30>, <investpy.utils.search_obj.SearchObj object at 0x0D509E10>, <investpy.utils.search_obj.SearchObj object at 0x0D509DF0>, <investpy.utils.search_obj.SearchObj object at 0x0D509DD0>, <investpy.utils.search_obj.SearchObj object at 0x0D509DB0>, <investpy.utils.search_obj.SearchObj object at 0x0D509D70>, <investpy.utils.search_obj.SearchObj object at 0x0D509D50>, <investpy.utils.search_obj.SearchObj object at 0x0D509D30>, <investpy.utils.search_obj.SearchObj object at 0x0D509BD0>, <investpy.utils.search_obj.SearchObj object at 0x0D509BB0>, <investpy.utils.search_obj.SearchObj object at 0x0D509B10>, <investpy.utils.search_obj.SearchObj object at 0x0D509AB0>, <investpy.utils.search_obj.SearchObj object at 0x0D509A90>, <investpy.utils.search_obj.SearchObj object at 0x0D509A70>, <investpy.utils.search_obj.SearchObj object at 0x0D509A30>, <investpy.utils.search_obj.SearchObj object at 0x0D509A10>, <investpy.utils.search_obj.SearchObj object at 0x0D5099D0>, <investpy.utils.search_obj.SearchObj object at 0x0D5099B0>, <investpy.utils.search_obj.SearchObj object at 0x0D509770>, <investpy.utils.search_obj.SearchObj object at 0x0D509B70>, <investpy.utils.search_obj.SearchObj object at 0x0D509BF0>, <investpy.utils.search_obj.SearchObj object at 0x0D509B50>, <investpy.utils.search_obj.SearchObj object at 0x0D509CD0>, <investpy.utils.search_obj.SearchObj object at 0x0D509750>, <investpy.utils.search_obj.SearchObj object at 0x0D509D10>, <investpy.utils.search_obj.SearchObj object at 0x0D5092F0>, <investpy.utils.search_obj.SearchObj object at 0x0D5091F0>, <investpy.utils.search_obj.SearchObj object at 0x0D509130>, <investpy.utils.search_obj.SearchObj object at 0x0D509150>, <investpy.utils.search_obj.SearchObj object at 0x0D509350>, <investpy.utils.search_obj.SearchObj object at 0x0D509570>]\n"
     ]
    }
   ],
   "source": [
    "search_results = investpy.search(text='gold')\n",
    "print(search_results)"
   ]
  },
  {
   "cell_type": "code",
   "execution_count": 8,
   "metadata": {},
   "outputs": [
    {
     "name": "stdout",
     "output_type": "stream",
     "text": [
      "             Open    High    Low   Close  Volume Currency\n",
      "Date                                                     \n",
      "2014-01-01  805.9   829.9  771.0   815.9   10757      USD\n",
      "2014-01-02  815.9   886.2  810.5   856.9   12812      USD\n",
      "2014-01-03  856.9   888.2  839.4   884.3    9709      USD\n",
      "2014-01-04  884.3   932.2  848.3   924.7   14239      USD\n",
      "2014-01-05  924.7  1029.9  911.4  1014.7   21374      USD\n"
     ]
    }
   ],
   "source": [
    "data = investpy.get_crypto_historical_data(crypto='bitcoin', from_date='01/01/2014', to_date='01/01/2019')\n",
    "\n",
    "print(data.head())"
   ]
  },
  {
   "cell_type": "code",
   "execution_count": 9,
   "metadata": {},
   "outputs": [
    {
     "name": "stdout",
     "output_type": "stream",
     "text": [
      "{'url': 'https://www.investing.com/equities/bbva-company-profile', 'desc': 'Banco Bilbao Vizcaya Argentaria, S.A. (BBVA) is a diversified financial company engaged in retail banking, wholesale banking, asset management and private banking. Its segments include Banking Activity in Spain, Real Estate Activity in Spain, the United States Turkey, Mexico, South America and Rest of Eurasia. Its Banking Activity in Spain segment includes Retail Network in Spain, Corporate and Business Banking (CBB), and BBVA Seguros and Asset Management units in Spain. Its Real Estate Activity in Spain segment covers specialist management of real-estate assets in the country. In the United States it offers services through, BBVA Compass Bancshares Inc. and the BBVA New York branch. The Turkey segment represents its stake in the Turkish bank, Turkiye Garanti Bankasi A.S. It offers banking and insurance businesses in Mexico. In South America, it provides banking and insurance businesses. The Rest of Eurasia segment includes business activity in the rest of Europe and Asia.'}\n"
     ]
    }
   ],
   "source": [
    "company_profile = investpy.get_stock_company_profile(stock='bbva',\n",
    "                                                     country='spain')\n",
    "print(company_profile)"
   ]
  },
  {
   "cell_type": "code",
   "execution_count": null,
   "metadata": {},
   "outputs": [],
   "source": []
  }
 ],
 "metadata": {
  "kernelspec": {
   "display_name": "Python 3",
   "language": "python",
   "name": "python3"
  },
  "language_info": {
   "codemirror_mode": {
    "name": "ipython",
    "version": 3
   },
   "file_extension": ".py",
   "mimetype": "text/x-python",
   "name": "python",
   "nbconvert_exporter": "python",
   "pygments_lexer": "ipython3",
   "version": "3.7.3"
  }
 },
 "nbformat": 4,
 "nbformat_minor": 2
}
