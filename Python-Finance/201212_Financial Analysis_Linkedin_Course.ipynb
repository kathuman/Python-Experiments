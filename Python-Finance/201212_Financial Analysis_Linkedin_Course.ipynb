{
 "cells": [
  {
   "cell_type": "markdown",
   "metadata": {},
   "source": [
    "https://www.linkedin.com/learning/algorithmic-trading-and-finance-models-with-python-r-and-stata-essential-training/importing-data-in-python"
   ]
  },
  {
   "cell_type": "code",
   "execution_count": 6,
   "metadata": {},
   "outputs": [],
   "source": [
    "import pandas as pd\n",
    "from pandas_datareader import data"
   ]
  },
  {
   "cell_type": "code",
   "execution_count": 7,
   "metadata": {},
   "outputs": [],
   "source": [
    "df = data.get_data_yahoo('MSFT','2018-01-01','2019-01-01')"
   ]
  },
  {
   "cell_type": "code",
   "execution_count": 8,
   "metadata": {},
   "outputs": [
    {
     "data": {
      "text/html": [
       "<div>\n",
       "<style scoped>\n",
       "    .dataframe tbody tr th:only-of-type {\n",
       "        vertical-align: middle;\n",
       "    }\n",
       "\n",
       "    .dataframe tbody tr th {\n",
       "        vertical-align: top;\n",
       "    }\n",
       "\n",
       "    .dataframe thead th {\n",
       "        text-align: right;\n",
       "    }\n",
       "</style>\n",
       "<table border=\"1\" class=\"dataframe\">\n",
       "  <thead>\n",
       "    <tr style=\"text-align: right;\">\n",
       "      <th></th>\n",
       "      <th>High</th>\n",
       "      <th>Low</th>\n",
       "      <th>Open</th>\n",
       "      <th>Close</th>\n",
       "      <th>Volume</th>\n",
       "      <th>Adj Close</th>\n",
       "    </tr>\n",
       "    <tr>\n",
       "      <th>Date</th>\n",
       "      <th></th>\n",
       "      <th></th>\n",
       "      <th></th>\n",
       "      <th></th>\n",
       "      <th></th>\n",
       "      <th></th>\n",
       "    </tr>\n",
       "  </thead>\n",
       "  <tbody>\n",
       "    <tr>\n",
       "      <td>2018-01-02</td>\n",
       "      <td>86.309998</td>\n",
       "      <td>85.500000</td>\n",
       "      <td>86.129997</td>\n",
       "      <td>85.949997</td>\n",
       "      <td>22483800.0</td>\n",
       "      <td>82.383636</td>\n",
       "    </tr>\n",
       "    <tr>\n",
       "      <td>2018-01-03</td>\n",
       "      <td>86.510002</td>\n",
       "      <td>85.970001</td>\n",
       "      <td>86.059998</td>\n",
       "      <td>86.349998</td>\n",
       "      <td>26061400.0</td>\n",
       "      <td>82.767044</td>\n",
       "    </tr>\n",
       "    <tr>\n",
       "      <td>2018-01-04</td>\n",
       "      <td>87.660004</td>\n",
       "      <td>86.570000</td>\n",
       "      <td>86.589996</td>\n",
       "      <td>87.110001</td>\n",
       "      <td>21912000.0</td>\n",
       "      <td>83.495522</td>\n",
       "    </tr>\n",
       "    <tr>\n",
       "      <td>2018-01-05</td>\n",
       "      <td>88.410004</td>\n",
       "      <td>87.430000</td>\n",
       "      <td>87.660004</td>\n",
       "      <td>88.190002</td>\n",
       "      <td>23407100.0</td>\n",
       "      <td>84.530701</td>\n",
       "    </tr>\n",
       "    <tr>\n",
       "      <td>2018-01-08</td>\n",
       "      <td>88.580002</td>\n",
       "      <td>87.599998</td>\n",
       "      <td>88.199997</td>\n",
       "      <td>88.279999</td>\n",
       "      <td>22113000.0</td>\n",
       "      <td>84.616966</td>\n",
       "    </tr>\n",
       "  </tbody>\n",
       "</table>\n",
       "</div>"
      ],
      "text/plain": [
       "                 High        Low       Open      Close      Volume  Adj Close\n",
       "Date                                                                         \n",
       "2018-01-02  86.309998  85.500000  86.129997  85.949997  22483800.0  82.383636\n",
       "2018-01-03  86.510002  85.970001  86.059998  86.349998  26061400.0  82.767044\n",
       "2018-01-04  87.660004  86.570000  86.589996  87.110001  21912000.0  83.495522\n",
       "2018-01-05  88.410004  87.430000  87.660004  88.190002  23407100.0  84.530701\n",
       "2018-01-08  88.580002  87.599998  88.199997  88.279999  22113000.0  84.616966"
      ]
     },
     "execution_count": 8,
     "metadata": {},
     "output_type": "execute_result"
    }
   ],
   "source": [
    "df.head()"
   ]
  }
 ],
 "metadata": {
  "kernelspec": {
   "display_name": "Python 3",
   "language": "python",
   "name": "python3"
  },
  "language_info": {
   "codemirror_mode": {
    "name": "ipython",
    "version": 3
   },
   "file_extension": ".py",
   "mimetype": "text/x-python",
   "name": "python",
   "nbconvert_exporter": "python",
   "pygments_lexer": "ipython3",
   "version": "3.7.4"
  }
 },
 "nbformat": 4,
 "nbformat_minor": 4
}
