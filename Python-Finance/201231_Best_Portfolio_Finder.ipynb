{
  "nbformat": 4,
  "nbformat_minor": 0,
  "metadata": {
    "colab": {
      "name": "Untitled2.ipynb",
      "provenance": [],
      "authorship_tag": "ABX9TyO1lBcaS+9u/09MIiNGvVoF",
      "include_colab_link": true
    },
    "kernelspec": {
      "name": "python3",
      "display_name": "Python 3"
    }
  },
  "cells": [
    {
      "cell_type": "markdown",
      "metadata": {
        "id": "view-in-github",
        "colab_type": "text"
      },
      "source": [
        "<a href=\"https://colab.research.google.com/github/kathuman/Python-Experiments/blob/main/Python-Finance/201231_Best_Portfolio_Finder.ipynb\" target=\"_parent\"><img src=\"https://colab.research.google.com/assets/colab-badge.svg\" alt=\"Open In Colab\"/></a>"
      ]
    },
    {
      "cell_type": "code",
      "metadata": {
        "id": "3Q-F1sU3nLdo"
      },
      "source": [
        "import pandas_datareader as pdr\r\n",
        "import pandas as pd"
      ],
      "execution_count": 1,
      "outputs": []
    },
    {
      "cell_type": "code",
      "metadata": {
        "colab": {
          "base_uri": "https://localhost:8080/",
          "height": 450
        },
        "id": "lYLckY29nRpm",
        "outputId": "b7ace48d-b628-4d90-dfab-e08edb9707ff"
      },
      "source": [
        "start_date = '2019-01-01'\r\n",
        "end_date = '2020-12-23'\r\n",
        "tickers = ['NZYM-B.CO', 'DANSKE.CO', 'NOVO-B.CO', 'ORSTED.CO']\r\n",
        "for idx, ticker in enumerate(tickers):\r\n",
        "  data_ticker = pdr.DataReader(ticker, 'yahoo', start_date, end_date)['Close']\r\n",
        "  if idx == 0:\r\n",
        "    data = data_ticker\r\n",
        "  else:\r\n",
        "    data = pd.concat([data, data_ticker], axis=1)\r\n",
        "data.columns = tickers\r\n",
        "data"
      ],
      "execution_count": 2,
      "outputs": [
        {
          "output_type": "execute_result",
          "data": {
            "text/html": [
              "<div>\n",
              "<style scoped>\n",
              "    .dataframe tbody tr th:only-of-type {\n",
              "        vertical-align: middle;\n",
              "    }\n",
              "\n",
              "    .dataframe tbody tr th {\n",
              "        vertical-align: top;\n",
              "    }\n",
              "\n",
              "    .dataframe thead th {\n",
              "        text-align: right;\n",
              "    }\n",
              "</style>\n",
              "<table border=\"1\" class=\"dataframe\">\n",
              "  <thead>\n",
              "    <tr style=\"text-align: right;\">\n",
              "      <th></th>\n",
              "      <th>NZYM-B.CO</th>\n",
              "      <th>DANSKE.CO</th>\n",
              "      <th>NOVO-B.CO</th>\n",
              "      <th>ORSTED.CO</th>\n",
              "    </tr>\n",
              "    <tr>\n",
              "      <th>Date</th>\n",
              "      <th></th>\n",
              "      <th></th>\n",
              "      <th></th>\n",
              "      <th></th>\n",
              "    </tr>\n",
              "  </thead>\n",
              "  <tbody>\n",
              "    <tr>\n",
              "      <th>2019-01-02</th>\n",
              "      <td>288.100006</td>\n",
              "      <td>128.699997</td>\n",
              "      <td>304.299988</td>\n",
              "      <td>428.100006</td>\n",
              "    </tr>\n",
              "    <tr>\n",
              "      <th>2019-01-03</th>\n",
              "      <td>285.500000</td>\n",
              "      <td>128.399994</td>\n",
              "      <td>310.000000</td>\n",
              "      <td>436.000000</td>\n",
              "    </tr>\n",
              "    <tr>\n",
              "      <th>2019-01-04</th>\n",
              "      <td>293.100006</td>\n",
              "      <td>133.850006</td>\n",
              "      <td>312.649994</td>\n",
              "      <td>438.299988</td>\n",
              "    </tr>\n",
              "    <tr>\n",
              "      <th>2019-01-07</th>\n",
              "      <td>292.500000</td>\n",
              "      <td>133.500000</td>\n",
              "      <td>312.399994</td>\n",
              "      <td>439.899994</td>\n",
              "    </tr>\n",
              "    <tr>\n",
              "      <th>2019-01-08</th>\n",
              "      <td>298.899994</td>\n",
              "      <td>132.850006</td>\n",
              "      <td>314.500000</td>\n",
              "      <td>440.200012</td>\n",
              "    </tr>\n",
              "    <tr>\n",
              "      <th>...</th>\n",
              "      <td>...</td>\n",
              "      <td>...</td>\n",
              "      <td>...</td>\n",
              "      <td>...</td>\n",
              "    </tr>\n",
              "    <tr>\n",
              "      <th>2020-12-17</th>\n",
              "      <td>342.600006</td>\n",
              "      <td>96.099998</td>\n",
              "      <td>437.450012</td>\n",
              "      <td>1107.000000</td>\n",
              "    </tr>\n",
              "    <tr>\n",
              "      <th>2020-12-18</th>\n",
              "      <td>350.200012</td>\n",
              "      <td>97.779999</td>\n",
              "      <td>446.399994</td>\n",
              "      <td>1110.500000</td>\n",
              "    </tr>\n",
              "    <tr>\n",
              "      <th>2020-12-21</th>\n",
              "      <td>349.899994</td>\n",
              "      <td>99.820000</td>\n",
              "      <td>437.149994</td>\n",
              "      <td>1125.500000</td>\n",
              "    </tr>\n",
              "    <tr>\n",
              "      <th>2020-12-22</th>\n",
              "      <td>351.700012</td>\n",
              "      <td>98.480003</td>\n",
              "      <td>432.000000</td>\n",
              "      <td>1167.500000</td>\n",
              "    </tr>\n",
              "    <tr>\n",
              "      <th>2020-12-23</th>\n",
              "      <td>348.899994</td>\n",
              "      <td>101.400002</td>\n",
              "      <td>426.000000</td>\n",
              "      <td>1189.500000</td>\n",
              "    </tr>\n",
              "  </tbody>\n",
              "</table>\n",
              "<p>494 rows × 4 columns</p>\n",
              "</div>"
            ],
            "text/plain": [
              "             NZYM-B.CO   DANSKE.CO   NOVO-B.CO    ORSTED.CO\n",
              "Date                                                       \n",
              "2019-01-02  288.100006  128.699997  304.299988   428.100006\n",
              "2019-01-03  285.500000  128.399994  310.000000   436.000000\n",
              "2019-01-04  293.100006  133.850006  312.649994   438.299988\n",
              "2019-01-07  292.500000  133.500000  312.399994   439.899994\n",
              "2019-01-08  298.899994  132.850006  314.500000   440.200012\n",
              "...                ...         ...         ...          ...\n",
              "2020-12-17  342.600006   96.099998  437.450012  1107.000000\n",
              "2020-12-18  350.200012   97.779999  446.399994  1110.500000\n",
              "2020-12-21  349.899994   99.820000  437.149994  1125.500000\n",
              "2020-12-22  351.700012   98.480003  432.000000  1167.500000\n",
              "2020-12-23  348.899994  101.400002  426.000000  1189.500000\n",
              "\n",
              "[494 rows x 4 columns]"
            ]
          },
          "metadata": {
            "tags": []
          },
          "execution_count": 2
        }
      ]
    }
  ]
}