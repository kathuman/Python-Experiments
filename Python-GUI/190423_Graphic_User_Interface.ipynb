{
 "cells": [
  {
   "cell_type": "code",
   "execution_count": 1,
   "metadata": {},
   "outputs": [],
   "source": [
    "#!/usr/bin/python\n",
    "# -*- coding: iso-8859-1 -*-\n",
    "\n",
    "from turtle import TK as Tkinter\n",
    "\n",
    "class simpleapp_tk(Tkinter.Tk):\n",
    "    def __init__(self,parent):\n",
    "        Tkinter.Tk.__init__(self,parent)\n",
    "        self.parent = parent\n",
    "        self.initialize()\n",
    "\n",
    "    def initialize(self):\n",
    "        self.grid()\n",
    "\n",
    "        self.entryVariable = Tkinter.StringVar()\n",
    "        self.entry = Tkinter.Entry(self,textvariable=self.entryVariable)\n",
    "        self.entry.grid(column=0,row=0,sticky='EW')\n",
    "        self.entry.bind(\"<Return>\", self.OnPressEnter)\n",
    "        self.entryVariable.set(u\"Enter text here.\")\n",
    "\n",
    "        button = Tkinter.Button(self,text=u\"Click me !\",\n",
    "                                command=self.OnButtonClick)\n",
    "        button.grid(column=1,row=0)\n",
    "\n",
    "        self.labelVariable = Tkinter.StringVar()\n",
    "        label = Tkinter.Label(self,textvariable=self.labelVariable,\n",
    "                              anchor=\"w\",fg=\"white\",bg=\"blue\")\n",
    "        label.grid(column=0,row=1,columnspan=2,sticky='EW')\n",
    "        self.labelVariable.set(u\"Hello !\")\n",
    "\n",
    "        self.grid_columnconfigure(0,weight=1)\n",
    "        self.resizable(True,False)\n",
    "        self.update()\n",
    "        self.geometry(self.geometry())       \n",
    "        self.entry.focus_set()\n",
    "        self.entry.selection_range(0, Tkinter.END)\n",
    "\n",
    "    def OnButtonClick(self):\n",
    "        self.labelVariable.set( self.entryVariable.get()+\" (You clicked the button)\" )\n",
    "        self.entry.focus_set()\n",
    "        self.entry.selection_range(0, Tkinter.END)\n",
    "\n",
    "    def OnPressEnter(self,event):\n",
    "        self.labelVariable.set( self.entryVariable.get()+\" (You pressed ENTER)\" )\n",
    "        self.entry.focus_set()\n",
    "        self.entry.selection_range(0, Tkinter.END)\n",
    "\n",
    "if __name__ == \"__main__\":\n",
    "    app = simpleapp_tk(None)\n",
    "    app.title('my application')\n",
    "    app.mainloop()\n",
    "\n"
   ]
  },
  {
   "cell_type": "code",
   "execution_count": null,
   "metadata": {},
   "outputs": [],
   "source": []
  }
 ],
 "metadata": {
  "kernelspec": {
   "display_name": "Python 3",
   "language": "python",
   "name": "python3"
  },
  "language_info": {
   "codemirror_mode": {
    "name": "ipython",
    "version": 3
   },
   "file_extension": ".py",
   "mimetype": "text/x-python",
   "name": "python",
   "nbconvert_exporter": "python",
   "pygments_lexer": "ipython3",
   "version": "3.7.3"
  }
 },
 "nbformat": 4,
 "nbformat_minor": 2
}
