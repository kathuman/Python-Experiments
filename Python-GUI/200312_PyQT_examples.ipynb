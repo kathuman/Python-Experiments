{
 "cells": [
  {
   "cell_type": "code",
   "execution_count": null,
   "metadata": {},
   "outputs": [],
   "source": [
    "# pip install pyqt5\n",
    "# pip install pyqt5-tools"
   ]
  },
  {
   "cell_type": "code",
   "execution_count": 1,
   "metadata": {},
   "outputs": [
    {
     "data": {
      "text/plain": [
       "0"
      ]
     },
     "execution_count": 1,
     "metadata": {},
     "output_type": "execute_result"
    }
   ],
   "source": [
    "from PyQt5.QtWidgets import QApplication, QWidget, QLabel, QGridLayout, QLineEdit, QPushButton \n",
    " \n",
    "def convert(): \n",
    "    \"\"\"Takes miles entered, converts them to km, and displays the result\"\"\"\n",
    "    miles = float(entryMiles.text()) \n",
    "    entryKm.setText(str(miles * 1.60934)) \n",
    " \n",
    "app = QApplication([]) \n",
    " \n",
    "rootWindow = QWidget() \n",
    "rootWindow.setWindowTitle(\"Miles to kilometers\") \n",
    "rootWindow.resize(500, 200) \n",
    " \n",
    "gridLayout = QGridLayout(rootWindow) \n",
    " \n",
    "labelMiles = QLabel('Distance in miles:') \n",
    "gridLayout.addWidget(labelMiles, 0, 0) \n",
    " \n",
    "labelKm = QLabel('Distance in kilometers:') \n",
    "gridLayout.addWidget(labelKm, 2, 0) \n",
    " \n",
    "entryMiles = QLineEdit() \n",
    "gridLayout.addWidget(entryMiles, 0, 1) \n",
    " \n",
    "entryKm = QLineEdit() \n",
    "gridLayout.addWidget(entryKm, 2, 1) \n",
    " \n",
    "convertButton = QPushButton('Convert') \n",
    "gridLayout.addWidget(convertButton, 1, 1) \n",
    " \n",
    "convertButton.clicked.connect(convert) \n",
    " \n",
    "rootWindow.show() \n",
    " \n",
    "app.exec_() "
   ]
  },
  {
   "cell_type": "code",
   "execution_count": null,
   "metadata": {},
   "outputs": [],
   "source": []
  }
 ],
 "metadata": {
  "kernelspec": {
   "display_name": "Python 3",
   "language": "python",
   "name": "python3"
  },
  "language_info": {
   "codemirror_mode": {
    "name": "ipython",
    "version": 3
   },
   "file_extension": ".py",
   "mimetype": "text/x-python",
   "name": "python",
   "nbconvert_exporter": "python",
   "pygments_lexer": "ipython3",
   "version": "3.6.9"
  }
 },
 "nbformat": 4,
 "nbformat_minor": 4
}
