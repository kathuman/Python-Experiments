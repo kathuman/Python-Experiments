{
 "cells": [
  {
   "cell_type": "markdown",
   "metadata": {},
   "source": [
    "http://forthescience.org/blog/2010/07/12/the-mandelbrot-set-in-python/"
   ]
  },
  {
   "cell_type": "code",
   "execution_count": 3,
   "metadata": {},
   "outputs": [],
   "source": [
    "from PIL import Image\n",
    "\n",
    "max_iteration = 100\n",
    "x_center = -1.0\n",
    "y_center =  0.0\n",
    "size = 2000\n",
    "\n",
    "im = Image.new(\"RGB\", (size,size))\n",
    "for i in range(size):\n",
    "    for j in range(size):\n",
    "        x,y = ( x_center + 4.0*float(i-size/2)/size,\n",
    "                  y_center + 4.0*float(j-size/2)/size\n",
    "                )\n",
    "\n",
    "        a,b = (0.0, 0.0)\n",
    "        iteration = 0\n",
    "\n",
    "        while (a**2 + b**2 <= 4.0 and iteration < max_iteration):\n",
    "            a,b = a**2 - b**2 + x, 2*a*b + y\n",
    "            iteration += 1\n",
    "        if iteration == max_iteration:\n",
    "            color_value = 255\n",
    "        else:\n",
    "            color_value = iteration*10 % 255\n",
    "        im.putpixel( (i,j), (color_value, color_value, color_value))\n",
    "\n",
    "im.show()\n",
    "        \n",
    "# im.save(\"mandelbrot.png\", \"PNG\")"
   ]
  },
  {
   "cell_type": "code",
   "execution_count": null,
   "metadata": {
    "collapsed": true,
    "jupyter": {
     "outputs_hidden": true
    }
   },
   "outputs": [],
   "source": []
  }
 ],
 "metadata": {
  "kernelspec": {
   "display_name": "Python 3",
   "language": "python",
   "name": "python3"
  },
  "language_info": {
   "codemirror_mode": {
    "name": "ipython",
    "version": 3
   },
   "file_extension": ".py",
   "mimetype": "text/x-python",
   "name": "python",
   "nbconvert_exporter": "python",
   "pygments_lexer": "ipython3",
   "version": "3.6.8"
  }
 },
 "nbformat": 4,
 "nbformat_minor": 4
}
