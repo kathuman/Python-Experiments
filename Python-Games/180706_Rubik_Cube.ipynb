{
 "cells": [
  {
   "cell_type": "markdown",
   "metadata": {},
   "source": [
    "This is the implementation of the rubik cube solver module for python 2.7\n",
    "for more information see: https://pypi.org/project/pycuber/"
   ]
  },
  {
   "cell_type": "markdown",
   "metadata": {},
   "source": [
    "First load the library"
   ]
  },
  {
   "cell_type": "code",
   "execution_count": 1,
   "metadata": {},
   "outputs": [],
   "source": [
    "import pycuber as pc"
   ]
  },
  {
   "cell_type": "markdown",
   "metadata": {},
   "source": [
    "Now create an instance of the cube. As a default a cube is created with \n",
    "F (Front): Green, \n",
    "U (Up): Yellow, \n",
    "R (Right): Red, \n",
    "B (Back): Blue,\n",
    "D (Down): White, \n",
    "L (Left): Purple"
   ]
  },
  {
   "cell_type": "code",
   "execution_count": 2,
   "metadata": {},
   "outputs": [],
   "source": [
    "# Create a Cube object\n",
    "mycube = pc.Cube()"
   ]
  },
  {
   "cell_type": "markdown",
   "metadata": {},
   "source": [
    "Make some moves. These moves are according to the standard David Singmaster rubik cube Notation. These can be: \n",
    "\n",
    "  F (Front): the side currently facing the solver\n",
    "  B (Back): the side opposite the front\n",
    "  U (Up): the side above or on top of the front side\n",
    "  D (Down): the side opposite the top, underneath the Cube\n",
    "  L (Left): the side directly to the left of the front\n",
    "  R (Right): the side directly to the right of the front\n",
    "\n",
    "All of these can be either clockwise (X) or Counterclockwise (X')"
   ]
  },
  {
   "cell_type": "code",
   "execution_count": 3,
   "metadata": {},
   "outputs": [
    {
     "data": {
      "text/plain": [
       "      \u001b[43m  \u001b[49m\u001b[43m  \u001b[49m\u001b[42m  \u001b[49m\n",
       "      \u001b[43m  \u001b[49m\u001b[43m  \u001b[49m\u001b[42m  \u001b[49m\n",
       "      \u001b[43m  \u001b[49m\u001b[43m  \u001b[49m\u001b[42m  \u001b[49m\n",
       "\u001b[45m  \u001b[49m\u001b[45m  \u001b[49m\u001b[45m  \u001b[49m\u001b[42m  \u001b[49m\u001b[42m  \u001b[49m\u001b[47m  \u001b[49m\u001b[41m  \u001b[49m\u001b[41m  \u001b[49m\u001b[41m  \u001b[49m\u001b[43m  \u001b[49m\u001b[46m  \u001b[49m\u001b[46m  \u001b[49m\n",
       "\u001b[45m  \u001b[49m\u001b[45m  \u001b[49m\u001b[45m  \u001b[49m\u001b[42m  \u001b[49m\u001b[42m  \u001b[49m\u001b[47m  \u001b[49m\u001b[41m  \u001b[49m\u001b[41m  \u001b[49m\u001b[41m  \u001b[49m\u001b[43m  \u001b[49m\u001b[46m  \u001b[49m\u001b[46m  \u001b[49m\n",
       "\u001b[45m  \u001b[49m\u001b[45m  \u001b[49m\u001b[45m  \u001b[49m\u001b[42m  \u001b[49m\u001b[42m  \u001b[49m\u001b[47m  \u001b[49m\u001b[41m  \u001b[49m\u001b[41m  \u001b[49m\u001b[41m  \u001b[49m\u001b[43m  \u001b[49m\u001b[46m  \u001b[49m\u001b[46m  \u001b[49m\n",
       "      \u001b[47m  \u001b[49m\u001b[47m  \u001b[49m\u001b[46m  \u001b[49m\n",
       "      \u001b[47m  \u001b[49m\u001b[47m  \u001b[49m\u001b[46m  \u001b[49m\n",
       "      \u001b[47m  \u001b[49m\u001b[47m  \u001b[49m\u001b[46m  \u001b[49m"
      ]
     },
     "execution_count": 3,
     "metadata": {},
     "output_type": "execute_result"
    }
   ],
   "source": [
    "# Do something at the cube. In this case the cube is moved clockwise in its right side, clockwise in its upside, \n",
    "# counterclockwise in its right side, and finally Counterclockwise in its upside\n",
    "#if a move is made at all, the result is shown graphically after the move is made.\n",
    "# mycube(\"R U R' U'\")\n",
    "mycube(\"R\")"
   ]
  },
  {
   "cell_type": "markdown",
   "metadata": {},
   "source": [
    "The cube can be printed in ASCII code as well."
   ]
  },
  {
   "cell_type": "code",
   "execution_count": 4,
   "metadata": {},
   "outputs": [
    {
     "name": "stdout",
     "output_type": "stream",
     "text": [
      "         [y][y][g]\n",
      "         [y][y][g]\n",
      "         [y][y][g]\n",
      "[r][r][r][g][g][w][o][o][o][y][b][b]\n",
      "[r][r][r][g][g][w][o][o][o][y][b][b]\n",
      "[r][r][r][g][g][w][o][o][o][y][b][b]\n",
      "         [w][w][b]\n",
      "         [w][w][b]\n",
      "         [w][w][b]\n",
      "\n"
     ]
    }
   ],
   "source": [
    "print(mycube)"
   ]
  },
  {
   "cell_type": "code",
   "execution_count": null,
   "metadata": {},
   "outputs": [],
   "source": []
  }
 ],
 "metadata": {
  "kernelspec": {
   "display_name": "Python 3",
   "language": "python",
   "name": "python3"
  },
  "language_info": {
   "codemirror_mode": {
    "name": "ipython",
    "version": 3
   },
   "file_extension": ".py",
   "mimetype": "text/x-python",
   "name": "python",
   "nbconvert_exporter": "python",
   "pygments_lexer": "ipython3",
   "version": "3.7.3"
  }
 },
 "nbformat": 4,
 "nbformat_minor": 2
}
