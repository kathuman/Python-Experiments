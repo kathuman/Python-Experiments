{
 "cells": [
  {
   "cell_type": "code",
   "execution_count": 1,
   "metadata": {},
   "outputs": [
    {
     "name": "stdin",
     "output_type": "stream",
     "text": [
      "Enter a string:  my life is taking a wonderful turn into the unknown\n"
     ]
    },
    {
     "name": "stdout",
     "output_type": "stream",
     "text": [
      "words before:  ['my', 'life', 'is', 'taking', 'a', 'wonderful', 'turn', 'into', 'the', 'unknown']\n",
      "words after:  ['a', 'into', 'is', 'life', 'my', 'taking', 'the', 'turn', 'unknown', 'wonderful']\n",
      "the sorted words are: \n",
      "a\n",
      "into\n",
      "is\n",
      "life\n",
      "my\n",
      "taking\n",
      "the\n",
      "turn\n",
      "unknown\n",
      "wonderful\n"
     ]
    }
   ],
   "source": [
    "# program to sort words contained in a string\n",
    "\n",
    "# uncommentto have a standard example\n",
    "# my_str=\"hello this is an example with Cased Letters\"\n",
    "\n",
    "# uncomment to obtain the input form the user\n",
    "my_str = input(\"Enter a string: \")\n",
    "\n",
    "# breakdown the string into a list of words\n",
    "words =my_str.split()\n",
    "\n",
    "print(\"words before: \", words)\n",
    "#sort the list\n",
    "words.sort()\n",
    "print(\"words after: \", words)\n",
    "\n",
    "#display the sorted words\n",
    "\n",
    "print(\"the sorted words are: \")\n",
    "for word in words:\n",
    "\tprint(word)\n"
   ]
  },
  {
   "cell_type": "code",
   "execution_count": null,
   "metadata": {},
   "outputs": [],
   "source": []
  }
 ],
 "metadata": {
  "kernelspec": {
   "display_name": "Python 3",
   "language": "python",
   "name": "python3"
  },
  "language_info": {
   "codemirror_mode": {
    "name": "ipython",
    "version": 3
   },
   "file_extension": ".py",
   "mimetype": "text/x-python",
   "name": "python",
   "nbconvert_exporter": "python",
   "pygments_lexer": "ipython3",
   "version": "3.7.3"
  }
 },
 "nbformat": 4,
 "nbformat_minor": 2
}
