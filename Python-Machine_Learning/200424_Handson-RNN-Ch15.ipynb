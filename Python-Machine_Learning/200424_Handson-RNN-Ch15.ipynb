{
 "cells": [
  {
   "cell_type": "code",
   "execution_count": 1,
   "metadata": {},
   "outputs": [
    {
     "name": "stderr",
     "output_type": "stream",
     "text": [
      "Using TensorFlow backend.\n"
     ]
    }
   ],
   "source": [
    "# p.504\n",
    "import numpy as np\n",
    "import keras\n",
    "import matplotlib.pyplot as plt\n",
    "\n",
    "%matplotlib inline\n",
    "\n",
    "def generate_time_series(batch_size, n_steps):\n",
    "    freq1, freq2, offsets1, offsets2 = np.random.rand(4, batch_size, 1)\n",
    "    time = np.linspace(0,1,n_steps)\n",
    "    series = 0.5*np.sin((time-offsets1)*(freq1*10+10)) # wave 1\n",
    "    series += 0.2*np.sin((time-offsets2)*(freq2*20+20)) # wave 2\n",
    "    series += 0.1*(np.random.rand(batch_size, n_steps)-0.5) # noise\n",
    "    return series[...,np.newaxis].astype(np.float32)    "
   ]
  },
  {
   "cell_type": "code",
   "execution_count": 2,
   "metadata": {},
   "outputs": [],
   "source": [
    "# create training, test and validation data sets using this function\n",
    "\n",
    "n_steps = 50\n",
    "series = generate_time_series(10000, n_steps+1)\n",
    "X_train, y_train = series[:7000, :n_steps], series[:7000, -1]\n",
    "X_valid, y_valid = series[7000:9000, :n_steps], series[7000:9000, -1]\n",
    "X_test, y_test = series[9000:, :n_steps], series[9000:, -1]"
   ]
  },
  {
   "cell_type": "markdown",
   "metadata": {},
   "source": [
    "## 1.- Create the baseline metrics"
   ]
  },
  {
   "cell_type": "code",
   "execution_count": 3,
   "metadata": {},
   "outputs": [
    {
     "data": {
      "text/plain": [
       "0.02056435"
      ]
     },
     "execution_count": 3,
     "metadata": {},
     "output_type": "execute_result"
    }
   ],
   "source": [
    "# Baseline metrics\n",
    "# Naive forecasting: using the last valuein the series\n",
    "\n",
    "y_pred = X_valid[:, -1]\n",
    "np.mean(keras.losses.mean_squared_error(y_valid, y_pred))"
   ]
  },
  {
   "cell_type": "code",
   "execution_count": 4,
   "metadata": {},
   "outputs": [],
   "source": [
    "# Using a fully connected network\n",
    "\n",
    "model = keras.models.Sequential([\n",
    "    keras.layers.Flatten(input_shape=[50,1]),\n",
    "    keras.layers.Dense(1)\n",
    "])"
   ]
  },
  {
   "cell_type": "code",
   "execution_count": 5,
   "metadata": {},
   "outputs": [
    {
     "name": "stdout",
     "output_type": "stream",
     "text": [
      "Epoch 1/20\n",
      " - 0s - loss: 0.0487\n",
      "Epoch 2/20\n",
      " - 0s - loss: 0.0142\n",
      "Epoch 3/20\n",
      " - 0s - loss: 0.0115\n",
      "Epoch 4/20\n",
      " - 0s - loss: 0.0099\n",
      "Epoch 5/20\n",
      " - 0s - loss: 0.0085\n",
      "Epoch 6/20\n",
      " - 0s - loss: 0.0074\n",
      "Epoch 7/20\n",
      " - 0s - loss: 0.0065\n",
      "Epoch 8/20\n",
      " - 0s - loss: 0.0058\n",
      "Epoch 9/20\n",
      " - 0s - loss: 0.0053\n",
      "Epoch 10/20\n",
      " - 0s - loss: 0.0049\n",
      "Epoch 11/20\n",
      " - 0s - loss: 0.0046\n",
      "Epoch 12/20\n",
      " - 0s - loss: 0.0044\n",
      "Epoch 13/20\n",
      " - 0s - loss: 0.0043\n",
      "Epoch 14/20\n",
      " - 0s - loss: 0.0041\n",
      "Epoch 15/20\n",
      " - 0s - loss: 0.0040\n",
      "Epoch 16/20\n",
      " - 0s - loss: 0.0039\n",
      "Epoch 17/20\n",
      " - 0s - loss: 0.0039\n",
      "Epoch 18/20\n",
      " - 0s - loss: 0.0038\n",
      "Epoch 19/20\n",
      " - 0s - loss: 0.0037\n",
      "Epoch 20/20\n",
      " - 0s - loss: 0.0037\n"
     ]
    },
    {
     "data": {
      "text/plain": [
       "<keras.callbacks.callbacks.History at 0x7f3f881b1cf8>"
      ]
     },
     "execution_count": 5,
     "metadata": {},
     "output_type": "execute_result"
    }
   ],
   "source": [
    "model.compile(\"Adam\", loss=\"MSE\")\n",
    "model.fit(X_train,y_train, epochs=20, verbose=2)"
   ]
  },
  {
   "cell_type": "code",
   "execution_count": 6,
   "metadata": {},
   "outputs": [
    {
     "data": {
      "image/png": "[encoded data removed]",
      "text/plain": [
       "<IPython.core.display.Image object>"
      ]
     },
     "execution_count": 6,
     "metadata": {},
     "output_type": "execute_result"
    }
   ],
   "source": [
    "from keras.utils import plot_model\n",
    "plot_model(model, to_file='model.png', show_shapes=True, show_layer_names=True,\n",
    "    rankdir='TB', expand_nested=True, dpi=96)"
   ]
  },
  {
   "cell_type": "markdown",
   "metadata": {},
   "source": [
    "## 2.- Implement a simple RNN Model"
   ]
  },
  {
   "cell_type": "code",
   "execution_count": 7,
   "metadata": {},
   "outputs": [
    {
     "name": "stdout",
     "output_type": "stream",
     "text": [
      "Epoch 1/20\n",
      " - 2s - loss: 0.0741\n",
      "Epoch 2/20\n",
      " - 2s - loss: 0.0519\n",
      "Epoch 3/20\n",
      " - 2s - loss: 0.0358\n",
      "Epoch 4/20\n",
      " - 2s - loss: 0.0243\n",
      "Epoch 5/20\n",
      " - 2s - loss: 0.0173\n",
      "Epoch 6/20\n",
      " - 2s - loss: 0.0138\n",
      "Epoch 7/20\n",
      " - 2s - loss: 0.0124\n",
      "Epoch 8/20\n",
      " - 2s - loss: 0.0120\n",
      "Epoch 9/20\n",
      " - 2s - loss: 0.0118\n",
      "Epoch 10/20\n",
      " - 2s - loss: 0.0117\n",
      "Epoch 11/20\n",
      " - 2s - loss: 0.0116\n",
      "Epoch 12/20\n",
      " - 2s - loss: 0.0116\n",
      "Epoch 13/20\n",
      " - 2s - loss: 0.0115\n",
      "Epoch 14/20\n",
      " - 2s - loss: 0.0114\n",
      "Epoch 15/20\n",
      " - 2s - loss: 0.0114\n",
      "Epoch 16/20\n",
      " - 2s - loss: 0.0114\n",
      "Epoch 17/20\n",
      " - 2s - loss: 0.0114\n",
      "Epoch 18/20\n",
      " - 2s - loss: 0.0113\n",
      "Epoch 19/20\n",
      " - 2s - loss: 0.0113\n",
      "Epoch 20/20\n",
      " - 2s - loss: 0.0113\n"
     ]
    },
    {
     "data": {
      "text/plain": [
       "<keras.callbacks.callbacks.History at 0x7f3f0402ed30>"
      ]
     },
     "execution_count": 7,
     "metadata": {},
     "output_type": "execute_result"
    }
   ],
   "source": [
    "model = keras.models.Sequential([\n",
    "    keras.layers.SimpleRNN(1, input_shape=[None, 1])\n",
    "])\n",
    "\n",
    "model.compile(\"Adam\", loss=\"MSE\")\n",
    "model.fit(X_train,y_train, epochs=20, verbose=2)"
   ]
  },
  {
   "cell_type": "code",
   "execution_count": 8,
   "metadata": {},
   "outputs": [
    {
     "data": {
      "image/png": "[encoded data removed]",
      "text/plain": [
       "<IPython.core.display.Image object>"
      ]
     },
     "execution_count": 8,
     "metadata": {},
     "output_type": "execute_result"
    }
   ],
   "source": [
    "from keras.utils import plot_model\n",
    "plot_model(model, to_file='model.png', show_shapes=True, show_layer_names=True,\n",
    "    rankdir='TB', expand_nested=True, dpi=96)"
   ]
  },
  {
   "cell_type": "markdown",
   "metadata": {},
   "source": [
    "## 3.- Implement a Deep RNN"
   ]
  },
  {
   "cell_type": "code",
   "execution_count": 9,
   "metadata": {},
   "outputs": [],
   "source": [
    "model = keras.models.Sequential([\n",
    "    keras.layers.SimpleRNN(20, return_sequences=True, input_shape=[None,1]),\n",
    "    keras.layers.SimpleRNN(20, return_sequences=True),\n",
    "    keras.layers.SimpleRNN(1)\n",
    "])"
   ]
  },
  {
   "cell_type": "code",
   "execution_count": null,
   "metadata": {},
   "outputs": [
    {
     "name": "stdout",
     "output_type": "stream",
     "text": [
      "Epoch 1/20\n",
      " - 6s - loss: 0.0225\n",
      "Epoch 2/20\n",
      " - 5s - loss: 0.0063\n",
      "Epoch 3/20\n",
      " - 5s - loss: 0.0049\n",
      "Epoch 4/20\n",
      " - 5s - loss: 0.0042\n",
      "Epoch 5/20\n",
      " - 7s - loss: 0.0040\n",
      "Epoch 6/20\n",
      " - 6s - loss: 0.0038\n",
      "Epoch 7/20\n",
      " - 6s - loss: 0.0036\n",
      "Epoch 8/20\n",
      " - 6s - loss: 0.0036\n",
      "Epoch 9/20\n",
      " - 6s - loss: 0.0036\n",
      "Epoch 10/20\n",
      " - 6s - loss: 0.0034\n",
      "Epoch 11/20\n",
      " - 6s - loss: 0.0034\n",
      "Epoch 12/20\n",
      " - 6s - loss: 0.0032\n",
      "Epoch 13/20\n",
      " - 6s - loss: 0.0033\n",
      "Epoch 14/20\n",
      " - 6s - loss: 0.0031\n",
      "Epoch 15/20\n",
      " - 6s - loss: 0.0032\n",
      "Epoch 16/20\n",
      " - 6s - loss: 0.0031\n",
      "Epoch 17/20\n",
      " - 6s - loss: 0.0032\n",
      "Epoch 18/20\n",
      " - 6s - loss: 0.0031\n",
      "Epoch 19/20\n",
      " - 7s - loss: 0.0031\n",
      "Epoch 20/20\n"
     ]
    }
   ],
   "source": [
    "model.compile(\"Adam\", loss=\"MSE\")\n",
    "model.fit(X_train,y_train, epochs=20, verbose=2)"
   ]
  },
  {
   "cell_type": "code",
   "execution_count": null,
   "metadata": {},
   "outputs": [],
   "source": [
    "from keras.utils import plot_model\n",
    "plot_model(model, to_file='model.png', show_shapes=True, show_layer_names=True,\n",
    "    rankdir='TB', expand_nested=True, dpi=96)"
   ]
  },
  {
   "cell_type": "markdown",
   "metadata": {},
   "source": [
    "## 4.- Forecasting several steps ahead"
   ]
  },
  {
   "cell_type": "code",
   "execution_count": null,
   "metadata": {},
   "outputs": [],
   "source": [
    "series = generate_time_series(1, n_steps+10)\n",
    "X_new, Y_new = series[:, :n_steps], series[:, n_steps:]\n",
    "X = X_new\n",
    "for step_ahead in range(10):\n",
    "    y_pred_one = model.predict(X[:, step_ahead:])[:, np.newaxis,:]\n",
    "    X = np.concatenate([X, y_pred_one], axis=1)\n",
    "\n",
    "Y_pred = X[:, n_steps:]"
   ]
  },
  {
   "cell_type": "code",
   "execution_count": null,
   "metadata": {},
   "outputs": [],
   "source": [
    "plt.figure(1, figsize = [12, 6]) \n",
    "plt.plot(X_new[0], label=\"X_new\")\n",
    "plt.plot(X[0], label=\"X_pred\")\n",
    "plt.show()"
   ]
  },
  {
   "cell_type": "code",
   "execution_count": null,
   "metadata": {},
   "outputs": [],
   "source": []
  }
 ],
 "metadata": {
  "kernelspec": {
   "display_name": "Python 3",
   "language": "python",
   "name": "python3"
  },
  "language_info": {
   "codemirror_mode": {
    "name": "ipython",
    "version": 3
   },
   "file_extension": ".py",
   "mimetype": "text/x-python",
   "name": "python",
   "nbconvert_exporter": "python",
   "pygments_lexer": "ipython3",
   "version": "3.6.9"
  }
 },
 "nbformat": 4,
 "nbformat_minor": 4
}
