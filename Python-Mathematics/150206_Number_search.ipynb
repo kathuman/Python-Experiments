{
  "nbformat": 4,
  "nbformat_minor": 0,
  "metadata": {
    "kernelspec": {
      "display_name": "Python 3",
      "language": "python",
      "name": "python3"
    },
    "language_info": {
      "codemirror_mode": {
        "name": "ipython",
        "version": 3
      },
      "file_extension": ".py",
      "mimetype": "text/x-python",
      "name": "python",
      "nbconvert_exporter": "python",
      "pygments_lexer": "ipython3",
      "version": "3.6.9"
    },
    "colab": {
      "name": "150206_Number_search.ipynb",
      "provenance": []
    }
  },
  "cells": [
    {
      "cell_type": "markdown",
      "metadata": {
        "id": "Lcv0cHnUZr_9"
      },
      "source": [
        "This program checks how many numbers in a range contain a 1"
      ]
    },
    {
      "cell_type": "code",
      "metadata": {
        "id": "ZwhpTKn1Zdyc",
        "outputId": "93114e88-1104-4cd2-bdf9-b55567fa2999",
        "colab": {
          "base_uri": "https://localhost:8080/",
          "height": 299
        }
      },
      "source": [
        "import time\n",
        "start_time = time.time()\n",
        "import matplotlib.pyplot as plt\n",
        "import numpy as np\n",
        "%matplotlib inline\n",
        "\n",
        "# define the basic search function\n",
        "def get_ones(str1):\n",
        "\n",
        "    c = 0\n",
        "    for i in str1:\n",
        "        if i == \"1\":\n",
        "            c = 1\n",
        "            break\n",
        "    return c\n",
        "\n",
        "# get the inputs\n",
        "total = int(input(\"Indicate the maximum number to check - \"))\n",
        "numbers = []\n",
        "data = []\n",
        "averagedata = []\n",
        "for maxi in range(1, total+1):\n",
        "\ttimes = 0\n",
        "\tfor i in range(0,maxi+1):\n",
        "\t\ttimes = times + get_ones(str(i))\n",
        "\tperc = float(times)/float(maxi)\n",
        "\t# create the data\n",
        "\t# print \"times: \", times\n",
        "\t# print \"maxi: \", maxi\n",
        "\t# print \"percentage: \" + \"%0.2f\" % perc + \"%\"\n",
        "\tnumbers.append(times)\n",
        "\tdata.append(perc)\n",
        "\taveragedata.append(np.mean(data))\n",
        "\n",
        "# graph the data\n",
        "plt.plot(numbers)\n",
        "plt.ylabel('numer of digits containing a 1')\n",
        "plt.show()\n",
        "elapsed_time = time.time() - start_time\n",
        "print(\"elapsed time: \", elapsed_time)"
      ],
      "execution_count": 1,
      "outputs": [
        {
          "output_type": "stream",
          "text": [
            "Indicate the maximum number to check - 100\n"
          ],
          "name": "stdout"
        },
        {
          "output_type": "display_data",
          "data": {
            "image/png": "[encoded data removed]",
            "text/plain": [
              "<Figure size 432x288 with 1 Axes>"
            ]
          },
          "metadata": {
            "tags": [],
            "needs_background": "light"
          }
        },
        {
          "output_type": "stream",
          "text": [
            "elapsed time:  5.2949042320251465\n"
          ],
          "name": "stdout"
        }
      ]
    },
    {
      "cell_type": "code",
      "metadata": {
        "id": "aLMIUSO0Zdyf"
      },
      "source": [
        ""
      ],
      "execution_count": null,
      "outputs": []
    }
  ]
}