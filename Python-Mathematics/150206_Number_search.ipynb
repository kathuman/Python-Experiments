{
 "cells": [
  {
   "cell_type": "code",
   "execution_count": null,
   "metadata": {},
   "outputs": [
    {
     "name": "stdin",
     "output_type": "stream",
     "text": [
      "Indicate the maximum number to check -  10000\n"
     ]
    }
   ],
   "source": [
    "import time\n",
    "start_time = time.time()\n",
    "import matplotlib.pyplot as plt\n",
    "import numpy as np\n",
    "%matplotlib inline\n",
    "\n",
    "# define the basic search function\n",
    "def get_ones(str1):\n",
    "\n",
    "    c = 0\n",
    "    for i in str1:\n",
    "        if i == \"1\":\n",
    "            c = 1\n",
    "            break\n",
    "    return c\n",
    "\n",
    "# get the inputs\n",
    "total = int(input(\"Indicate the maximum number to check - \"))\n",
    "numbers = []\n",
    "data = []\n",
    "averagedata = []\n",
    "for maxi in range(1, total+1):\n",
    "\ttimes = 0\n",
    "\tfor i in range(0,maxi+1):\n",
    "\t\ttimes = times + get_ones(str(i))\n",
    "\tperc = float(times)/float(maxi)\n",
    "\t# create the data\n",
    "\t# print \"times: \", times\n",
    "\t# print \"maxi: \", maxi\n",
    "\t# print \"percentage: \" + \"%0.2f\" % perc + \"%\"\n",
    "\tnumbers.append(times)\n",
    "\tdata.append(perc)\n",
    "\taveragedata.append(np.mean(data))\n",
    "\n",
    "# graph the data\n",
    "plt.plot(numbers)\n",
    "plt.ylabel('numer of digits containing a 1')\n",
    "plt.show()\n",
    "elapsed_time = time.time() - start_time\n",
    "print(\"elapsed time: \", elapsed_time)"
   ]
  },
  {
   "cell_type": "code",
   "execution_count": null,
   "metadata": {},
   "outputs": [],
   "source": []
  }
 ],
 "metadata": {
  "kernelspec": {
   "display_name": "Python 3",
   "language": "python",
   "name": "python3"
  },
  "language_info": {
   "codemirror_mode": {
    "name": "ipython",
    "version": 3
   },
   "file_extension": ".py",
   "mimetype": "text/x-python",
   "name": "python",
   "nbconvert_exporter": "python",
   "pygments_lexer": "ipython3",
   "version": "3.6.9"
  }
 },
 "nbformat": 4,
 "nbformat_minor": 4
}
