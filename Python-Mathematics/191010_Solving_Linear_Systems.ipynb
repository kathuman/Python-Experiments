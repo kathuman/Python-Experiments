{
  "nbformat": 4,
  "nbformat_minor": 0,
  "metadata": {
    "kernelspec": {
      "display_name": "Python 3",
      "language": "python",
      "name": "python3"
    },
    "language_info": {
      "codemirror_mode": {
        "name": "ipython",
        "version": 3
      },
      "file_extension": ".py",
      "mimetype": "text/x-python",
      "name": "python",
      "nbconvert_exporter": "python",
      "pygments_lexer": "ipython3",
      "version": "3.7.3"
    },
    "colab": {
      "name": "191010_Solving_Linear_Systems.ipynb",
      "provenance": []
    }
  },
  "cells": [
    {
      "cell_type": "markdown",
      "metadata": {
        "id": "a_XRMN-qaW9D"
      },
      "source": [
        "Source: https://www.math.ubc.ca/~pwalls/math-python/linear-algebra/solving-linear-systems/"
      ]
    },
    {
      "cell_type": "code",
      "metadata": {
        "id": "y6d2ibd3aW9F"
      },
      "source": [
        "import numpy as np\n",
        "import matplotlib.pyplot as plt\n",
        "import scipy.linalg as la\n",
        "%matplotlib inline"
      ],
      "execution_count": 1,
      "outputs": []
    },
    {
      "cell_type": "code",
      "metadata": {
        "id": "t0HbNiNGaW9G",
        "outputId": "ae12cf9a-c0dd-41a1-8641-f8faf0245302",
        "colab": {
          "base_uri": "https://localhost:8080/"
        }
      },
      "source": [
        "A = np.array([[1,1,2],[-1,3,1],[0,5,2]])\n",
        "print(A)"
      ],
      "execution_count": 2,
      "outputs": [
        {
          "output_type": "stream",
          "text": [
            "[[ 1  1  2]\n",
            " [-1  3  1]\n",
            " [ 0  5  2]]\n"
          ],
          "name": "stdout"
        }
      ]
    },
    {
      "cell_type": "code",
      "metadata": {
        "id": "SI4GyBTaaW9H",
        "outputId": "3fda248a-6ac7-44f0-fe18-37142bbaf289",
        "colab": {
          "base_uri": "https://localhost:8080/"
        }
      },
      "source": [
        "E1 = np.array([[1,0,3],[0,1,0],[0,0,1]])\n",
        "print(E1)"
      ],
      "execution_count": 3,
      "outputs": [
        {
          "output_type": "stream",
          "text": [
            "[[1 0 3]\n",
            " [0 1 0]\n",
            " [0 0 1]]\n"
          ],
          "name": "stdout"
        }
      ]
    },
    {
      "cell_type": "code",
      "metadata": {
        "id": "8EkIEPjUaW9H",
        "outputId": "fa518ea9-7981-47f6-8cc1-af5e56af4b95",
        "colab": {
          "base_uri": "https://localhost:8080/"
        }
      },
      "source": [
        "E1 @ A"
      ],
      "execution_count": 4,
      "outputs": [
        {
          "output_type": "execute_result",
          "data": {
            "text/plain": [
              "array([[ 1, 16,  8],\n",
              "       [-1,  3,  1],\n",
              "       [ 0,  5,  2]])"
            ]
          },
          "metadata": {
            "tags": []
          },
          "execution_count": 4
        }
      ]
    },
    {
      "cell_type": "code",
      "metadata": {
        "id": "r8G0lUsiaW9H"
      },
      "source": [
        ""
      ],
      "execution_count": null,
      "outputs": []
    }
  ]
}