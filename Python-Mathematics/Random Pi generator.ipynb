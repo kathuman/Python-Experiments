{
 "cells": [
  {
   "cell_type": "markdown",
   "metadata": {},
   "source": [
    "This is an excersice for calculating pi through statistical means."
   ]
  },
  {
   "cell_type": "code",
   "execution_count": 4,
   "metadata": {},
   "outputs": [],
   "source": [
    "%matplotlib inline \n",
    "import numpy as np\n",
    "import math\n",
    "import matplotlib.pyplot as plt\n",
    "\n",
    "def gcd(a, b):\n",
    "    while b != 0:\n",
    "        a, b = b, a % b\n",
    "    return a"
   ]
  },
  {
   "cell_type": "code",
   "execution_count": 6,
   "metadata": {},
   "outputs": [
    {
     "data": {
      "image/png": "[encoded data removed]",
      "text/plain": [
       "<Figure size 432x288 with 1 Axes>"
      ]
     },
     "metadata": {
      "needs_background": "light"
     },
     "output_type": "display_data"
    },
    {
     "name": "stdout",
     "output_type": "stream",
     "text": [
      "Average Error:  -2.7346984616532586\n",
      "Average Value:  3.055679567620661\n",
      "Average Ratio:  0.6466186098471933\n",
      "Standard Deviation:  4.446225581437286\n"
     ]
    }
   ],
   "source": [
    "maxversions =5000\n",
    "iterations = 500\n",
    "Number = 500000\n",
    "val = np.zeros(maxversions)\n",
    "x = np.zeros(maxversions)\n",
    "pes = np.zeros(maxversions)\n",
    "version = 0\n",
    "while version<maxversions:\n",
    "    cofactor = 0\n",
    "    coprime = 0\n",
    "    i = 0\n",
    "    while i<iterations:\n",
    "        a = int(Number*np.random.rand())\n",
    "        b = int(Number*np.random.rand())\n",
    "        if gcd(a,b)==1:\n",
    "            coprime = coprime + 1\n",
    "        else:\n",
    "            cofactor = cofactor + 1\n",
    "        i = i + 1\n",
    "    p = float(cofactor)/float(coprime)\n",
    "    result = math.sqrt(6/p)\n",
    "    x[version] = ((result-math.pi)/math.pi)* 100\n",
    "    val[version] = result\n",
    "    pes[version] = p\n",
    "    version = version +1\n",
    "plt.hist(x,20)\n",
    "plt.show()\n",
    "print(\"Average Error: \", np.mean(x))\n",
    "print(\"Average Value: \", np.mean(val))\n",
    "print(\"Average Ratio: \", np.mean(pes))\n",
    "print(\"Standard Deviation: \", np.std(x))"
   ]
  },
  {
   "cell_type": "code",
   "execution_count": null,
   "metadata": {},
   "outputs": [],
   "source": []
  }
 ],
 "metadata": {
  "kernelspec": {
   "display_name": "Python 3",
   "language": "python",
   "name": "python3"
  },
  "language_info": {
   "codemirror_mode": {
    "name": "ipython",
    "version": 3
   },
   "file_extension": ".py",
   "mimetype": "text/x-python",
   "name": "python",
   "nbconvert_exporter": "python",
   "pygments_lexer": "ipython3",
   "version": "3.6.9"
  }
 },
 "nbformat": 4,
 "nbformat_minor": 4
}
