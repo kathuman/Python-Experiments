{
  "nbformat": 4,
  "nbformat_minor": 0,
  "metadata": {
    "kernelspec": {
      "display_name": "Python 3",
      "language": "python",
      "name": "python3"
    },
    "language_info": {
      "codemirror_mode": {
        "name": "ipython",
        "version": 3
      },
      "file_extension": ".py",
      "mimetype": "text/x-python",
      "name": "python",
      "nbconvert_exporter": "python",
      "pygments_lexer": "ipython3",
      "version": "3.6.9"
    },
    "colab": {
      "name": "200324_Wave_Equation.ipynb",
      "provenance": [],
      "include_colab_link": true
    }
  },
  "cells": [
    {
      "cell_type": "markdown",
      "metadata": {
        "id": "view-in-github",
        "colab_type": "text"
      },
      "source": [
        "<a href=\"https://colab.research.google.com/github/kathuman/Python-Experiments/blob/main/Python-Mechanical_engineering/200324_Wave_Equation.ipynb\" target=\"_parent\"><img src=\"https://colab.research.google.com/assets/colab-badge.svg\" alt=\"Open In Colab\"/></a>"
      ]
    },
    {
      "cell_type": "code",
      "metadata": {
        "id": "IrNOCwJkR4RE",
        "outputId": "7784937a-26ee-40b6-b9cf-46f0371f126c",
        "colab": {
          "base_uri": "https://localhost:8080/",
          "height": 368
        }
      },
      "source": [
        "import numpy as np\n",
        "from numpy import pi\n",
        "import matplotlib.pyplot as plt\n",
        "import matplotlib.animation as animation\n",
        "\n",
        "%matplotlib inline\n",
        "\n",
        "plt.style.use('dark_background')\n",
        "\n",
        "fig = plt.figure()\n",
        "fig.set_dpi(100)\n",
        "ax1 = fig.add_subplot(1,1,1)\n",
        "\n",
        "#Wave speed\n",
        "c = 1\n",
        "\n",
        "#x axis\n",
        "x0 = np.linspace(-pi,pi,10000)\n",
        "\n",
        "#Initial time\n",
        "t0 = 0\n",
        "\n",
        "#Time increment\n",
        "dt = 0.05\n",
        "\n",
        "#Wave equation solution\n",
        "def u(x,t):\n",
        "    return 0.5*(np.sin(x+c*t) + np.sin(x-c*t))\n",
        "\n",
        "a = []\n",
        "\n",
        "for i in range(500):\n",
        "    value = u(x0,t0)\n",
        "    t0 = t0 + dt\n",
        "    a.append(value)\n",
        "\n",
        "k = 0\n",
        "def animate(i):\n",
        "    global k\n",
        "    x = a[k]\n",
        "    k += 1\n",
        "    ax1.clear()\n",
        "    plt.plot(x0,x,color='cyan')\n",
        "    plt.grid(True)\n",
        "    plt.ylim([-2,2])\n",
        "    plt.xlim([-pi,pi])\n",
        "    \n",
        "anim = animation.FuncAnimation(fig,animate,frames=360,interval=20)\n",
        "plt.show()"
      ],
      "execution_count": 1,
      "outputs": [
        {
          "output_type": "display_data",
          "data": {
            "image/png": "[encoded data removed]",
            "text/plain": [
              "<Figure size 600x400 with 1 Axes>"
            ]
          },
          "metadata": {
            "tags": []
          }
        }
      ]
    },
    {
      "cell_type": "code",
      "metadata": {
        "id": "2gPFaajCR4RG",
        "outputId": "791eaf99-97f0-4e9f-9252-adb7e1cf8686",
        "colab": {
          "base_uri": "https://localhost:8080/",
          "height": 350
        }
      },
      "source": [
        "from numpy import*\n",
        "import tkinter as Tkinter\n",
        "import time\n",
        "\n",
        "dt = 0.0001\n",
        "dx = 0.1\n",
        "v = 100 #Courant condition says dx/dt >= v\n",
        "gamma = 0\n",
        "c1 = (v**2) * (dt**2) / (dx**2)\n",
        "c2 = gamma*dt / dx**2\n",
        "\n",
        "nodes = 30\n",
        "source_node = int(nodes/3) #point of application of initial pulse\n",
        "x = arange(0, nodes, 1)\n",
        "u_new = zeros(nodes)\n",
        "u = zeros(nodes)\n",
        "u_old = zeros(nodes)\n",
        "\n",
        "##--Tkinter stuff--\n",
        "t_start = time.time()#for referencing\n",
        "height = 300.0\n",
        "width = 400.0\n",
        "center = height//2\n",
        "x_factor = width/(nodes-1)\n",
        "y_factor = 200\n",
        "##------------------\n",
        "u[source_node] = -10\n",
        "u_old[source_node] = -10\n",
        "\t\n",
        "def paint(canvas, parent):\n",
        "\tfor i in range (1, nodes-1):\n",
        "\t\tU1 = u[i+1] - 2*u[i] + u[i-1]\n",
        "\t\tU0 = u_old[i+1] - 2*u_old[i] + u_old[i-1]\n",
        "\t\tu_new[i] = c1*U1 + c2*(U1-U0) + 2.0*u[i] - u_old[i]\n",
        "\tfor i in range (0, nodes):\n",
        "\t\tu_old[i] = u[i]\n",
        "\t\tu[i] = u_new[i]\n",
        "\txy=[]\n",
        "\tfor i in range(0, nodes):\n",
        "\t\txy.append((int)(i*x_factor))\n",
        "\t\txy.append((int)(u_new[i]*y_factor)+center)\n",
        "\t#time.sleep(0.001)\t\n",
        "\tc.coords(\"curve\", *xy)\n",
        "\tparent.after_idle(paint,parent,canvas)\n",
        "\t##------------------\t\n",
        "#--Tkinter stuff:--\n",
        "root = Tkinter.Tk()\n",
        "root.title(\"Animated wave equation - initial pulse at L/3\")\n",
        "root.bind('q','exit')\n",
        "c = Tkinter.Canvas(width=width, height=height, bg='white')\n",
        "c.pack()\n",
        "c.create_line(tag = \"curve\", *zeros(2*width), fill='blue')\t\n",
        "root.after(100,paint,root,c)\n",
        "root.mainloop()\t\n",
        "##------------------"
      ],
      "execution_count": 2,
      "outputs": [
        {
          "output_type": "error",
          "ename": "TclError",
          "evalue": "ignored",
          "traceback": [
            "\u001b[0;31m---------------------------------------------------------------------------\u001b[0m",
            "\u001b[0;31mTclError\u001b[0m                                  Traceback (most recent call last)",
            "\u001b[0;32m<ipython-input-2-8aa0054dd39f>\u001b[0m in \u001b[0;36m<module>\u001b[0;34m()\u001b[0m\n\u001b[1;32m     45\u001b[0m         \u001b[0;31m##------------------\u001b[0m\u001b[0;34m\u001b[0m\u001b[0;34m\u001b[0m\u001b[0;34m\u001b[0m\u001b[0m\n\u001b[1;32m     46\u001b[0m \u001b[0;31m#--Tkinter stuff:--\u001b[0m\u001b[0;34m\u001b[0m\u001b[0;34m\u001b[0m\u001b[0;34m\u001b[0m\u001b[0m\n\u001b[0;32m---> 47\u001b[0;31m \u001b[0mroot\u001b[0m \u001b[0;34m=\u001b[0m \u001b[0mTkinter\u001b[0m\u001b[0;34m.\u001b[0m\u001b[0mTk\u001b[0m\u001b[0;34m(\u001b[0m\u001b[0;34m)\u001b[0m\u001b[0;34m\u001b[0m\u001b[0;34m\u001b[0m\u001b[0m\n\u001b[0m\u001b[1;32m     48\u001b[0m \u001b[0mroot\u001b[0m\u001b[0;34m.\u001b[0m\u001b[0mtitle\u001b[0m\u001b[0;34m(\u001b[0m\u001b[0;34m\"Animated wave equation - initial pulse at L/3\"\u001b[0m\u001b[0;34m)\u001b[0m\u001b[0;34m\u001b[0m\u001b[0;34m\u001b[0m\u001b[0m\n\u001b[1;32m     49\u001b[0m \u001b[0mroot\u001b[0m\u001b[0;34m.\u001b[0m\u001b[0mbind\u001b[0m\u001b[0;34m(\u001b[0m\u001b[0;34m'q'\u001b[0m\u001b[0;34m,\u001b[0m\u001b[0;34m'exit'\u001b[0m\u001b[0;34m)\u001b[0m\u001b[0;34m\u001b[0m\u001b[0;34m\u001b[0m\u001b[0m\n",
            "\u001b[0;32m/usr/lib/python3.6/tkinter/__init__.py\u001b[0m in \u001b[0;36m__init__\u001b[0;34m(self, screenName, baseName, className, useTk, sync, use)\u001b[0m\n\u001b[1;32m   2021\u001b[0m                 \u001b[0mbaseName\u001b[0m \u001b[0;34m=\u001b[0m \u001b[0mbaseName\u001b[0m \u001b[0;34m+\u001b[0m \u001b[0mext\u001b[0m\u001b[0;34m\u001b[0m\u001b[0;34m\u001b[0m\u001b[0m\n\u001b[1;32m   2022\u001b[0m         \u001b[0minteractive\u001b[0m \u001b[0;34m=\u001b[0m \u001b[0;36m0\u001b[0m\u001b[0;34m\u001b[0m\u001b[0;34m\u001b[0m\u001b[0m\n\u001b[0;32m-> 2023\u001b[0;31m         \u001b[0mself\u001b[0m\u001b[0;34m.\u001b[0m\u001b[0mtk\u001b[0m \u001b[0;34m=\u001b[0m \u001b[0m_tkinter\u001b[0m\u001b[0;34m.\u001b[0m\u001b[0mcreate\u001b[0m\u001b[0;34m(\u001b[0m\u001b[0mscreenName\u001b[0m\u001b[0;34m,\u001b[0m \u001b[0mbaseName\u001b[0m\u001b[0;34m,\u001b[0m \u001b[0mclassName\u001b[0m\u001b[0;34m,\u001b[0m \u001b[0minteractive\u001b[0m\u001b[0;34m,\u001b[0m \u001b[0mwantobjects\u001b[0m\u001b[0;34m,\u001b[0m \u001b[0museTk\u001b[0m\u001b[0;34m,\u001b[0m \u001b[0msync\u001b[0m\u001b[0;34m,\u001b[0m \u001b[0muse\u001b[0m\u001b[0;34m)\u001b[0m\u001b[0;34m\u001b[0m\u001b[0;34m\u001b[0m\u001b[0m\n\u001b[0m\u001b[1;32m   2024\u001b[0m         \u001b[0;32mif\u001b[0m \u001b[0museTk\u001b[0m\u001b[0;34m:\u001b[0m\u001b[0;34m\u001b[0m\u001b[0;34m\u001b[0m\u001b[0m\n\u001b[1;32m   2025\u001b[0m             \u001b[0mself\u001b[0m\u001b[0;34m.\u001b[0m\u001b[0m_loadtk\u001b[0m\u001b[0;34m(\u001b[0m\u001b[0;34m)\u001b[0m\u001b[0;34m\u001b[0m\u001b[0;34m\u001b[0m\u001b[0m\n",
            "\u001b[0;31mTclError\u001b[0m: no display name and no $DISPLAY environment variable"
          ]
        }
      ]
    },
    {
      "cell_type": "code",
      "metadata": {
        "id": "rz7zoy_3R4RH"
      },
      "source": [
        ""
      ],
      "execution_count": null,
      "outputs": []
    }
  ]
}