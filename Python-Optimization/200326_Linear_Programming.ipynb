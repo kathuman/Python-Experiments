{
 "cells": [
  {
   "cell_type": "code",
   "execution_count": 1,
   "metadata": {},
   "outputs": [],
   "source": [
    "from pulp import *\n",
    "problem = LpProblem(\"problemName\", LpMaximize)"
   ]
  },
  {
   "cell_type": "code",
   "execution_count": 3,
   "metadata": {},
   "outputs": [],
   "source": [
    "# factory cost per day\n",
    "cf0 = 450\n",
    "cf1 = 420\n",
    "cf2 = 400# factory throughput per day\n",
    "f0 = 2000\n",
    "f1 = 1500\n",
    "f2 = 1000# production goal\n",
    "goal = 80000# time limit\n",
    "max_num_days = 30\n",
    "num_factories = 3"
   ]
  },
  {
   "cell_type": "code",
   "execution_count": 4,
   "metadata": {},
   "outputs": [],
   "source": [
    "variable = LpVariable(\"variableName\")"
   ]
  },
  {
   "cell_type": "code",
   "execution_count": 6,
   "metadata": {},
   "outputs": [],
   "source": [
    "# factories\n",
    "num_factories = 3\n",
    "factory_days = LpVariable.dicts(\"factoryDays\", list(range(num_factories)), 0, 30, cat=\"Continuous\")"
   ]
  },
  {
   "cell_type": "code",
   "execution_count": 8,
   "metadata": {},
   "outputs": [],
   "source": [
    "# goal constraint\n",
    "c1 = factory_days[0]*f0 + factory_days[1]*f1 + factory_days[2] * f2 >= goal# production constraints\n",
    "c2 = factory_days[0]*f0 <= 2*factory_days[1]*f1\n",
    "c3 = factory_days[0]*f0 <= 2*factory_days[2]*f2\n",
    "c4 = factory_days[1]*f1 <= 2*factory_days[2]*f2\n",
    "c5 = factory_days[1]*f1 <= 2*factory_days[0]*f0\n",
    "c6 = factory_days[2]*f2 <= 2*factory_days[1]*f1\n",
    "c7 = factory_days[2]*f2 <= 2*factory_days[0]*f0# adding the constraints to the problem\n",
    "problem += c1\n",
    "problem += c2\n",
    "problem += c3\n",
    "problem += c4\n",
    "problem += c5\n",
    "problem += c6\n",
    "problem += c7"
   ]
  },
  {
   "cell_type": "code",
   "execution_count": 9,
   "metadata": {},
   "outputs": [],
   "source": [
    "# objective function\n",
    "problem += -factory_days[0]*cf0*f0 - factory_days[1]*cf1*f1 - factory_days[2]*cf2*f2"
   ]
  },
  {
   "cell_type": "code",
   "execution_count": 10,
   "metadata": {},
   "outputs": [
    {
     "name": "stdout",
     "output_type": "stream",
     "text": [
      "problemName:\n",
      "MAXIMIZE\n",
      "-900000*factoryDays_0 + -630000*factoryDays_1 + -400000*factoryDays_2 + 0\n",
      "SUBJECT TO\n",
      "_C1: 2000 factoryDays_0 + 1500 factoryDays_1 + 1000 factoryDays_2 >= 80000\n",
      "\n",
      "_C2: 2000 factoryDays_0 - 3000 factoryDays_1 <= 0\n",
      "\n",
      "_C3: 2000 factoryDays_0 - 2000 factoryDays_2 <= 0\n",
      "\n",
      "_C4: 1500 factoryDays_1 - 2000 factoryDays_2 <= 0\n",
      "\n",
      "_C5: - 4000 factoryDays_0 + 1500 factoryDays_1 <= 0\n",
      "\n",
      "_C6: - 3000 factoryDays_1 + 1000 factoryDays_2 <= 0\n",
      "\n",
      "_C7: - 4000 factoryDays_0 + 1000 factoryDays_2 <= 0\n",
      "\n",
      "VARIABLES\n",
      "factoryDays_0 <= 30 Continuous\n",
      "factoryDays_1 <= 30 Continuous\n",
      "factoryDays_2 <= 30 Continuous\n",
      "\n"
     ]
    }
   ],
   "source": [
    "print(problem)"
   ]
  },
  {
   "cell_type": "code",
   "execution_count": 11,
   "metadata": {},
   "outputs": [
    {
     "data": {
      "text/plain": [
       "1"
      ]
     },
     "execution_count": 11,
     "metadata": {},
     "output_type": "execute_result"
    }
   ],
   "source": [
    "# solving\n",
    "problem.solve()"
   ]
  },
  {
   "cell_type": "code",
   "execution_count": 12,
   "metadata": {},
   "outputs": [
    {
     "name": "stdout",
     "output_type": "stream",
     "text": [
      "Factory 0: 8.3333333\n",
      "Factory 1: 22.222222\n",
      "Factory 2: 30.0\n"
     ]
    }
   ],
   "source": [
    "for i in range(3):\n",
    " print(f\"Factory {i}: {factory_days[i].varValue}\")"
   ]
  },
  {
   "cell_type": "code",
   "execution_count": null,
   "metadata": {},
   "outputs": [],
   "source": []
  }
 ],
 "metadata": {
  "kernelspec": {
   "display_name": "Python 3",
   "language": "python",
   "name": "python3"
  },
  "language_info": {
   "codemirror_mode": {
    "name": "ipython",
    "version": 3
   },
   "file_extension": ".py",
   "mimetype": "text/x-python",
   "name": "python",
   "nbconvert_exporter": "python",
   "pygments_lexer": "ipython3",
   "version": "3.6.9"
  }
 },
 "nbformat": 4,
 "nbformat_minor": 4
}
