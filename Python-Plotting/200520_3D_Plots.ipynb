{
 "cells": [
  {
   "cell_type": "code",
   "execution_count": 3,
   "metadata": {},
   "outputs": [
    {
     "ename": "ModuleNotFoundError",
     "evalue": "No module named 'fcm'",
     "output_type": "error",
     "traceback": [
      "\u001b[0;31m---------------------------------------------------------------------------\u001b[0m",
      "\u001b[0;31mModuleNotFoundError\u001b[0m                       Traceback (most recent call last)",
      "\u001b[0;32m<ipython-input-3-c821cc512afd>\u001b[0m in \u001b[0;36m<module>\u001b[0;34m\u001b[0m\n\u001b[1;32m      4\u001b[0m \u001b[0;32mimport\u001b[0m \u001b[0msys\u001b[0m\u001b[0;34m\u001b[0m\u001b[0;34m\u001b[0m\u001b[0m\n\u001b[1;32m      5\u001b[0m \u001b[0;32mimport\u001b[0m \u001b[0mglob\u001b[0m\u001b[0;34m\u001b[0m\u001b[0;34m\u001b[0m\u001b[0m\n\u001b[0;32m----> 6\u001b[0;31m \u001b[0;32mimport\u001b[0m \u001b[0mfcm\u001b[0m\u001b[0;34m\u001b[0m\u001b[0;34m\u001b[0m\u001b[0m\n\u001b[0m\u001b[1;32m      7\u001b[0m \u001b[0;32mimport\u001b[0m \u001b[0mfcm\u001b[0m\u001b[0;34m.\u001b[0m\u001b[0mstatistics\u001b[0m \u001b[0;32mas\u001b[0m \u001b[0mstats\u001b[0m\u001b[0;34m\u001b[0m\u001b[0;34m\u001b[0m\u001b[0m\n\u001b[1;32m      8\u001b[0m \u001b[0;32mimport\u001b[0m \u001b[0mnumpy\u001b[0m \u001b[0;32mas\u001b[0m \u001b[0mnp\u001b[0m\u001b[0;34m\u001b[0m\u001b[0;34m\u001b[0m\u001b[0m\n",
      "\u001b[0;31mModuleNotFoundError\u001b[0m: No module named 'fcm'"
     ]
    }
   ],
   "source": [
    "# https://pythonhosted.org/fcm/gallery.html\n",
    "\n",
    "import os\n",
    "import sys\n",
    "import glob\n",
    "import fcm\n",
    "import fcm.statistics as stats\n",
    "import numpy as np\n",
    "import matplotlib.pyplot as plt\n",
    "from matplotlib import cm\n",
    "from mpl_toolkits.mplot3d import Axes3D\n",
    "from matplotlib.collections import PolyCollection\n",
    "from matplotlib.colors import LinearSegmentedColormap\n",
    "\n",
    "fig = plt.figure()\n",
    "ax = fig.add_subplot(111, projection='3d')\n",
    "\n",
    "fs = glob.glob(os.path.join('..', 'data', 'basics', '*01'))\n",
    "colors = LinearSegmentedColormap('colormap', cm.jet._segmentdata.copy(), len(fs))\n",
    "\n",
    "verts = []\n",
    "for f in fs:\n",
    "    cd4 = fcm.loadFCS(f)[:, 'CD4-PE']\n",
    "    z, edges = np.histogram(cd4, bins=50)\n",
    "    y = 0.5*(z[1:] + z[:-1])\n",
    "    x = np.arange(len(y))\n",
    "    verts.append(zip(x, y))\n",
    "\n",
    "verts = np.array(verts)\n",
    "n, p, d = verts.shape\n",
    "maxz = np.max(verts[:, 0])\n",
    "\n",
    "poly = PolyCollection(verts, facecolors = [colors(i) for i in range(n)])\n",
    "poly.set_alpha(0.7)\n",
    "ax.add_collection3d(poly, zs=np.arange(n), zdir='y')\n",
    "\n",
    "ax.set_xlabel('CD4-PE')\n",
    "ax.set_xlim3d(0, p)\n",
    "ax.set_ylabel('Sample')\n",
    "ax.set_ylim3d(0,n)\n",
    "ax.set_zlabel('Counts')\n",
    "ax.set_zlim3d(0, 1.2*maxz)\n",
    "\n",
    "plt.savefig('3d_hist.png')\n",
    "plt.show()"
   ]
  },
  {
   "cell_type": "code",
   "execution_count": null,
   "metadata": {},
   "outputs": [],
   "source": []
  }
 ],
 "metadata": {
  "kernelspec": {
   "display_name": "Python 3",
   "language": "python",
   "name": "python3"
  },
  "language_info": {
   "codemirror_mode": {
    "name": "ipython",
    "version": 3
   },
   "file_extension": ".py",
   "mimetype": "text/x-python",
   "name": "python",
   "nbconvert_exporter": "python",
   "pygments_lexer": "ipython3",
   "version": "3.6.9"
  }
 },
 "nbformat": 4,
 "nbformat_minor": 4
}
