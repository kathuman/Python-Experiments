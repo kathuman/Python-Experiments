{
  "nbformat": 4,
  "nbformat_minor": 0,
  "metadata": {
    "kernelspec": {
      "display_name": "Python 3",
      "language": "python",
      "name": "python3"
    },
    "language_info": {
      "codemirror_mode": {
        "name": "ipython",
        "version": 3
      },
      "file_extension": ".py",
      "mimetype": "text/x-python",
      "name": "python",
      "nbconvert_exporter": "python",
      "pygments_lexer": "ipython3",
      "version": "3.8.3"
    },
    "colab": {
      "name": "200306_Basic_Queuing-checkpoint.ipynb",
      "provenance": [],
      "include_colab_link": true
    }
  },
  "cells": [
    {
      "cell_type": "markdown",
      "metadata": {
        "id": "view-in-github",
        "colab_type": "text"
      },
      "source": [
        "<a href=\"https://colab.research.google.com/github/kathuman/Python-Experiments/blob/main/Python-Queuing/.ipynb_checkpoints/200306_Basic_Queuing-checkpoint.ipynb\" target=\"_parent\"><img src=\"https://colab.research.google.com/assets/colab-badge.svg\" alt=\"Open In Colab\"/></a>"
      ]
    },
    {
      "cell_type": "code",
      "metadata": {
        "id": "i-ZzP49Dr5Rs",
        "outputId": "8e9a0ea6-35dd-4af2-8378-f0a73ed714e0",
        "colab": {
          "base_uri": "https://localhost:8080/"
        }
      },
      "source": [
        "!pip install simpy"
      ],
      "execution_count": 2,
      "outputs": [
        {
          "output_type": "stream",
          "text": [
            "Collecting simpy\n",
            "  Downloading https://files.pythonhosted.org/packages/20/f9/874b0bab83406827db93292a5bbe5acb5c18e3cea665b2f6e053292cb687/simpy-4.0.1-py2.py3-none-any.whl\n",
            "Installing collected packages: simpy\n",
            "Successfully installed simpy-4.0.1\n"
          ],
          "name": "stdout"
        }
      ]
    },
    {
      "cell_type": "code",
      "metadata": {
        "id": "sD9gAVsgrwHt"
      },
      "source": [
        "# This exercise generates a simple discrete event simulation model\n",
        "# Based on: \n",
        "# https://www.youtube.com/watch?v=eSNfC-HOl44\n",
        "\n",
        "# Daniel A. Sepulveda Estay ,PhD\n",
        "# Technical University of Denmanrk, 200306\n",
        "\n",
        "import simpy\n",
        "import numpy as np\n",
        "import matplotlib.pyplot as plt\n",
        "\n",
        "%matplotlib inline"
      ],
      "execution_count": 3,
      "outputs": []
    },
    {
      "cell_type": "code",
      "metadata": {
        "id": "6pzzbFwtrwHw"
      },
      "source": [
        "def generate_interarrival():\n",
        "    return np.random.exponential(1./3.0) #3 customers per minute arrival time\n",
        "\n",
        "def generate_service():\n",
        "    return np.random.exponential(1./4.0) # 4 customers per minute service time\n",
        "\n",
        "def cafe_run(env, servers):\n",
        "    i = 0\n",
        "    while True:\n",
        "        i = i + 1\n",
        "        yield env.timeout(generate_interarrival())\n",
        "        env.process(customer(env, i, servers))\n",
        "        \n",
        "wait_t = []\n",
        "\n",
        "def customer(env, customer, servers):\n",
        "    with servers.request() as request:\n",
        "        t_arrival = env.now\n",
        "        print(env.now, 'Customer {} arrives'.format(customer))\n",
        "        yield request\n",
        "        print(env.now, 'Customer {} is being served'.format(customer))\n",
        "        yield env.timeout(generate_service())\n",
        "        print(env.now, 'Customer {} departs'.format(customer))\n",
        "        t_depart = env.now\n",
        "        wait_t.append(t_depart-t_arrival)\n",
        "        \n",
        "        \n",
        "obs_times = []\n",
        "q_length = []\n",
        "\n",
        "def observe(env,servers):\n",
        "    while True:\n",
        "        obs_times.append(env.now)\n",
        "        q_length.append(len(servers.queue))\n",
        "        yield env.timeout(1.0)\n",
        "        \n",
        "np.random.seed(0)"
      ],
      "execution_count": 4,
      "outputs": []
    },
    {
      "cell_type": "code",
      "metadata": {
        "id": "i1kpgMjcrwHx",
        "outputId": "def4f4e2-1f9d-4c24-8649-e1d6d812ae23",
        "colab": {
          "base_uri": "https://localhost:8080/",
          "height": 573
        }
      },
      "source": [
        "env = simpy.Environment()\n",
        "\n",
        "servers = simpy.Resource(env, capacity=1) # create a shared resource\n",
        "env.process(cafe_run(env, servers))\n",
        "env.process(observe(env, servers))\n",
        "\n",
        "env.run(until=10)\n",
        "\n",
        "\n",
        "\n",
        "\n",
        "\n",
        "plt.figure()\n",
        "plt.hist(wait_t)\n",
        "plt.title('Histogram of waiting times')\n",
        "plt.xlabel('Waiting time (min)')\n",
        "plt.ylabel('Number of Customers')\n",
        "\n",
        "plt.figure()\n",
        "plt.title('Queue length over time')\n",
        "plt.step(obs_times, q_length, where='post')\n",
        "plt.xlabel('Time(min)')\n",
        "plt.ylabel('Queue Length (Persons)')\n",
        "plt.show()"
      ],
      "execution_count": 10,
      "outputs": [
        {
          "output_type": "display_data",
          "data": {
            "image/png": "[encoded data removed]",
            "text/plain": [
              "<Figure size 432x288 with 1 Axes>"
            ]
          },
          "metadata": {
            "tags": [],
            "needs_background": "light"
          }
        },
        {
          "output_type": "display_data",
          "data": {
            "image/png": "[encoded data removed]",
            "text/plain": [
              "<Figure size 432x288 with 1 Axes>"
            ]
          },
          "metadata": {
            "tags": [],
            "needs_background": "light"
          }
        }
      ]
    },
    {
      "cell_type": "code",
      "metadata": {
        "id": "82M0Es-OrwHy"
      },
      "source": [
        ""
      ],
      "execution_count": null,
      "outputs": []
    }
  ]
}