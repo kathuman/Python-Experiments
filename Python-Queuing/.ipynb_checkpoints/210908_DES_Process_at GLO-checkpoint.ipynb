{
 "cells": [
  {
   "cell_type": "code",
   "execution_count": 4,
   "metadata": {},
   "outputs": [],
   "source": [
    "# Discrete Event Model of the operation at GLostrup Hospital\n",
    "\n",
    "# Daniel A. Sepulveda Estay, PhD\n",
    "# Improvement Division at the Copenhagen University Hospital\n",
    "# 08 September 2021\n",
    "\n",
    "# Load the required libraries\n",
    "import simpy\n",
    "import numpy as np"
   ]
  },
  {
   "attachments": {},
   "cell_type": "markdown",
   "metadata": {},
   "source": [
    "![alt text](Glostrup1.jpg \"Simplified Model\")\n",
    "operators working 8 h/day, 5 days/week\n",
    "with a cost of 4 DKK per hour"
   ]
  },
  {
   "cell_type": "code",
   "execution_count": 5,
   "metadata": {},
   "outputs": [],
   "source": [
    "###################################################################\n",
    "## Define the Functions ##\n",
    "# Number of receptors\n",
    "n = 4\n",
    "# Number of Crossdockers\n",
    "k = 5\n",
    "# Wage cost\n",
    "Basewage = 4\n",
    "\n",
    "# Define the TOP LEVEL process where the warehouse contains the operators for reception and for crossdocking\n",
    "def warehouse_run(env, receptors, crossdockers):\n",
    "    \n",
    "    global cost\n",
    "    cost = 0.0\n",
    "    \n",
    "    # Start n processes for receptors\n",
    "    for i in range(n):\n",
    "        env.process(operator(env, receptors, crossdockers))\n",
    "    \n",
    "    while True:\n",
    "        cost += Basewage*8*receptors.capacity + Basewage*crossdockers.capacity\n",
    "        yield env.timeout(8.0)\n",
    "        \n",
    "def operate_machine(env, repairers, spares):\n",
    "    global cost\n",
    "    \n",
    "    while True:\n",
    "        yield env.timeout(generate_time_to_failure())\n",
    "        t_broken = env.now\n",
    "        # print('{:.2f} machine broke'.format(t_broken))\n",
    "        env.process(repair_machine(env, repairers, spares))\n",
    "        yield spares.get(1)\n",
    "        t_replaced = env.now\n",
    "        # print('{:.2f} machine replaced'.format(t_replaced))\n",
    "        cost += 20*(t_replaced-t_broken)\n",
    "\n",
    "def repair_machine(env, repairers, spares):\n",
    "    with repairers.request() as request:\n",
    "        yield request\n",
    "        yield env.timeout(generate_repair_time())\n",
    "        yield spares.put(1)\n",
    "    # print('{:.2f} repair complete'.format(env.now))\n",
    "\n",
    "####################################################################\n",
    "## Process times generation functions\n",
    "\n",
    "def generate_time_to_failure():\n",
    "    return np.random.uniform(132,182)\n",
    "        \n",
    "def generate_repair_time():\n",
    "    # The repair time is from a random uniform distribution function\n",
    "    return np.random.uniform(4,10)\n",
    "\n",
    "#####################################################################\n",
    "# Define the observational variables\n",
    "obs_time = []\n",
    "obs_av_cost = []\n",
    "obs_spares = []\n",
    "\n",
    "def observe(env, spares):\n",
    "    while True:\n",
    "        obs_time.append(env.now)\n",
    "        if env.now>0:\n",
    "            obs_av_cost.append(cost/env.now)\n",
    "        else:\n",
    "            obs_av_cost.append(0)\n",
    "        obs_spares.append(spares.level)\n",
    "        yield env.timeout(1.0)\n",
    "#####################################################################\n",
    "\n",
    "# Define the TOP Processes\n",
    "\n",
    "# Set the random seed for output uniformity \n",
    "np.random.seed(0)\n",
    "\n",
    "# Create a simpy simulation environment\n",
    "env = simpy.Environment()\n",
    "\n",
    "#Create the shared resources, repairers and spares\n",
    "repairers = simpy.Resource(env, capacity=3)\n",
    "# Defining spares as a container and not a resource, allows for different methods of release for these\n",
    "spares = simpy.Container(env, init=20, capacity=20)\n",
    "\n",
    "# Start the work process\n",
    "env.process(factory_run(env, repairers, spares))\n",
    "# start the observational process\n",
    "env.process(observe(env, spares))\n",
    "\n",
    "# Define the simulation environment running duration to be a year. Calculations by hour\n",
    "env.run(until=8*5*52)"
   ]
  },
  {
   "cell_type": "code",
   "execution_count": 6,
   "metadata": {},
   "outputs": [
    {
     "data": {
      "image/png": "[encoded data removed]",
      "text/plain": [
       "<Figure size 432x288 with 1 Axes>"
      ]
     },
     "metadata": {
      "needs_background": "light"
     },
     "output_type": "display_data"
    },
    {
     "data": {
      "image/png": "[encoded data removed]",
      "text/plain": [
       "<Figure size 432x288 with 1 Axes>"
      ]
     },
     "metadata": {
      "needs_background": "light"
     },
     "output_type": "display_data"
    }
   ],
   "source": [
    "# Plot the variables of Interest\n",
    "# These are the variables that have been observed\n",
    "#  1) obs_time: observational time\n",
    "#  2) obs_av_cost: average cost at obs_time\n",
    "#  3) obs_spares: number of spares at ovs_time\n",
    "\n",
    "import matplotlib.pyplot as plt\n",
    "\n",
    "%matplotlib inline\n",
    "\n",
    "plt.figure()\n",
    "plt.step(obs_time, obs_spares, where = 'post')\n",
    "plt.xlabel('Time (hours)')\n",
    "plt.ylabel('Spares Level (units)')\n",
    "\n",
    "plt.figure()\n",
    "plt.step(obs_time, obs_av_cost, where = 'post')\n",
    "plt.xlabel('Time (hours)')\n",
    "plt.ylabel('Costs ($)')\n",
    "\n",
    "plt.show()"
   ]
  },
  {
   "cell_type": "code",
   "execution_count": null,
   "metadata": {},
   "outputs": [],
   "source": []
  }
 ],
 "metadata": {
  "kernelspec": {
   "display_name": "Python 3",
   "language": "python",
   "name": "python3"
  },
  "language_info": {
   "codemirror_mode": {
    "name": "ipython",
    "version": 3
   },
   "file_extension": ".py",
   "mimetype": "text/x-python",
   "name": "python",
   "nbconvert_exporter": "python",
   "pygments_lexer": "ipython3",
   "version": "3.8.10"
  }
 },
 "nbformat": 4,
 "nbformat_minor": 4
}
