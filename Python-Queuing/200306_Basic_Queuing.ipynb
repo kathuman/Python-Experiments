{
 "cells": [
  {
   "cell_type": "code",
   "execution_count": 38,
   "metadata": {},
   "outputs": [],
   "source": [
    "# This exercise generates a simple discrete event simulation model\n",
    "# Based on: \n",
    "# https://www.youtube.com/watch?v=eSNfC-HOl44\n",
    "\n",
    "# Daniel A. Sepulveda Estay ,PhD\n",
    "# Technical University of Denmanrk, 200306\n",
    "\n",
    "import simpy\n",
    "import numpy as np\n",
    "import matplotlib.pyplot as plt\n",
    "\n",
    "%matplotlib inline"
   ]
  },
  {
   "cell_type": "code",
   "execution_count": 39,
   "metadata": {},
   "outputs": [],
   "source": [
    "def generate_interarrival():\n",
    "    return np.random.exponential(1./3.0) #3 customers per minute arrival time\n",
    "\n",
    "def generate_service():\n",
    "    return np.random.exponential(1./4.0) # 4 customers per minute service time\n",
    "\n",
    "def cafe_run(env, servers):\n",
    "    i = 0\n",
    "    while True:\n",
    "        i = i + 1\n",
    "        yield env.timeout(generate_interarrival())\n",
    "        env.process(customer(env, i, servers))\n",
    "        \n",
    "wait_t = []\n",
    "\n",
    "def customer(env, customer, servers):\n",
    "    with servers.request() as request:\n",
    "        t_arrival = env.now\n",
    "        # print(env.now, 'Customer {} arrives'.format(customer))\n",
    "        yield request\n",
    "        # print(env.now, 'Customer {} is being served'.format(customer))\n",
    "        yield env.timeout(generate_service())\n",
    "        # print(env.now, 'Customer {} departs'.format(customer))\n",
    "        t_depart = env.now\n",
    "        wait_t.append(t_depart-t_arrival)\n",
    "        \n",
    "        \n",
    "obs_times = []\n",
    "q_length = []\n",
    "\n",
    "def observe(env,servers):\n",
    "    while True:\n",
    "        obs_times.append(env.now)\n",
    "        q_length.append(len(servers.queue))\n",
    "        yield env.timeout(1.0)\n",
    "        \n",
    "np.random.seed(0)"
   ]
  },
  {
   "cell_type": "code",
   "execution_count": 40,
   "metadata": {},
   "outputs": [
    {
     "data": {
      "image/png": "[encoded data removed]",
      "text/plain": [
       "<Figure size 432x288 with 1 Axes>"
      ]
     },
     "metadata": {
      "needs_background": "light"
     },
     "output_type": "display_data"
    },
    {
     "data": {
      "image/png": "[encoded data removed]",
      "text/plain": [
       "<Figure size 432x288 with 1 Axes>"
      ]
     },
     "metadata": {
      "needs_background": "light"
     },
     "output_type": "display_data"
    }
   ],
   "source": [
    "env = simpy.Environment()\n",
    "\n",
    "servers = simpy.Resource(env, capacity=1) # create a shared resource\n",
    "env.process(cafe_run(env, servers))\n",
    "env.process(observe(env, servers))\n",
    "\n",
    "env.run(until=10)\n",
    "\n",
    "\n",
    "\n",
    "\n",
    "\n",
    "plt.figure()\n",
    "plt.hist(wait_t)\n",
    "plt.title('Histogram of waiting times')\n",
    "plt.xlabel('Waiting time (min)')\n",
    "plt.ylabel('Number of Customers')\n",
    "\n",
    "plt.figure()\n",
    "plt.title('Queue length over time')\n",
    "plt.step(obs_times, q_length, where='post')\n",
    "plt.xlabel('Time(min)')\n",
    "plt.ylabel('Queue Length (Persons)')\n",
    "plt.show()"
   ]
  },
  {
   "cell_type": "code",
   "execution_count": null,
   "metadata": {},
   "outputs": [],
   "source": []
  }
 ],
 "metadata": {
  "kernelspec": {
   "display_name": "Python 3",
   "language": "python",
   "name": "python3"
  },
  "language_info": {
   "codemirror_mode": {
    "name": "ipython",
    "version": 3
   },
   "file_extension": ".py",
   "mimetype": "text/x-python",
   "name": "python",
   "nbconvert_exporter": "python",
   "pygments_lexer": "ipython3",
   "version": "3.8.5"
  }
 },
 "nbformat": 4,
 "nbformat_minor": 4
}
