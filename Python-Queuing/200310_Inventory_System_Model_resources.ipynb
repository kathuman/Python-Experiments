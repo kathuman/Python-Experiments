{
 "cells": [
  {
   "cell_type": "code",
   "execution_count": 1,
   "metadata": {},
   "outputs": [],
   "source": [
    "# This program generates a (S,R) Inventory restocking policy,\n",
    "# R = Restocking level when an order is activated\n",
    "# S = Stock level that wants to be achieved.\n",
    "# This model can have only 1 order at a time\n",
    "\n",
    "# This is also restricted by the number of resources available to perform the work\n",
    "#   1) Receive goods at the warehouse\n",
    "#   2) Delver goods to the Customers\n",
    "#   3) Put order into the system\n",
    "\n",
    "# Based on:\n",
    "# https://www.youtube.com/watch?v=Kmu9DNQamLw\n",
    "\n",
    "# Daniel A. Sepulveda Estay, PhD\n",
    "# Technical University of Denmark, 200310\n",
    "\n",
    "import simpy\n",
    "import numpy as np"
   ]
  },
  {
   "cell_type": "code",
   "execution_count": 2,
   "metadata": {},
   "outputs": [],
   "source": [
    "# Define the variables of the model\n",
    "lead_time = 2.0  # Lead_time for orders of #num_ordered\n",
    "cost_ordering = 50  # Cost of making an order\n",
    "cost_holding = 100 # Copst of Holding inventory\n",
    "policy_cutoff = 20 # Minimum amount of stock when an order is activated\n",
    "policy_inventory_target = 50 # Amount of stock that can be maintained in the Warehouse\n",
    "\n",
    "# Define the processes in the Model\n",
    "# 1.- The warehouse process which considers \n",
    "#    a) the arrival time of a new order, \n",
    "#    b) calculation of holding costs\n",
    "#    c) the demand quantity for that new order\n",
    "#    d) Deliver the demad quantity as much as possible\n",
    "#    e) generation of order if inventory is below the cutoff quantity\n",
    "\n",
    "def warehouse_run(env, order_cutoff, order_target):\n",
    "    \n",
    "    global inventory, balance, num_ordered\n",
    "    inventory = order_target\n",
    "    balance = 0.0\n",
    "    num_ordered = 0\n",
    "    \n",
    "    while True:\n",
    "        # a) Generate arrival time of next customer demand (Exponential Distribution Function)\n",
    "        interarrival = generate_interarrival()\n",
    "        # Wait until this arrival time\n",
    "        yield env.timeout(interarrival)\n",
    "        # b) Calculate the holding costs \n",
    "        balance -= inventory*2*interarrival\n",
    "        # c) Generate a demand quantity (Uniform Distribution Function)\n",
    "        demand = generate_demand()\n",
    "        # d) Deliver inventory for cases where there is enouh ibnventory and where there is not enough\n",
    "        if demand<inventory:\n",
    "            balance += 100*demand\n",
    "            inventory -= demand\n",
    "            print('at time {:.2f} days we sold {} units'.format(env.now, demand))\n",
    "        else:\n",
    "            balance += cost_holding*inventory\n",
    "            print('At time {:.2f} days we sold {} units. Out of Stock'.format(env.now, inventory))\n",
    "            inventory = 0\n",
    "        # e) See if it is necessary to generate a new order (Function)  \n",
    "        if inventory < order_cutoff and num_ordered==0:\n",
    "            env.process(handle_order(env, order_target))\n",
    "    \n",
    "def handle_order(env, order_target):\n",
    "    global inventory, balance, num_ordered\n",
    "    # Order stock necessary to cover the difference from the policy_inventory_target\n",
    "    num_ordered = order_target - inventory\n",
    "    print('at time {:.2f} placed order for {} units'.format(env.now, num_ordered))\n",
    "    # Calculate and account the cost of ordering\n",
    "    balance -= cost_ordering*num_ordered\n",
    "    # wait the lead time for orders, of lead_time time units\n",
    "    yield env.timeout(lead_time)\n",
    "    #receive the order by increasing the inventory\n",
    "    inventory += num_ordered\n",
    "    print('at time {:.2f} order received for {} units'.format(env.now, inventory))\n",
    "    # leave the system ready for a new order\n",
    "    num_ordered = 0\n",
    "    \n",
    "    \n",
    "def generate_interarrival():\n",
    "    # The arrivals of new customers is expenential with a lambda=5 persons/time\n",
    "    return np.random.exponential(1./5.0)\n",
    "\n",
    "def generate_demand():\n",
    "    return np.random.randint(1,5) # value integrer between 1 and 5 units/time\n",
    "\n",
    "# Define the observational variables\n",
    "obs_time = []\n",
    "inventory_level = [] # This balance starts at policy_inventory_target units of inventory\n",
    "balance_level = []  # This balance level starts at 0 units of money\n",
    "\n",
    "def observe(env):\n",
    "    global inventory, balance\n",
    "    \n",
    "    while True:\n",
    "        obs_time.append(env.now)\n",
    "        inventory_level.append(inventory)\n",
    "        balance_level.append(balance)\n",
    "        yield env.timeout(0.1)\n",
    "        "
   ]
  },
  {
   "cell_type": "code",
   "execution_count": 4,
   "metadata": {},
   "outputs": [
    {
     "name": "stdout",
     "output_type": "stream",
     "text": [
      "at time 0.11 days we sold 1 units\n",
      "at time 0.65 days we sold 2 units\n",
      "at time 0.72 days we sold 4 units\n",
      "at time 0.77 days we sold 2 units\n",
      "at time 0.81 days we sold 2 units\n",
      "at time 1.04 days we sold 2 units\n",
      "at time 1.19 days we sold 3 units\n",
      "at time 1.27 days we sold 1 units\n",
      "at time 1.31 days we sold 3 units\n",
      "at time 1.36 days we sold 3 units\n",
      "at time 1.59 days we sold 4 units\n",
      "at time 1.71 days we sold 2 units\n",
      "at time 1.74 days we sold 1 units\n",
      "at time 2.04 days we sold 2 units\n",
      "at time 2.04 placed order for 32 units\n",
      "at time 2.73 days we sold 4 units\n",
      "at time 2.75 days we sold 2 units\n",
      "at time 3.17 days we sold 1 units\n",
      "at time 3.52 days we sold 1 units\n",
      "at time 3.53 days we sold 4 units\n",
      "at time 3.54 days we sold 1 units\n",
      "at time 3.56 days we sold 4 units\n",
      "At time 3.78 days we sold 1 units. Out of Stock\n",
      "At time 3.94 days we sold 0 units. Out of Stock\n",
      "At time 4.00 days we sold 0 units. Out of Stock\n",
      "at time 4.04 order received for 32 units\n",
      "at time 4.24 days we sold 1 units\n",
      "at time 4.34 days we sold 4 units\n",
      "at time 4.62 days we sold 4 units\n",
      "at time 4.84 days we sold 2 units\n",
      "at time 4.90 days we sold 4 units\n",
      "at time 4.90 placed order for 33 units\n",
      "at time 4.95 days we sold 2 units\n"
     ]
    }
   ],
   "source": [
    "np.random.seed(1)\n",
    "env = simpy.Environment()\n",
    "env.process(warehouse_run(env, policy_cutoff, 50))\n",
    "env.process(observe(env))\n",
    "env.run(until=5.0)"
   ]
  },
  {
   "cell_type": "code",
   "execution_count": 8,
   "metadata": {},
   "outputs": [
    {
     "data": {
      "text/plain": [
       "<function matplotlib.pyplot.show(*args, **kw)>"
      ]
     },
     "execution_count": 8,
     "metadata": {},
     "output_type": "execute_result"
    },
    {
     "data": {
      "image/png": "[encoded data removed]",
      "text/plain": [
       "<Figure size 432x288 with 1 Axes>"
      ]
     },
     "metadata": {
      "needs_background": "light"
     },
     "output_type": "display_data"
    },
    {
     "data": {
      "image/png": "[encoded data removed]",
      "text/plain": [
       "<Figure size 432x288 with 1 Axes>"
      ]
     },
     "metadata": {
      "needs_background": "light"
     },
     "output_type": "display_data"
    }
   ],
   "source": [
    "import matplotlib.pyplot as plt\n",
    "%matplotlib inline\n",
    "\n",
    "plt.figure()\n",
    "plt.step(obs_time, inventory_level, where='post')\n",
    "plt.xlabel('Simulation time (days)')\n",
    "plt.ylabel('Inventory level (units)')\n",
    "plt.show\n",
    "\n",
    "plt.figure()\n",
    "plt.step(obs_time, balance_level, where='post')\n",
    "plt.xlabel('Simulation time (days)')\n",
    "plt.ylabel('Balance level (units of money)')\n",
    "plt.show"
   ]
  },
  {
   "cell_type": "code",
   "execution_count": 6,
   "metadata": {},
   "outputs": [
    {
     "data": {
      "text/plain": [
       "3205.651093315541"
      ]
     },
     "execution_count": 6,
     "metadata": {},
     "output_type": "execute_result"
    }
   ],
   "source": [
    "balance"
   ]
  },
  {
   "cell_type": "code",
   "execution_count": null,
   "metadata": {},
   "outputs": [],
   "source": []
  }
 ],
 "metadata": {
  "kernelspec": {
   "display_name": "Python 3",
   "language": "python",
   "name": "python3"
  },
  "language_info": {
   "codemirror_mode": {
    "name": "ipython",
    "version": 3
   },
   "file_extension": ".py",
   "mimetype": "text/x-python",
   "name": "python",
   "nbconvert_exporter": "python",
   "pygments_lexer": "ipython3",
   "version": "3.7.6"
  }
 },
 "nbformat": 4,
 "nbformat_minor": 4
}
