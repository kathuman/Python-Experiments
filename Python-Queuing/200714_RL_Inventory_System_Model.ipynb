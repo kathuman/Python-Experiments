{
 "cells": [
  {
   "cell_type": "code",
   "execution_count": 21,
   "metadata": {},
   "outputs": [],
   "source": [
    "# This program generates a (S,R) Inventory restocking policy,\n",
    "# R = Restocking level when an order is activated\n",
    "# S = Stock level that wants to be achieved.\n",
    "# This model can have only 1 order at a time\n",
    "\n",
    "# This model keeps track of the backlog\n",
    "\n",
    "# Process Oriented Coding\n",
    "\n",
    "# Based on:\n",
    "# https://www.youtube.com/watch?v=Kmu9DNQamLw\n",
    "\n",
    "# Daniel A. Sepulveda Estay, PhD\n",
    "# Technical University of Denmark, 2020\n",
    "\n",
    "import simpy\n",
    "import numpy as np"
   ]
  },
  {
   "cell_type": "code",
   "execution_count": 27,
   "metadata": {},
   "outputs": [],
   "source": [
    "# Define the variables of the model\n",
    "# Unit of time: day\n",
    "lead_time = 2.0  # days of Lead_time for orders of #num_ordered\n",
    "\n",
    "cost_ordering = 50  # Cost of making an order per item ordered\n",
    "cost_holding = 2 # Cost of Holding inventory per day\n",
    "cost_backlog = 4 # Cost of owing inventory per day \n",
    "\n",
    "policy_cutoff = 20 # (s) Minimum amount of stock when an order is activated\n",
    "policy_inventory_target = 50 # (S) Amount of stock that can be maintained in the Warehouse\n",
    "\n",
    "running_time = 4 # days that the simulation will be running\n",
    "\n",
    "sales_price = 100 # units of Money per item sold\n",
    "\n",
    "# Define the processes in the Model\n",
    "# 1.- The warehouse process which considers \n",
    "#    a) the arrival time of a new order, \n",
    "#    b) calculation of holding costs and backlog costs\n",
    "#    c) the demand quantity for that new order\n",
    "#    d) Deliver the (demad+backlog) quantity as much as possible\n",
    "#    e) Calculatio of backlog\n",
    "#    e) generation of order if inventory is below the cutoff quantity\n",
    "\n",
    "def warehouse_run(env, name, order_cutoff, order_target):\n",
    "    global inventory, balance, backlog, num_ordered\n",
    "    inventory = order_target\n",
    "    backlog = 0\n",
    "    balance = 0.0\n",
    "    Cinventory = 0.0\n",
    "    Cbacklog = 0.0\n",
    "    num_ordered = 0\n",
    "    \n",
    "    print(name, 'Initial Stock: {}'.format(inventory))\n",
    "    while True:\n",
    "        # a) Generate arrival time of next customer demand (Exponential Distribution Function)\n",
    "        interarrival = generate_interarrival()\n",
    "        # Wait until this arrival time\n",
    "        yield env.timeout(interarrival)\n",
    "        # b) Calculate the holding costs and backlog costs\n",
    "        balance -= inventory*cost_holding*interarrival\n",
    "        Cinventory += inventory*cost_holding*interarrival\n",
    "        Cbacklog += backlog*cost_backlog*interarrival\n",
    "        # c) Generate a demand quantity (Uniform Distribution Function)\n",
    "        demand = generate_demand()\n",
    "        # d) Deliver inventory for cases where there is enouh ibnventory and where there is not enough\n",
    "        if (demand+backlog)<=inventory:\n",
    "            total_due = demand+backlog\n",
    "            balance += sales_price*demand\n",
    "            inventory -= (demand+backlog)\n",
    "            backlog = 0\n",
    "            print(name,'Time: {:.2f}. Demand: {}. Sold: {}. ENOUGH INV. Inv: {}. BL: {}'.format(env.now, demand, total_due, inventory, backlog))\n",
    "        elif (demand+backlog) > inventory and demand < inventory:\n",
    "            total_due = demand+backlog\n",
    "            balance += sales_price*inventory\n",
    "            backlog -= (inventory - demand)\n",
    "            print(name,'Time: {:.2f}. Demand:{}. Sold: {} units. OUT OF STOCK-DECR.BL. Inv: {}. BL: {}'.format(env.now, demand, inventory, 0, backlog))\n",
    "            inventory = 0\n",
    "        else:\n",
    "            balance += sales_price*inventory\n",
    "            backlog += (demand-inventory)\n",
    "            print(name,'Time: {:.2f}. Demand: {}. Sold: {} units. OUT OF STOCK-INCR.BL. Inv: {}. BL: {}'.format(env.now, demand, inventory, 0, backlog))\n",
    "            inventory = 0\n",
    "            \n",
    "        # e) See if it is necessary to generate a new order (Function)  \n",
    "        if inventory < order_cutoff and num_ordered==0:\n",
    "            env.process(handle_order(env, name, order_target))\n",
    "    \n",
    "def handle_order(env, name, order_target):\n",
    "    global inventory, balance, num_ordered\n",
    "    # Order stock necessary to cover the difference from the policy_inventory_target\n",
    "    num_ordered = order_target - inventory\n",
    "    print(name, 'Time: {:.2f} Order: {}. Inv: {}. BL: {}'.format(env.now, num_ordered, inventory, backlog))\n",
    "    # Calculate and account the cost of ordering\n",
    "    balance -= cost_ordering*num_ordered\n",
    "    # wait the lead time for orders, of lead_time time units\n",
    "    yield env.timeout(lead_time)\n",
    "    #receive the order by increasing the inventory\n",
    "    inventory += num_ordered\n",
    "    print(name, 'Time: {:.2f} Received: {}. Inv: {}. BL: {}'.format(env.now, num_ordered, inventory, backlog))\n",
    "    # leave the system ready for a new order\n",
    "    num_ordered = 0\n",
    "    \n",
    "    \n",
    "def generate_interarrival():\n",
    "    # The arrivals of new customers is expenential with a lambda=5 persons/time\n",
    "    return np.random.exponential(1./7.0)\n",
    "\n",
    "def generate_demand():\n",
    "    return np.random.randint(1,5) # value integrer between 1 and 5 units/time\n",
    "\n",
    "# Define the observational variables\n",
    "obs_time = []\n",
    "inventory_level = [] # This balance starts at policy_inventory_target units of inventory\n",
    "backlog_level = []\n",
    "balance_level = []  # This balance level starts at 0 units of money\n",
    "av_balance = []\n",
    "\n",
    "def observe(env):\n",
    "    global inventory, balance, backlog\n",
    "    \n",
    "    while True:\n",
    "        obs_time.append(env.now)\n",
    "        inventory_level.append(inventory)\n",
    "        balance_level.append(balance)\n",
    "        backlog_level.append(backlog)\n",
    "        if env.now == 0:\n",
    "            av_balance.append(0)\n",
    "        else:\n",
    "            av_balance.append(balance/env.now)\n",
    "        yield env.timeout(0.1)\n",
    "        "
   ]
  },
  {
   "cell_type": "code",
   "execution_count": 28,
   "metadata": {},
   "outputs": [
    {
     "name": "stdout",
     "output_type": "stream",
     "text": [
      "WH1 Initial Stock: 50\n",
      "WH2 Initial Stock: 50\n",
      "WH1 Time: 0.08. Demand: 4. Sold: 4. ENOUGH INV. Inv: 46. BL: 0\n",
      "WH1 Time: 0.10. Demand: 2. Sold: 2. ENOUGH INV. Inv: 44. BL: 0\n",
      "WH1 Time: 0.12. Demand: 1. Sold: 1. ENOUGH INV. Inv: 43. BL: 0\n",
      "WH2 Time: 0.18. Demand: 4. Sold: 4. ENOUGH INV. Inv: 39. BL: 0\n",
      "WH1 Time: 0.19. Demand: 3. Sold: 3. ENOUGH INV. Inv: 36. BL: 0\n",
      "WH2 Time: 0.24. Demand: 1. Sold: 1. ENOUGH INV. Inv: 35. BL: 0\n",
      "WH2 Time: 0.32. Demand: 3. Sold: 3. ENOUGH INV. Inv: 32. BL: 0\n",
      "WH2 Time: 0.43. Demand: 1. Sold: 1. ENOUGH INV. Inv: 31. BL: 0\n",
      "WH1 Time: 0.58. Demand: 2. Sold: 2. ENOUGH INV. Inv: 29. BL: 0\n",
      "WH1 Time: 0.69. Demand: 1. Sold: 1. ENOUGH INV. Inv: 28. BL: 0\n",
      "WH2 Time: 0.73. Demand: 2. Sold: 2. ENOUGH INV. Inv: 26. BL: 0\n",
      "WH1 Time: 0.77. Demand: 3. Sold: 3. ENOUGH INV. Inv: 23. BL: 0\n",
      "WH1 Time: 0.80. Demand: 2. Sold: 2. ENOUGH INV. Inv: 21. BL: 0\n",
      "WH2 Time: 0.81. Demand: 4. Sold: 4. ENOUGH INV. Inv: 17. BL: 0\n",
      "WH2 Time: 0.81 Order: 33. Inv: 17. BL: 0\n",
      "WH2 Time: 0.86. Demand: 3. Sold: 3. ENOUGH INV. Inv: 14. BL: 0\n",
      "WH2 Time: 0.97. Demand: 1. Sold: 1. ENOUGH INV. Inv: 13. BL: 0\n",
      "WH1 Time: 0.98. Demand: 1. Sold: 1. ENOUGH INV. Inv: 12. BL: 0\n",
      "WH1 Time: 1.23. Demand: 4. Sold: 4. ENOUGH INV. Inv: 8. BL: 0\n",
      "WH1 Time: 1.26. Demand: 2. Sold: 2. ENOUGH INV. Inv: 6. BL: 0\n",
      "WH2 Time: 1.29. Demand: 4. Sold: 4. ENOUGH INV. Inv: 2. BL: 0\n",
      "WH2 Time: 1.37. Demand: 2. Sold: 2. ENOUGH INV. Inv: 0. BL: 0\n",
      "WH1 Time: 1.42. Demand: 4. Sold: 0 units. OUT OF STOCK-INCR.BL. Inv: 0. BL: 4\n",
      "WH2 Time: 1.44. Demand: 2. Sold: 0 units. OUT OF STOCK-INCR.BL. Inv: 0. BL: 6\n",
      "WH2 Time: 1.46. Demand: 3. Sold: 0 units. OUT OF STOCK-INCR.BL. Inv: 0. BL: 9\n",
      "WH1 Time: 1.59. Demand: 2. Sold: 0 units. OUT OF STOCK-INCR.BL. Inv: 0. BL: 11\n",
      "WH1 Time: 1.59. Demand: 3. Sold: 0 units. OUT OF STOCK-INCR.BL. Inv: 0. BL: 14\n",
      "WH2 Time: 1.72. Demand: 1. Sold: 0 units. OUT OF STOCK-INCR.BL. Inv: 0. BL: 15\n",
      "WH2 Time: 1.77. Demand: 3. Sold: 0 units. OUT OF STOCK-INCR.BL. Inv: 0. BL: 18\n",
      "WH2 Time: 1.99. Demand: 3. Sold: 0 units. OUT OF STOCK-INCR.BL. Inv: 0. BL: 21\n",
      "WH2 Time: 2.00. Demand: 3. Sold: 0 units. OUT OF STOCK-INCR.BL. Inv: 0. BL: 24\n",
      "WH1 Time: 2.23. Demand: 4. Sold: 0 units. OUT OF STOCK-INCR.BL. Inv: 0. BL: 28\n",
      "WH2 Time: 2.35. Demand: 2. Sold: 0 units. OUT OF STOCK-INCR.BL. Inv: 0. BL: 30\n",
      "WH2 Time: 2.37. Demand: 2. Sold: 0 units. OUT OF STOCK-INCR.BL. Inv: 0. BL: 32\n",
      "WH2 Time: 2.38. Demand: 3. Sold: 0 units. OUT OF STOCK-INCR.BL. Inv: 0. BL: 35\n",
      "WH2 Time: 2.41. Demand: 3. Sold: 0 units. OUT OF STOCK-INCR.BL. Inv: 0. BL: 38\n",
      "WH2 Time: 2.46. Demand: 4. Sold: 0 units. OUT OF STOCK-INCR.BL. Inv: 0. BL: 42\n",
      "WH2 Time: 2.47. Demand: 2. Sold: 0 units. OUT OF STOCK-INCR.BL. Inv: 0. BL: 44\n",
      "WH1 Time: 2.57. Demand: 1. Sold: 0 units. OUT OF STOCK-INCR.BL. Inv: 0. BL: 45\n",
      "WH2 Time: 2.61. Demand: 3. Sold: 0 units. OUT OF STOCK-INCR.BL. Inv: 0. BL: 48\n",
      "WH2 Time: 2.64. Demand: 4. Sold: 0 units. OUT OF STOCK-INCR.BL. Inv: 0. BL: 52\n",
      "WH1 Time: 2.70. Demand: 2. Sold: 0 units. OUT OF STOCK-INCR.BL. Inv: 0. BL: 54\n",
      "WH2 Time: 2.72. Demand: 1. Sold: 0 units. OUT OF STOCK-INCR.BL. Inv: 0. BL: 55\n",
      "WH2 Time: 2.73. Demand: 2. Sold: 0 units. OUT OF STOCK-INCR.BL. Inv: 0. BL: 57\n",
      "WH2 Time: 2.73. Demand: 2. Sold: 0 units. OUT OF STOCK-INCR.BL. Inv: 0. BL: 59\n",
      "WH1 Time: 2.79. Demand: 1. Sold: 0 units. OUT OF STOCK-INCR.BL. Inv: 0. BL: 60\n",
      "WH1 Time: 2.80. Demand: 4. Sold: 0 units. OUT OF STOCK-INCR.BL. Inv: 0. BL: 64\n",
      "WH2 Time: 2.81 Received: 33. Inv: 33. BL: 64\n",
      "WH2 Time: 2.84. Demand:1. Sold: 33 units. OUT OF STOCK-DECR.BL. Inv: 0. BL: 32\n",
      "WH2 Time: 2.84 Order: 50. Inv: 0. BL: 32\n",
      "WH2 Time: 2.92. Demand: 4. Sold: 0 units. OUT OF STOCK-INCR.BL. Inv: 0. BL: 36\n",
      "WH1 Time: 3.13. Demand: 1. Sold: 0 units. OUT OF STOCK-INCR.BL. Inv: 0. BL: 37\n",
      "WH2 Time: 3.16. Demand: 2. Sold: 0 units. OUT OF STOCK-INCR.BL. Inv: 0. BL: 39\n",
      "WH1 Time: 3.24. Demand: 1. Sold: 0 units. OUT OF STOCK-INCR.BL. Inv: 0. BL: 40\n",
      "WH1 Time: 3.36. Demand: 1. Sold: 0 units. OUT OF STOCK-INCR.BL. Inv: 0. BL: 41\n",
      "WH2 Time: 3.53. Demand: 4. Sold: 0 units. OUT OF STOCK-INCR.BL. Inv: 0. BL: 45\n",
      "WH1 Time: 3.55. Demand: 4. Sold: 0 units. OUT OF STOCK-INCR.BL. Inv: 0. BL: 49\n",
      "WH2 Time: 3.70. Demand: 3. Sold: 0 units. OUT OF STOCK-INCR.BL. Inv: 0. BL: 52\n",
      "WH1 Time: 3.75. Demand: 1. Sold: 0 units. OUT OF STOCK-INCR.BL. Inv: 0. BL: 53\n",
      "WH2 Time: 3.91. Demand: 3. Sold: 0 units. OUT OF STOCK-INCR.BL. Inv: 0. BL: 56\n"
     ]
    }
   ],
   "source": [
    "np.random.seed(1)\n",
    "env = simpy.Environment()\n",
    "env.process(warehouse_run(env, \"WH1\", policy_cutoff, policy_inventory_target)) # (s, S) applied to env1\n",
    "env.process(warehouse_run(env, \"WH2\", policy_cutoff, policy_inventory_target)) # (s, S) applied to env2\n",
    "env.process(observe(env))\n",
    "env.run(until=running_time)"
   ]
  },
  {
   "cell_type": "code",
   "execution_count": 4,
   "metadata": {},
   "outputs": [
    {
     "data": {
      "text/plain": [
       "<function matplotlib.pyplot.show(*args, **kw)>"
      ]
     },
     "execution_count": 4,
     "metadata": {},
     "output_type": "execute_result"
    },
    {
     "data": {
      "image/png": "[encoded data removed]",
      "text/plain": [
       "<Figure size 432x288 with 1 Axes>"
      ]
     },
     "metadata": {
      "needs_background": "light"
     },
     "output_type": "display_data"
    },
    {
     "data": {
      "image/png": "[encoded data removed]",
      "text/plain": [
       "<Figure size 432x288 with 1 Axes>"
      ]
     },
     "metadata": {
      "needs_background": "light"
     },
     "output_type": "display_data"
    },
    {
     "data": {
      "image/png": "[encoded data removed]",
      "text/plain": [
       "<Figure size 432x288 with 1 Axes>"
      ]
     },
     "metadata": {
      "needs_background": "light"
     },
     "output_type": "display_data"
    },
    {
     "data": {
      "image/png": "[encoded data removed]",
      "text/plain": [
       "<Figure size 432x288 with 1 Axes>"
      ]
     },
     "metadata": {
      "needs_background": "light"
     },
     "output_type": "display_data"
    }
   ],
   "source": [
    "import matplotlib.pyplot as plt\n",
    "%matplotlib inline\n",
    "\n",
    "plt.figure()\n",
    "plt.step(obs_time, inventory_level, where='post')\n",
    "plt.xlabel('Simulation time (days)')\n",
    "plt.ylabel('Inventory level (units)')\n",
    "plt.title('Inventory')\n",
    "plt.show\n",
    "\n",
    "plt.figure()\n",
    "plt.step(obs_time, backlog_level, where='post')\n",
    "plt.xlabel('Simulation time (days)')\n",
    "plt.ylabel('Backlog level (units)')\n",
    "plt.title('Backlog')\n",
    "plt.show\n",
    "\n",
    "plt.figure()\n",
    "plt.step(obs_time, balance_level, where='post')\n",
    "plt.xlabel('Simulation time (days)')\n",
    "plt.ylabel('Balance level (units of money)')\n",
    "plt.title('Balance')\n",
    "plt.show\n",
    "\n",
    "plt.figure()\n",
    "plt.step(obs_time, av_balance, where='post')\n",
    "plt.xlabel('Simulation time (days)')\n",
    "plt.ylabel('Average Balance level (units of money)')\n",
    "plt.title('Average Balance')\n",
    "plt.show"
   ]
  },
  {
   "cell_type": "code",
   "execution_count": 13,
   "metadata": {},
   "outputs": [
    {
     "data": {
      "text/plain": [
       "447.40561921103256"
      ]
     },
     "execution_count": 13,
     "metadata": {},
     "output_type": "execute_result"
    }
   ],
   "source": [
    "av_balance[-1]"
   ]
  },
  {
   "cell_type": "code",
   "execution_count": null,
   "metadata": {},
   "outputs": [],
   "source": []
  }
 ],
 "metadata": {
  "kernelspec": {
   "display_name": "Python 3",
   "language": "python",
   "name": "python3"
  },
  "language_info": {
   "codemirror_mode": {
    "name": "ipython",
    "version": 3
   },
   "file_extension": ".py",
   "mimetype": "text/x-python",
   "name": "python",
   "nbconvert_exporter": "python",
   "pygments_lexer": "ipython3",
   "version": "3.8.3"
  }
 },
 "nbformat": 4,
 "nbformat_minor": 4
}
