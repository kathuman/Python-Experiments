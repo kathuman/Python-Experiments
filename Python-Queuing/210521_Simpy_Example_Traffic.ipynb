{
 "cells": [
  {
   "cell_type": "code",
   "execution_count": 1,
   "id": "29898ccb",
   "metadata": {},
   "outputs": [],
   "source": [
    "import simpy"
   ]
  },
  {
   "cell_type": "code",
   "execution_count": 5,
   "id": "9cdff9fd",
   "metadata": {},
   "outputs": [],
   "source": [
    "def main():\n",
    "    env = simpy.Environment()\n",
    "    env.process(traffic_light(env))\n",
    "    env.run(until=120)\n",
    "    print(\"Simulation Complete\")\n",
    "    \n",
    "def traffic_light(env):\n",
    "    while True:\n",
    "        print(\"Light turned GREEN at t= \"+str(env.now))\n",
    "        yield env.timeout(30)\n",
    "        print(\"Light turned YELLOW at t= \"+str(env.now))\n",
    "        yield env.timeout(5)\n",
    "        print(\"Light turned RED at t= \"+str(env.now))\n",
    "        yield env.timeout(20)"
   ]
  },
  {
   "cell_type": "code",
   "execution_count": 6,
   "id": "1a7cbd99",
   "metadata": {},
   "outputs": [
    {
     "name": "stdout",
     "output_type": "stream",
     "text": [
      "Light turned GREEN at t= 0\n",
      "Light turned YELLOW at t= 30\n",
      "Light turned RED at t= 35\n",
      "Light turned GREEN at t= 55\n",
      "Light turned YELLOW at t= 85\n",
      "Light turned RED at t= 90\n",
      "Light turned GREEN at t= 110\n",
      "Simulation Complete\n"
     ]
    }
   ],
   "source": [
    "if __name__=='__main__':\n",
    "    main()"
   ]
  },
  {
   "cell_type": "code",
   "execution_count": null,
   "id": "3a1ae0a2",
   "metadata": {},
   "outputs": [],
   "source": []
  }
 ],
 "metadata": {
  "kernelspec": {
   "display_name": "Python 3",
   "language": "python",
   "name": "python3"
  },
  "language_info": {
   "codemirror_mode": {
    "name": "ipython",
    "version": 3
   },
   "file_extension": ".py",
   "mimetype": "text/x-python",
   "name": "python",
   "nbconvert_exporter": "python",
   "pygments_lexer": "ipython3",
   "version": "3.8.5"
  }
 },
 "nbformat": 4,
 "nbformat_minor": 5
}
