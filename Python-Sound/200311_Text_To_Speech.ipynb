{
 "cells": [
  {
   "cell_type": "code",
   "execution_count": 1,
   "metadata": {},
   "outputs": [],
   "source": [
    "# https://www.youtube.com/watch?v=uPSIUjo_Fhw\n",
    "# this program takes text from an online article and coverts it to speech\n",
    "\n",
    "from newspaper import Article\n",
    "import nltk\n",
    "from gtts import gTTS\n",
    "import os"
   ]
  },
  {
   "cell_type": "code",
   "execution_count": 2,
   "metadata": {},
   "outputs": [
    {
     "name": "stderr",
     "output_type": "stream",
     "text": [
      "[nltk_data] Downloading package punkt to\n",
      "[nltk_data]     C:\\Users\\dasep\\AppData\\Roaming\\nltk_data...\n",
      "[nltk_data]   Unzipping tokenizers\\punkt.zip.\n"
     ]
    }
   ],
   "source": [
    "article = Article('https://hackernoon.com/future-of-python-language-bright-or-dull-uv41u3xwx')\n",
    "\n",
    "# download the article\n",
    "article.download() \n",
    "\n",
    "# parse the article\n",
    "article.parse()\n",
    "\n",
    "# download the punkt package\n",
    "nltk.download('punkt')\n",
    "\n",
    "# apply natural language processing NLP\n",
    "article.nlp()"
   ]
  },
  {
   "cell_type": "code",
   "execution_count": 3,
   "metadata": {},
   "outputs": [
    {
     "name": "stdout",
     "output_type": "stream",
     "text": [
      "the language of today and the future. In contemporary times, 126,424 websites are made using the python programming language. Many top-notch companies have developed successful apps by using it. This is why it is considered\n",
      "\n",
      "Python might not had bright years in the past since its launch in 1991 but it has seen a constant and remarkable trend of growth in the 21st century. This stack overflow graph of major programming languages' growth clearly depicts the steady upliftment of the PYTHON!\n",
      "\n",
      "The growth rate of python was not something easy to achieve. There are various attributes of this programming tool which has provided it with an amazing successful journey. Python has a major role in the latest technologies of current and future times like ML and AI.\n",
      "\n",
      "Looking at the bright scope of these technologies which are heavily supported by python codes, many people wonder, “Is python the future of programming?”\n",
      "\n",
      "Before giving a shot to answer this question, I would like to share some of the facts of this programming tool. These facts are the advantageous features of python which make it an incredible programming language in 2019.\n",
      "\n",
      "Here are the top benefits of python which attract the startups and SMEs to get a software developed by python developers in India\n",
      "\n",
      "Benefits of python #1: It’s free!\n",
      "\n",
      "Python is an open-source programming language which makes it available to the masses. It is completely free to use this language. Its codes can be utilized by anyone over the internet. This makes it ideal for companies with budget constraints.\n",
      "\n",
      "The overall development cost decreases if the tools your python developers are using are available for free!\n",
      "\n",
      "Benefits of python #2: Capable of both backend and frontend development\n",
      "\n",
      "It is not a specific purpose language. In fact, python is a general-purpose language and these programming languages can be used for both front-end and back-end development. Other examples of such tools are Java, C++, etc.\n",
      "\n",
      "Python language is not as supportive for front end as it is for back-end. But still, some of its frameworks can be used for frontend development. Its two frameworks, namely; Django and Flask are extensively used as backend programming framework by many startups.\n",
      "\n",
      "Benefits of python #3: Cross-platform language\n",
      "\n",
      "Python is an amazing language that supports different operating systems. Ubuntu, Linus, Windows, etc are all well-supported by this programming tool. This means that if your python developers will write codes on Mac, it will run seamlessly on windows.\n",
      "\n",
      "Benefits of python #4: Strong support of the community\n",
      "\n",
      "For every programmer, writing bug-free code is a challenge. In every project, there comes a point where the developers gets stuck and need support. No one likes to get started with a language where their queries will get hard to resolve.\n",
      "\n",
      "This problem is never faced by the Python web developers . According to the latest data of Stack Overflow , Python is among the top five most loved programming languages for professional developers of 2019.\n",
      "\n",
      "Hence, this programming tool has strong community support with a plethora of tutorials. The major reason behind this is long active years of python. There is no limit to avail help from the python community.\n",
      "\n",
      "This is the reason small businesses can rely on python for their next software development project as the work will be done by the hired software developers flawlessly and in a smooth way.\n",
      "\n",
      "Benefits of python #5: Provides a plethora of tools\n",
      "\n",
      "Python programming language package has a huge standard library collection. They reduce the need for effort for writing codes or functions. This is because the libraries come with pre-written codes.\n",
      "\n",
      "Some of the tolls are Tkinter (a GUI development tool), file formats, built-in functions, custom python interpreters, internet protocol and support, modules, etc. This large collection enhances the overall usability and functioning of python as a programming tool.\n",
      "\n",
      "This reduces the time taken to develop software by your python mobile app development company . Hence, usage of python programming language for your project helps in saving your resources exponentially.\n",
      "\n",
      "Benefits of python #6: Fewer codes\n",
      "\n",
      "Python is one of those programming languages which is easy to use and write. In comparison to other general purpose languages, it is extremely convenient to use python. Although, if one has to become an expert in python programming, then they will have to master a lot of technicalities.\n",
      "\n",
      "So, after reading about these benefits of python, are you excited to use it for your next software application? If you are in doubt, then look at these top-notch brands that are using python from a long time and successfully.\n",
      "\n",
      "Some Big companies using python\n",
      "\n",
      "Companies using python #1: Google: The company that needs no introduction, Google. Its video platform Youtube is all written on python!\n",
      "\n",
      "Companies using python #2: Instagram: An image sharing platform was a simple language developed on Django (Python framework) before it was acquired by Facebook.\n",
      "\n",
      "Companies using python #3: Netflix: The video streaming platform offer suggestions to its users constantly. Do you know what makes this possible. Yes, it’s THE PYTHON!\n",
      "\n",
      "Companies using python #4: Facebook: According to the official blog from facebook, Facebook: According to the official blog from facebook, 21% of facebook codebase is based on Python.\n",
      "\n",
      "Do you know why so many top-notch companies choose to use python? Do you know what actually makes python so successful and ready for future? It’s the support it provides to the latest technologies which have brilliant future prospects.\n",
      "\n",
      "These technologies offer opportunities to businesses of all sizes and industries. Investing in them can help you grow many folds in upcoming years. Do you want to know the exact technologies about which I am talking?\n",
      "\n",
      "Here are some of the latest software technologies which are incomplete without the programming tool - python:\n",
      "\n",
      "Applications of python #1: AI\n",
      "\n",
      "Working on future technology, AI is dominated by python. It helps in reducing the efforts of the human brain. From speech recognition to data interpretation, python has taken AI to skies of incredible success. Neural networks and machine learning are some of the AI branches which brightens up the python future.\n",
      "\n",
      "Applications of python #2: Machine learning\n",
      "\n",
      "Machine learning with has made a lot of unimaginable things possible. For example, today you can determine with Machine Learning services & solutions that whether the image is a bike or car. It has become a vast field today and contributes heavily to the future of python.\n",
      "\n",
      "Applications of python #4: Big data\n",
      "\n",
      "The high performing libraries of python are supporting the growth of big data technology. It contributes amazingly in the handling of large data in computer clusters. Undoubtedly, this ensures a successful future of python.\n",
      "\n",
      "Applications of python #5:\n",
      "\n",
      "Networking plays a major role in the future of python programming. The networking automation tasks like reading, writing, configuring switches and routers is outperformed by Python. Python programming makes these tasks cost-effective and secure.\n",
      "\n",
      "Final words:\n",
      "\n",
      "Undoubtedly, the awesome benefits and performance of python and its libraries is working as the root for its constant growth. This foundation is so strong, that almost all top-notch companies are using this language in their codebase.\n",
      "\n",
      "Moreover, the future technologies like AI and its subsets, big data and networking ensures a bright future for this programming tool. It's a quite secure and cost-effective programming language.\n",
      "\n",
      "This allures millions of small and mid-sized businesses to get their software developed by using python. If you are unsure about whether you should use python for your next web development project then contact a python web development company\n",
      "\n",
      "Their team will be able to provide a better insight after understanding your specific demands and goals. For any help or suggestion, you can write to me in the comment section below.\n"
     ]
    }
   ],
   "source": [
    "# get the article's text and store it \n",
    "mytext = article.text\n",
    "\n",
    "# print the text\n",
    "print(mytext)"
   ]
  },
  {
   "cell_type": "code",
   "execution_count": 4,
   "metadata": {},
   "outputs": [
    {
     "data": {
      "text/plain": [
       "0"
      ]
     },
     "execution_count": 4,
     "metadata": {},
     "output_type": "execute_result"
    }
   ],
   "source": [
    "language ='en' #Language chosen is english\n",
    "\n",
    "# Covert the text to speech\n",
    "myobj = gTTS(text=mytext, lang=language, slow=False)\n",
    "\n",
    "# save the converted audio to a file\n",
    "\n",
    "myobj.save('read_article.mp3')\n",
    "\n",
    "# play the conversted file\n",
    "os.system('start read_article.mp3')"
   ]
  },
  {
   "cell_type": "code",
   "execution_count": null,
   "metadata": {},
   "outputs": [],
   "source": []
  }
 ],
 "metadata": {
  "kernelspec": {
   "display_name": "Python 3",
   "language": "python",
   "name": "python3"
  },
  "language_info": {
   "codemirror_mode": {
    "name": "ipython",
    "version": 3
   },
   "file_extension": ".py",
   "mimetype": "text/x-python",
   "name": "python",
   "nbconvert_exporter": "python",
   "pygments_lexer": "ipython3",
   "version": "3.7.6"
  }
 },
 "nbformat": 4,
 "nbformat_minor": 4
}
