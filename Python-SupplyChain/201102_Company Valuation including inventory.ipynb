{
 "cells": [
  {
   "cell_type": "code",
   "execution_count": 10,
   "metadata": {},
   "outputs": [],
   "source": [
    "import yahoo_fin.stock_info as si\n",
    "import pandas as pd"
   ]
  },
  {
   "cell_type": "code",
   "execution_count": 13,
   "metadata": {},
   "outputs": [
    {
     "name": "stdout",
     "output_type": "stream",
     "text": [
      "{'1y Target Est': 122.87, '52 Week Range': '53.15 - 137.98', 'Ask': '109.33 x 800', 'Avg. Volume': 169553234.0, 'Beta (5Y Monthly)': 1.31, 'Bid': '0.00 x 1000', \"Day's Range\": '107.72 - 111.99', 'EPS (TTM)': 3.28, 'Earnings Date': 'Jan 26, 2021 - Feb 01, 2021', 'Ex-Dividend Date': 'Aug 07, 2020', 'Forward Dividend & Yield': '0.82 (0.75%)', 'Market Cap': '1.862T', 'Open': 111.06, 'PE Ratio (TTM)': 33.19, 'Previous Close': 115.32, 'Quote Price': 108.86000061035156, 'Volume': 190573476.0}\n"
     ]
    }
   ],
   "source": [
    "# to get a specifric quote\n",
    "quote = si.get_quote_table(\"aapl\")\n",
    "print(quote)"
   ]
  },
  {
   "cell_type": "code",
   "execution_count": 14,
   "metadata": {},
   "outputs": [
    {
     "name": "stdout",
     "output_type": "stream",
     "text": [
      "                    Unnamed: 0 As of Date: 11/2/2020Current 6/30/2020  \\\n",
      "0      Market Cap (intraday) 5                        1.86T     1.56T   \n",
      "1           Enterprise Value 3                        1.88T     1.58T   \n",
      "2                 Trailing P/E                        33.01     28.52   \n",
      "3                Forward P/E 1                        28.25     24.33   \n",
      "4  PEG Ratio (5 yr expected) 1                         2.69      2.02   \n",
      "5            Price/Sales (ttm)                         7.05      6.12   \n",
      "6             Price/Book (mrq)                        25.76     19.93   \n",
      "7   Enterprise Value/Revenue 3                         6.87     26.44   \n",
      "8    Enterprise Value/EBITDA 6                        22.70     95.15   \n",
      "\n",
      "  3/31/2020 12/31/2019 9/30/2019  \n",
      "0     1.10T      1.29T   995.15B  \n",
      "1     1.10T      1.30T     1.01T  \n",
      "2     20.02      24.70     19.01  \n",
      "3     19.65      22.17     17.27  \n",
      "4      1.58       2.03      2.04  \n",
      "5      4.34       5.25      4.09  \n",
      "6     12.28      14.23     10.32  \n",
      "7     18.88      14.11     15.76  \n",
      "8     66.00      43.87     50.16  \n"
     ]
    }
   ],
   "source": [
    "# to get a stock's valuation\n",
    "val = si.get_stats_valuation(\"aapl\")\n",
    "print(val)"
   ]
  },
  {
   "cell_type": "code",
   "execution_count": 20,
   "metadata": {},
   "outputs": [
    {
     "name": "stdout",
     "output_type": "stream",
     "text": [
      "['AAPL', 'AMGN', 'AXP', 'BA', 'CAT', 'CRM', 'CSCO', 'CVX', 'DIS', 'DOW', 'GS', 'HD', 'HON', 'IBM', 'INTC', 'JNJ', 'JPM', 'KO', 'MCD', 'MMM', 'MRK', 'MSFT', 'NKE', 'PG', 'TRV', 'UNH', 'V', 'VZ', 'WBA', 'WMT']\n"
     ]
    }
   ],
   "source": [
    "# to geta list of tickers\n",
    "dow_list = si.tickers_dow()\n",
    "# tickers_dow\n",
    "# tickers_nasdaq\n",
    "# tickers_other\n",
    "# tickers_sp500\n",
    "print(dow_list)"
   ]
  },
  {
   "cell_type": "code",
   "execution_count": 23,
   "metadata": {},
   "outputs": [
    {
     "name": "stdout",
     "output_type": "stream",
     "text": [
      "endDate                         2020-06-30    2020-03-31    2019-12-31  \\\n",
      "Breakdown                                                                \n",
      "intangibleAssets              5.785000e+09  5.838000e+09  5.835000e+09   \n",
      "totalLiab                     7.606700e+10  7.185700e+10  6.801900e+10   \n",
      "totalStockholderEquity        6.005400e+10  5.439900e+10  5.759300e+10   \n",
      "otherCurrentLiab              5.691500e+10  5.659900e+10  2.082400e+10   \n",
      "totalAssets                   1.361210e+11  1.262560e+11  1.256120e+11   \n",
      "commonStock                   4.700000e+08  4.800000e+08  4.800000e+08   \n",
      "otherCurrentAssets            7.500000e+08  5.980000e+08  1.880000e+08   \n",
      "retainedEarnings              6.001400e+10  5.485400e+10  5.781700e+10   \n",
      "otherLiab                     6.048000e+09  5.804000e+09  6.027000e+09   \n",
      "treasuryStock                -4.300000e+08 -9.350000e+08 -7.040000e+08   \n",
      "otherAssets                   4.405000e+09  4.637000e+09  4.962000e+09   \n",
      "cash                          2.487400e+10  9.765000e+09  1.547500e+10   \n",
      "totalCurrentLiabilities       6.728400e+10  6.318700e+10  5.898300e+10   \n",
      "deferredLongTermAssetCharges  3.768000e+09  3.929000e+09  4.121000e+09   \n",
      "shortLongTermDebt             8.230000e+08           NaN           NaN   \n",
      "otherStockholderEquity       -4.270000e+08 -9.240000e+08 -6.940000e+08   \n",
      "propertyPlantEquipment        5.050200e+10  5.086300e+10  5.055100e+10   \n",
      "totalCurrentAssets            7.357900e+10  6.319300e+10  6.245600e+10   \n",
      "longTermInvestments           1.850000e+09  1.725000e+09  1.808000e+09   \n",
      "netTangibleAssets             5.426900e+10  4.856100e+10  5.175800e+10   \n",
      "netReceivables                3.014600e+10  3.556900e+10  2.915200e+10   \n",
      "inventory                     1.780900e+10  1.726100e+10  1.764100e+10   \n",
      "accountsPayable               8.961000e+09  5.344000e+09  6.358000e+09   \n",
      "longTermDebt                           NaN           NaN           NaN   \n",
      "\n",
      "endDate                         2019-09-30  \n",
      "Breakdown                                   \n",
      "intangibleAssets              5.033000e+09  \n",
      "totalLiab                     7.195500e+10  \n",
      "totalStockholderEquity        5.295300e+10  \n",
      "otherCurrentLiab              5.577700e+10  \n",
      "totalAssets                   1.249080e+11  \n",
      "commonStock                   4.800000e+08  \n",
      "otherCurrentAssets            6.120000e+08  \n",
      "retainedEarnings              5.372100e+10  \n",
      "otherLiab                     5.941000e+09  \n",
      "treasuryStock                -1.248000e+09  \n",
      "otherAssets                   4.113000e+09  \n",
      "cash                          1.875700e+10  \n",
      "totalCurrentLiabilities       6.308700e+10  \n",
      "deferredLongTermAssetCharges  4.113000e+09  \n",
      "shortLongTermDebt             1.416000e+09  \n",
      "otherStockholderEquity       -1.241000e+09  \n",
      "propertyPlantEquipment        5.030000e+10  \n",
      "totalCurrentAssets            6.340000e+10  \n",
      "longTermInvestments           2.062000e+09  \n",
      "netTangibleAssets             4.792000e+10  \n",
      "netReceivables                2.652200e+10  \n",
      "inventory                     1.750900e+10  \n",
      "accountsPayable               5.894000e+09  \n",
      "longTermDebt                  2.927000e+09  \n"
     ]
    }
   ],
   "source": [
    "# to get the balance sheet data of companies\n",
    "\n",
    "sheet = si.get_balance_sheet(\"nvo\", yearly=False) # to get quarterly Data\n",
    "print(sheet)"
   ]
  },
  {
   "cell_type": "code",
   "execution_count": null,
   "metadata": {},
   "outputs": [],
   "source": []
  }
 ],
 "metadata": {
  "kernelspec": {
   "display_name": "Python 3",
   "language": "python",
   "name": "python3"
  },
  "language_info": {
   "codemirror_mode": {
    "name": "ipython",
    "version": 3
   },
   "file_extension": ".py",
   "mimetype": "text/x-python",
   "name": "python",
   "nbconvert_exporter": "python",
   "pygments_lexer": "ipython3",
   "version": "3.7.4"
  }
 },
 "nbformat": 4,
 "nbformat_minor": 4
}
