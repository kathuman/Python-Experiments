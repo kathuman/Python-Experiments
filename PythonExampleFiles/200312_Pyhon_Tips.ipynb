{
 "cells": [
  {
   "cell_type": "markdown",
   "metadata": {},
   "source": [
    "### Tip 1: Use of templates"
   ]
  },
  {
   "cell_type": "code",
   "execution_count": 3,
   "metadata": {},
   "outputs": [
    {
     "name": "stdout",
     "output_type": "stream",
     "text": [
      "Cart: \n",
      "2 x Coke = 8\n",
      "1 x Cake = 12\n",
      "4 x Fish = 32\n",
      "Total: 52\n"
     ]
    }
   ],
   "source": [
    "from string import Template\n",
    "\n",
    "def Main():\n",
    "    cart = []\n",
    "    cart.append(dict(item=\"Coke\", price=8, qty=2))\n",
    "    cart.append(dict(item=\"Cake\", price=12, qty=1))\n",
    "    cart.append(dict(item=\"Fish\", price=32, qty=4))\n",
    "    \n",
    "    # Create the template\n",
    "    t = Template(\"$qty x $item = $price\")\n",
    "    \n",
    "    total = 0\n",
    "    print(\"Cart: \")\n",
    "    for data in cart:\n",
    "        print(t.substitute(data))\n",
    "        total += data[\"price\"]\n",
    "    print(\"Total: \"+ str(total))\n",
    "    \n",
    "if __name__ == '__main__':\n",
    "    Main()"
   ]
  },
  {
   "cell_type": "code",
   "execution_count": 5,
   "metadata": {},
   "outputs": [
    {
     "name": "stdout",
     "output_type": "stream",
     "text": [
      "Cart: \n",
      "2 x Coke = 8\n",
      "1 x Cake = 12\n",
      "4 x Fish = 32\n",
      "Total: 52\n"
     ]
    }
   ],
   "source": [
    "# Creating a Class\n",
    "from string import Template\n",
    "\n",
    "class MyTemplate(Template):\n",
    "    delimiter =\"#\"\n",
    "\n",
    "def Main():\n",
    "    cart = []\n",
    "    cart.append(dict(item=\"Coke\", price=8, qty=2))\n",
    "    cart.append(dict(item=\"Cake\", price=12, qty=1))\n",
    "    cart.append(dict(item=\"Fish\", price=32, qty=4))\n",
    "    \n",
    "    # Create the template\n",
    "    t = MyTemplate(\"#qty x #item = #price\")\n",
    "    \n",
    "    total = 0\n",
    "    print(\"Cart: \")\n",
    "    for data in cart:\n",
    "        print(t.substitute(data))\n",
    "        total += data[\"price\"]\n",
    "    print(\"Total: \"+ str(total))\n",
    "    \n",
    "if __name__ == '__main__':\n",
    "    Main()"
   ]
  },
  {
   "cell_type": "markdown",
   "metadata": {},
   "source": [
    "### Tip 2 Argparse"
   ]
  },
  {
   "cell_type": "code",
   "execution_count": null,
   "metadata": {},
   "outputs": [],
   "source": []
  }
 ],
 "metadata": {
  "kernelspec": {
   "display_name": "Python 3",
   "language": "python",
   "name": "python3"
  },
  "language_info": {
   "codemirror_mode": {
    "name": "ipython",
    "version": 3
   },
   "file_extension": ".py",
   "mimetype": "text/x-python",
   "name": "python",
   "nbconvert_exporter": "python",
   "pygments_lexer": "ipython3",
   "version": "3.7.6"
  }
 },
 "nbformat": 4,
 "nbformat_minor": 4
}
